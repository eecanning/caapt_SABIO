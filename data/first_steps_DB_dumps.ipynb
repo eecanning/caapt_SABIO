{
 "cells": [
  {
   "cell_type": "markdown",
   "metadata": {},
   "source": [
    "# First Steps Connecting to the Wereldculturen MS SQL Server\n",
    "\n",
    "Using pyodbc to connect to the server and submit queries to the DB"
   ]
  },
  {
   "cell_type": "code",
   "execution_count": 7,
   "metadata": {},
   "outputs": [],
   "source": [
    "import pandas as pd"
   ]
  },
  {
   "cell_type": "code",
   "execution_count": 1,
   "metadata": {},
   "outputs": [],
   "source": [
    "import pyodbc \n",
    "server = 'tcp:azuredfserv.database.windows.net' \n",
    "database = 'Azuredf' \n",
    "username = 'Demouser' \n",
    "password = 'Knxdde#77' \n",
    "driver='{ODBC Driver 17 for SQL Server}'"
   ]
  },
  {
   "cell_type": "markdown",
   "metadata": {},
   "source": [
    "# 0. Make Connection and List Databases on the Server"
   ]
  },
  {
   "cell_type": "code",
   "execution_count": 2,
   "metadata": {},
   "outputs": [
    {
     "name": "stdout",
     "output_type": "stream",
     "text": [
      "master SQL_Latin1_General_CP1_CI_AS\n",
      "azuredf SQL_Latin1_General_CP1_CI_AS\n"
     ]
    }
   ],
   "source": [
    "with pyodbc.connect('DRIVER='+driver+';SERVER='+server+';PORT=1433;DATABASE='+database+';UID='+username+';PWD='+ password) as conn:\n",
    "    with conn.cursor() as cursor:\n",
    "        cursor.execute(\"SELECT name, collation_name FROM sys.databases\")\n",
    "        row = cursor.fetchone()\n",
    "        while row:\n",
    "            print (str(row[0]) + \" \" + str(row[1]))\n",
    "            row = cursor.fetchone()\n",
    "            "
   ]
  },
  {
   "cell_type": "markdown",
   "metadata": {},
   "source": [
    "# 1. Get List of Tables in the Database"
   ]
  },
  {
   "cell_type": "code",
   "execution_count": 25,
   "metadata": {},
   "outputs": [
    {
     "name": "stdout",
     "output_type": "stream",
     "text": [
      "('dbo', 'Person', datetime.datetime(2021, 2, 4, 8, 27, 28), datetime.datetime(2021, 2, 4, 8, 27, 28))\n",
      "\n",
      "('dbo', 'ClassificationXRefs', datetime.datetime(2021, 2, 5, 11, 9, 55, 290000), datetime.datetime(2021, 2, 5, 11, 9, 55, 290000))\n",
      "\n",
      "('dbo', 'Departments', datetime.datetime(2021, 2, 5, 11, 9, 55, 320000), datetime.datetime(2021, 2, 5, 11, 9, 55, 320000))\n",
      "\n",
      "('dbo', 'Objects', datetime.datetime(2021, 2, 5, 11, 9, 55, 323000), datetime.datetime(2021, 2, 5, 11, 9, 55, 323000))\n",
      "\n",
      "('dbo', 'Classifications', datetime.datetime(2021, 2, 5, 11, 9, 55, 330000), datetime.datetime(2021, 2, 5, 11, 9, 55, 330000))\n",
      "\n",
      "[('Person', ), ('ClassificationXRefs', ), ('Departments', ), ('Objects', ), ('Classifications', )]\n"
     ]
    }
   ],
   "source": [
    "with pyodbc.connect('DRIVER='+driver+';SERVER='+server+';PORT=1433;DATABASE='+database+';UID='+username+';PWD='+ password) as conn:\n",
    "    with conn.cursor() as cursor:\n",
    "        cursor.execute(\"\"\"select schema_name(t.schema_id) as schema_name,\n",
    "                               t.name as table_name,\n",
    "                               t.create_date,\n",
    "                               t.modify_date\n",
    "                               from sys.tables t\"\"\")\n",
    "        \n",
    "        \n",
    "        for row in cursor.fetchall():\n",
    "            print(row)\n",
    "            print()\n",
    "\n",
    "        \n",
    "        cursor.execute(\"\"\"select t.name\n",
    "                               from sys.tables t\"\"\")\n",
    "\n",
    "        \n",
    "        table_names = cursor.fetchall()\n",
    "        print(table_names)"
   ]
  },
  {
   "cell_type": "code",
   "execution_count": 13,
   "metadata": {},
   "outputs": [
    {
     "data": {
      "text/plain": [
       "[('Person', 1525580473, None, 1, 0, 'U ', 'USER_TABLE', datetime.datetime(2021, 2, 4, 8, 27, 28), datetime.datetime(2021, 2, 4, 8, 27, 28), False, False, False, 0, None, 5, False, True, False, False, False, False, False, 0, False, False, 0, 'TABLE', False, False, 0, 'SCHEMA_AND_DATA', 0, 'NON_TEMPORAL_TABLE', None, False, False, None, None, None, False, False, -1, -1, 'INFINITE', 0, 'NON_LEDGER_TABLE', None),\n",
       " ('ClassificationXRefs', 1573580644, None, 1, 0, 'U ', 'USER_TABLE', datetime.datetime(2021, 2, 5, 11, 9, 55, 290000), datetime.datetime(2021, 2, 5, 11, 9, 55, 290000), False, False, False, 0, None, 8, False, True, False, False, False, False, False, 0, False, False, 0, 'TABLE', False, False, 0, 'SCHEMA_AND_DATA', 0, 'NON_TEMPORAL_TABLE', None, False, False, None, None, None, False, False, -1, -1, 'INFINITE', 0, 'NON_LEDGER_TABLE', None),\n",
       " ('Departments', 1589580701, None, 1, 0, 'U ', 'USER_TABLE', datetime.datetime(2021, 2, 5, 11, 9, 55, 320000), datetime.datetime(2021, 2, 5, 11, 9, 55, 320000), False, False, False, 0, None, 10, False, True, False, False, False, False, False, 0, False, False, 0, 'TABLE', False, False, 0, 'SCHEMA_AND_DATA', 0, 'NON_TEMPORAL_TABLE', None, False, False, None, None, None, False, False, -1, -1, 'INFINITE', 0, 'NON_LEDGER_TABLE', None),\n",
       " ('Objects', 1605580758, None, 1, 0, 'U ', 'USER_TABLE', datetime.datetime(2021, 2, 5, 11, 9, 55, 323000), datetime.datetime(2021, 2, 5, 11, 9, 55, 323000), False, False, False, 1, None, 81, False, True, False, False, False, False, False, 0, False, False, 0, 'TABLE', False, False, 0, 'SCHEMA_AND_DATA', 0, 'NON_TEMPORAL_TABLE', None, False, False, None, None, None, False, False, -1, -1, 'INFINITE', 0, 'NON_LEDGER_TABLE', None),\n",
       " ('Classifications', 1621580815, None, 1, 0, 'U ', 'USER_TABLE', datetime.datetime(2021, 2, 5, 11, 9, 55, 330000), datetime.datetime(2021, 2, 5, 11, 9, 55, 330000), False, False, False, 0, None, 11, False, True, False, False, False, False, False, 0, False, False, 0, 'TABLE', False, False, 0, 'SCHEMA_AND_DATA', 0, 'NON_TEMPORAL_TABLE', None, False, False, None, None, None, False, False, -1, -1, 'INFINITE', 0, 'NON_LEDGER_TABLE', None)]"
      ]
     },
     "execution_count": 13,
     "metadata": {},
     "output_type": "execute_result"
    }
   ],
   "source": [
    "cursor.execute(\"\"\"select * from sys.tables t\"\"\")\n",
    "\n",
    "cursor.fetchall()"
   ]
  },
  {
   "cell_type": "code",
   "execution_count": 34,
   "metadata": {
    "scrolled": false
   },
   "outputs": [
    {
     "name": "stdout",
     "output_type": "stream",
     "text": [
      "Person\n",
      "Empty DataFrame\n",
      "Columns: [PersonId, FirstName, MiddelInitial, LastName, DateOfBirth]\n",
      "Index: []\n",
      "\n",
      " ------------------------------ \n",
      "\n",
      "\n",
      "ClassificationXRefs\n",
      "   ClassificationXRefID  ClassificationID      ID  TableID LoginID  \\\n",
      "0                     1               168   52305      108     DMU   \n",
      "1                     2               168   52306      108     DMU   \n",
      "2                     3               168   85800      108     DMU   \n",
      "3                     4               168  185858      108     DMU   \n",
      "4                     5               168  185859      108     DMU   \n",
      "\n",
      "              EnteredDate  DisplayOrder GSRowVersion  \n",
      "0 2013-03-14 14:31:58.473             1     \u0000\u0000\u0000\u0000\u0000ßªk  \n",
      "1 2013-03-14 14:31:58.473             1     \u0000\u0000\u0000\u0000\u0000ß«\u0016  \n",
      "2 2013-03-14 14:31:58.473             1     \u0000\u0000\u0000\u0000\u0000ß«q  \n",
      "3 2013-03-14 14:31:58.473             1     \u0000\u0000\u0000\u0000\u0000ß«r  \n",
      "4 2013-03-14 14:31:58.473             1     \u0000\u0000\u0000\u0000\u0000ß«s  \n",
      "\n",
      " ------------------------------ \n",
      "\n",
      "\n",
      "Departments\n",
      "   DepartmentID                            Department Mnemonic  InputID  \\\n",
      "0             0                      (niet toegekend)     NONE        0   \n",
      "1             1                        Japan en Korea    JAPKO        0   \n",
      "2             2                          China- regio    CHINA        0   \n",
      "3             3                Insulair Zuidoost-Azië    INSUL        0   \n",
      "4             4  Zuid-Azië en vasteland Zuidoost-Azië    ZAZIE        0   \n",
      "\n",
      "     LoginID             EnteredDate  NumRandomObjs  DefaultFormID  \\\n",
      "0        DMU 1999-12-17 15:10:33.623             10             -2   \n",
      "1     marjob 2005-03-02 13:18:23.280              0             -2   \n",
      "2  Conversie 2000-10-04 21:25:21.957             10             -2   \n",
      "3  Conversie 2000-10-04 21:25:21.957             10             -2   \n",
      "4  Conversie 2000-10-04 21:25:21.957             10             -2   \n",
      "\n",
      "   MainTableID GSRowVersion  \n",
      "0          108     \u0000\u0000\u0000\u0000\u0000\u0019¬_  \n",
      "1          108     \u0000\u0000\u0000\u0000\u0000\u0019¬`  \n",
      "2          108     \u0000\u0000\u0000\u0000\u0000\u0019¬a  \n",
      "3          108     \u0000\u0000\u0000\u0000\u0000\u0019¬b  \n",
      "4          108     \u0000\u0000\u0000\u0000\u0000\u0019¬c  \n",
      "\n",
      " ------------------------------ \n",
      "\n",
      "\n",
      "Objects\n",
      "   ObjectID ObjectNumber                                         SortNumber  \\\n",
      "0         1       TM-0-1  TM           0    1                           ...   \n",
      "1         2     TM-0-100  TM           0  100                           ...   \n",
      "2         3     TM-0-101  TM           0  101                           ...   \n",
      "3         4     TM-0-102  TM           0  102                           ...   \n",
      "4         5     TM-0-103  TM           0  103                           ...   \n",
      "\n",
      "   ObjectCount  DepartmentID  ObjectStatusID  ClassificationID  SubClassID  \\\n",
      "0            1             3              15               156           0   \n",
      "1            1             3               5               156           0   \n",
      "2            1             3              15               156           0   \n",
      "3            1            27              15               156           0   \n",
      "4            1             0               5               156           0   \n",
      "\n",
      "   Type  LoanClassID  ...  InJurisdiction  SearchObjectNumber  RMID  AMID  \\\n",
      "0     0            0  ...            True              TM-0-1  None  None   \n",
      "1     0            0  ...            True            TM-0-100  None  None   \n",
      "2     0            0  ...            True            TM-0-101  None  None   \n",
      "3     0            0  ...            True            TM-0-102  None  None   \n",
      "4     0            0  ...            True            TM-0-103  None  None   \n",
      "\n",
      "  GSRowVersion     SortSearchNumber ConservationEntityID  WMID BeginISODate  \\\n",
      "0     \u0000\u0000\u0000\u0000\u0000ß¢O  TM           0    1                    1  None         None   \n",
      "1     \u0000\u0000\u0000\u0000\u0000ß¢P  TM           0  100                    2  None  10000001850   \n",
      "2     \u0000\u0000\u0000\u0000\u0000ß¢Q  TM           0  101                    3  None         None   \n",
      "3     \u0000\u0000\u0000\u0000\u0000ß¢R  TM           0  102                    4  None         None   \n",
      "4     \u0000\u0000\u0000\u0000\u0000ß¢S  TM           0  103                    5  None  10000001850   \n",
      "\n",
      "    EndISODate  \n",
      "0  10000002011  \n",
      "1  10000001958  \n",
      "2  10000002009  \n",
      "3  10000002011  \n",
      "4  10000001958  \n",
      "\n",
      "[5 rows x 81 columns]\n",
      "\n",
      " ------------------------------ \n",
      "\n",
      "\n",
      "Classifications\n",
      "   ClassificationID                   Classification  AATID  \\\n",
      "0               159       Materiële cultuurcollectie    NaN   \n",
      "1               160       Materiële cultuurcollectie    NaN   \n",
      "2               161       Materiële cultuurcollectie    NaN   \n",
      "3               167               Tijdelijke nummers    NaN   \n",
      "4               168  (nummer niet [meer] in gebruik)    NaN   \n",
      "\n",
      "               AATCN SourceID  LoginID             EnteredDate  \\\n",
      "0          Naturalia     None  xmarjob 2005-03-02 13:01:27.290   \n",
      "1      Antropologica     None  xmarjob 2005-03-02 13:01:27.290   \n",
      "2            Textiel     None  xmarjob 2005-03-02 13:01:27.307   \n",
      "3   Tijdelijk nummer     None  xmarjob 2005-03-02 13:01:27.307   \n",
      "4  (niet in gebruik)     None  xmarjob 2005-03-02 13:01:27.307   \n",
      "\n",
      "  SubClassification SubClassification2 SubClassification3 GSRowVersion  \n",
      "0         Naturalia               None               None     \u0000\u0000\u0000\u0000\u0000ß¢\u0011  \n",
      "1     Antropologica               None               None     \u0000\u0000\u0000\u0000\u0000ß¢\u0012  \n",
      "2           Textiel               None               None     \u0000\u0000\u0000\u0000\u0000ß¢\u0013  \n",
      "3              None               None               None     \u0000\u0000\u0000\u0000\u0000ß¢\u0014  \n",
      "4              None               None               None     \u0000\u0000\u0000\u0000\u0000ß¢\u0015  \n",
      "\n",
      " ------------------------------ \n",
      "\n",
      "\n"
     ]
    }
   ],
   "source": [
    "for tbl in table_names:\n",
    "    n = tbl[0]\n",
    "    cursor.execute(f\"\"\"SELECT COLUMN_NAME \n",
    "                        FROM INFORMATION_SCHEMA.COLUMNS\n",
    "                        WHERE TABLE_NAME = '{n}' AND TABLE_SCHEMA='dbo'\"\"\")\n",
    "    columns = cursor.fetchall()\n",
    "            \n",
    "            \n",
    "    cursor.execute(f\"select TOP 10 * from {n} ;\")\n",
    "    table = cursor.fetchall()\n",
    "#            print(n, \"has entries : \", len(cursor.fetchall()))\n",
    "#     print(n)\n",
    "#     print()\n",
    "#     print(columns)\n",
    "#     print()\n",
    "#     print(table)\n",
    "    \n",
    "    \n",
    "    df = pd.DataFrame.from_records(table, columns=[tup[0] for tup in columns])\n",
    "   \n",
    "    try:\n",
    "        df[\"GSRowVersion\"] = df[\"GSRowVersion\"].str.decode(\"iso-8859-1\")  # df.apply(lambda row: str.encode(row[\"GSRowVersion\"]))\n",
    "    except KeyError:\n",
    "        pass\n",
    "    \n",
    "    print(n)\n",
    "    print(df.head())\n",
    "            \n",
    "    print(\"\\n\", \"-\"*30, \"\\n\\n\")"
   ]
  }
 ],
 "metadata": {
  "kernelspec": {
   "display_name": "Python 3",
   "language": "python",
   "name": "python3"
  },
  "language_info": {
   "codemirror_mode": {
    "name": "ipython",
    "version": 3
   },
   "file_extension": ".py",
   "mimetype": "text/x-python",
   "name": "python",
   "nbconvert_exporter": "python",
   "pygments_lexer": "ipython3",
   "version": "3.6.9"
  }
 },
 "nbformat": 4,
 "nbformat_minor": 4
}

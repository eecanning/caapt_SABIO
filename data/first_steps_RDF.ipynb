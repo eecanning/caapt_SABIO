{
 "cells": [
  {
   "cell_type": "markdown",
   "metadata": {},
   "source": [
    "# First Steps with the Wereldculturen RDF Dumps\n",
    "\n",
    "\n",
    "this notebook is just a playground to learn how to interact with the MvW data"
   ]
  },
  {
   "cell_type": "markdown",
   "metadata": {},
   "source": [
    "## Preparation\n",
    "\n",
    "The collection data RDF dumps are too large to be uploaded to GitHub. You can get the necessary data for this notebook [here](https://collectie.wereldculturen.nl/thesaurus/#/query/89a9b00f-5f4b-4fef-bf00-32299ba16c85). Download both the collection dumps *and* the thesaurus dumps, and put the results of unzipping in folders 'objects' and 'thesaurus' respectively\n",
    "\n",
    "This notebook uses the following packages:"
   ]
  },
  {
   "cell_type": "code",
   "execution_count": 2,
   "metadata": {},
   "outputs": [],
   "source": [
    "import glob\n",
    "from tqdm import tqdm\n",
    "\n",
    "from collections import Counter\n",
    "import numpy.random as rand\n",
    "import pandas as pd\n",
    "\n",
    "import rdflib\n",
    "from rdflib import Graph\n",
    "from rdflib import URIRef\n",
    "\n",
    "from tabulate import tabulate"
   ]
  },
  {
   "cell_type": "markdown",
   "metadata": {},
   "source": [
    "basci functions are defined in `utils.py`:"
   ]
  },
  {
   "cell_type": "code",
   "execution_count": 3,
   "metadata": {},
   "outputs": [],
   "source": [
    "from utils import load_RDF_from_dir, graph_to_df"
   ]
  },
  {
   "cell_type": "markdown",
   "metadata": {},
   "source": [
    "## Load objects and thesaurus"
   ]
  },
  {
   "cell_type": "code",
   "execution_count": 4,
   "metadata": {},
   "outputs": [
    {
     "name": "stderr",
     "output_type": "stream",
     "text": [
      "Parsing random files from /objects: 100%|██████████| 1/1 [00:01<00:00,  1.42s/it]\n",
      "Parsing random files from /thesaurus: 100%|██████████| 1/1 [00:00<00:00,  1.48it/s]\n"
     ]
    }
   ],
   "source": [
    "obj_graph = load_RDF_from_dir(\"objects\", until=1, randomise=True)\n",
    "thesaurus = load_RDF_from_dir(\"thesaurus\", until=1, randomise=True)"
   ]
  },
  {
   "cell_type": "markdown",
   "metadata": {},
   "source": [
    "## Store graphs' triples in data frame"
   ]
  },
  {
   "cell_type": "code",
   "execution_count": 5,
   "metadata": {},
   "outputs": [
    {
     "name": "stderr",
     "output_type": "stream",
     "text": [
      "500it [00:00, 37849.26it/s]\n"
     ]
    }
   ],
   "source": [
    "obj_df = graph_to_df(obj_graph, qname=obj_graph.namespace_manager.qname)\n",
    "thes_df = graph_to_df(thesaurus, qname=thesaurus.namespace_manager.qname)"
   ]
  },
  {
   "cell_type": "code",
   "execution_count": 9,
   "metadata": {},
   "outputs": [
    {
     "data": {
      "text/plain": [
       "((500, 20),\n",
       " Index(['object_URI', 'http://www.w3.org/1999/02/22-rdf-syntax-ns#type',\n",
       "        'http://www.w3.org/2004/02/skos/core#inScheme',\n",
       "        'http://www.w3.org/2004/02/skos/core#notation',\n",
       "        'http://www.w3.org/2004/02/skos/core#note',\n",
       "        'http://www.w3.org/2004/02/skos/core#prefLabel',\n",
       "        'http://www.w3.org/2004/02/skos/core#altLabel',\n",
       "        'http://www.w3.org/2004/02/skos/core#exactMatch',\n",
       "        'http://www.w3.org/2004/02/skos/core#broader',\n",
       "        'http://www.w3.org/2004/02/skos/core#narrower'],\n",
       "       dtype='object'))"
      ]
     },
     "execution_count": 9,
     "metadata": {},
     "output_type": "execute_result"
    }
   ],
   "source": []
  },
  {
   "cell_type": "markdown",
   "metadata": {},
   "source": [
    "---\n",
    "\n",
    "## Dealing with Namespaces & Types"
   ]
  },
  {
   "cell_type": "code",
   "execution_count": 10,
   "metadata": {},
   "outputs": [
    {
     "name": "stdout",
     "output_type": "stream",
     "text": [
      "('xml', rdflib.term.URIRef('http://www.w3.org/XML/1998/namespace'))\n",
      "('rdf', rdflib.term.URIRef('http://www.w3.org/1999/02/22-rdf-syntax-ns#'))\n",
      "('rdfs', rdflib.term.URIRef('http://www.w3.org/2000/01/rdf-schema#'))\n",
      "('xsd', rdflib.term.URIRef('http://www.w3.org/2001/XMLSchema#'))\n",
      "('foaf', rdflib.term.URIRef('http://xmlns.com/foaf/0.1/'))\n",
      "('edm', rdflib.term.URIRef('http://www.europeana.eu/schemas/edm/'))\n",
      "('dcterms', rdflib.term.URIRef('http://purl.org/dc/terms/'))\n",
      "('dc', rdflib.term.URIRef('http://purl.org/dc/elements/1.1/'))\n"
     ]
    }
   ],
   "source": [
    "# the predicates in the object graph and the thesaurus are from these namespaces (plus others)\n",
    "from rdflib.namespace import RDF, DC, DCTERMS, SKOS\n",
    "\n",
    "# this lists all namespaces present in the graph\n",
    "for ns in obj_graph.namespaces():\n",
    "    print(ns)"
   ]
  },
  {
   "cell_type": "code",
   "execution_count": null,
   "metadata": {},
   "outputs": [],
   "source": [
    "found_ns, found_entity = rdflib.namespace.split_uri(rdflib.term.URIRef('http://purl.org/dc/terms/alternative'))\n",
    "\n",
    "rdflib.term.URIRef(found_ns) "
   ]
  },
  {
   "cell_type": "code",
   "execution_count": null,
   "metadata": {},
   "outputs": [],
   "source": [
    "list(obj_graph.namespaces())"
   ]
  },
  {
   "cell_type": "code",
   "execution_count": null,
   "metadata": {},
   "outputs": [],
   "source": [
    "entities = list(type(e) for triple in obj_graph for e in triple)\n",
    "\n",
    "# list({e for triple in obj_graph for e in triple})\n",
    "# e = entities[2]"
   ]
  },
  {
   "cell_type": "code",
   "execution_count": null,
   "metadata": {},
   "outputs": [],
   "source": [
    "Counter(entities)"
   ]
  },
  {
   "cell_type": "markdown",
   "metadata": {},
   "source": [
    "## Querying"
   ]
  },
  {
   "cell_type": "code",
   "execution_count": null,
   "metadata": {},
   "outputs": [],
   "source": [
    "# extract all predicates\n",
    "q = \"\"\"SELECT DISTINCT ?p\n",
    "       WHERE {\n",
    "          ?a ?p ?b .\n",
    "       }\"\"\"\n",
    "\n",
    "all_predicates = [row.get(\"p\") for row in obj_graph.query(q)]\n"
   ]
  },
  {
   "cell_type": "code",
   "execution_count": null,
   "metadata": {},
   "outputs": [],
   "source": [
    "[rdflib.namespace.split_uri(p) for p in all_predicates]"
   ]
  },
  {
   "cell_type": "code",
   "execution_count": null,
   "metadata": {
    "scrolled": true
   },
   "outputs": [],
   "source": [
    "[obj_graph.namespace_manager.qname(p) for p in all_predicates]"
   ]
  },
  {
   "cell_type": "code",
   "execution_count": null,
   "metadata": {},
   "outputs": [],
   "source": [
    "q = \"\"\"SELECT ?a ?b\n",
    "       WHERE {\n",
    "          ?a dc:description ?b .\n",
    "       }\"\"\"\n",
    "\n",
    "descriptions = {obj: desc for obj, desc in obj_graph.query(q)}"
   ]
  },
  {
   "cell_type": "code",
   "execution_count": null,
   "metadata": {},
   "outputs": [],
   "source": [
    "descriptions"
   ]
  },
  {
   "cell_type": "code",
   "execution_count": null,
   "metadata": {},
   "outputs": [],
   "source": [
    "obj_graph.namespace_manager.qname(rdflib.term.URIRef('https://hdl.handle.net/20.500.11840/757753')),\\\n",
    "obj_graph.namespace_manager.qname(rdflib.term.URIRef('https://hdl.handle.net/20.500.11840/termmaster26980'))"
   ]
  },
  {
   "cell_type": "markdown",
   "metadata": {},
   "source": [
    "## Construct DataFrame from graph\n",
    "\n",
    "per object one record\n",
    "\n",
    "obtain from triples, use groupby\n",
    "\n",
    "\n",
    "note: several fields per object have multiple values -> put into a list"
   ]
  },
  {
   "cell_type": "code",
   "execution_count": null,
   "metadata": {},
   "outputs": [],
   "source": [
    "obj_df = graph_to_df(obj_graph, qname=obj_graph.namespace_manager.qname)"
   ]
  },
  {
   "cell_type": "code",
   "execution_count": null,
   "metadata": {},
   "outputs": [],
   "source": [
    "obj_df.columns\n",
    "\n",
    "# obj_df[\"dc:title\"]\n",
    "\n",
    "obj_df[\"dc:description\"].isna().sum()/obj_df.shape[0]\n",
    "\n",
    "# obj_df[\"http://purl.org/dc/elements/1.1/description\"]"
   ]
  },
  {
   "cell_type": "code",
   "execution_count": null,
   "metadata": {},
   "outputs": [],
   "source": [
    "from itertools import groupby\n",
    "\n",
    "grouped = groupby(sorted(obj_graph), lambda triple: triple[0])\n",
    "\n",
    "qname = lambda term: obj_graph.namespace_manager.qname(term)"
   ]
  },
  {
   "cell_type": "code",
   "execution_count": null,
   "metadata": {},
   "outputs": [],
   "source": [
    "for k, group in grouped:\n",
    "    print(k)\n",
    "    \n",
    "    for triple in group:\n",
    "        s, p, o = triple\n",
    "        \n",
    "        if not s == k: raise ValueError(\"WHAT!?\")\n",
    "        p = qname(p)\n",
    "        try:\n",
    "            o = qname(o)\n",
    "        \n",
    "            print(\"\\t\", p, o)\n",
    "        except ValueError:\n",
    "            print(\"\\t\", p, o)\n",
    "    break"
   ]
  },
  {
   "cell_type": "code",
   "execution_count": null,
   "metadata": {},
   "outputs": [],
   "source": [
    "\n",
    "records = [triples_to_record(k, group) for k, group in tqdm(grouped)]"
   ]
  },
  {
   "cell_type": "code",
   "execution_count": null,
   "metadata": {},
   "outputs": [],
   "source": [
    "obj_df = pd.DataFrame.from_records(records)"
   ]
  },
  {
   "cell_type": "code",
   "execution_count": null,
   "metadata": {},
   "outputs": [],
   "source": [
    "obj_df.shape"
   ]
  },
  {
   "cell_type": "code",
   "execution_count": null,
   "metadata": {},
   "outputs": [],
   "source": [
    "cols = set(tuple(r.keys()) for r in records)\n",
    "len(records), len(cols)"
   ]
  },
  {
   "cell_type": "code",
   "execution_count": null,
   "metadata": {},
   "outputs": [],
   "source": [
    "max_k = ('obj_ref',\n",
    "  'ns11:exhibition',\n",
    "  'dc:creator',\n",
    "  'dc:description',\n",
    "  'dc:identifier',\n",
    "  'dc:subject',\n",
    "  'dc:title',\n",
    "  'dc:type',\n",
    "  'dcterms:created',\n",
    "  'dcterms:extent',\n",
    "  'dcterms:medium',\n",
    "  'dcterms:spatial',\n",
    "  'edm:isRelatedTo',\n",
    "  'edm:isShownAt',\n",
    "  'edm:isShownBy',\n",
    "  'edm:object',\n",
    "  'edm:provider',\n",
    "  'edm:rights',\n",
    "  'edm:type',\n",
    "  'rdf:type')\n",
    "\n",
    "[tuple(r.keys()) == max_k for r in records if len(tuple(r.keys())) == 20]\n",
    "\n",
    "\n",
    "{k for rec in records for k in rec.keys()} ^ set(max_k)"
   ]
  },
  {
   "cell_type": "code",
   "execution_count": null,
   "metadata": {},
   "outputs": [],
   "source": [
    "obj_df.mean()"
   ]
  },
  {
   "cell_type": "markdown",
   "metadata": {},
   "source": [
    "### .2 Extract descriptions\n",
    "\n",
    " - keep links\n",
    " - construct rich data structure (not just list of text"
   ]
  },
  {
   "cell_type": "code",
   "execution_count": null,
   "metadata": {},
   "outputs": [],
   "source": [
    "q = \"\"\"SELECT ?a ?b\n",
    "       WHERE {\n",
    "          ?a dc:description ?b .\n",
    "       }\"\"\"\n",
    "\n",
    "descriptions = {obj: desc.toPython() for obj, desc in obj_graph.query(q)}"
   ]
  },
  {
   "cell_type": "code",
   "execution_count": null,
   "metadata": {},
   "outputs": [],
   "source": [
    "descs = list(descriptions.values())\n",
    "\n",
    "set(map(type, descs))"
   ]
  },
  {
   "cell_type": "code",
   "execution_count": null,
   "metadata": {},
   "outputs": [],
   "source": [
    "import numpy as np\n",
    "\n",
    "df = pd.DataFrame(descs, columns=[\"descs\"])\n",
    "\n",
    "(df.descs == np.nan).sum()"
   ]
  },
  {
   "cell_type": "code",
   "execution_count": null,
   "metadata": {},
   "outputs": [],
   "source": [
    "desc = next(iter(descriptions.values()))\n",
    "desc, desc.normalize(), str(desc)\n",
    "dir(desc)\n",
    "desc.toPywhere the thon() == str(desc)"
   ]
  },
  {
   "cell_type": "code",
   "execution_count": null,
   "metadata": {},
   "outputs": [],
   "source": [
    "descriptions"
   ]
  },
  {
   "cell_type": "code",
   "execution_count": null,
   "metadata": {},
   "outputs": [],
   "source": [
    "descs = [o.toPython() for s, p, o in obj_graph if p == rdflib.term.URIRef('http://purl.org/dc/elements/1.1/description')]\n",
    "\n",
    "sorted(set(map(len, descs)))\n",
    "\n",
    "set(d for d in descs if len(d) < 10)"
   ]
  },
  {
   "cell_type": "code",
   "execution_count": null,
   "metadata": {},
   "outputs": [],
   "source": [
    "set(obj_graph.predicates())"
   ]
  }
 ],
 "metadata": {
  "kernelspec": {
   "display_name": "Python 3",
   "language": "python",
   "name": "python3"
  },
  "language_info": {
   "codemirror_mode": {
    "name": "ipython",
    "version": 3
   },
   "file_extension": ".py",
   "mimetype": "text/x-python",
   "name": "python",
   "nbconvert_exporter": "python",
   "pygments_lexer": "ipython3",
   "version": "3.6.9"
  }
 },
 "nbformat": 4,
 "nbformat_minor": 4
}

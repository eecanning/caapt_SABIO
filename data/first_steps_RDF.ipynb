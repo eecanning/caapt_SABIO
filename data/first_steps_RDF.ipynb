{
 "cells": [
  {
   "cell_type": "markdown",
   "metadata": {},
   "source": [
    "# First Exploration of the Wereldculturen RDF Dumps\n",
    "\n",
    "What do we want to do here? *to be expanded*\n",
    " - (distributional) properties of objects & terms\n",
    "   - distribution over objects, object properties \n",
    "\n",
    " - explore the properties of the collection graph & thesaurus graph:\n",
    "   - network structure (connectivity, etc)\n",
    "   \n",
    " - explore the connections between collection & thesaurus (collection links into thesaurus)\n",
    "   - intersections of entities\n",
    "   - density of indexed terms in collection\n",
    "\n",
    "\n",
    "### TODO\n",
    "\n",
    " - move the basic functions (such as loading the graph) into Python module\n",
    "\n",
    "\n",
    "\n"
   ]
  },
  {
   "cell_type": "markdown",
   "metadata": {},
   "source": [
    "### Preparation\n",
    "\n",
    "The collection data RDF dumps are too large to be uploaded to GitHub. You can get the necessary data for this notebook [here](https://collectie.wereldculturen.nl/thesaurus/#/query/89a9b00f-5f4b-4fef-bf00-32299ba16c85). Download both the collection dumps *and* the thesaurus dumps, and put the results of unzipping in folders 'objects' and 'thesaurus' respectively\n",
    "\n",
    "This notebook uses the following packages:"
   ]
  },
  {
   "cell_type": "code",
   "execution_count": 81,
   "metadata": {},
   "outputs": [],
   "source": [
    "import glob\n",
    "from tqdm import tqdm\n",
    "\n",
    "import numpy.random as rand\n",
    "\n",
    "import rdflib\n",
    "from rdflib import Graph\n",
    "from rdflib import URIRef\n",
    "\n",
    "# the predicates in the object graph and the thesaurus are from these namespaces (plus others)\n",
    "from rdflib.namespace import RDF, DCTERMS, SKOS"
   ]
  },
  {
   "cell_type": "markdown",
   "metadata": {},
   "source": [
    "## 1. load objects and thesaurus"
   ]
  },
  {
   "cell_type": "code",
   "execution_count": 41,
   "metadata": {},
   "outputs": [],
   "source": [
    "def load_graph_from_dir(d, until=-1, file_ext=\"rdf\", randomise=False):\n",
    "    file_listing = glob.glob(f\"{d}/*.{file_ext}\")\n",
    "    file_listing = rand.permutation(file_listing) if randomise else sorted(file_listing)\n",
    "    file_listing = file_listing[:until] # there are 1570 files in /objects, loop below has 1.5 it/s so takes 15+min\n",
    "    \n",
    "    if len(file_listing) == 0:\n",
    "        raise ValueError(f\"taking {until} files from directory /{d}/ somehow not possible, listing empty!\")\n",
    "    \n",
    "    graph = Graph()\n",
    "    for path in tqdm(file_listing, \n",
    "                     desc=f\"Parsing{' random' if randomise else ''} files from /{d}\"): \n",
    "        graph.parse(path, format=\"xml\")\n",
    "    return graph"
   ]
  },
  {
   "cell_type": "code",
   "execution_count": 45,
   "metadata": {},
   "outputs": [
    {
     "name": "stderr",
     "output_type": "stream",
     "text": [
      "Parsing files from /objects: 100%|██████████| 10/10 [00:06<00:00,  1.54it/s]\n",
      "Parsing files from /thesaurus: 100%|██████████| 43/43 [00:15<00:00,  2.79it/s]\n"
     ]
    }
   ],
   "source": [
    "obj_graph = load_graph_from_dir(\"objects\", until=10, randomise=False)\n",
    "thesaurus = load_graph_from_dir(\"thesaurus\", randomise=False)"
   ]
  },
  {
   "cell_type": "markdown",
   "metadata": {},
   "source": [
    "### 1.1 basic properties"
   ]
  },
  {
   "cell_type": "code",
   "execution_count": 96,
   "metadata": {},
   "outputs": [
    {
     "name": "stdout",
     "output_type": "stream",
     "text": [
      "                 len    n_subjects    n_objects    n_preds\n",
      "------------  ------  ------------  -----------  ---------\n",
      "object graph   86842          5000        32242         20\n",
      "thesaurus     198128         21248       116479          9\n"
     ]
    }
   ],
   "source": [
    "n = lambda gen: len(set(gen))\n",
    "info = [[\"\", \"object graph\", \"thesaurus\"],\n",
    "        [\"len\", len(obj_graph), len(thesaurus)],\n",
    "        [\"n_subjects\", n(obj_graph.subjects()), n(thesaurus.subjects())],\n",
    "        [\"n_objects\", n(obj_graph.objects()), n(thesaurus.objects())],\n",
    "        [\"n_preds\", n(obj_graph.predicates()), n(thesaurus.predicates())]]\n",
    "info = list(zip(*info))\n",
    "print(tabulate(info[1:], headers=info[0]))"
   ]
  },
  {
   "cell_type": "markdown",
   "metadata": {},
   "source": [
    "## 2. descriptive stats"
   ]
  },
  {
   "cell_type": "code",
   "execution_count": 118,
   "metadata": {},
   "outputs": [
    {
     "name": "stdout",
     "output_type": "stream",
     "text": [
      "                object subjs    object preds    object objs    thes subjs    thes preds    thes objs\n",
      "------------  --------------  --------------  -------------  ------------  ------------  -----------\n",
      "object subjs              -1       0             0              0             0           0\n",
      "object preds               0      -1             0              0             0.0357143   0\n",
      "object objs                0       0            -1              0.0189348     0           0.00683086\n",
      "thes subjs                 0       0             0.0189348     -1             0           0.177335\n",
      "thes preds                 0       0.0357143     0              0            -1           0\n",
      "thes objs                  0       0             0.00683086     0.177335      0          -1\n"
     ]
    }
   ],
   "source": [
    "headers = [\"object subjs\", \"object preds\", \"object objs\", \"thes subjs\", \"thes preds\", \"thes objs\"]\n",
    "sets = [obj_graph.subjects(), obj_graph.predicates(), obj_graph.objects(), thesaurus.subjects(), thesaurus.predicates(), thesaurus.objects()]\n",
    "sets = list(map(set, sets))\n",
    "\n",
    "import sklearn.metrics\n",
    "\n",
    "f = lambda s1, s2: len(s1&s2)\n",
    "jacc = lambda s1, s2: len(s1&s2)/len(s1|s2)\n",
    "\n",
    "intersections = [[h]+[jacc(s1, s2) if not (s1 is s2) else -1  for s2 in sets] for s1, h in zip(sets, headers)]\n",
    "print(tabulate(intersections, headers=[\"\"]+headers))"
   ]
  },
  {
   "cell_type": "code",
   "execution_count": 131,
   "metadata": {},
   "outputs": [
    {
     "data": {
      "text/plain": [
       "[(rdflib.term.URIRef('https://hdl.handle.net/20.500.11840/206868'),\n",
       "  rdflib.term.URIRef('http://www.w3.org/1999/02/22-rdf-syntax-ns#type'),\n",
       "  rdflib.term.URIRef('http://purl.org/dc/terms/PhysicalResource')),\n",
       " (rdflib.term.URIRef('https://hdl.handle.net/20.500.11840/206868'),\n",
       "  rdflib.term.URIRef('http://purl.org/dc/terms/medium'),\n",
       "  rdflib.term.URIRef('https://hdl.handle.net/20.500.11840/termmaster26533')),\n",
       " (rdflib.term.URIRef('https://hdl.handle.net/20.500.11840/206868'),\n",
       "  rdflib.term.URIRef('http://www.europeana.eu/schemas/edm/isShownBy'),\n",
       "  rdflib.term.Literal('http://collectie.wereldculturen.nl/lodimages/cc/imageproxy.ashx?filename=images/Images/TM//tm-60036342.jpg&cache=yes')),\n",
       " (rdflib.term.URIRef('https://hdl.handle.net/20.500.11840/206868'),\n",
       "  rdflib.term.URIRef('http://purl.org/dc/elements/1.1/creator'),\n",
       "  rdflib.term.URIRef('https://hdl.handle.net/20.500.11840/pi7863')),\n",
       " (rdflib.term.URIRef('https://hdl.handle.net/20.500.11840/206868'),\n",
       "  rdflib.term.URIRef('http://purl.org/dc/elements/1.1/subject'),\n",
       "  rdflib.term.URIRef('https://hdl.handle.net/20.500.11840/termmaster3534')),\n",
       " (rdflib.term.URIRef('https://hdl.handle.net/20.500.11840/206868'),\n",
       "  rdflib.term.URIRef('http://www.europeana.eu/schemas/edm/type'),\n",
       "  rdflib.term.Literal('IMAGE')),\n",
       " (rdflib.term.URIRef('https://hdl.handle.net/20.500.11840/206868'),\n",
       "  rdflib.term.URIRef('http://www.europeana.eu/schemas/edm/provider'),\n",
       "  rdflib.term.Literal('Stichting Nationaal Museum van Wereldculturen')),\n",
       " (rdflib.term.URIRef('https://hdl.handle.net/20.500.11840/206868'),\n",
       "  rdflib.term.URIRef('http://purl.org/dc/elements/1.1/creator'),\n",
       "  rdflib.term.URIRef('https://hdl.handle.net/20.500.11840/pi7972')),\n",
       " (rdflib.term.URIRef('https://hdl.handle.net/20.500.11840/206868'),\n",
       "  rdflib.term.URIRef('http://www.europeana.eu/schemas/edm/isShownAt'),\n",
       "  rdflib.term.Literal('https://hdl.handle.net/20.500.11840/206868')),\n",
       " (rdflib.term.URIRef('https://hdl.handle.net/20.500.11840/206868'),\n",
       "  rdflib.term.URIRef('http://purl.org/dc/elements/1.1/identifier'),\n",
       "  rdflib.term.Literal('TM-60036342')),\n",
       " (rdflib.term.URIRef('https://hdl.handle.net/20.500.11840/206868'),\n",
       "  rdflib.term.URIRef('http://purl.org/dc/elements/1.1/type'),\n",
       "  rdflib.term.Literal('Foto')),\n",
       " (rdflib.term.URIRef('https://hdl.handle.net/20.500.11840/206868'),\n",
       "  rdflib.term.URIRef('http://purl.org/dc/terms/created'),\n",
       "  rdflib.term.Literal('1920-1935')),\n",
       " (rdflib.term.URIRef('https://hdl.handle.net/20.500.11840/206868'),\n",
       "  rdflib.term.URIRef('http://purl.org/dc/elements/1.1/description'),\n",
       "  rdflib.term.Literal('De Granman is het hoofd van een Marron-groep, de Saramakkaners, of Saamaka. Hij wordt gekozen en geïnstalleerd door zijn eigen stam. Zijn aanstelling werd officiëel bekrachtigd door het Surinaamse gouvernement. Van de regering kreeg de Granman vervolgens een salaris toegekend en mocht hij de officiële ambtskleding dragen die op deze foto te zien is.')),\n",
       " (rdflib.term.URIRef('https://hdl.handle.net/20.500.11840/206868'),\n",
       "  rdflib.term.URIRef('http://purl.org/dc/elements/1.1/identifier'),\n",
       "  rdflib.term.Literal('206868')),\n",
       " (rdflib.term.URIRef('https://hdl.handle.net/20.500.11840/206868'),\n",
       "  rdflib.term.URIRef('http://purl.org/dc/terms/medium'),\n",
       "  rdflib.term.URIRef('https://hdl.handle.net/20.500.11840/termmaster26011')),\n",
       " (rdflib.term.URIRef('https://hdl.handle.net/20.500.11840/206868'),\n",
       "  rdflib.term.URIRef('http://www.europeana.eu/schemas/edm/rights'),\n",
       "  rdflib.term.Literal('(not assigned)')),\n",
       " (rdflib.term.URIRef('https://hdl.handle.net/20.500.11840/206868'),\n",
       "  rdflib.term.URIRef('http://purl.org/dc/terms/spatial'),\n",
       "  rdflib.term.URIRef('https://hdl.handle.net/20.500.11840/termmaster5986')),\n",
       " (rdflib.term.URIRef('https://hdl.handle.net/20.500.11840/206868'),\n",
       "  rdflib.term.URIRef('http://purl.org/dc/terms/extent'),\n",
       "  rdflib.term.Literal('11,3 x 17cm (4 7/16 x 6 11/16in.)')),\n",
       " (rdflib.term.URIRef('https://hdl.handle.net/20.500.11840/206868'),\n",
       "  rdflib.term.URIRef('http://www.europeana.eu/schemas/edm/isRelatedTo'),\n",
       "  rdflib.term.URIRef('https://hdl.handle.net/20.500.11840/termmaster1802')),\n",
       " (rdflib.term.URIRef('https://hdl.handle.net/20.500.11840/206868'),\n",
       "  rdflib.term.URIRef('http://purl.org/dc/elements/1.1/title'),\n",
       "  rdflib.term.Literal('Portret van Granman Atudendu van de Saramakaners van 1934 tot 1949.', lang='ned')),\n",
       " (rdflib.term.URIRef('https://hdl.handle.net/20.500.11840/206868'),\n",
       "  rdflib.term.URIRef('http://www.europeana.eu/schemas/edm/isRelatedTo'),\n",
       "  rdflib.term.Literal('Audiovisuele collectie'))]"
      ]
     },
     "execution_count": 131,
     "metadata": {},
     "output_type": "execute_result"
    }
   ],
   "source": [
    "marron = rdflib.term.URIRef('https://hdl.handle.net/20.500.11840/206868')\n",
    "\n",
    "list(obj_graph.triples((marron, None, None)))"
   ]
  }
 ],
 "metadata": {
  "kernelspec": {
   "display_name": "Python 3",
   "language": "python",
   "name": "python3"
  },
  "language_info": {
   "codemirror_mode": {
    "name": "ipython",
    "version": 3
   },
   "file_extension": ".py",
   "mimetype": "text/x-python",
   "name": "python",
   "nbconvert_exporter": "python",
   "pygments_lexer": "ipython3",
   "version": "3.6.9"
  }
 },
 "nbformat": 4,
 "nbformat_minor": 4
}

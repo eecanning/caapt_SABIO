{
 "cells": [
  {
   "cell_type": "markdown",
   "metadata": {},
   "source": [
    "## Construct Smaller DFs by Selecting Relevant Columns\n",
    "\n",
    "### Classifications\n",
    "\n",
    "| Field  | Meaning  | Values\n",
    "|---|---|---|\n",
    "| ClassificationID  | Used to link entries in `ClassificationXRefs`  | int, unique |\n",
    "| Classification  | Actual class values | (string, 8 levels, most common 'Documentatie')  |\n",
    "| AATCN |  Classification into types of objects | (string, 38 levels, uniform, e.g. 'Boeken') |\n",
    "| SubClassification | Extra classifications | (string, 16 levels, most common 'Audiovisueel') |\n",
    "| SubClassification2 | More extra classifications | (string, 14 levels, uniform, e.g. 'Drukwerk') |\n",
    "\n",
    "<br>\n",
    "\n",
    " - `SubClassification3` is empty\n",
    " - idea: create tuple of `(Classification, SubClassification, SubClassification2)` as the single classification feature\n",
    " \n",
    "\n",
    "### ClassificationXRefs\n",
    "\n",
    "| Field  | Meaning  | Values\n",
    "|---|---|---|\n",
    "| ClassificationXRefID  | Only used in this table?  | int, unique |\n",
    "| ClassificationID  | Used to link entries in `Classifications` | correspond to values of <br> `Classifications.Classification`, non-uniform counts  |\n",
    "| ID |  Used to link entries in `Objects` | correspond to values of `Objects.ID`, uniform |\n",
    "| TableID | ID of this table (for other contexts) | single value: 108 |\n",
    "\n",
    "\n",
    "\n",
    " \n",
    "### Departments\n",
    "\n",
    "| Field  | Meaning  | Values\n",
    "|---|---|---|\n",
    "| DepartmentID  | Used to link entries in Objects  | int, unique |\n",
    "| Department  | Actual department names | (int, 18 levels, most not assigned, others uniform)  |\n",
    "| Mnemonic |  Shorthand for the departmant name (field Department) | (same as Department) |\n",
    "\n",
    "<br>\n",
    "\n",
    " - is `MainTableID` the ID of the departments in the main table? -> would be useful in that case for unification\n",
    "\n",
    "\n",
    "### Objects\n",
    "\n",
    "\n",
    "| Field  | Meaning  | Values\n",
    "|---|---|---|\n",
    "| ObjectID  | Linked to entries in `ClassificationXRefs`  | int, unique |\n",
    "| DepartmentID  | Linked to entries in `Departments` | corresponds to `Departments.DepartmentID`  |\n",
    "| ClassificationID |  Linked to entries in `Classifications` <br>and `ClassificationXRefs` | corresponds to `ClassificationID` in both tables |\n",
    "| ObjectName | Name of the type of object | (string, 163 levels, most common 'Foto') |\n",
    "| Title | The object's title | string |\n",
    "| Description | The object's description | string |\n",
    "| Provenance | Description of the object's history | string |\n",
    "\n",
    "\n",
    "<br>\n",
    "\n",
    " - `ObjectNumber` seems to be an external ID for objects (is unique, has prefixes such as \"TM\", \"RV\", \"NL\")\n",
    " - `SortNumber` is similar to `ObjectNumber`\n",
    " - what does `ObjectCount` indicate? does `ObjectCount > 1` imply that entries should be merged?\n",
    " - what do `DateBegin` and `DateEnd` refer to? (most objects have `DateEnd == DateBegin`, latest date is 1990)\n",
    " - same for `Dated` -> which date is this?\n",
    " - technical properties:\n",
    "     - Medium is the object's material\n",
    "     - Dimensions\n",
    "     - Signed, Inscribed, Markings\n",
    "     - CreditLine: by whome the object was given\n",
    " - Exhibitions: Title of the exhibition the object was displayed at\n",
    " - Provenance: Description of how the object was acquired by the museum\n",
    " - **incomplete, TODO: go through the remaining columns**\n",
    "\n",
    "\n",
    "\n",
    "\n",
    "\n",
    "\n",
    "\n",
    "\n",
    "\n",
    "#### Other Notes\n",
    "\n",
    " - `EnteredDate` is in all tables, earliest values around 1995, not uniformly distributed"
   ]
  },
  {
   "cell_type": "code",
   "execution_count": 14,
   "metadata": {
    "collapsed": true
   },
   "outputs": [],
   "source": [
    "import glob\n",
    "from tqdm import tqdm\n",
    "\n",
    "import pandas as pd\n",
    "import numpy as np\n",
    "\n",
    "import pyodbc"
   ]
  },
  {
   "cell_type": "code",
   "execution_count": null,
   "metadata": {},
   "outputs": [],
   "source": []
  },
  {
   "cell_type": "code",
   "execution_count": 2,
   "metadata": {},
   "outputs": [],
   "source": [
    "server = 'tcp:azuredfserv.database.windows.net' \n",
    "database = 'Azuredf' \n",
    "username = 'Demouser' \n",
    "password = 'Knxdde#77' \n",
    "driver='{ODBC Driver 17 for SQL Server}'"
   ]
  },
  {
   "cell_type": "code",
   "execution_count": 8,
   "metadata": {},
   "outputs": [],
   "source": [
    "def table_to_DataFrame(connection, table_name, keys=None, until=None, random_n=None):\n",
    "    \n",
    "    keys = \"*\" if not keys else \",\".join(keys)\n",
    "    if not until:\n",
    "        until = \"\"\n",
    "    until = f\"TOP {until}\" if until else \"\"\n",
    "    sample = f\"TABLESAMPLE ({random_n} ROWS)\" if random_n else \"\"\n",
    "    query = f\"SELECT {until} {keys} FROM {table_name} {sample};\"\n",
    "    print(query)\n",
    "    df = pd.read_sql(query, connection)\n",
    "    return df\n",
    "\n",
    "\n",
    "def connect_to_DB():\n",
    "    return pyodbc.connect('DRIVER='+driver+';SERVER='+server+';PORT=1433;DATABASE='+database+';UID='+username+';PWD='+ password)"
   ]
  },
  {
   "cell_type": "markdown",
   "metadata": {},
   "source": [
    "### get table names\n",
    "\n",
    "not necessary - tables defined manually"
   ]
  },
  {
   "cell_type": "code",
   "execution_count": 5,
   "metadata": {},
   "outputs": [
    {
     "name": "stdout",
     "output_type": "stream",
     "text": [
      "                       name             modify_date\n",
      "0       ClassificationXRefs 2021-02-05 11:09:55.290\n",
      "1               Departments 2021-02-05 11:09:55.320\n",
      "2                   Objects 2021-02-05 11:09:55.323\n",
      "3           Classifications 2021-02-05 11:09:55.330\n",
      "4                 TextTypes 2021-03-12 09:17:12.087\n",
      "5             ThesXrefTypes 2021-03-12 09:17:12.097\n",
      "6   ClassificationNotations 2021-03-12 09:17:12.110\n",
      "7                 TermTypes 2021-03-12 09:17:12.120\n",
      "8                 ThesXrefs 2021-03-12 09:17:12.123\n",
      "9                 ObjTitles 2021-03-12 09:17:16.663\n",
      "10              TextEntries 2021-03-12 09:17:16.783\n",
      "11                    Terms 2021-03-12 09:17:16.877\n",
      "12               TitleTypes 2021-03-12 09:17:24.050\n"
     ]
    }
   ],
   "source": [
    "with connect_to_DB() as conn:\n",
    "    q  = \"SELECT t.name, t.modify_date FROM sys.tables t\"\n",
    "    tables = pd.read_sql(q, conn)\n",
    "    tables = tables[tables.name != \"Person\"]\n",
    "    print(tables)"
   ]
  },
  {
   "cell_type": "markdown",
   "metadata": {},
   "source": [
    "### define table column keys & dump via connection"
   ]
  },
  {
   "cell_type": "code",
   "execution_count": 13,
   "metadata": {},
   "outputs": [
    {
     "name": "stdout",
     "output_type": "stream",
     "text": [
      "Classifications\n",
      "SELECT  ClassificationID,Classification,AATCN,SubClassification,SubClassification2 FROM Classifications TABLESAMPLE (10000 ROWS);\n",
      "ClassificationXRefs\n",
      "SELECT  ClassificationXRefID,ClassificationID,ID,TableID FROM ClassificationXRefs TABLESAMPLE (10000 ROWS);\n",
      "Departments\n",
      "SELECT  DepartmentID,Department,Mnemonic FROM Departments TABLESAMPLE (10000 ROWS);\n",
      "Objects\n",
      "SELECT  ObjectID,DepartmentID,ClassificationID,ObjectName,Title,Description,Provenance FROM Objects TABLESAMPLE (10000 ROWS);\n"
     ]
    }
   ],
   "source": [
    "keys = {\"Classifications\": (\"ClassificationID\", \"Classification\", \"AATCN\", \"SubClassification\", \"SubClassification2\"),\n",
    "       \"ClassificationXRefs\": (\"ClassificationXRefID\", \"ClassificationID\", \"ID\", \"TableID\"),\n",
    "       \"Departments\": (\"DepartmentID\", \"Department\", \"Mnemonic\"),\n",
    "       \"Objects\": (\"ObjectID\", \"DepartmentID\", \"ClassificationID\", \"ObjectName\", \"Title\", \"Description\", \"Provenance\")}\n",
    "\n",
    "tables = {}\n",
    "with connect_to_DB() as conn:\n",
    "    for table_name, key_ls in keys.items():\n",
    "        print(table_name)\n",
    "        tables[table_name] = table_to_DataFrame(conn, table_name, keys=key_ls, random_n=10000)"
   ]
  },
  {
   "cell_type": "markdown",
   "metadata": {},
   "source": [
    "### TODO: clean up, process, etc tables"
   ]
  },
  {
   "cell_type": "markdown",
   "metadata": {},
   "source": [
    "### save tables"
   ]
  },
  {
   "cell_type": "code",
   "execution_count": 21,
   "metadata": {},
   "outputs": [],
   "source": [
    "for key, tbl in tables.items():\n",
    "    tbl.to_csv(f\"tables/{key}.csv.gz\", index=False)"
   ]
  }
 ],
 "metadata": {
  "kernelspec": {
   "display_name": "Python 3",
   "language": "python",
   "name": "python3"
  },
  "language_info": {
   "codemirror_mode": {
    "name": "ipython",
    "version": 3
   },
   "file_extension": ".py",
   "mimetype": "text/x-python",
   "name": "python",
   "nbconvert_exporter": "python",
   "pygments_lexer": "ipython3",
   "version": "3.6.9"
  }
 },
 "nbformat": 4,
 "nbformat_minor": 4
}

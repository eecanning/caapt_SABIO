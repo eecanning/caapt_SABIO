{
 "cells": [
  {
   "cell_type": "markdown",
   "metadata": {},
   "source": [
    "# Descriptive Statistics & Basic Properties\n",
    "\n",
    "#### What do we want to do here? (*to be expanded*)\n",
    " - (distributional) properties of objects & terms\n",
    "   - distribution over objects, object properties \n",
    "\n",
    " - explore the properties of the collection graph & thesaurus graph:\n",
    "   - network structure (connectivity, etc)\n",
    "   \n",
    " - explore the connections between collection & thesaurus (collection links into thesaurus)\n",
    "   - intersections of entities\n",
    "   - density of indexed terms in collection\n"
   ]
  },
  {
   "cell_type": "markdown",
   "metadata": {},
   "source": [
    "# 1. Statistical Properties of Graph\n",
    "\n",
    "### 1.1 Basic Properties"
   ]
  },
  {
   "cell_type": "code",
   "execution_count": null,
   "metadata": {},
   "outputs": [],
   "source": [
    "n = lambda gen: len(set(gen))\n",
    "info = [[\"\", \"object graph\", \"thesaurus\"],\n",
    "        [\"len\", len(obj_graph), len(thesaurus)],\n",
    "        [\"n_subjects\", n(obj_graph.subjects()), n(thesaurus.subjects())],\n",
    "        [\"n_objects\", n(obj_graph.objects()), n(thesaurus.objects())],\n",
    "        [\"n_preds\", n(obj_graph.predicates()), n(thesaurus.predicates())]]\n",
    "info = list(zip(*info))\n",
    "print(tabulate(info[1:], headers=info[0]))"
   ]
  },
  {
   "cell_type": "markdown",
   "metadata": {},
   "source": [
    "### 1.2 Jaccard distances between entity sets"
   ]
  },
  {
   "cell_type": "code",
   "execution_count": null,
   "metadata": {},
   "outputs": [],
   "source": [
    "headers = [\"object subjs\", \"object preds\", \"object objs\", \"thes subjs\", \"thes preds\", \"thes objs\"]\n",
    "sets = [obj_graph.subjects(), obj_graph.predicates(), obj_graph.objects(), thesaurus.subjects(), thesaurus.predicates(), thesaurus.objects()]\n",
    "sets = list(map(set, sets))\n",
    "\n",
    "import sklearn.metrics\n",
    "\n",
    "f = lambda s1, s2: len(s1&s2)\n",
    "jacc = lambda s1, s2: len(s1&s2)/len(s1|s2)\n",
    "\n",
    "intersections = [[h]+[jacc(s1, s2) if not (s1 is s2) else None for s2 in sets] for s1, h in zip(sets, headers)]\n",
    "print(tabulate(intersections, headers=[\"jaccard distances\"]+headers))"
   ]
  },
  {
   "cell_type": "markdown",
   "metadata": {},
   "source": [
    "## 2. Statistical Properties of Text Descriptions"
   ]
  },
  {
   "cell_type": "code",
   "execution_count": null,
   "metadata": {},
   "outputs": [],
   "source": [
    "# length statistics\n",
    "\n",
    "import seaborn as sns\n",
    "\n",
    "lens = list(map(len, map(str.split, descriptions.values())))\n",
    "\n",
    "plt.hist(lens)\n",
    "plt.show()\n",
    "\n",
    "ls, freqs = list(zip(*sorted(Counter(lens).items())))\n",
    "\n",
    "\n",
    "plt.loglog(ls, freqs, \".\")\n",
    "plt.show()\n",
    "\n",
    "\n",
    "sns.histplot(lens, log_scale=(10 ,10))"
   ]
  }
 ],
 "metadata": {
  "kernelspec": {
   "display_name": "Python 3",
   "language": "python",
   "name": "python3"
  },
  "language_info": {
   "codemirror_mode": {
    "name": "ipython",
    "version": 3
   },
   "file_extension": ".py",
   "mimetype": "text/x-python",
   "name": "python",
   "nbconvert_exporter": "python",
   "pygments_lexer": "ipython3",
   "version": "3.6.9"
  }
 },
 "nbformat": 4,
 "nbformat_minor": 4
}

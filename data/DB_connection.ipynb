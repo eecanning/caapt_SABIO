{
 "cells": [
  {
   "cell_type": "markdown",
   "metadata": {},
   "source": [
    "# First Steps Connecting to the Wereldculturen MS SQL Server\n",
    "\n",
    "Using pyodbc to connect to the server and submit queries to the DB\n",
    "\n",
    "\n",
    "Can also use Pandas to directly parse query result into DataFrame (via `pandas.read_sql`)"
   ]
  },
  {
   "cell_type": "code",
   "execution_count": 113,
   "metadata": {},
   "outputs": [],
   "source": [
    "from tqdm import tqdm\n",
    "import matplotlib.pyplot as plt\n",
    "\n",
    "import pandas as pd\n",
    "import numpy as np"
   ]
  },
  {
   "cell_type": "code",
   "execution_count": 3,
   "metadata": {},
   "outputs": [],
   "source": [
    "import pyodbc \n",
    "server = 'tcp:azuredfserv.database.windows.net' \n",
    "database = 'Azuredf' \n",
    "username = 'Demouser' \n",
    "password = 'Knxdde#77' \n",
    "driver='{ODBC Driver 17 for SQL Server}'"
   ]
  },
  {
   "cell_type": "code",
   "execution_count": 13,
   "metadata": {},
   "outputs": [],
   "source": [
    "def table_to_DataFrame(connection, table_name, until=None, random_n=None):\n",
    "    if not until:\n",
    "        until = \"\"\n",
    "    until = f\"TOP {until}\" if until else \"\"\n",
    "    sample = f\"TABLESAMPLE ({random_n} ROWS)\" if random_n else \"\"\n",
    "    query = f\"SELECT {until} * FROM {table_name} {sample};\"\n",
    "    print(query)\n",
    "    df = pd.read_sql(query, connection)\n",
    "    return df\n",
    "\n",
    "\n",
    "def connect_to_DB():\n",
    "    return pyodbc.connect('DRIVER='+driver+';SERVER='+server+';PORT=1433;DATABASE='+database+';UID='+username+';PWD='+ password)"
   ]
  },
  {
   "cell_type": "markdown",
   "metadata": {},
   "source": [
    "# 1. Get List of Tables in the Database"
   ]
  },
  {
   "cell_type": "code",
   "execution_count": 116,
   "metadata": {},
   "outputs": [
    {
     "name": "stdout",
     "output_type": "stream",
     "text": [
      "                  name             modify_date\n",
      "1  ClassificationXRefs 2021-02-05 11:09:55.290\n",
      "2          Departments 2021-02-05 11:09:55.320\n",
      "3              Objects 2021-02-05 11:09:55.323\n",
      "4      Classifications 2021-02-05 11:09:55.330\n"
     ]
    }
   ],
   "source": [
    "with connect_to_DB() as conn:\n",
    "    q  = \"SELECT t.name, t.modify_date FROM sys.tables t\"\n",
    "    tables = pd.read_sql(q, conn)\n",
    "    tables = tables[tables.name != \"Person\"]\n",
    "    print(tables)"
   ]
  },
  {
   "cell_type": "markdown",
   "metadata": {},
   "source": [
    "## 1.1 Count Number of Rows in the Tables"
   ]
  },
  {
   "cell_type": "code",
   "execution_count": 117,
   "metadata": {},
   "outputs": [
    {
     "name": "stdout",
     "output_type": "stream",
     "text": [
      "[('Person', 0), ('ClassificationXRefs', 11844602), ('Departments', 429), ('Objects', 11845922), ('Classifications', 418)]\n"
     ]
    }
   ],
   "source": [
    "# q = \"SELECT COUNT(*) FROM ClassificationXRefs;\"\n",
    "\n",
    "# q = \"\"\"select t.name TableName, i.rows Records\n",
    "# from sysobjects t, sysindexes i\n",
    "# where t.xtype = 'U' and i.id = t.id and i.indid in (0,1)\n",
    "# order by TableName;\n",
    "# \"\"\"\n",
    "\n",
    "# both (above and below) queries return the same output\n",
    "\n",
    "q = \"\"\"SELECT \n",
    "    T.NAME AS 'TABLE NAME',\n",
    "    P.[ROWS] AS 'NO OF ROWS'\n",
    "FROM SYS.TABLES T \n",
    "INNER JOIN  SYS.PARTITIONS P ON T.OBJECT_ID=P.OBJECT_ID\"\"\"\n",
    "\n",
    "\n",
    "with connect_to_DB() as conn:\n",
    "    with conn.cursor() as cursor:\n",
    "        cursor.execute(q)\n",
    "        print(cursor.fetchall())"
   ]
  },
  {
   "cell_type": "markdown",
   "metadata": {},
   "source": [
    "## 2. Get Tables"
   ]
  },
  {
   "cell_type": "code",
   "execution_count": 118,
   "metadata": {},
   "outputs": [
    {
     "name": "stderr",
     "output_type": "stream",
     "text": [
      "\n",
      "0it [00:00, ?it/s]\u001b[A"
     ]
    },
    {
     "name": "stdout",
     "output_type": "stream",
     "text": [
      "SELECT  * FROM ClassificationXRefs TABLESAMPLE (500 ROWS);\n"
     ]
    },
    {
     "name": "stderr",
     "output_type": "stream",
     "text": [
      "\n",
      "1it [00:02,  2.02s/it]\u001b[A"
     ]
    },
    {
     "name": "stdout",
     "output_type": "stream",
     "text": [
      "SELECT  * FROM Departments TABLESAMPLE (500 ROWS);\n"
     ]
    },
    {
     "name": "stderr",
     "output_type": "stream",
     "text": [
      "\n",
      "2it [00:02,  1.00it/s]\u001b[A"
     ]
    },
    {
     "name": "stdout",
     "output_type": "stream",
     "text": [
      "SELECT  * FROM Objects TABLESAMPLE (500 ROWS);\n"
     ]
    },
    {
     "name": "stderr",
     "output_type": "stream",
     "text": [
      "\n",
      "3it [00:17,  7.36s/it]\u001b[A"
     ]
    },
    {
     "name": "stdout",
     "output_type": "stream",
     "text": [
      "SELECT  * FROM Classifications TABLESAMPLE (500 ROWS);\n"
     ]
    },
    {
     "name": "stderr",
     "output_type": "stream",
     "text": [
      "\n",
      "4it [00:17,  4.39s/it]\u001b[A\n"
     ]
    }
   ],
   "source": [
    "with connect_to_DB() as conn:\n",
    "    tables = {t[1][0]: table_to_DataFrame(conn, t[1][0], random_n=500) for t in tqdm(tables.iterrows())}"
   ]
  },
  {
   "cell_type": "markdown",
   "metadata": {},
   "source": [
    "## 2.1 Compute Expected Maximal Memory Sizes of Full Tables "
   ]
  },
  {
   "cell_type": "code",
   "execution_count": 119,
   "metadata": {},
   "outputs": [
    {
     "name": "stdout",
     "output_type": "stream",
     "text": [
      "ClassificationXRefs\n",
      "\t 158.71046770601336 \tMB predicted\n",
      "\n",
      "Departments\n",
      "\t 300.7086247086247 \tMB predicted\n",
      "\n",
      "Objects\n",
      "\t 2693.643717728055 \tMB predicted\n",
      "\n",
      "Classifications\n",
      "\t 438.51674641148327 \tMB predicted\n",
      "\n"
     ]
    }
   ],
   "source": [
    "for t, df in tables.items():\n",
    "    print(t)\n",
    "    print(\"\\t\", df.memory_usage(deep=True).sum()/df.shape[0]*1e6/1e6, \"\\tMB predicted\")\n",
    "    print()"
   ]
  },
  {
   "cell_type": "markdown",
   "metadata": {},
   "source": [
    "## 2.2 Column Names"
   ]
  },
  {
   "cell_type": "code",
   "execution_count": 120,
   "metadata": {},
   "outputs": [
    {
     "name": "stdout",
     "output_type": "stream",
     "text": [
      "\n",
      " ClassificationXRefs\n",
      "\t Index(['ClassificationXRefID', 'ClassificationID', 'ID', 'TableID', 'LoginID',\n",
      "       'EnteredDate', 'DisplayOrder', 'GSRowVersion'],\n",
      "      dtype='object')\n",
      "\n",
      " Departments\n",
      "\t Index(['DepartmentID', 'Department', 'Mnemonic', 'InputID', 'LoginID',\n",
      "       'EnteredDate', 'NumRandomObjs', 'DefaultFormID', 'MainTableID',\n",
      "       'GSRowVersion'],\n",
      "      dtype='object')\n",
      "\n",
      " Objects\n",
      "\t Index(['ObjectID', 'ObjectNumber', 'SortNumber', 'ObjectCount', 'DepartmentID',\n",
      "       'ObjectStatusID', 'ClassificationID', 'SubClassID', 'Type',\n",
      "       'LoanClassID', 'DateBegin', 'DateEnd', 'ObjectName', 'Dated', 'Title',\n",
      "       'Medium', 'Dimensions', 'Signed', 'Inscribed', 'Markings', 'CreditLine',\n",
      "       'Chat', 'DimensionRemarks', 'Description', 'Exhibitions', 'Provenance',\n",
      "       'PubReferences', 'Notes', 'CuratorialRemarks', 'RelatedWorks',\n",
      "       'Portfolio', 'PublicAccess', 'CuratorApproved', 'OnView',\n",
      "       'TextSearchID', 'LoginID', 'EnteredDate', 'Accountability',\n",
      "       'PaperFileRef', 'ObjectLevelID', 'ObjectTypeID', 'ObjectScreenID',\n",
      "       'UserNumber1', 'UserNumber2', 'UserNumber3', 'UserNumber4',\n",
      "       'ObjectNameID', 'ObjectNameAltID', 'UserDate1', 'UserDate2',\n",
      "       'UserDate3', 'UserDate4', 'State', 'CatRais', 'HistAttributions',\n",
      "       'Bibliography', 'Negative', 'LoanClass', 'Edition', 'Cataloguer',\n",
      "       'Curator', 'PaperSupport', 'IsVirtual', 'CatalogueISODate',\n",
      "       'CuratorRevISODate', 'IsTemplate', 'ObjectNumber2', 'SortNumber2',\n",
      "       'DateRemarks', 'DateEffectiveISODate', 'PhysicalParentID',\n",
      "       'InJurisdiction', 'SearchObjectNumber', 'RMID', 'AMID', 'GSRowVersion',\n",
      "       'SortSearchNumber', 'ConservationEntityID', 'WMID', 'BeginISODate',\n",
      "       'EndISODate'],\n",
      "      dtype='object')\n",
      "\n",
      " Classifications\n",
      "\t Index(['ClassificationID', 'Classification', 'AATID', 'AATCN', 'SourceID',\n",
      "       'LoginID', 'EnteredDate', 'SubClassification', 'SubClassification2',\n",
      "       'SubClassification3', 'GSRowVersion'],\n",
      "      dtype='object')\n"
     ]
    }
   ],
   "source": [
    "for t, df in tables.items():\n",
    "    print(\"\\n\", t)\n",
    "    print(\"\\t\", df.columns)"
   ]
  },
  {
   "cell_type": "code",
   "execution_count": 131,
   "metadata": {},
   "outputs": [
    {
     "name": "stdout",
     "output_type": "stream",
     "text": [
      "ClassificationXRefs  (449, 8) (rows, cols)\n",
      "ClassificationXRefID    449\n",
      "ClassificationID          9\n",
      "ID                      449\n",
      "TableID                   1\n",
      "LoginID                   3\n",
      "EnteredDate             114\n",
      "DisplayOrder              1\n",
      "GSRowVersion            449\n",
      "dtype: int64\n",
      "\n",
      "Departments  (429, 10) (rows, cols)\n",
      "DepartmentID      39\n",
      "Department        18\n",
      "Mnemonic          18\n",
      "InputID            1\n",
      "LoginID            7\n",
      "EnteredDate       32\n",
      "NumRandomObjs      2\n",
      "DefaultFormID      2\n",
      "MainTableID        9\n",
      "GSRowVersion     429\n",
      "dtype: int64\n",
      "\n",
      "Objects  (581, 81) (rows, cols)\n",
      "ObjectID                581\n",
      "ObjectNumber            581\n",
      "SortNumber              581\n",
      "ObjectCount              11\n",
      "DepartmentID             13\n",
      "                       ... \n",
      "SortSearchNumber        581\n",
      "ConservationEntityID    581\n",
      "WMID                     81\n",
      "BeginISODate             72\n",
      "EndISODate               85\n",
      "Length: 81, dtype: int64\n",
      "\n",
      "Classifications  (418, 11) (rows, cols)\n",
      "ClassificationID       38\n",
      "Classification          8\n",
      "AATID                   2\n",
      "AATCN                  38\n",
      "SourceID                1\n",
      "LoginID                 7\n",
      "EnteredDate            18\n",
      "SubClassification      17\n",
      "SubClassification2     15\n",
      "SubClassification3      1\n",
      "GSRowVersion          418\n",
      "dtype: int64\n",
      "\n"
     ]
    }
   ],
   "source": [
    "for t, df in tables.items():\n",
    "    print(t, f\" {df.shape} (rows, cols)\")\n",
    "    print(df.apply(lambda col: len(col.unique()), axis=0))\n",
    "#     plt.show()\n",
    "    print()"
   ]
  },
  {
   "cell_type": "markdown",
   "metadata": {},
   "source": [
    "## 3. Construct Smaller DFs by Selecting Relevant Columns\n",
    "\n",
    "### Classifications\n",
    "\n",
    "| Field  | Meaning  | Values\n",
    "|---|---|---|\n",
    "| ClassificationID  | Used to link entries in `ClassificationXRefs`  | int, unique |\n",
    "| Classification  | Actual class values | (string, 8 levels, most common 'Documentatie')  |\n",
    "| AATCN |  Classification into types of objects | (string, 38 levels, uniform, e.g. 'Boeken') |\n",
    "| SubClassification | Extra classifications | (string, 16 levels, most common 'Audiovisueel') |\n",
    "| SubClassification2 | More extra classifications | (string, 14 levels, uniform, e.g. 'Drukwerk') |\n",
    "\n",
    "<br>\n",
    "\n",
    " - `SubClassification3` is empty\n",
    " - idea: create tuple of `(Classification, SubClassification, SubClassification2)` as the single classification feature\n",
    " \n",
    "\n",
    "### ClassificationXRefs\n",
    "\n",
    "| Field  | Meaning  | Values\n",
    "|---|---|---|\n",
    "| ClassificationXRefID  | Only used in this table?  | int, unique |\n",
    "| ClassificationID  | Used to link entries in `Classifications` | correspond to values of <br> `Classifications.Classification`, non-uniform counts  |\n",
    "| ID |  Uned to link entries in `Objects` | correspond to values of `Objects.ID`, uniform |\n",
    "| TableID | ID of this table (for other contexts) | single value: 108 |\n",
    "\n",
    "\n",
    "\n",
    " \n",
    "### Departments\n",
    "\n",
    "| Field  | Meaning  | Values\n",
    "|---|---|---|\n",
    "| DepartmentID  | Used to link entries in Objects  | int, unique |\n",
    "| Department  | Actual department names | (int, 18 levels, most not assigned, others uniform)  |\n",
    "| Mnemonic |  Shorthand for the departmant name (field Department) | (same as Department) |\n",
    "\n",
    "<br>\n",
    "\n",
    " - is `MainTableID` the ID of the departments in the main table? -> would be useful in that case for unification\n",
    "\n",
    "\n",
    "### Objects\n",
    "\n",
    "\n",
    "| Field  | Meaning  | Values\n",
    "|---|---|---|\n",
    "| ObjectID  | Linked to entries in `ClassificationXRefs`  | int, unique |\n",
    "| DepartmentID  | Linked to entries in `Departments` | corresponds to `Departments.DepartmentID`  |\n",
    "| ClassificationID |  Linked to entries in `Classifications` <br>and `ClassificationXRefs` | corresponds to `ClassificationID` in both tables |\n",
    "| ObjectName | Name of the type of object | (string, 163 levels, most common 'Foto') |\n",
    "| Title | The object's title | string |\n",
    "| Description | The object's description | string |\n",
    "| Provenance | Description of the object's history | string |\n",
    "\n",
    "\n",
    "<br>\n",
    "\n",
    " - `ObjectNumber` seems to be an external ID for objects (is unique, has prefixes such as \"TM\", \"RV\", \"NL\")\n",
    " - `SortNumber` is similar to `ObjectNumber`\n",
    " - what does `ObjectCount` indicate? does `ObjectCount > 1` imply that entries should be merged?\n",
    " - what do `DateBegin` and `DateEnd` refer to? (most objects have `DateEnd == DateBegin`, latest date is 1990)\n",
    " - same for `Dated` -> which date is this?\n",
    " - technical properties:\n",
    "     - Medium is the object's material\n",
    "     - Dimensions\n",
    "     - Signed, Inscribed, Markings\n",
    "     - CreditLine: by whome the object was given\n",
    " - Exhibitions: Title of the exhibition the object was displayed at\n",
    " - Provenance: Description of how the object was acquired by the museum\n",
    "     \n",
    "     \n",
    "\n",
    "\n",
    "\n",
    "'PubReferences', 'Notes', 'CuratorialRemarks', 'RelatedWorks',\n",
    "       'Portfolio', 'PublicAccess', 'CuratorApproved', 'OnView',\n",
    "       'TextSearchID', 'LoginID', 'EnteredDate', 'Accountability',\n",
    "       'PaperFileRef', 'ObjectLevelID', 'ObjectTypeID', 'ObjectScreenID',\n",
    "       'UserNumber1', 'UserNumber2', 'UserNumber3', 'UserNumber4',\n",
    "       'ObjectNameID', 'ObjectNameAltID', 'UserDate1', 'UserDate2',\n",
    "       'UserDate3', 'UserDate4', 'State', 'CatRais', 'HistAttributions',\n",
    "       'Bibliography', 'Negative', 'LoanClass', 'Edition', 'Cataloguer',\n",
    "       'Curator', 'PaperSupport', 'IsVirtual', 'CatalogueISODate',\n",
    "       'CuratorRevISODate', 'IsTemplate', 'ObjectNumber2', 'SortNumber2',\n",
    "       'DateRemarks', 'DateEffectiveISODate', 'PhysicalParentID',\n",
    "       'InJurisdiction', 'SearchObjectNumber', 'RMID', 'AMID', 'GSRowVersion',\n",
    "       'SortSearchNumber', 'ConservationEntityID', 'WMID', 'BeginISODate',\n",
    "       'EndISODate'\n",
    "\n",
    "\n",
    "\n",
    "\n",
    "\n",
    "\n",
    "\n",
    "\n",
    "\n",
    "\n",
    "\n",
    "\n",
    "\n",
    "#### Other Notes\n",
    "\n",
    " - `EnteredDate` is in all tables, earliest values around 1995, not uniformly distributed"
   ]
  },
  {
   "cell_type": "code",
   "execution_count": 240,
   "metadata": {},
   "outputs": [
    {
     "data": {
      "text/plain": [
       "Bruikleen 1884                                                                                                                                                                                                                                                                                                                                                                                                                                                                                                                                                                                                                                                                                                                                                                                                                                                   8\n",
       "Pater Rafael Verbois, een misssionaris uit Scheut (Anderlecht) in Belgie, was actief in Jehol in Binnen Mongolie (nu Chengde in China) tussen 1910 en 1939                                                                                                                                                                                                                                                                                                                                                                                                                                                                                                                                                                                                                                                                                                       6\n",
       "De objecten in deze serie zijn in opdracht van het museum verzameld door de heren Dr. J.Th. Broekhuijse en drs. F.M. Cowan.                                                                                                                                                                                                                                                                                                                                                                                                                                                                                                                                                                                                                                                                                                                                      6\n",
       "Aangekocht tijdens reis in West-Afrika door C. Op 't Land.                                                                                                                                                                                                                                                                                                                                                                                                                                                                                                                                                                                                                                                                                                                                                                                                       5\n",
       "Schenker: Staring Centrum                                                                                                                                                                                                                                                                                                                                                                                                                                                                                                                                                                                                                                                                                                                                                                                                                                        5\n",
       "'negrophilia' verzameld door Felix de Rooy. In langdruige bruikleen van het Wereldmuseum Rotterdam.                                                                                                                                                                                                                                                                                                                                                                                                                                                                                                                                                                                                                                                                                                                                                              4\n",
       "Dit voorwerp werd door het Koloniaal Museum Haarlem in 1884 verkregen van C.J. de Jaager.                                                                                                                                                                                                                                                                                                                                                                                                                                                                                                                                                                                                                                                                                                                                                                        4\n",
       "Dit archiefstuk is afkomstig uit het KIT-archief, waarin het archief van het Tropenmuseum vervlochten is. In 2016 is een kopie van de gedigitaliseerde archiefstukken - in PDF en JPG2000, inclusief inventaris - overgedragen door het Koninklijk Instituut voor de Tropen, ter documentie van de Tropenmuseum-collectie.                                                                                                                                                                                                                                                                                                                                                                                                                                                                                                                                       3\n",
       "Zou volgens oude register retour eigenaar zijn (1917). [REG]                                                                                                                                                                                                                                                                                                                                                                                                                                                                                                                                                                                                                                                                                                                                                                                                     3\n",
       "De gehele collectie 4665* is gekocht van Dr. Eberhard Fischer die haar ter plekke in Gujarat heeft aangeschaft en een deel zelf heeft gebruikt en gehouden voor het Rietberg Museum te Zürich.\\r\\nDe collectie is verzameld in een 15-tal plaatsen in Gujarat. Sommige dorpjes zijn zo klein dat deze niet vielen te traceren. De plaatsen die waren te lokaliseren liggen alle in Zuidoost Gujarat, bij Bharuch en Surat.                                                                                                                                                                                                                                                                                                                                                                                                                                       3\n",
       "Was door het Onderwijscentrum Utrecht ondergebracht bij het Hendrik van der Vlist College. Het Onderwijscentrum heeft de Lorentz-collectie in 1965 voor een symbolisch bedrag van fl. 250,-- aangekocht van mevr. Tissot-Imminck (aangetrouwde familie van dhr. Lorentz). Deze voorwerpen zijn waarschijnlijk verzameld tijdens de 2e Lorentz-expeditie in 1909. Zie verder dossier SAC.                                                                                                                                                                                                                                                                                                                                                                                                                                                                         3\n",
       "Bruikleen 1884.                                                                                                                                                                                                                                                                                                                                                                                                                                                                                                                                                                                                                                                                                                                                                                                                                                                  2\n",
       "Ongenummerd in de collectie aangetroffen en in 1992 genummerd.                                                                                                                                                                                                                                                                                                                                                                                                                                                                                                                                                                                                                                                                                                                                                                                                   1\n",
       "Dit voorwerp werd door het Koloniaal Museum Haarlem in 1906 verkregen van Dhr.J.Th.Petrus (Controleur B.B. met verlof) Amsterdam.                                                                                                                                                                                                                                                                                                                                                                                                                                                                                                                                                                                                                                                                                                                                1\n",
       "Verzamelreis A. Djajasoebrata.                                                                                                                                                                                                                                                                                                                                                                                                                                                                                                                                                                                                                                                                                                                                                                                                                                   1\n",
       "De armband werd op 16 april gekocht van Aipisi uit Sikal, die hem van zijn vadersvader Vulum, inmiddels overleden, had gekregen. \\r\\nFoto: D 1968. 5. 15.\\r\\nDiaserie: zie kaart 206.\\r\\nOud nummer: K 273.\\r\\n                                                                                                                                                                                                                                                                                                                                                                                                                                                                                                                                                                                                                                                  1\n",
       "Provenance: schenking mevrouw H Hogestein-Vrijberg.\\r\\n\\r\\nVerhaal: Tekst in verweringsvoorstel:  Dit type \"sandalen\", waarvoor het loopvlak van polychroom beschilderd en in bas-relief gesneden hout is werd tijdens de Japanse bezetting gelanceerd, omstreeks 1942. Ze zijn specifiek voor het gebied Priangan in West-Java, maar werden ook naar elders geëxporteerd, binnen en buiten Indonesie.  Het werd al gauw een enorme rage, die zich ook tot in de jaren vijftig van de 20e eeuw voortzette onder de naam \"kelom quelis\" d.w.z. \"mooie dames muilen\". Ze zijn specifiek voor  het gebied Priangan, West-Java, maar ze werden ook naar elders geëxporteerd. Ze horen bij de als glamorous aangemerkte outfit van West-Javaanse vrouwen uit die tijd. Daarvan zijn wel batiks en parasols die daarbij horen, in de collectie.\\r\\nLH14-11-2018\\r\\n    1\n",
       "Verzamelreis Maleisie door A. Djajasoebrata.                                                                                                                                                                                                                                                                                                                                                                                                                                                                                                                                                                                                                                                                                                                                                                                                                     1\n",
       "In het schenkingsboek van het Fotobureau staat vermeld dat op 6 januari 1929 een serie van 160 glasnegatieven werd geschonken door het Koninklijk Instituut voor Taal-, Land- en Volkenkunde te Leiden via Theodoor van Erp van de verborgen voet van de Borobudur.\\r\\nAnno 2006 bevinden zich nog 156 glasnegatieven in de collectie van het KIT Tropenmuseum. \\r\\n\\r\\n\\r\\n\\r\\n\\r\\n                                                                                                                                                                                                                                                                                                                                                                                                                                                                             1\n",
       "Schenker: Sieger, Dr.                                                                                                                                                                                                                                                                                                                                                                                                                                                                                                                                                                                                                                                                                                                                                                                                                                            1\n",
       "Schenker: Neervoort v.d. Poll H.J.                                                                                                                                                                                                                                                                                                                                                                                                                                                                                                                                                                                                                                                                                                                                                                                                                               1\n",
       "Schenker: Bongers, H.; 1928  Sch.N.4/43  (No.12 a/3)                                                                                                                                                                                                                                                                                                                                                                                                                                                                                                                                                                                                                                                                                                                                                                                                             1\n",
       "De datering is gebaseerd op de gegevens uit de correspondentie met de N.A.M. uit 1884 en 1885. De heer Marenssen verbleef in dienst van de NAHV aan de Zuid west kust van Afrika (Congo-rivier) hier heeft hij ook zijn verzameling bijeengebracht. In de personeelsboeken is hij niet terug te vinden, maar uit zijn correspondentie blijkt hij wel degelijk in dienst van deze maatschappij geweest te zijn.                                                                                                                                                                                                                                                                                                                                                                                                                                                   1\n",
       "De schenking is tot stand gekomen via de heer H. Muller Sz.                                                                                                                                                                                                                                                                                                                                                                                                                                                                                                                                                                                                                                                                                                                                                                                                      1\n",
       "Dit voorwerp werd door het Koloniaal Museum Haarlem in 1884 verkregen \\r\\nC.J. de Jaager.                                                                                                                                                                                                                                                                                                                                                                                                                                                                                                                                                                                                                                                                                                                                                                        1\n",
       "Object is afkomstig uit een oude Franse collectie en reeds lange tijd in Europa, maar niet te achterhalen of de datum net wel of net niet voor 1970 valt.                                                                                                                                                                                                                                                                                                                                                                                                                                                                                                                                                                                                                                                                                                        1\n",
       "In 1973 opgenomen onder serienummer 4108 na zonder nummer te zijn aangetroffen in depot 'Brussel'. Bij het beschrijven kwam het originele serienummer 2356 tevoorschijn. In 2002 weer onder hun oorspronkelijke serienummer en bijbehorende gegevens opgenomen.                                                                                                                                                                                                                                                                                                                                                                                                                                                                                                                                                                                                  1\n",
       "De lamp is gekocht op de markt in Mumias.                                                                                                                                                                                                                                                                                                                                                                                                                                                                                                                                                                                                                                                                                                                                                                                                                        1\n",
       "Eén exemplaar geruild met de heer L. Frobenius, Leipzig, 1898-05-23                                                                                                                                                                                                                                                                                                                                                                                                                                                                                                                                                                                                                                                                                                                                                                                              1\n",
       "N.B.                                                                                                                                                                                                                                                                                                                                                                                                                                                                                                                                                                                                                                                                                                                                                                                                                                                             1\n",
       "Schenker: de Bussy, Dr. L.Ph.                                                                                                                                                                                                                                                                                                                                                                                                                                                                                                                                                                                                                                                                                                                                                                                                                                    1\n",
       "Een geschenk tijdens de Anatolie-expeditie van de timmerman Ismailoglu Ali Cakica te Turbe, bij Milas, Orta Koyumtere, die het stuk lang geleden vervaardigd had.                                                                                                                                                                                                                                                                                                                                                                                                                                                                                                                                                                                                                                                                                                1\n",
       "In opdracht van G. Tillmann verzameld via C.M.A. Groenevelt in 1937, en is afkomstig uit de verzameling Blanken (Jakarta); de foto in het boek Beyond the Java Sea toont dit masker op een foto van de heer W. Blanke uit 1935. Daar wordt echter gesteld dat het Centraal Nias is, waar de foto genomen is.                                                                                                                                                                                                                                                                                                                                                                                                                                                                                                                                                     1\n",
       "Name: Provenance, dtype: int64"
      ]
     },
     "execution_count": 240,
     "metadata": {},
     "output_type": "execute_result"
    }
   ],
   "source": [
    "tables[\"Objects\"].Provenance.value_counts() #.apply(lambda on: on.split(\"-\")[0])"
   ]
  },
  {
   "cell_type": "code",
   "execution_count": 209,
   "metadata": {},
   "outputs": [
    {
     "data": {
      "text/plain": [
       "[None,\n",
       " None,\n",
       " None,\n",
       " None,\n",
       " None,\n",
       " None,\n",
       " None,\n",
       " None,\n",
       " None,\n",
       " None,\n",
       " '96. TATAUIERTER JÜNGLING.',\n",
       " 'BILD 20. GESTALT EINER SAMOANERIN VON HINTEN.']"
      ]
     },
     "execution_count": 209,
     "metadata": {},
     "output_type": "execute_result"
    }
   ],
   "source": [
    "list(tables[\"Objects\"][tables[\"Objects\"].ObjectCount == 2].Title)"
   ]
  },
  {
   "cell_type": "code",
   "execution_count": 169,
   "metadata": {},
   "outputs": [
    {
     "data": {
      "text/html": [
       "<div>\n",
       "<style scoped>\n",
       "    .dataframe tbody tr th:only-of-type {\n",
       "        vertical-align: middle;\n",
       "    }\n",
       "\n",
       "    .dataframe tbody tr th {\n",
       "        vertical-align: top;\n",
       "    }\n",
       "\n",
       "    .dataframe thead th {\n",
       "        text-align: right;\n",
       "    }\n",
       "</style>\n",
       "<table border=\"1\" class=\"dataframe\">\n",
       "  <thead>\n",
       "    <tr style=\"text-align: right;\">\n",
       "      <th></th>\n",
       "      <th>ClassificationID</th>\n",
       "      <th>Classification</th>\n",
       "      <th>AATID</th>\n",
       "      <th>AATCN</th>\n",
       "      <th>SourceID</th>\n",
       "      <th>LoginID</th>\n",
       "      <th>EnteredDate</th>\n",
       "      <th>SubClassification</th>\n",
       "      <th>SubClassification2</th>\n",
       "      <th>SubClassification3</th>\n",
       "      <th>GSRowVersion</th>\n",
       "    </tr>\n",
       "  </thead>\n",
       "  <tbody>\n",
       "    <tr>\n",
       "      <th>36</th>\n",
       "      <td>156</td>\n",
       "      <td>Materiële cultuurcollectie</td>\n",
       "      <td>NaN</td>\n",
       "      <td>Voorwerpen</td>\n",
       "      <td>None</td>\n",
       "      <td>xmarjob</td>\n",
       "      <td>2005-03-02 13:01:27.290</td>\n",
       "      <td>None</td>\n",
       "      <td>None</td>\n",
       "      <td>None</td>\n",
       "      <td>b'\\x00\\x00\\x00\\x00\\x01c\\x9a\\xa0'</td>\n",
       "    </tr>\n",
       "    <tr>\n",
       "      <th>62</th>\n",
       "      <td>156</td>\n",
       "      <td>Materiële cultuurcollectie</td>\n",
       "      <td>NaN</td>\n",
       "      <td>Voorwerpen</td>\n",
       "      <td>None</td>\n",
       "      <td>xmarjob</td>\n",
       "      <td>2005-03-02 13:01:27.290</td>\n",
       "      <td>None</td>\n",
       "      <td>None</td>\n",
       "      <td>None</td>\n",
       "      <td>b'\\x00\\x00\\x00\\x00\\x01\\x00\\xa9\\xf3'</td>\n",
       "    </tr>\n",
       "    <tr>\n",
       "      <th>100</th>\n",
       "      <td>156</td>\n",
       "      <td>Materiële cultuurcollectie</td>\n",
       "      <td>NaN</td>\n",
       "      <td>Voorwerpen</td>\n",
       "      <td>None</td>\n",
       "      <td>xmarjob</td>\n",
       "      <td>2005-03-02 13:01:27.290</td>\n",
       "      <td>None</td>\n",
       "      <td>None</td>\n",
       "      <td>None</td>\n",
       "      <td>b'\\x00\\x00\\x00\\x00\\x01!\\xd2\\x94'</td>\n",
       "    </tr>\n",
       "    <tr>\n",
       "      <th>138</th>\n",
       "      <td>156</td>\n",
       "      <td>Materiële cultuurcollectie</td>\n",
       "      <td>NaN</td>\n",
       "      <td>Voorwerpen</td>\n",
       "      <td>None</td>\n",
       "      <td>xmarjob</td>\n",
       "      <td>2005-03-02 13:01:27.290</td>\n",
       "      <td>None</td>\n",
       "      <td>None</td>\n",
       "      <td>None</td>\n",
       "      <td>b'\\x00\\x00\\x00\\x00\\x01B\\xa9e'</td>\n",
       "    </tr>\n",
       "    <tr>\n",
       "      <th>188</th>\n",
       "      <td>156</td>\n",
       "      <td>Materiële cultuurcollectie</td>\n",
       "      <td>NaN</td>\n",
       "      <td>Voorwerpen</td>\n",
       "      <td>None</td>\n",
       "      <td>xmarjob</td>\n",
       "      <td>2005-03-02 13:01:27.290</td>\n",
       "      <td>None</td>\n",
       "      <td>None</td>\n",
       "      <td>None</td>\n",
       "      <td>b'\\x00\\x00\\x00\\x00\\x00\\x19\\xac\\x93'</td>\n",
       "    </tr>\n",
       "    <tr>\n",
       "      <th>226</th>\n",
       "      <td>156</td>\n",
       "      <td>Materiële cultuurcollectie</td>\n",
       "      <td>NaN</td>\n",
       "      <td>Voorwerpen</td>\n",
       "      <td>None</td>\n",
       "      <td>xmarjob</td>\n",
       "      <td>2005-03-02 13:01:27.290</td>\n",
       "      <td>None</td>\n",
       "      <td>None</td>\n",
       "      <td>None</td>\n",
       "      <td>b'\\x00\\x00\\x00\\x00\\x00:\\xaa\\xb6'</td>\n",
       "    </tr>\n",
       "    <tr>\n",
       "      <th>264</th>\n",
       "      <td>156</td>\n",
       "      <td>Materiële cultuurcollectie</td>\n",
       "      <td>NaN</td>\n",
       "      <td>Voorwerpen</td>\n",
       "      <td>None</td>\n",
       "      <td>xmarjob</td>\n",
       "      <td>2005-03-02 13:01:27.290</td>\n",
       "      <td>None</td>\n",
       "      <td>None</td>\n",
       "      <td>None</td>\n",
       "      <td>b'\\x00\\x00\\x00\\x00\\x00[\\xa8\\xd5'</td>\n",
       "    </tr>\n",
       "    <tr>\n",
       "      <th>302</th>\n",
       "      <td>156</td>\n",
       "      <td>Materiële cultuurcollectie</td>\n",
       "      <td>NaN</td>\n",
       "      <td>Voorwerpen</td>\n",
       "      <td>None</td>\n",
       "      <td>xmarjob</td>\n",
       "      <td>2005-03-02 13:01:27.290</td>\n",
       "      <td>None</td>\n",
       "      <td>None</td>\n",
       "      <td>None</td>\n",
       "      <td>b'\\x00\\x00\\x00\\x00\\x00|\\xa6\\xf4'</td>\n",
       "    </tr>\n",
       "    <tr>\n",
       "      <th>340</th>\n",
       "      <td>156</td>\n",
       "      <td>Materiële cultuurcollectie</td>\n",
       "      <td>NaN</td>\n",
       "      <td>Voorwerpen</td>\n",
       "      <td>None</td>\n",
       "      <td>xmarjob</td>\n",
       "      <td>2005-03-02 13:01:27.290</td>\n",
       "      <td>None</td>\n",
       "      <td>None</td>\n",
       "      <td>None</td>\n",
       "      <td>b'\\x00\\x00\\x00\\x00\\x00\\x9d\\xa5\\x14'</td>\n",
       "    </tr>\n",
       "    <tr>\n",
       "      <th>383</th>\n",
       "      <td>156</td>\n",
       "      <td>Materiële cultuurcollectie</td>\n",
       "      <td>NaN</td>\n",
       "      <td>Voorwerpen</td>\n",
       "      <td>None</td>\n",
       "      <td>xmarjob</td>\n",
       "      <td>2005-03-02 13:01:27.290</td>\n",
       "      <td>None</td>\n",
       "      <td>None</td>\n",
       "      <td>None</td>\n",
       "      <td>b'\\x00\\x00\\x00\\x00\\x00\\xbe\\xa3\\x0c'</td>\n",
       "    </tr>\n",
       "    <tr>\n",
       "      <th>416</th>\n",
       "      <td>156</td>\n",
       "      <td>Materiële cultuurcollectie</td>\n",
       "      <td>NaN</td>\n",
       "      <td>Voorwerpen</td>\n",
       "      <td>None</td>\n",
       "      <td>xmarjob</td>\n",
       "      <td>2005-03-02 13:01:27.290</td>\n",
       "      <td>None</td>\n",
       "      <td>None</td>\n",
       "      <td>None</td>\n",
       "      <td>b'\\x00\\x00\\x00\\x00\\x00\\xdf\\xa2\\x0f'</td>\n",
       "    </tr>\n",
       "  </tbody>\n",
       "</table>\n",
       "</div>"
      ],
      "text/plain": [
       "     ClassificationID              Classification  AATID       AATCN SourceID  \\\n",
       "36                156  Materiële cultuurcollectie    NaN  Voorwerpen     None   \n",
       "62                156  Materiële cultuurcollectie    NaN  Voorwerpen     None   \n",
       "100               156  Materiële cultuurcollectie    NaN  Voorwerpen     None   \n",
       "138               156  Materiële cultuurcollectie    NaN  Voorwerpen     None   \n",
       "188               156  Materiële cultuurcollectie    NaN  Voorwerpen     None   \n",
       "226               156  Materiële cultuurcollectie    NaN  Voorwerpen     None   \n",
       "264               156  Materiële cultuurcollectie    NaN  Voorwerpen     None   \n",
       "302               156  Materiële cultuurcollectie    NaN  Voorwerpen     None   \n",
       "340               156  Materiële cultuurcollectie    NaN  Voorwerpen     None   \n",
       "383               156  Materiële cultuurcollectie    NaN  Voorwerpen     None   \n",
       "416               156  Materiële cultuurcollectie    NaN  Voorwerpen     None   \n",
       "\n",
       "     LoginID             EnteredDate SubClassification SubClassification2  \\\n",
       "36   xmarjob 2005-03-02 13:01:27.290              None               None   \n",
       "62   xmarjob 2005-03-02 13:01:27.290              None               None   \n",
       "100  xmarjob 2005-03-02 13:01:27.290              None               None   \n",
       "138  xmarjob 2005-03-02 13:01:27.290              None               None   \n",
       "188  xmarjob 2005-03-02 13:01:27.290              None               None   \n",
       "226  xmarjob 2005-03-02 13:01:27.290              None               None   \n",
       "264  xmarjob 2005-03-02 13:01:27.290              None               None   \n",
       "302  xmarjob 2005-03-02 13:01:27.290              None               None   \n",
       "340  xmarjob 2005-03-02 13:01:27.290              None               None   \n",
       "383  xmarjob 2005-03-02 13:01:27.290              None               None   \n",
       "416  xmarjob 2005-03-02 13:01:27.290              None               None   \n",
       "\n",
       "    SubClassification3                         GSRowVersion  \n",
       "36                None     b'\\x00\\x00\\x00\\x00\\x01c\\x9a\\xa0'  \n",
       "62                None  b'\\x00\\x00\\x00\\x00\\x01\\x00\\xa9\\xf3'  \n",
       "100               None     b'\\x00\\x00\\x00\\x00\\x01!\\xd2\\x94'  \n",
       "138               None        b'\\x00\\x00\\x00\\x00\\x01B\\xa9e'  \n",
       "188               None  b'\\x00\\x00\\x00\\x00\\x00\\x19\\xac\\x93'  \n",
       "226               None     b'\\x00\\x00\\x00\\x00\\x00:\\xaa\\xb6'  \n",
       "264               None     b'\\x00\\x00\\x00\\x00\\x00[\\xa8\\xd5'  \n",
       "302               None     b'\\x00\\x00\\x00\\x00\\x00|\\xa6\\xf4'  \n",
       "340               None  b'\\x00\\x00\\x00\\x00\\x00\\x9d\\xa5\\x14'  \n",
       "383               None  b'\\x00\\x00\\x00\\x00\\x00\\xbe\\xa3\\x0c'  \n",
       "416               None  b'\\x00\\x00\\x00\\x00\\x00\\xdf\\xa2\\x0f'  "
      ]
     },
     "execution_count": 169,
     "metadata": {},
     "output_type": "execute_result"
    }
   ],
   "source": [
    "tables[\"Classifications\"][tables[\"Classifications\"].ClassificationID == 156]"
   ]
  },
  {
   "cell_type": "code",
   "execution_count": 147,
   "metadata": {},
   "outputs": [
    {
     "name": "stdout",
     "output_type": "stream",
     "text": [
      "2013-03-14 14:31:58.473    117\n",
      "2017-03-24 15:11:18.000    117\n",
      "2014-07-07 15:29:33.970     22\n",
      "2014-07-07 15:29:33.980     21\n",
      "2014-07-07 15:29:33.977     16\n",
      "                          ... \n",
      "2018-07-02 16:51:54.343      1\n",
      "2018-07-02 16:04:26.890      1\n",
      "2018-07-02 16:57:10.930      1\n",
      "2018-07-02 16:04:26.820      1\n",
      "2018-07-02 16:04:26.853      1\n",
      "Name: EnteredDate, Length: 114, dtype: int64\n",
      "\n",
      "2000-10-04 21:25:21.957    77\n",
      "2014-06-04 12:38:16.330    22\n",
      "2014-07-12 08:21:31.713    11\n",
      "2010-07-01 13:14:42.680    11\n",
      "2010-07-01 13:14:42.663    11\n",
      "2010-07-01 13:14:42.710    11\n",
      "2005-03-02 13:18:23.280    11\n",
      "2018-09-25 16:16:38.587    11\n",
      "2017-08-15 06:58:13.463    11\n",
      "2018-04-19 13:24:57.280    11\n",
      "2018-10-02 14:51:29.007    11\n",
      "2014-07-07 12:21:17.173    11\n",
      "2014-07-12 08:22:20.253    11\n",
      "2016-07-09 00:46:37.467    11\n",
      "2005-03-02 09:44:43.723    11\n",
      "1999-12-17 15:10:33.623    11\n",
      "2010-07-01 13:14:42.657    11\n",
      "2010-07-01 13:14:42.620    11\n",
      "2016-07-09 04:20:42.070    11\n",
      "2000-10-04 21:25:21.967    11\n",
      "2010-07-01 13:14:42.720    11\n",
      "2010-07-01 13:14:42.673    11\n",
      "2010-07-01 13:14:42.690    11\n",
      "2005-03-02 09:45:53.567    11\n",
      "2016-08-26 00:00:00.000    11\n",
      "2010-07-01 13:14:42.607    11\n",
      "2010-07-01 13:14:42.777    11\n",
      "2005-03-02 09:44:43.710    11\n",
      "2016-07-09 04:20:40.727    11\n",
      "2010-07-01 13:14:42.613    11\n",
      "2013-03-14 14:32:24.383    11\n",
      "2010-07-01 13:14:42.570    11\n",
      "Name: EnteredDate, dtype: int64\n",
      "\n",
      "1994-01-31 00:00:00.000    45\n",
      "2006-07-24 00:00:00.000    44\n",
      "1993-06-30 00:00:00.000    15\n",
      "1989-10-31 00:00:00.000    13\n",
      "1993-03-31 00:00:00.000    12\n",
      "                           ..\n",
      "2003-11-06 16:00:16.310     1\n",
      "2000-05-01 13:54:52.230     1\n",
      "2002-12-09 17:00:44.607     1\n",
      "2001-08-06 16:16:57.653     1\n",
      "2019-04-01 12:29:32.153     1\n",
      "Name: EnteredDate, Length: 437, dtype: int64\n",
      "\n",
      "2005-03-02 13:01:27.290    165\n",
      "2005-03-02 13:01:27.307     55\n",
      "2015-01-29 00:00:00.000     33\n",
      "2005-03-24 13:11:44.257     11\n",
      "1999-12-17 15:10:33.543     11\n",
      "2020-12-28 11:27:41.483     11\n",
      "2020-12-28 11:25:47.153     11\n",
      "2020-12-28 11:27:02.353     11\n",
      "2020-12-28 11:28:08.513     11\n",
      "2020-12-28 11:28:50.213     11\n",
      "2020-12-28 11:28:38.077     11\n",
      "2020-12-28 11:27:57.680     11\n",
      "2019-07-16 10:08:33.933     11\n",
      "2020-12-28 11:28:20.080     11\n",
      "2005-03-02 13:01:27.277     11\n",
      "2008-02-04 15:58:26.733     11\n",
      "2020-12-28 11:27:32.270     11\n",
      "2007-07-05 09:28:26.190     11\n",
      "Name: EnteredDate, dtype: int64\n",
      "\n"
     ]
    }
   ],
   "source": [
    "# tables[\"Classifications\"]\n",
    "for df in tables.values():\n",
    "    print(df.EnteredDate.value_counts())\n",
    "    print()"
   ]
  },
  {
   "cell_type": "markdown",
   "metadata": {},
   "source": [
    "## 4. Link Tables and Construct Unified Structure\n",
    "\n",
    "\n",
    "\n",
    "|   \t|   \t|   \t|\n",
    "|---\t|---\t|---\t|\n",
    "| `Classifications.ClassificationID` | <---> | `ClassificationXRefs.ClassificationID` |\n",
    "|`ClassificationXRefs.ID` | <---> |`Objects.ObjectID`|\n",
    "|`Objects.DepartmentID` | <---> | `Departments.DepartmentID`|\n",
    "\n",
    "<br>\n",
    "\n",
    " - `[table].TableID` is used to resolve IDs across contexts (i.e. while a certain `ID` is likely not unique across tables, the tuple of `(TableID, ID)` is) -> LET OP: not all tables have a `TableID`\n",
    "\n",
    "\n"
   ]
  },
  {
   "cell_type": "code",
   "execution_count": null,
   "metadata": {},
   "outputs": [],
   "source": []
  },
  {
   "cell_type": "markdown",
   "metadata": {},
   "source": [
    "# 0. Make Connection and List Databases on the Server"
   ]
  },
  {
   "cell_type": "code",
   "execution_count": 29,
   "metadata": {},
   "outputs": [
    {
     "name": "stdout",
     "output_type": "stream",
     "text": [
      "master SQL_Latin1_General_CP1_CI_AS\n",
      "azuredf SQL_Latin1_General_CP1_CI_AS\n"
     ]
    }
   ],
   "source": [
    "with pyodbc.connect('DRIVER='+driver+';SERVER='+server+';PORT=1433;DATABASE='+database+';UID='+username+';PWD='+ password) as conn:\n",
    "    with conn.cursor() as cursor:\n",
    "        cursor.execute(\"SELECT name, collation_name FROM sys.databases\")\n",
    "        row = cursor.fetchone()\n",
    "        while row:\n",
    "            print (str(row[0]) + \" \" + str(row[1]))\n",
    "            row = cursor.fetchone()\n",
    "            "
   ]
  }
 ],
 "metadata": {
  "kernelspec": {
   "display_name": "Python 3",
   "language": "python",
   "name": "python3"
  },
  "language_info": {
   "codemirror_mode": {
    "name": "ipython",
    "version": 3
   },
   "file_extension": ".py",
   "mimetype": "text/x-python",
   "name": "python",
   "nbconvert_exporter": "python",
   "pygments_lexer": "ipython3",
   "version": "3.9.5"
  }
 },
 "nbformat": 4,
 "nbformat_minor": 4
}

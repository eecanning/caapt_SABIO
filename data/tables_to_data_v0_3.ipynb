{
 "cells": [
  {
   "cell_type": "code",
   "execution_count": 1,
   "id": "61810d34",
   "metadata": {},
   "outputs": [],
   "source": [
    "import pandas as pd\n",
    "\n",
    "import os\n",
    "from tqdm import tqdm\n",
    "\n",
    "import matplotlib.pyplot as plt\n",
    "import seaborn as sns\n",
    "\n",
    "from datetime import datetime as dt"
   ]
  },
  {
   "cell_type": "code",
   "execution_count": 2,
   "id": "a0617b0e",
   "metadata": {},
   "outputs": [],
   "source": [
    "tblpath = \"./tables/\"\n",
    "k = 1000000"
   ]
  },
  {
   "cell_type": "markdown",
   "id": "7daba6ff",
   "metadata": {},
   "source": [
    "---\n",
    "# NEW\n",
    "\n",
    "\n",
    "Fix:\n",
    " - columns `RelatedWorks` and `Provenance` have mixed data types (should both be str)  \n",
    "     `pd.read_csv(\"v0.csv.gz\", dtype=dict(Provenance=\"string\", RelatedWorks=\"string\"))`\n",
    "     \n",
    " - get all data types right (`ObjectID` is saved/loaded as float)\n",
    "\n",
    "\n",
    "\n",
    "# 1. Objects"
   ]
  },
  {
   "cell_type": "code",
   "execution_count": 3,
   "id": "6e597e5c",
   "metadata": {},
   "outputs": [
    {
     "name": "stderr",
     "output_type": "stream",
     "text": [
      "/home/valentin/.local/lib/python3.10/site-packages/IPython/core/interactiveshell.py:3457: DtypeWarning: Columns (0,3,4,8,9,10,11,15,17,18,19,20,21,22,24,25,26,27,29,31,32,34,38,39,42,43,46,47,48,49,50,51,52,53,54,55,56,57,58,59,60,61,62,63,64,66,67,68,69,71,79,80) have mixed types.Specify dtype option on import or set low_memory=False.\n",
      "  exec(code_obj, self.user_global_ns, self.user_ns)\n"
     ]
    }
   ],
   "source": [
    "id_fields = [\"DepartmentID\", \"ClassificationID\", \"ObjectName\", # this is the type of object\n",
    "             \"Medium\", \"Provenance\", \"Exhibitions\"]\n",
    "             \n",
    "date_fields = [\"BeginISODate\", \"EndISODate\", \"Dated\"]\n",
    "\n",
    "txt_fields = [\"Title\", \"Description\", \"Notes\", \"CuratorialRemarks\", \"RelatedWorks\", \"HistAttributions\"]\n",
    "\n",
    "relevant_fields = id_fields + date_fields + txt_fields\n",
    "\n",
    "objs = pd.read_csv(tblpath + f\"Objects_{k}.csv.gz\").set_index(\"ObjectID\")[relevant_fields]"
   ]
  },
  {
   "cell_type": "markdown",
   "id": "274db482",
   "metadata": {},
   "source": [
    "# 2. Dates\n",
    "\n",
    "TODO:\n",
    "\n",
    " - ~get rid of objects with `BeginISODate == EndISODate == 0` -> 372k out of 1M~\n",
    " - ~what about objects with `BeginISODate > EndISODate`?  --> remove, 4k out of 1M~\n",
    " - replace objects whose `Dated == [NI]` with `\"{BeginISODate} -- {EndISOdate}\"` (or `\"voor {EndISODate}\"` if `BeginISODate == 0` and same with `\"na {BeginISODate}\"`) -> 190k out of 1M\n",
    " - objects which have dates > 2021 -> 2k out of 1M  \n",
    "   => remove, since all of these are > 5000"
   ]
  },
  {
   "cell_type": "code",
   "execution_count": null,
   "id": "8390c348",
   "metadata": {},
   "outputs": [],
   "source": [
    "def iso_date_to_int(date_col):\n",
    "    d2int = lambda s: int(s.replace(\"1000000\", \"\").replace(\".0\", \"\")[:4])\n",
    "    return date_col.fillna(0).apply(lambda x: d2int(str(x)))\n",
    "\n",
    "new_begin_dates = iso_date_to_int(objs.BeginISODate)\n",
    "new_end_dates = iso_date_to_int(objs.EndISODate)\n",
    "\n",
    "objs[\"BeginISODate\"] = new_begin_dates\n",
    "objs[\"EndISODate\"] = new_end_dates\n",
    "\n",
    "def replaceNI(row):\n",
    "    return f\"{row.BeginISODate} -- {row.EndISODate}\" if row.Dated == \"[NI]\" else row.Dated\n",
    "new_dated = objs.apply(replaceNI, axis=1)\n",
    "objs[\"Dated\"] = new_dated"
   ]
  },
  {
   "cell_type": "code",
   "execution_count": null,
   "id": "275ccab3",
   "metadata": {},
   "outputs": [],
   "source": [
    "# print(((new_begin_dates + new_end_dates) == 0).astype(\"int\").sum(), new_begin_dates.shape[0])\n",
    "# print((new_begin_dates == 0).sum(), (new_end_dates == 0).sum(), objs.shape[0])\n",
    "# print((new_begin_dates > new_end_dates).sum(), objs.shape[0])\n",
    "# print((objs.Dated == \"[NI]\").sum(), objs.shape[0])"
   ]
  },
  {
   "cell_type": "code",
   "execution_count": null,
   "id": "990af8a4",
   "metadata": {
    "scrolled": false
   },
   "outputs": [],
   "source": [
    "objs = objs[objs.BeginISODate < objs.EndISODate]\n",
    "objs = objs[(objs.BeginISODate + objs.EndISODate) > 0]\n",
    "objs = objs[objs.BeginISODate < 2022]\n",
    "objs = objs[objs.EndISODate < 2022]\n",
    "\n",
    "objs = objs[objs.BeginISODate > 0]\n",
    "objs = objs[objs.EndISODate > 0]"
   ]
  },
  {
   "cell_type": "code",
   "execution_count": null,
   "id": "83b53802",
   "metadata": {},
   "outputs": [],
   "source": [
    "sns.jointplot(x=list(objs.BeginISODate), y=list(objs.EndISODate))"
   ]
  },
  {
   "cell_type": "markdown",
   "id": "51694c7a",
   "metadata": {},
   "source": [
    "## Convert Dates to API-required Format\n",
    "\n",
    "from: an integer representing the year to    \n",
    "format: `YYYY-mm-dd`"
   ]
  },
  {
   "cell_type": "code",
   "execution_count": null,
   "id": "01a3b5a1",
   "metadata": {},
   "outputs": [],
   "source": [
    "def to_date_str(year_int):\n",
    "    return dt.strptime(str(year_int).zfill(4),\n",
    "                      \"%Y\").date()\n",
    "\n",
    "objs[\"BeginISODate\"] = objs.BeginISODate.apply(to_date_str)\n",
    "objs[\"EndISODate\"] = objs.EndISODate.apply(to_date_str)\n",
    "\n",
    "# objs[\"start_date\"] = objs.BeginISODate.astype(str).str.zfill(4).apply(lambda s: dt.strptime(s, \"%Y\"))\n",
    "# objs[\"end_date\"] = objs.EndISODate.astype(str).str.zfill(4).apply(lambda s: dt.strptime(s, \"%Y\"))"
   ]
  },
  {
   "cell_type": "markdown",
   "id": "3285ec00",
   "metadata": {},
   "source": [
    "# 3. Classifications"
   ]
  },
  {
   "cell_type": "code",
   "execution_count": null,
   "id": "c117807a",
   "metadata": {},
   "outputs": [],
   "source": [
    "cls_fields = [\"ClassificationID\",\"Classification\", \"AATCN\", \"SubClassification\"] #, \"SubClassification2\"] -> always the same as AATCN when present\n",
    "cls = pd.read_csv(tblpath + \"Classifications.csv.gz\")[cls_fields].set_index(\"ClassificationID\")\n",
    "# clsxr = pd.read_csv(tblpath + f\"ClassificationXRefs_{k}.csv.gz\")"
   ]
  },
  {
   "cell_type": "code",
   "execution_count": null,
   "id": "8369ff66",
   "metadata": {},
   "outputs": [],
   "source": [
    "# need to drop duplicates, otherwise those will duplicate the rows in objs\n",
    "objs = objs.join(cls.drop_duplicates(keep=\"last\"), how=\"left\", on=\"ClassificationID\")"
   ]
  },
  {
   "cell_type": "markdown",
   "id": "c5e694b6",
   "metadata": {},
   "source": [
    "# 4. Titles\n",
    "\n",
    "TODO:\n",
    "\n",
    "  - some objects in the `Objects` table have no entry in the `Titles` table (their `ObjectID` doesn't exist)  \n",
    "    --> use `Title` from `Titles` only if exists and from `Objects` otherwise"
   ]
  },
  {
   "cell_type": "code",
   "execution_count": null,
   "id": "624e8891",
   "metadata": {},
   "outputs": [],
   "source": [
    "title_fields = []\n",
    "titles = pd.read_csv(tblpath + \"ObjTitles.csv.gz\").set_index(\"ObjectID\")"
   ]
  },
  {
   "cell_type": "code",
   "execution_count": null,
   "id": "a25e4481",
   "metadata": {},
   "outputs": [],
   "source": [
    "def merge_titles(obj_tbl):\n",
    "    title_tbl = pd.read_csv(tblpath + \"ObjTitles.csv.gz\").set_index(\"ObjectID\")\n",
    "    \n",
    "    common_keys = sorted(set(obj_tbl.index) & set(title_tbl.index))\n",
    "    \n",
    "    obj_tbl[\"vale_Title\"] = obj_tbl.Title\n",
    "    \n",
    "    obj_tbl[\"vale_Title\"].loc[common_keys] = title_tbl.loc[common_keys].Title\n",
    "    \n",
    "    return obj_tbl"
   ]
  },
  {
   "cell_type": "markdown",
   "id": "d413cd7f",
   "metadata": {},
   "source": [
    "# 5. Locations?"
   ]
  },
  {
   "cell_type": "markdown",
   "id": "ff2cbe7d",
   "metadata": {},
   "source": [
    "### 5.1 Departments"
   ]
  },
  {
   "cell_type": "code",
   "execution_count": null,
   "id": "2b4c024e",
   "metadata": {},
   "outputs": [],
   "source": [
    "dept_fields = [\"DepartmentID\", \"Department\"]\n",
    "\n",
    "depts = pd.read_csv(tblpath + \"Departments.csv.gz\")\n",
    "depts = depts.drop(\"GSRowVersion\", axis=\"columns\").drop_duplicates(keep=\"first\")\n",
    "depts = depts.set_index(\"DepartmentID\")\n",
    "\n",
    "\n",
    "# dpt_series = depts.Department[objs.DepartmentID]\n",
    "# dpt_series.index = objs.index\n",
    "# objs[\"Department\"] = dpt_series"
   ]
  },
  {
   "cell_type": "code",
   "execution_count": null,
   "id": "cb05a657",
   "metadata": {},
   "outputs": [],
   "source": [
    "depts.index.unique(), objs.DepartmentID.unique()"
   ]
  },
  {
   "cell_type": "code",
   "execution_count": null,
   "id": "ac318e8b",
   "metadata": {},
   "outputs": [],
   "source": [
    "def dept_id_to_int(id_col):\n",
    "    for x in id_col:\n",
    "        try:\n",
    "            yield int(x)\n",
    "        except ValueError:\n",
    "            yield -10\n",
    "\n",
    "dept_ids = list(dept_id_to_int(objs.DepartmentID))\n",
    "\n",
    "objs[\"DepartmentID\"] = dept_ids"
   ]
  },
  {
   "cell_type": "code",
   "execution_count": null,
   "id": "58c74367",
   "metadata": {},
   "outputs": [],
   "source": [
    "objs = objs[objs.DepartmentID > -1]"
   ]
  },
  {
   "cell_type": "code",
   "execution_count": null,
   "id": "2e8f3870",
   "metadata": {},
   "outputs": [],
   "source": [
    "plt.plot(objs.DepartmentID.value_counts().sort_values(), \".\")"
   ]
  },
  {
   "cell_type": "code",
   "execution_count": null,
   "id": "cd551d0a",
   "metadata": {},
   "outputs": [],
   "source": [
    "objs[\"Department\"] = list(depts.loc[objs.DepartmentID].Department)"
   ]
  },
  {
   "cell_type": "markdown",
   "id": "bdb6cbc9",
   "metadata": {},
   "source": [
    "# Drop Objects by Criteria & Save"
   ]
  },
  {
   "cell_type": "code",
   "execution_count": null,
   "id": "ca6a111f",
   "metadata": {},
   "outputs": [],
   "source": [
    "objs.shape, objs.drop_duplicates().shape"
   ]
  },
  {
   "cell_type": "code",
   "execution_count": null,
   "id": "af6fd60d",
   "metadata": {},
   "outputs": [],
   "source": [
    "objs = objs.drop_duplicates()"
   ]
  },
  {
   "cell_type": "code",
   "execution_count": null,
   "id": "7eaab006",
   "metadata": {},
   "outputs": [],
   "source": [
    "# objs[\"ObjectID\"] = objs.ObjectID.astype(\"int\")\n",
    "\n",
    "# objs = objs.set_index(\"ObjectID\")"
   ]
  },
  {
   "cell_type": "code",
   "execution_count": null,
   "id": "56711906",
   "metadata": {},
   "outputs": [],
   "source": [
    "objs.index = objs.index.astype(\"int\")"
   ]
  },
  {
   "cell_type": "markdown",
   "id": "e69c0fc4",
   "metadata": {},
   "source": [
    "### Rename Columns"
   ]
  },
  {
   "cell_type": "code",
   "execution_count": null,
   "id": "12c50805",
   "metadata": {},
   "outputs": [],
   "source": [
    "objs = objs.reset_index().rename(columns=dict(\n",
    "        ObjectID=\"ID\",\n",
    "        BeginISODate=\"StartDate\",\n",
    "        EndISODate=\"EndDate\",\n",
    "        Dated=\"DateString\"\n",
    "    )\n",
    ").set_index(\"ID\")"
   ]
  },
  {
   "cell_type": "markdown",
   "id": "e0a89531",
   "metadata": {},
   "source": [
    "### Add ObjectURLSuffix"
   ]
  },
  {
   "cell_type": "code",
   "execution_count": null,
   "id": "800f97d1",
   "metadata": {},
   "outputs": [],
   "source": [
    "objs[\"ObjectURLSuffix\"] = objs.index.astype(\"str\")"
   ]
  },
  {
   "cell_type": "code",
   "execution_count": null,
   "id": "2cdfdff8",
   "metadata": {},
   "outputs": [],
   "source": [
    "objs.to_csv(\"v0_2_renamed.csv.gz\")"
   ]
  },
  {
   "cell_type": "markdown",
   "id": "a1513b52",
   "metadata": {},
   "source": [
    "# Test Load"
   ]
  },
  {
   "cell_type": "code",
   "execution_count": null,
   "id": "80ada641",
   "metadata": {},
   "outputs": [],
   "source": [
    "loaded = pd.read_csv(\"v02.csv.gz\").set_index(\"ObjectID\")"
   ]
  },
  {
   "cell_type": "code",
   "execution_count": null,
   "id": "1c975b22",
   "metadata": {},
   "outputs": [],
   "source": [
    "loaded.BeginISODate.apply(lambda s: dt.strptime(s, \"%Y-%m-%d\").date())"
   ]
  },
  {
   "cell_type": "code",
   "execution_count": null,
   "id": "1dc2ce9f",
   "metadata": {},
   "outputs": [],
   "source": [
    "s = loaded.BeginISODate.iloc[0]\n",
    "str(dt.strptime(s,\"%Y-%m-%d\").date())"
   ]
  },
  {
   "cell_type": "code",
   "execution_count": null,
   "id": "004a8806",
   "metadata": {},
   "outputs": [],
   "source": [
    "loaded"
   ]
  },
  {
   "cell_type": "markdown",
   "id": "b341ebf7",
   "metadata": {},
   "source": [
    "# Thesaurus Stuff"
   ]
  },
  {
   "cell_type": "code",
   "execution_count": null,
   "id": "b338cf24",
   "metadata": {},
   "outputs": [],
   "source": [
    "terms = pd.read_csv(tblpath + \"TextEntries.csv.gz\")"
   ]
  },
  {
   "cell_type": "code",
   "execution_count": null,
   "id": "7e10b8a3",
   "metadata": {},
   "outputs": [],
   "source": [
    "terms"
   ]
  },
  {
   "cell_type": "code",
   "execution_count": null,
   "id": "731b076c",
   "metadata": {},
   "outputs": [],
   "source": [
    "terms.Term.value_counts()"
   ]
  }
 ],
 "metadata": {
  "kernelspec": {
   "display_name": "Python 3 (ipykernel)",
   "language": "python",
   "name": "python3"
  },
  "language_info": {
   "codemirror_mode": {
    "name": "ipython",
    "version": 3
   },
   "file_extension": ".py",
   "mimetype": "text/x-python",
   "name": "python",
   "nbconvert_exporter": "python",
   "pygments_lexer": "ipython3",
   "version": "3.10.4"
  }
 },
 "nbformat": 4,
 "nbformat_minor": 5
}

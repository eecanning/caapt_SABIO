{
 "cells": [
  {
   "cell_type": "markdown",
   "metadata": {},
   "source": [
    "# Tracking a Term through the Collection & Thesaurus\n",
    "\n",
    "Taking the term 'marron' (which refers to groups of people in the Americas; [Thesaurus link](https://hdl.handle.net/20.500.11840/termmaster3534). [Wikipedia link](https://nl.wikipedia.org/wiki/Marrons)) as an example, this notebook explores how a term can be tracked across both the collection and the thesaurus.\n",
    "\n",
    "#### What information are we interested in? (*to be expanded*)\n",
    "\n",
    " - basic statistics on the term\n",
    " - statistics on related terms\n",
    " - shortest paths\n",
    " - placement in the hierarchies and facets (5 functional categories in the thesaurus)\n",
    "\n",
    "---\n",
    "\n",
    "#### Recipe:\n",
    "\n",
    " - read DB and thesaurus with rdflib\n",
    " - use queries to extract relevant triples and relevant parts of identifiers\n",
    " - construct table (perhaps pandas)\n",
    " - do statistics on table\n",
    " \n",
    " "
   ]
  },
  {
   "cell_type": "code",
   "execution_count": 1,
   "metadata": {},
   "outputs": [],
   "source": [
    "import glob\n",
    "from tqdm import tqdm\n",
    "\n",
    "import numpy.random as rand\n",
    "\n",
    "import rdflib\n",
    "from rdflib import Graph\n",
    "from rdflib import URIRef\n",
    "\n",
    "def load_graph_from_dir(d, until=-1, file_ext=\"rdf\", randomise=False):\n",
    "    file_listing = glob.glob(f\"{d}/*.{file_ext}\")\n",
    "    file_listing = rand.permutation(file_listing) if randomise else sorted(file_listing)\n",
    "    file_listing = file_listing[:until] # there are 1570 files in /objects, loop below has 1.5 it/s so takes 15+min\n",
    "        \n",
    "    if len(file_listing) == 0:\n",
    "        raise ValueError(f\"taking {until} files from directory /{d}/ somehow not possible, listing empty!\")\n",
    "    \n",
    "    graph = Graph()\n",
    "    for path in tqdm(file_listing, \n",
    "                     desc=f\"Parsing{' random' if randomise else ''} files from /{d}\"): \n",
    "        graph.parse(path, format=\"xml\")\n",
    "    return graph"
   ]
  },
  {
   "cell_type": "code",
   "execution_count": 21,
   "metadata": {},
   "outputs": [
    {
     "name": "stderr",
     "output_type": "stream",
     "text": [
      "Parsing random files from /objects: 100%|██████████| 30/30 [00:35<00:00,  1.18s/it]\n",
      "Parsing files from /thesaurus: 100%|██████████| 43/43 [00:26<00:00,  1.60it/s]\n"
     ]
    }
   ],
   "source": [
    "obj_graph = load_graph_from_dir(\"objects\", until=30, randomise=True)\n",
    "thesaurus = load_graph_from_dir(\"thesaurus\", randomise=False)"
   ]
  },
  {
   "cell_type": "code",
   "execution_count": null,
   "metadata": {},
   "outputs": [],
   "source": [
    "marron = rdflib.term.URIRef('https://hdl.handle.net/20.500.11840/termmaster3534')\n",
    "thule = rdflib.term.URIRef('https://hdl.handle.net/20.500.11840/termmaster2960')\n",
    "\n",
    "\n",
    "marron_obj_graph = list(obj_graph.triples((marron, None, None))) + list(obj_graph.triples((None, None, marron)))\n",
    "marron_thesaurus = list(thesaurus.triples((marron, None, None))) + list(thesaurus.triples((None, None, marron)))\n"
   ]
  },
  {
   "cell_type": "code",
   "execution_count": null,
   "metadata": {},
   "outputs": [],
   "source": [
    "print(f\"'marron' occurs in\\t{len(marron_obj_graph)}\\trelations in the collection\")\n",
    "print(f\"'marron' occurs in\\t{len(marron_thesaurus)}\\trelations in the thesaurus\")"
   ]
  },
  {
   "cell_type": "code",
   "execution_count": null,
   "metadata": {},
   "outputs": [],
   "source": [
    "import networkx as nx"
   ]
  },
  {
   "cell_type": "code",
   "execution_count": null,
   "metadata": {},
   "outputs": [],
   "source": [
    "G = nx.MultiDiGraph()\n",
    "\n",
    "G.add_edges_from(list(obj_graph))"
   ]
  },
  {
   "cell_type": "code",
   "execution_count": null,
   "metadata": {},
   "outputs": [],
   "source": [
    "len(G)"
   ]
  },
  {
   "cell_type": "code",
   "execution_count": null,
   "metadata": {},
   "outputs": [],
   "source": [
    "G."
   ]
  },
  {
   "cell_type": "code",
   "execution_count": null,
   "metadata": {},
   "outputs": [],
   "source": [
    "list(obj_graph)"
   ]
  },
  {
   "cell_type": "markdown",
   "metadata": {},
   "source": [
    "---\n",
    "## Querying"
   ]
  },
  {
   "cell_type": "code",
   "execution_count": null,
   "metadata": {},
   "outputs": [],
   "source": [
    "q = \"\"\"SELECT DISTINCT ?p\n",
    "       WHERE {\n",
    "          ?a ?p ?b .\n",
    "       }\"\"\"\n",
    "\n",
    "all_predicates = list(obj_graph.query(q))\n",
    "\n",
    "type_preds = list(filter(lambda p: p[0].endswith(\"type\"), all_predicates))"
   ]
  },
  {
   "cell_type": "code",
   "execution_count": null,
   "metadata": {},
   "outputs": [],
   "source": [
    "list(obj_graph.namespaces())"
   ]
  },
  {
   "cell_type": "code",
   "execution_count": null,
   "metadata": {},
   "outputs": [],
   "source": [
    "q = \"\"\"PREFIX : <http://graphtheory/node/>\n",
    "PREFIX ns1: <https://hdl.handle.net/20.500.11840/>\n",
    "\n",
    "ASK {ns1:termmaster2960 :hasNeighbor*  ns1:termmaster3534}\"\"\"\n",
    "\n",
    "\n",
    "list(thesaurus.query(q))"
   ]
  },
  {
   "cell_type": "code",
   "execution_count": null,
   "metadata": {},
   "outputs": [],
   "source": [
    "list(thesaurus)"
   ]
  },
  {
   "cell_type": "code",
   "execution_count": null,
   "metadata": {},
   "outputs": [],
   "source": []
  },
  {
   "cell_type": "code",
   "execution_count": null,
   "metadata": {},
   "outputs": [],
   "source": [
    "qname = obj_graph.namespace_manager.qname\n",
    "\n",
    "# list(map(qname, all_predicates))\n",
    "\n",
    "for p in all_predicates:\n",
    "    print(qname(p[0]))"
   ]
  },
  {
   "cell_type": "code",
   "execution_count": null,
   "metadata": {},
   "outputs": [],
   "source": [
    "all_predicates[0][0]"
   ]
  },
  {
   "cell_type": "code",
   "execution_count": null,
   "metadata": {},
   "outputs": [],
   "source": [
    "list(obj_graph.predicates())"
   ]
  },
  {
   "cell_type": "code",
   "execution_count": null,
   "metadata": {},
   "outputs": [],
   "source": [
    "{s for s, p, o in obj_graph if p == rdflib.term.URIRef('http://purl.org/dc/elements/1.1/type')}"
   ]
  },
  {
   "cell_type": "markdown",
   "metadata": {},
   "source": [
    "# Legacy Code"
   ]
  },
  {
   "cell_type": "code",
   "execution_count": null,
   "metadata": {},
   "outputs": [],
   "source": [
    "granman_photo = rdflib.term.URIRef('https://hdl.handle.net/20.500.11840/206868')\n",
    "\n",
    "granman_triples = list(obj_graph.triples((granman_photo, None, None))) + list(obj_graph.triples((None, None, granman_photo)))"
   ]
  },
  {
   "cell_type": "code",
   "execution_count": null,
   "metadata": {},
   "outputs": [],
   "source": []
  },
  {
   "cell_type": "markdown",
   "metadata": {},
   "source": [
    "# Terms from *Words Matter*"
   ]
  },
  {
   "cell_type": "code",
   "execution_count": 1,
   "metadata": {},
   "outputs": [],
   "source": [
    "import pandas as pd"
   ]
  },
  {
   "cell_type": "code",
   "execution_count": 3,
   "metadata": {},
   "outputs": [],
   "source": [
    "terms = pd.read_excel(\"../../Termen Words Matter (002).xlsx\", engine='openpyxl')"
   ]
  },
  {
   "cell_type": "code",
   "execution_count": 8,
   "metadata": {},
   "outputs": [
    {
     "data": {
      "text/plain": [
       "Index(['nummer', 'woord NL', 'woord UK', 'paginanr NL', 'paginanr Engels',\n",
       "       'toelichting NL', 'toelichting UK', 'voorkeurs alternatief NL',\n",
       "       'voorkeursalternatief UK', 'relatie met', 'relatie met ',\n",
       "       'relatie met .1', 'relatie met.1', 'relatie met.2', 'relatie met.3',\n",
       "       'relatie met.4', 'relatie met.5', 'relatie met.6', 'relatie met.7'],\n",
       "      dtype='object')"
      ]
     },
     "execution_count": 8,
     "metadata": {},
     "output_type": "execute_result"
    }
   ],
   "source": [
    "terms.columns"
   ]
  },
  {
   "cell_type": "code",
   "execution_count": 11,
   "metadata": {
    "scrolled": true
   },
   "outputs": [
    {
     "data": {
      "text/plain": [
       "0            Aboriginal\n",
       "1               Descent\n",
       "2            Allochtoon\n",
       "3             Barbarian\n",
       "4               Servant\n",
       "5                Berber\n",
       "6                 Blank\n",
       "7                Bombay\n",
       "8            Bush Negro\n",
       "9           Third World\n",
       "10                Dwarf\n",
       "11               Eskimo\n",
       "12            Ethnicity\n",
       "13               Exotic\n",
       "14                  Gay\n",
       "15              Colored\n",
       "16           Half-blood\n",
       "17             Disabled\n",
       "18        Hermaphrodite\n",
       "19           Homosexual\n",
       "20            Hottentot\n",
       "21           Inboorling\n",
       "22               Indian\n",
       "23              Indisch\n",
       "24                 Indo\n",
       "25           Indigenous\n",
       "26                  NaN\n",
       "27                  NaN\n",
       "28         Jappenkampen\n",
       "29               Kaffir\n",
       "30            Caucasian\n",
       "31               Coolie\n",
       "32           Headhunter\n",
       "33               Maroon\n",
       "34         Medicine Man\n",
       "35           Mohammedan\n",
       "36            Mongoloid\n",
       "37                 Moor\n",
       "38              Mulatto\n",
       "39               Native\n",
       "40                Negro\n",
       "41             Discover\n",
       "42             Oriental\n",
       "43    Politionele actie\n",
       "44           Primitieve\n",
       "45                Pygmy\n",
       "46                Queer\n",
       "47                 Race\n",
       "48                Roots\n",
       "49                Slave\n",
       "50                Tribe\n",
       "51          Traditional\n",
       "52                Trans\n",
       "53              Western\n",
       "54                White\n",
       "55                Gypsy\n",
       "56                Black\n",
       "Name: woord UK, dtype: object"
      ]
     },
     "execution_count": 11,
     "metadata": {},
     "output_type": "execute_result"
    }
   ],
   "source": [
    "terms[\"woord UK\"]"
   ]
  },
  {
   "cell_type": "code",
   "execution_count": 9,
   "metadata": {},
   "outputs": [],
   "source": [
    "terms.to_csv(\"../../words_matter.csv\", index=False)"
   ]
  },
  {
   "cell_type": "code",
   "execution_count": null,
   "metadata": {},
   "outputs": [],
   "source": []
  },
  {
   "cell_type": "code",
   "execution_count": null,
   "metadata": {},
   "outputs": [],
   "source": []
  },
  {
   "cell_type": "markdown",
   "metadata": {},
   "source": [
    "# Tracking Words in the Collections"
   ]
  },
  {
   "cell_type": "code",
   "execution_count": 34,
   "metadata": {},
   "outputs": [],
   "source": [
    "from Levenshtein import distance as levenshtein\n",
    "\n",
    "def nword(s):\n",
    "    return \"neger\" in s.lower() or \"nikker\" in s.lower()\n",
    "\n",
    "literals = [e for s, p, o in obj_graph for e in (s, o) if isinstance(e, rdflib.term.Literal)]\n",
    "\n",
    "nwords = [s for s in map(str, literals) if nword(s) or \"negr\" in s.lower() or \"nigger\" in s.lower()]"
   ]
  },
  {
   "cell_type": "code",
   "execution_count": 31,
   "metadata": {
    "collapsed": true
   },
   "outputs": [
    {
     "data": {
      "text/plain": [
       "['De zeef is gevlochten door de ongeveer 80-jarige mandenmaker Guillaume Kodaman.<BR>    De wanden zijn gevlochten in de rechte éénslag met ijle, dubbele schering- en dubbele inslagrepen. De bodem is gevlochten in rechte tweeslag met ijle schering- en inslagrepen.<BR>    De stijl van de zeef is eerder indiaans en ongebruikelijk voor Bosnegers. Op de vraag waar hij de techniek had geleerd, werd geantwoord met een lachje.',\n",
       " 'Ex-voto ofwel geloftegeschenk in de vorm van een polychroom beschilderde, vertind ijzeren plaat met zwart geverfde achterzijde. Links is de verschijning afgebeeld van de Virgen de la Candelaria in een wolkachtig ovaal met rechts een man, die uit een boom valt. Onderaan op een brede witte band staat de tekst: \"Doy gracias a la Stma. Virgen de San Juan, por haver me salvado la vida, despues de haver caido de un arbol de 12 metros de altura. Miguel Reyes. Chiarillo, Jal. mayo, 26-1940\" (Ik breng dank aan de allerheiligste Maagd van San Juan die mij het leven heeft gered na een val uit een boom van 12 meter hoog. Miguel Reyes, Chalarillo, Jalisco, 26 mei 1940).<BR>    <BR>    San Juan de los Lagos is het bedevaartsoord van \"la Virgen de la Candelaria\" (Maria-Lichtmis) in de deelstaat Jalisco, waar vanaf 2 februari een groot feest wordt gevierd ter ere van haar in combinatie met een jaarmarkt. Haar beeldje wordt sinds 1542 - na de opstand van de Chichimeken tegen de Spanjaarden - massaal vereerd. Vooral nadat een Mexicaanse circusartiest zijn dochter \"dodelijk\" had verwond met een dolk en de smeekbede van de moeder tot de Maagd om haar weer tot leven te wekken, was verhoord. Uit dankbaarheid liet de vader het tijdens bovengenoemde opstand zwaar beschadigde beeldje restaureren. Volgens de legende zou dit zijn uitgevoerd door engelen. Sindsdien stroomden de pelgrims in nog grotere getalen toe om haar beeltenis te vereren en in 1732 werd de eerste steen gelegd voor haar huidige heiligdom in San Juan de los Lagos. In de buurt is een kleine bron, waar volgens haar aanbidders ook de kleine Maagd speelt met knikkers gemaakt van de modder uit de bron; om die reden heeft, volgens de gelovigen, deze modder een geneeskrachtige werking.<BR>    Ook in het bergdorp Copoya in de deelstaat Chiapas, waar drie beelden van haar worden vereerd, wordt haar feestdag in februari uitbundig gevierd (Toor, 1947: 184-186).  <BR>    <BR>    Een ex-voto (Latijn: krachtens gelofte) is een voorwerp, dat geplaatst wordt in een kerk of ander gewijd oord als dank aan God of een heilige voor een verkregen gunst of verhoor van een smeekbede. Epigrafische ex-voto\\'s, zoals onderhavige, zijn schilderingen - meestal voorzien van een geschreven tekst - die de omstandigheden van de genezing of redding uitbeelden inclusief de aangeroepen heilige. <BR>    De ex-voto traditie was al bij de Grieken bekend en kwam via de Spanjaarden in de Nieuwe Wereld, waar dit gebruik gedurende de Koloniale Tijd alleen was voorbehouden aan de welgestelden. Later konden ook de armen zich dergelijke schilderingen veroorloven door het gebruik van het goedkopere vertinde ijzer in plaats van linnen. (Gifford, 1974: 119).<BR>    <BR>    Vervaardiging<BR>    Polychroom beschilderd, vertind ijzer.<BR>    <BR>    Vóór de 19e eeuw werden votiefschilderingen (ex-voto\\'s) op linnen geschilderd. Nadat laat 18e eeuw de techniek van het vertinnen van ijzer was ontwikkeld, werd door de schilders hier snel gebruik van gemaakt om praktische redenen: makkelijker en goedkoper. Sinds die tijd werd tin het populairste materiaal mede doordat de grote massa nu ook ex-voto\\'s ging laten maken. De opdrachten hiervoor werden uitgevoerd door ongeschoolde artiesten, meestal bepaalde personen uit het dorp of wijk. Deze kunstenaars konden hierbij ook veel meer hun verbeelding laten spreken omdat, in tegenstelling tot retablo\\'s, ex-voto\\'s geen kopieën waren van reeds bestaande werken, op de uitbeelding van de heiligen na. Zij lieten zich inspireren en leiden door de verhalen van hun opdrachtgever(s). In het algemeen was er wel een vast stramien in de opzet van de ex-voto\\'s, namelijk in horizontale banen: onderaan de tekst, in het midden de gebeurtenis en bovenaan de aangeroepen heilige(n). (Gifford: 22; 50; 119-122).',\n",
       " 'In februari 1891 bracht de Britse ondernemer John Wood een dansgroep uit Dahomey (het huidige Benin) naar Parijs. Ze werden ondergebracht in de tentoonstellingshal van de Jardin d\\'Acclimatation in Bois de Boulogne. Onder hen bevonden zich vierentwintig zogenaamde \\'Amazones\\', de Europese benaming, geïnspireerd op de Amazones uit de Griekse mythologie, voor de vrouwelijke krijgers van het Fon koninkrijk die onder meer ingezet werden tijdens de beide oorlogen met Frankrijk (1890 en 1892-1894). Zij vormden een elite-eenheid van ongeveer 4000 tot 6000 vrouwelijke militairen die bekend stonden om hun uitzonderlijke moed. Tevens fungeerden zij als de persoonlijke bodyguard van de koning, zowel als zijn beschermer in het paleis als verdediger van zijn prestige op het slagveld (Argyle 1966: 40). <BR>    Het is niet bekend hoe de Amazones zichzelf noemden. In de literatuur worden ze aangeduid met de hen opgelegde Europese term. Misschien rekenden ze zichzelf alleen tot de ahosi, \\'de vrouwen van de koning\\'. Volgens Bay was elke vrouw die de koning op enigerlei wijze diende en verbonden was aan de paleiselijke organisatie een ahosi. Ze was een afhankelijke, volger, ondergeschikte of vrouw van de koning (1998: 353). Ze kon hem dienen als bewaker, krijger, boodschapper, prostitué, danseres, spion etc. Ook Edgerton vermeldt dat de term ahosi doelde op alle vrouwen in het paleis, de koninklijke \"followers\" or \"wives\" (2000: 52) waarvan vele (maar niet allen) Amazones waren. Boven de ahosi stonden alleen nog de kposi \\'vrouwen van de luipaard\\', de werkelijke vrouwen van de koning die de troonopvolger mochten leveren en de kpodjito \\'vrouwen die luipaarden hebben gebaard\\', de moeder van de koning en de vrouwen die de moeders van alle vorige koningen representeren (1966: 63). De Amazones werden dus alleen gerekruteerd uit de gelederen van de ahosi, maar een ahosi is niet per definitie een Amazone. Alleen Alpern (1999: 44) geeft een inheemse naam voor de Amazones, zij zouden door de mannelijke krijgers \\'Mino\\' genoemd worden.<BR>    Het is echter vrijwel zeker dat zich geen \\'echte\\' Amazones onder de dansgroepleden bevonden. Een Franse journalist ontdekte dat tien vrouwen Egba (Yoruba) waren en de rest wel uit Dahomey afkomstig was maar niet tot de krijgsmacht behoorden (1999: 196). Edgerton toont dat het op zich niet ongebruikelijk was voor een Egba om Amazone te worden, zo werd een meisje dat in 1851 gevangen genomen werd tijdens het beleg van de Egba stad Abeokuta als Amazone opgevoed in Dahomey (2000: 26).<BR>    Het lijkt onwaarschijnlijk dat koning Béhanzin tijdens de oorlog met Frankrijk in het thuisland, dus juist toen hij ze het hardst nodig had, een deel van zijn elitekorps naar Parijs heeft gestuurd om te dansen ter vermaak van de Europese toeschouwer. d\\'Almeida-Topor gaat zelfs verder door te stellen dat deze vrouwen bedriegers waren en door de Fransen gedwongen werden zich als Amazones voor te doen om zo de indruk te wekken dat Dahomey voorstander zou wezen van Frans kolonialisme (1984: 142-143). <BR>    Maar ook de kleding bestaande uit sieraden en topjes afgezet met kaurischelpen en belletjes was geen gebruikelijke dracht voor de amazones en puur bedoelt ter decoratie. Een ooggetuigenverslag van Amazones op het slagveld beschrijft dat ze gekleed zijn in een blauw katoenen lendendoek (indigo), het bovenlichaam bloot, een leren riem met patroontas om het middel en rode fez met een (adelaars)veer op het hoofd (2000: 112). Daarentegen waren de voorstellingen van de zogenaamde \\'Dahomey-Amazones\\' wel degelijk realistisch. Hun \\'dansrepertoire\\' bestond voornamelijk uit militaire exercities als marcheren, gevechtssimulaties met zwaarden, musketten en man tot man gevechten. Naast een aantal mannelijke krijgers werden de Amazones tijdens de voorstelling begeleid door twee drummers. Na Parijs toerde de groep jarenlang door Europa. Er zijn aanwijzingen dat de groep voor Parijs al Nederland aandeed. Reeds in 1890 trad er namelijk een amazonegroep in Nederland op die evenals de groep uit Parijs onder leiding van aanvoerster Gumma stond (Faber en Wachlin 1990: 3 en 5). <BR>    Deze foto is genomen in februari 1891, aanvoerster Gouma zit op de tweede rij in het midden, vlak voor haar zit de kleine Titi, een meisje van 8 of 9 jaar. Een getekend groepsportret, in een iets andere samenstelling, verscheen op 28 februari in de geïllustreerde bijlage van de Franse krant Petit Journal. In het Musée du quai Branly bevindt zich ook een albumine druk (inv. nr. PP0023756) uit dezelfde fotosessie met de Amazone groep, deze is gepubliceerd op de cover en binnenin Edgerton\\'s Warrior Women. Naast de groepsopnamen zijn in 1891 van alle leden ook nog portretfoto\\'s en fysisch antropologische opnamen gemaakt die onder meer terecht kwamen in een album voor Prince Roland Bonaparte en het Laboratoire d\\'Anthropologie du Muséum (zie eveneens de collectie van Musée du quai Branly).<BR>    ',\n",
       " 'Nikkers',\n",
       " 'Wajana dorp aan het water met de Arawak broers Alfred en Lodewijk, C.H. de Goeje en een bosnegerjongetje',\n",
       " 'Zitbankje Hekr: Zuid Amerika Suriname Saramakka bosnegers']"
      ]
     },
     "execution_count": 31,
     "metadata": {},
     "output_type": "execute_result"
    }
   ],
   "source": [
    "sorted(set(nwords))"
   ]
  },
  {
   "cell_type": "code",
   "execution_count": 24,
   "metadata": {},
   "outputs": [
    {
     "name": "stderr",
     "output_type": "stream",
     "text": [
      "100%|██████████| 198128/198128 [00:08<00:00, 23688.54it/s]\n",
      "100%|██████████| 283919/283919 [02:55<00:00, 1616.90it/s]\n"
     ]
    }
   ],
   "source": [
    "def to_qname(e):\n",
    "    try:\n",
    "        return thesaurus.namespace_manager.qname(e)\n",
    "    except ValueError:\n",
    "        return str(e)\n",
    "    \n",
    "thes_qnamed = [tuple(map(to_qname, tr)) for tr in tqdm(thesaurus)]\n",
    "obj_qnamed = [tuple(map(to_qname, tr)) for tr in tqdm(obj_graph)]"
   ]
  },
  {
   "cell_type": "code",
   "execution_count": 33,
   "metadata": {},
   "outputs": [
    {
     "ename": "TypeError",
     "evalue": "'list' object is not callable",
     "output_type": "error",
     "traceback": [
      "\u001b[0;31m---------------------------------------------------------------------------\u001b[0m",
      "\u001b[0;31mTypeError\u001b[0m                                 Traceback (most recent call last)",
      "\u001b[0;32m<ipython-input-33-57c8fe2387e7>\u001b[0m in \u001b[0;36m<module>\u001b[0;34m\u001b[0m\n\u001b[0;32m----> 1\u001b[0;31m \u001b[0mntriples\u001b[0m \u001b[0;34m=\u001b[0m \u001b[0;34m[\u001b[0m\u001b[0mtr\u001b[0m \u001b[0;32mfor\u001b[0m \u001b[0mtr\u001b[0m \u001b[0;32min\u001b[0m \u001b[0mobj_qnamed\u001b[0m \u001b[0;32mif\u001b[0m \u001b[0many\u001b[0m\u001b[0;34m(\u001b[0m\u001b[0mmap\u001b[0m\u001b[0;34m(\u001b[0m\u001b[0mnword\u001b[0m\u001b[0;34m,\u001b[0m \u001b[0mtr\u001b[0m\u001b[0;34m)\u001b[0m\u001b[0;34m)\u001b[0m\u001b[0;34m]\u001b[0m\u001b[0;34m\u001b[0m\u001b[0;34m\u001b[0m\u001b[0m\n\u001b[0m",
      "\u001b[0;32m<ipython-input-33-57c8fe2387e7>\u001b[0m in \u001b[0;36m<listcomp>\u001b[0;34m(.0)\u001b[0m\n\u001b[0;32m----> 1\u001b[0;31m \u001b[0mntriples\u001b[0m \u001b[0;34m=\u001b[0m \u001b[0;34m[\u001b[0m\u001b[0mtr\u001b[0m \u001b[0;32mfor\u001b[0m \u001b[0mtr\u001b[0m \u001b[0;32min\u001b[0m \u001b[0mobj_qnamed\u001b[0m \u001b[0;32mif\u001b[0m \u001b[0many\u001b[0m\u001b[0;34m(\u001b[0m\u001b[0mmap\u001b[0m\u001b[0;34m(\u001b[0m\u001b[0mnword\u001b[0m\u001b[0;34m,\u001b[0m \u001b[0mtr\u001b[0m\u001b[0;34m)\u001b[0m\u001b[0;34m)\u001b[0m\u001b[0;34m]\u001b[0m\u001b[0;34m\u001b[0m\u001b[0;34m\u001b[0m\u001b[0m\n\u001b[0m",
      "\u001b[0;31mTypeError\u001b[0m: 'list' object is not callable"
     ]
    }
   ],
   "source": [
    "ntriples = [tr for tr in obj_qnamed if any(map(nword, tr))]"
   ]
  },
  {
   "cell_type": "code",
   "execution_count": 32,
   "metadata": {
    "collapsed": true
   },
   "outputs": [
    {
     "data": {
      "text/plain": [
       "[('ns1:107416',\n",
       "  'dc:description',\n",
       "  'Zowel mannen als vrouwen roken pijp. De pijpen van vrouwen zijn over het algemeen minder gedecoreerd. De sociale status van de bezitter bepaalt de grootte en mate van versiering van de pijp.'),\n",
       " ('ns1:426744',\n",
       "  'edm:provider',\n",
       "  'Stichting Nationaal Museum van Wereldculturen'),\n",
       " ('ns1:77141', 'dc:identifier', '77141'),\n",
       " ('ns1:1000442', 'edm:object', 'ns1:termmaster1397'),\n",
       " ('ns1:1294702',\n",
       "  'dcterms:extent',\n",
       "  '2,4 × 3,6cm (Afbeelding)\\n5 × 5cm (Drager)'),\n",
       " ('ns1:1295020', 'edm:isRelatedTo', 'Audiovisuele collectie'),\n",
       " ('ns1:338083',\n",
       "  'edm:provider',\n",
       "  'Stichting Nationaal Museum van Wereldculturen'),\n",
       " ('ns1:773220', 'edm:rights', 'CC-BY-SA 4.0'),\n",
       " ('ns1:77097', 'edm:rights', 'Copyright'),\n",
       " ('ns1:824050', 'dcterms:medium', 'ns1:termmaster26974')]"
      ]
     },
     "execution_count": 32,
     "metadata": {},
     "output_type": "execute_result"
    }
   ],
   "source": []
  }
 ],
 "metadata": {
  "kernelspec": {
   "display_name": "Python 3",
   "language": "python",
   "name": "python3"
  },
  "language_info": {
   "codemirror_mode": {
    "name": "ipython",
    "version": 3
   },
   "file_extension": ".py",
   "mimetype": "text/x-python",
   "name": "python",
   "nbconvert_exporter": "python",
   "pygments_lexer": "ipython3",
   "version": "3.6.9"
  }
 },
 "nbformat": 4,
 "nbformat_minor": 4
}

{
 "cells": [
  {
   "cell_type": "markdown",
   "metadata": {},
   "source": [
    "# Tracking a Term through the Collection & Thesaurus\n",
    "\n",
    "Taking the term 'marron' (which refers to groups of people in the Americas; [Thesaurus link](https://hdl.handle.net/20.500.11840/termmaster3534). [Wikipedia link](https://nl.wikipedia.org/wiki/Marrons)) as an example, this notebook explores how a term can be tracked across both the collection and the thesaurus.\n",
    "\n",
    "What do we want to do here? *to be expanded*\n",
    "\n",
    " - "
   ]
  },
  {
   "cell_type": "code",
   "execution_count": 11,
   "metadata": {},
   "outputs": [],
   "source": [
    "import glob\n",
    "from tqdm import tqdm\n",
    "\n",
    "import numpy.random as rand\n",
    "\n",
    "import rdflib\n",
    "from rdflib import Graph\n",
    "from rdflib import URIRef\n",
    "\n",
    "def load_graph_from_dir(d, until=-1, file_ext=\"rdf\", randomise=False):\n",
    "    file_listing = glob.glob(f\"{d}/*.{file_ext}\")\n",
    "    file_listing = rand.permutation(file_listing) if randomise else sorted(file_listing)\n",
    "    file_listing = file_listing[:until] # there are 1570 files in /objects, loop below has 1.5 it/s so takes 15+min\n",
    "        \n",
    "    if len(file_listing) == 0:\n",
    "        raise ValueError(f\"taking {until} files from directory /{d}/ somehow not possible, listing empty!\")\n",
    "    \n",
    "    graph = Graph()\n",
    "    for path in tqdm(file_listing, \n",
    "                     desc=f\"Parsing{' random' if randomise else ''} files from /{d}\"): \n",
    "        graph.parse(path, format=\"xml\")\n",
    "    return graph"
   ]
  },
  {
   "cell_type": "code",
   "execution_count": 21,
   "metadata": {},
   "outputs": [
    {
     "name": "stderr",
     "output_type": "stream",
     "text": [
      "Parsing files from /objects: 100%|██████████| 10/10 [00:07<00:00,  1.40it/s]\n",
      "Parsing files from /thesaurus: 100%|██████████| 43/43 [00:16<00:00,  2.62it/s]\n"
     ]
    }
   ],
   "source": [
    "obj_graph = load_graph_from_dir(\"objects\", until=10, randomise=False)\n",
    "thesaurus = load_graph_from_dir(\"thesaurus\", randomise=False)"
   ]
  },
  {
   "cell_type": "code",
   "execution_count": 22,
   "metadata": {},
   "outputs": [],
   "source": [
    "granman_photo = rdflib.term.URIRef('https://hdl.handle.net/20.500.11840/206868')\n",
    "\n",
    "granman_triples = list(obj_graph.triples((granman_photo, None, None))) + list(obj_graph.triples((None, None, granman_photo)))"
   ]
  },
  {
   "cell_type": "code",
   "execution_count": 34,
   "metadata": {},
   "outputs": [],
   "source": [
    "marron = rdflib.term.URIRef('https://hdl.handle.net/20.500.11840/termmaster3534')\n",
    "\n",
    "marron_obj_graph = list(obj_graph.triples((marron, None, None))) + list(obj_graph.triples((None, None, marron)))\n",
    "marron_thesaurus = list(thesaurus.triples((marron, None, None))) + list(thesaurus.triples((None, None, marron)))\n"
   ]
  },
  {
   "cell_type": "code",
   "execution_count": 35,
   "metadata": {},
   "outputs": [
    {
     "data": {
      "text/plain": [
       "[(rdflib.term.URIRef('https://hdl.handle.net/20.500.11840/206834'),\n",
       "  rdflib.term.URIRef('http://purl.org/dc/elements/1.1/subject'),\n",
       "  rdflib.term.URIRef('https://hdl.handle.net/20.500.11840/termmaster3534')),\n",
       " (rdflib.term.URIRef('https://hdl.handle.net/20.500.11840/206922'),\n",
       "  rdflib.term.URIRef('http://purl.org/dc/elements/1.1/subject'),\n",
       "  rdflib.term.URIRef('https://hdl.handle.net/20.500.11840/termmaster3534')),\n",
       " (rdflib.term.URIRef('https://hdl.handle.net/20.500.11840/206864'),\n",
       "  rdflib.term.URIRef('http://purl.org/dc/elements/1.1/subject'),\n",
       "  rdflib.term.URIRef('https://hdl.handle.net/20.500.11840/termmaster3534')),\n",
       " (rdflib.term.URIRef('https://hdl.handle.net/20.500.11840/206899'),\n",
       "  rdflib.term.URIRef('http://purl.org/dc/elements/1.1/subject'),\n",
       "  rdflib.term.URIRef('https://hdl.handle.net/20.500.11840/termmaster3534')),\n",
       " (rdflib.term.URIRef('https://hdl.handle.net/20.500.11840/206919'),\n",
       "  rdflib.term.URIRef('http://purl.org/dc/elements/1.1/subject'),\n",
       "  rdflib.term.URIRef('https://hdl.handle.net/20.500.11840/termmaster3534')),\n",
       " (rdflib.term.URIRef('https://hdl.handle.net/20.500.11840/206904'),\n",
       "  rdflib.term.URIRef('http://purl.org/dc/elements/1.1/subject'),\n",
       "  rdflib.term.URIRef('https://hdl.handle.net/20.500.11840/termmaster3534')),\n",
       " (rdflib.term.URIRef('https://hdl.handle.net/20.500.11840/206901'),\n",
       "  rdflib.term.URIRef('http://purl.org/dc/elements/1.1/subject'),\n",
       "  rdflib.term.URIRef('https://hdl.handle.net/20.500.11840/termmaster3534')),\n",
       " (rdflib.term.URIRef('https://hdl.handle.net/20.500.11840/152578'),\n",
       "  rdflib.term.URIRef('http://purl.org/dc/elements/1.1/subject'),\n",
       "  rdflib.term.URIRef('https://hdl.handle.net/20.500.11840/termmaster3534')),\n",
       " (rdflib.term.URIRef('https://hdl.handle.net/20.500.11840/206907'),\n",
       "  rdflib.term.URIRef('http://purl.org/dc/elements/1.1/subject'),\n",
       "  rdflib.term.URIRef('https://hdl.handle.net/20.500.11840/termmaster3534')),\n",
       " (rdflib.term.URIRef('https://hdl.handle.net/20.500.11840/152619'),\n",
       "  rdflib.term.URIRef('http://purl.org/dc/elements/1.1/subject'),\n",
       "  rdflib.term.URIRef('https://hdl.handle.net/20.500.11840/termmaster3534')),\n",
       " (rdflib.term.URIRef('https://hdl.handle.net/20.500.11840/206921'),\n",
       "  rdflib.term.URIRef('http://purl.org/dc/elements/1.1/subject'),\n",
       "  rdflib.term.URIRef('https://hdl.handle.net/20.500.11840/termmaster3534')),\n",
       " (rdflib.term.URIRef('https://hdl.handle.net/20.500.11840/206941'),\n",
       "  rdflib.term.URIRef('http://purl.org/dc/elements/1.1/subject'),\n",
       "  rdflib.term.URIRef('https://hdl.handle.net/20.500.11840/termmaster3534')),\n",
       " (rdflib.term.URIRef('https://hdl.handle.net/20.500.11840/206909'),\n",
       "  rdflib.term.URIRef('http://purl.org/dc/elements/1.1/subject'),\n",
       "  rdflib.term.URIRef('https://hdl.handle.net/20.500.11840/termmaster3534')),\n",
       " (rdflib.term.URIRef('https://hdl.handle.net/20.500.11840/152620'),\n",
       "  rdflib.term.URIRef('http://purl.org/dc/elements/1.1/subject'),\n",
       "  rdflib.term.URIRef('https://hdl.handle.net/20.500.11840/termmaster3534')),\n",
       " (rdflib.term.URIRef('https://hdl.handle.net/20.500.11840/206868'),\n",
       "  rdflib.term.URIRef('http://purl.org/dc/elements/1.1/subject'),\n",
       "  rdflib.term.URIRef('https://hdl.handle.net/20.500.11840/termmaster3534')),\n",
       " (rdflib.term.URIRef('https://hdl.handle.net/20.500.11840/206910'),\n",
       "  rdflib.term.URIRef('http://purl.org/dc/elements/1.1/subject'),\n",
       "  rdflib.term.URIRef('https://hdl.handle.net/20.500.11840/termmaster3534'))]"
      ]
     },
     "execution_count": 35,
     "metadata": {},
     "output_type": "execute_result"
    }
   ],
   "source": [
    "marron_obj_graph"
   ]
  }
 ],
 "metadata": {
  "kernelspec": {
   "display_name": "Python 3",
   "language": "python",
   "name": "python3"
  },
  "language_info": {
   "codemirror_mode": {
    "name": "ipython",
    "version": 3
   },
   "file_extension": ".py",
   "mimetype": "text/x-python",
   "name": "python",
   "nbconvert_exporter": "python",
   "pygments_lexer": "ipython3",
   "version": "3.6.9"
  }
 },
 "nbformat": 4,
 "nbformat_minor": 4
}

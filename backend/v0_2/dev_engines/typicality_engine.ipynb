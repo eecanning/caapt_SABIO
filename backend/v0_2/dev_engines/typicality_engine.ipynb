{
 "cells": [
  {
   "cell_type": "code",
   "execution_count": 1,
   "id": "b41ef983",
   "metadata": {},
   "outputs": [],
   "source": [
    "from tqdm import tqdm\n",
    "tqdm.pandas()\n",
    "import pandas as pd\n",
    "import numpy as np\n",
    "\n",
    "import matplotlib.pyplot as plt\n",
    "import seaborn as sns\n",
    "\n",
    "\n",
    "from ngrams import Ngram\n",
    "\n",
    "from TypicalityEnginev0_2 import Typicality"
   ]
  },
  {
   "cell_type": "code",
   "execution_count": 2,
   "id": "5e963d46",
   "metadata": {},
   "outputs": [],
   "source": [
    "# 1. \n",
    "df = pd.read_csv(\"../NMvW_data/v0.csv.gz\", \n",
    "                 dtype=dict(Provenance=\"string\", RelatedWorks=\"string\")).iloc[:5000]\n",
    "\n",
    "# TODO: save & load DF s.t. these lines are not necessary here                \n",
    "df[\"ObjectID\"] = df.ObjectID.astype(\"int\")\n",
    "df = df.set_index(\"ObjectID\")\n",
    "df = df.replace(np.nan, \"\")\n",
    "\n",
    "# 2.\n",
    "# def get_text(row):\n",
    "#     return row[[\"Title\", \"Description\"]]    \n",
    "    \n",
    "# texts = (t for i, row in df.iterrows() for t in get_text(row))\n",
    "\n",
    "texts = list(df[\"Title\"]) + list(df[\"Description\"])\n",
    "\n",
    "# ng = Ngram(ns=3, documents=texts, precompute_freqs=True)"
   ]
  },
  {
   "cell_type": "code",
   "execution_count": 3,
   "id": "a43c4baf",
   "metadata": {},
   "outputs": [],
   "source": [
    "texts = list(df.Title) + list(df.Description)"
   ]
  },
  {
   "cell_type": "code",
   "execution_count": 4,
   "id": "17320d24",
   "metadata": {},
   "outputs": [
    {
     "name": "stderr",
     "output_type": "stream",
     "text": [
      "(2, 3)-grams: Padding documents...: 100%|█████████████████████████████████| 10000/10000 [00:00<00:00, 829159.63it/s]\n"
     ]
    },
    {
     "name": "stdout",
     "output_type": "stream",
     "text": [
      "(2, 3)-grams: Term Document Matrix constructed...\n",
      "(2, 3)-grams: Term frequencies precomputed...\n",
      "(2, 3)-grams: Init done\n"
     ]
    },
    {
     "name": "stderr",
     "output_type": "stream",
     "text": [
      "100%|█████████████████████████████████████████████████████████████████████| 36727/36727 [00:00<00:00, 211207.81it/s]\n",
      "100%|█████████████████████████████████████████████████████████████████████| 53007/53007 [00:00<00:00, 217835.49it/s]\n",
      "(0, 1)-grams: Padding documents...: 100%|████████████████████████████████| 10000/10000 [00:00<00:00, 1147144.38it/s]\n"
     ]
    },
    {
     "name": "stdout",
     "output_type": "stream",
     "text": [
      "(0, 1)-grams: Term Document Matrix constructed...\n",
      "(0, 1)-grams: Term frequencies precomputed...\n",
      "(0, 1)-grams: Init done\n"
     ]
    },
    {
     "name": "stderr",
     "output_type": "stream",
     "text": [
      "100%|█████████████████████████████████████████████████████████████████████| 11239/11239 [00:00<00:00, 263609.93it/s]\n"
     ]
    }
   ],
   "source": [
    "typ = Typicality(texts, take_abs=False)"
   ]
  },
  {
   "cell_type": "code",
   "execution_count": 5,
   "id": "8fdfb80b",
   "metadata": {},
   "outputs": [
    {
     "name": "stderr",
     "output_type": "stream",
     "text": [
      "100%|█████████████████████████████████████████████████████████████████████████| 5000/5000 [00:04<00:00, 1018.76it/s]\n"
     ]
    }
   ],
   "source": [
    "results = df[[\"Title\", \"Description\"]].progress_apply(axis='columns', \n",
    "         func=lambda r: typ.process_object(r))\n",
    "obj_typs = results.apply(lambda t: t[1])\n",
    "w_typs = results.apply(lambda t: dict(t[0]))"
   ]
  },
  {
   "cell_type": "markdown",
   "id": "676f5dd9",
   "metadata": {},
   "source": [
    "---\n",
    "## Inspection"
   ]
  },
  {
   "cell_type": "code",
   "execution_count": 7,
   "id": "ae6b905f",
   "metadata": {},
   "outputs": [
    {
     "data": {
      "image/png": "[encoded data removed]",
      "text/plain": [
       "<Figure size 432x288 with 1 Axes>"
      ]
     },
     "metadata": {},
     "output_type": "display_data"
    }
   ],
   "source": [
    "_ = plt.hist(obj_typs, bins=50) #, histtype=\"step\", color=\"r\")\n",
    "\n",
    "_ = plt.hist(1/(abs(obj_typs)+1), bins=50) #, histtype=\"step\", color=\"r\")"
   ]
  },
  {
   "cell_type": "code",
   "execution_count": 8,
   "id": "3b05db19",
   "metadata": {},
   "outputs": [
    {
     "data": {
      "text/plain": [
       "8.526512829121201e-18"
      ]
     },
     "execution_count": 8,
     "metadata": {},
     "output_type": "execute_result"
    },
    {
     "data": {
      "image/png": "[encoded data removed]",
      "text/plain": [
       "<Figure size 432x288 with 1 Axes>"
      ]
     },
     "metadata": {},
     "output_type": "display_data"
    }
   ],
   "source": [
    "o = (obj_typs-obj_typs.mean())/(obj_typs.max() - obj_typs.min())\n",
    "_ = plt.hist(o, bins=50) #, histtype=\"step\", color=\"r\")\n",
    "o.mean()"
   ]
  },
  {
   "cell_type": "code",
   "execution_count": null,
   "id": "86e777af",
   "metadata": {},
   "outputs": [],
   "source": [
    "sorted(zip(map(lambda r: r[1][\"Title\"], \n",
    "               df[[\"Title\", \"Description\"]].iterrows()),\n",
    "          obj_typs), \n",
    "       key=lambda tup: tup[1], reverse=True)[:100]"
   ]
  },
  {
   "cell_type": "code",
   "execution_count": null,
   "id": "e3dd7fcd",
   "metadata": {},
   "outputs": [],
   "source": [
    "lens = [len(row[\"Title\"]+row[\"Description\"]) \n",
    "        for i, row in df[[\"Title\", \"Description\"]].iterrows()]\n",
    "lens = np.asarray(lens)\n",
    "# os = obj_typs/(np.asarray(lens)+1)\n",
    "os = obj_typs\n",
    "\n",
    "sns.jointplot(x=np.log(lens), y=os)\n",
    "from scipy.stats import pearsonr, spearmanr\n",
    "pearsonr(np.log(lens+1), os), spearmanr(np.log(lens+1), os)"
   ]
  },
  {
   "cell_type": "code",
   "execution_count": null,
   "id": "fab12c66",
   "metadata": {},
   "outputs": [],
   "source": [
    "ws, lens, ts = list(zip(*[(w, len(w), t) for d in w_typs for w, t in d.items()]))\n",
    "ts = np.asarray(ts)\n",
    "\n",
    "sns.jointplot(x=lens, y=ts)\n",
    "pearsonr(lens, ts), spearmanr(lens, ts)"
   ]
  },
  {
   "cell_type": "code",
   "execution_count": null,
   "id": "2c001359",
   "metadata": {},
   "outputs": [],
   "source": [
    "sorted(set(zip(ws, ts)), key=lambda t: t[1], reverse=True)"
   ]
  },
  {
   "cell_type": "code",
   "execution_count": null,
   "id": "4f9c4bd4",
   "metadata": {},
   "outputs": [],
   "source": [
    "typ.uni_model.prob(\"drie\"),1/np.exp(typ.uni_H)"
   ]
  },
  {
   "cell_type": "code",
   "execution_count": null,
   "id": "6ec1c29c",
   "metadata": {},
   "outputs": [],
   "source": [
    "typ.uni_H, typ.uni_model.prob(\"van\", log=True)"
   ]
  },
  {
   "cell_type": "code",
   "execution_count": null,
   "id": "dc39d235",
   "metadata": {},
   "outputs": [],
   "source": [
    "sorted({(w, t) for d in w_typs for w, t in d.items()}, key=lambda t: t[1], reverse=True)"
   ]
  },
  {
   "cell_type": "code",
   "execution_count": null,
   "id": "67a34449",
   "metadata": {},
   "outputs": [],
   "source": [
    "plt.hist(1/(np.asarray(ts)+1), bins=50)"
   ]
  },
  {
   "cell_type": "code",
   "execution_count": null,
   "id": "a6ab311a",
   "metadata": {},
   "outputs": [],
   "source": [
    "plt.hist(1/(np.asarray(obj_typs)+1), bins=50)"
   ]
  },
  {
   "cell_type": "code",
   "execution_count": null,
   "id": "0e840b1e",
   "metadata": {},
   "outputs": [],
   "source": [
    "import numpy.random as rand\n",
    "l = 2\n",
    "sorted(rand.randint(5, size=10))[-l:]"
   ]
  },
  {
   "cell_type": "code",
   "execution_count": null,
   "id": "2aaeb635",
   "metadata": {},
   "outputs": [],
   "source": [
    "typ_E.model.vocab((3))"
   ]
  },
  {
   "cell_type": "markdown",
   "id": "c5b4b4bf",
   "metadata": {},
   "source": [
    "---\n",
    "# Develop Engine"
   ]
  },
  {
   "cell_type": "code",
   "execution_count": 9,
   "id": "3e24fa9f",
   "metadata": {},
   "outputs": [],
   "source": [
    "class Engine:\n",
    "    def __init__(self, id_, name, dataset, params):\n",
    "        self.id = id_ # str\n",
    "        self.name = name # str\n",
    "        self.dataset = dataset # datasets.Dataset\n",
    "        self.params = params # list of EngineParam\n",
    "        \n",
    "    def prep_engine_params(self, param_dict):\n",
    "        return {p.id: param_dict.get(p.id, p.default_value) for p in self.params}\n",
    "#         return {p.id: p.get() for p, v in self.params}\n",
    "\n",
    "    \n",
    "    def description(self):\n",
    "        with open(f\"src/engines/{self.id}.html\") as handle:\n",
    "            html = handle.read()\n",
    "            \n",
    "        with open(\"src/engines/descriptions.css\") as handle:\n",
    "            css = handle.read()\n",
    "        \n",
    "        html = html.replace(\"<style></style>\",\n",
    "                    \"<style>\"+css+\"</style>\")\n",
    "        return html\n",
    "    \n",
    "    def __hash__(self):\n",
    "        return hash((self.__class__, self.id, self.name))\n",
    "\n",
    "    def to_dict(self):\n",
    "        return {\n",
    "            \"id\": self.id,\n",
    "            \"name\": self.name,\n",
    "            \"min_score\": self.min_score,\n",
    "            \"params\": [p.to_dict() for p in self.params]\n",
    "        }"
   ]
  },
  {
   "cell_type": "code",
   "execution_count": 10,
   "id": "2b63661f",
   "metadata": {},
   "outputs": [
    {
     "ename": "AttributeError",
     "evalue": "'Engine' object has no attribute 'min_score'",
     "output_type": "error",
     "traceback": [
      "\u001b[0;31m---------------------------------------------------------------------------\u001b[0m",
      "\u001b[0;31mAttributeError\u001b[0m                            Traceback (most recent call last)",
      "\u001b[0;32m/tmp/ipykernel_57161/1782661255.py\u001b[0m in \u001b[0;36m<module>\u001b[0;34m\u001b[0m\n\u001b[1;32m      1\u001b[0m \u001b[0me\u001b[0m \u001b[0;34m=\u001b[0m \u001b[0mEngine\u001b[0m\u001b[0;34m(\u001b[0m\u001b[0;36m1\u001b[0m\u001b[0;34m,\u001b[0m \u001b[0;34m\"abc\"\u001b[0m\u001b[0;34m,\u001b[0m \u001b[0;34m[\u001b[0m\u001b[0;34m]\u001b[0m\u001b[0;34m,\u001b[0m \u001b[0;34m{\u001b[0m\u001b[0;34m}\u001b[0m\u001b[0;34m)\u001b[0m\u001b[0;34m\u001b[0m\u001b[0;34m\u001b[0m\u001b[0m\n\u001b[1;32m      2\u001b[0m \u001b[0;34m\u001b[0m\u001b[0m\n\u001b[0;32m----> 3\u001b[0;31m \u001b[0me\u001b[0m\u001b[0;34m.\u001b[0m\u001b[0mto_dict\u001b[0m\u001b[0;34m(\u001b[0m\u001b[0;34m)\u001b[0m\u001b[0;34m\u001b[0m\u001b[0;34m\u001b[0m\u001b[0m\n\u001b[0m",
      "\u001b[0;32m/tmp/ipykernel_57161/232088725.py\u001b[0m in \u001b[0;36mto_dict\u001b[0;34m(self)\u001b[0m\n\u001b[1;32m     29\u001b[0m             \u001b[0;34m\"id\"\u001b[0m\u001b[0;34m:\u001b[0m \u001b[0mself\u001b[0m\u001b[0;34m.\u001b[0m\u001b[0mid\u001b[0m\u001b[0;34m,\u001b[0m\u001b[0;34m\u001b[0m\u001b[0;34m\u001b[0m\u001b[0m\n\u001b[1;32m     30\u001b[0m             \u001b[0;34m\"name\"\u001b[0m\u001b[0;34m:\u001b[0m \u001b[0mself\u001b[0m\u001b[0;34m.\u001b[0m\u001b[0mname\u001b[0m\u001b[0;34m,\u001b[0m\u001b[0;34m\u001b[0m\u001b[0;34m\u001b[0m\u001b[0m\n\u001b[0;32m---> 31\u001b[0;31m             \u001b[0;34m\"min_score\"\u001b[0m\u001b[0;34m:\u001b[0m \u001b[0mself\u001b[0m\u001b[0;34m.\u001b[0m\u001b[0mmin_score\u001b[0m\u001b[0;34m,\u001b[0m\u001b[0;34m\u001b[0m\u001b[0;34m\u001b[0m\u001b[0m\n\u001b[0m\u001b[1;32m     32\u001b[0m             \u001b[0;34m\"params\"\u001b[0m\u001b[0;34m:\u001b[0m \u001b[0;34m[\u001b[0m\u001b[0mp\u001b[0m\u001b[0;34m.\u001b[0m\u001b[0mto_dict\u001b[0m\u001b[0;34m(\u001b[0m\u001b[0;34m)\u001b[0m \u001b[0;32mfor\u001b[0m \u001b[0mp\u001b[0m \u001b[0;32min\u001b[0m \u001b[0mself\u001b[0m\u001b[0;34m.\u001b[0m\u001b[0mparams\u001b[0m\u001b[0;34m]\u001b[0m\u001b[0;34m\u001b[0m\u001b[0;34m\u001b[0m\u001b[0m\n\u001b[1;32m     33\u001b[0m         }\n",
      "\u001b[0;31mAttributeError\u001b[0m: 'Engine' object has no attribute 'min_score'"
     ]
    }
   ],
   "source": [
    "e = Engine(1, \"abc\", [], {})\n",
    "\n",
    "e.to_dict()"
   ]
  },
  {
   "cell_type": "code",
   "execution_count": null,
   "id": "1bf0620d",
   "metadata": {},
   "outputs": [],
   "source": [
    "class TypicalityEngine(Engine):\n",
    "    def __init__(self, typicality, **engine_params):\n",
    "        super().__init__(**engine_params)\n",
    "        self.min_score = 0. # np.random.random()*100\n",
    "\n",
    "        texts = self.dataset.data.apply(lambda r: \n",
    "                                        r[\"Title\"] + r[\"Description\"], axis=\"columns\")\n",
    "        self.typicality = typicality  # Typicality(texts)\n",
    "        \n",
    "        \n",
    "        \n",
    "#         a(o) = |H(P) - [- 1/|o|*log(P(o))]|\n",
    "#         a(o) > 0\n",
    "        \n",
    "#         a(o) < inf \n",
    "#         -> practically: a(o) < a(o') w. o' minimises P(o') \n",
    "#         => could use to change a: O -> [0, inf) into a': O -> [0, 1]\n"
   ]
  },
  {
   "cell_type": "code",
   "execution_count": null,
   "id": "1c6cdb09",
   "metadata": {},
   "outputs": [],
   "source": [
    " params = dict(zip([\"id_\", \"name\", \"dataset\", \"params\"],\n",
    "                   [1, \"abc\", df, {}]))\n",
    "\n",
    "t = TypicalityEngine(typ, **params)"
   ]
  },
  {
   "cell_type": "code",
   "execution_count": null,
   "id": "1f47b3a9",
   "metadata": {},
   "outputs": [],
   "source": []
  }
 ],
 "metadata": {
  "kernelspec": {
   "display_name": "Python 3 (ipykernel)",
   "language": "python",
   "name": "python3"
  },
  "language_info": {
   "codemirror_mode": {
    "name": "ipython",
    "version": 3
   },
   "file_extension": ".py",
   "mimetype": "text/x-python",
   "name": "python",
   "nbconvert_exporter": "python",
   "pygments_lexer": "ipython3",
   "version": "3.10.1"
  }
 },
 "nbformat": 4,
 "nbformat_minor": 5
}

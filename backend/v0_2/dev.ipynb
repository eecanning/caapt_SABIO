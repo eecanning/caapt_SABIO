{
 "cells": [
  {
   "cell_type": "code",
   "execution_count": null,
   "id": "c01ef6d8",
   "metadata": {},
   "outputs": [],
   "source": [
    "import numpy as np\n",
    "import pandas as pd"
   ]
  },
  {
   "cell_type": "code",
   "execution_count": null,
   "id": "e30d901a",
   "metadata": {},
   "outputs": [],
   "source": [
    "df = pd.read_csv(\"NMvW_data/v0.csv.gz\", \n",
    "                 dtype=dict(Provenance=\"string\", RelatedWorks=\"string\"))\n",
    "\n",
    "# TODO: save & load DF s.t. these lines are not necessary here                \n",
    "df[\"ObjectID\"] = df.ObjectID.astype(\"int\")\n",
    "df = df.set_index(\"ObjectID\")"
   ]
  },
  {
   "cell_type": "code",
   "execution_count": null,
   "id": "ae026330",
   "metadata": {},
   "outputs": [],
   "source": [
    "df2 = df[(df.BeginISODate+df.EndISODate) > 0]\n",
    "\n",
    "df2.apply(lambda r: len(str(r.Title) + str(r.Description)) > 6, axis=\"columns\").sum()/df2.shape[0]"
   ]
  },
  {
   "cell_type": "code",
   "execution_count": null,
   "id": "3df12b4f",
   "metadata": {},
   "outputs": [],
   "source": [
    "type(df2.iloc[0].Description)"
   ]
  },
  {
   "cell_type": "code",
   "execution_count": null,
   "id": "0d2b2612",
   "metadata": {},
   "outputs": [],
   "source": [
    "from tqdm import tqdm\n",
    "\n",
    "import spacy\n",
    "from nltk import Tree\n",
    "\n",
    "nlp = spacy.load(\"nl_core_news_sm\")\n",
    "\n",
    "def to_nltk_tree(node):\n",
    "    if node.n_lefts + node.n_rights > 0:\n",
    "        return Tree(node.orth_, [to_nltk_tree(child) for child in node.children])\n",
    "    else:\n",
    "        return node.orth_\n",
    "    \n",
    "doc = nlp(df.Description.dropna().iloc[0])\n",
    "print(doc)\n",
    "[to_nltk_tree(sent.root).pretty_print() for sent in doc.sents]"
   ]
  },
  {
   "cell_type": "code",
   "execution_count": null,
   "id": "d4871e11",
   "metadata": {},
   "outputs": [],
   "source": [
    "from spacy import displacy\n",
    "displacy.render(doc, style='dep')"
   ]
  },
  {
   "cell_type": "code",
   "execution_count": null,
   "id": "7335db38",
   "metadata": {},
   "outputs": [],
   "source": [
    "[nlp(t) for t in tqdm(df.Description) if isinstance(t, str)]"
   ]
  },
  {
   "cell_type": "markdown",
   "id": "4626b8d4",
   "metadata": {},
   "source": [
    "---\n",
    "# Search"
   ]
  },
  {
   "cell_type": "code",
   "execution_count": null,
   "id": "902ad113",
   "metadata": {},
   "outputs": [],
   "source": [
    "kws = \"\" # \"hello, goodbye\"\n",
    "prep_kws = \"|\".join(kws.lower().replace(\", \", \",\").split(\",\"))\n",
    "        \n",
    "if (not kws.strip()) or (not prep_kws):\n",
    "    does_contain = [True]*df.shape[0]\n",
    "else:\n",
    "    print(\"what\")\n",
    "    \n",
    "print(does_contain)"
   ]
  },
  {
   "cell_type": "code",
   "execution_count": null,
   "id": "d0585cdf",
   "metadata": {},
   "outputs": [],
   "source": [
    "from urllib.parse import unquote\n",
    "\n",
    "unquote('\"objectKeywords\"%3A\"\"%2C\"objectStartDate\"%3A\"\"%2C\"objectEndDate\"')"
   ]
  },
  {
   "cell_type": "markdown",
   "id": "1e0b2c84",
   "metadata": {},
   "source": [
    "---\n",
    "# Dates\n",
    "\n",
    " 1. make all dates at least 1 (because python cannot\n",
    " "
   ]
  },
  {
   "cell_type": "code",
   "execution_count": null,
   "id": "a9d87b5e",
   "metadata": {},
   "outputs": [],
   "source": [
    "from datetime import datetime\n",
    "frmt = \"%Y-%m-%d\"\n",
    "start_year, end_year = datetime.strptime(\"2011-02-01\", frmt), datetime.strptime(\"2013-10-02\", frmt)"
   ]
  },
  {
   "cell_type": "code",
   "execution_count": null,
   "id": "d77ab1f6",
   "metadata": {},
   "outputs": [],
   "source": [
    "(start_year.year > df.BeginISODate).sum()"
   ]
  },
  {
   "cell_type": "code",
   "execution_count": null,
   "id": "60b94eda",
   "metadata": {},
   "outputs": [],
   "source": [
    "df.BeginISODate[(df.BeginISODate > 1500)].hist(bins=100)"
   ]
  },
  {
   "cell_type": "markdown",
   "id": "a9a93306",
   "metadata": {},
   "source": [
    "---\n",
    "# Fixing Strange x-Axis Data Issue "
   ]
  },
  {
   "cell_type": "code",
   "execution_count": null,
   "id": "cf642f51",
   "metadata": {},
   "outputs": [],
   "source": [
    "https://sabio.diginfra.nl/api/v1/objects/<datasetID>/search/%7B%22objectKeywords%22%3A%22hengelo%22%2C%22objectStartDate%22%3A%22%22%2C%22objectEndDate%22%3A%22%22%2C%22objectParams%22%3A[%7B%22id%22%3A%22Classification%22%2C%22value%22%3A%22%22%7D%2C%7B%22id%22%3A%22Department%22%2C%22value%22%3A%22%22%7D]%2C%22engineId%22%3A%22RandomEnginev0%22%2C%22engineMinScore%22%3A0%2C%22engineMaxScore%22%3A1%2C%22engineParams%22%3A[%7B%22id%22%3A0%2C%22value%22%3A%22useless1%22%7D]%2C%22vocabularyTerms%22%3A%22bewindhebber%2Cbewindvoerder%2Cbomba%2Cbombay%2Ccimarron%2Cderde%20wereld%2Cdwerg%2Cexpeditie%2Cgouverneur%2Chalfbloed%2Chottentot%2Cinboorling%2Cindiaan%2Cindisch%2Cindo%2Cinheems%2Cinlander%2Cjap%2Cjappen%2Cjappenkampen%2Ckaffer%2Ckaffir%2Ckafir%2Ckoelie%2Ckolonie%2Clagelonenland%2Clandhuis%2Cmarron%2Cmarronage%2Cmissie%2Cmissionaris%2Cmoor%2Cmoors%2Cmoren%2Cmulat%2Coctroon%2Contdekken%2Contdekking%2Contdekkingsreis%2Contwikkelingsland%2Coorspronkelijk%2Coosters%2Copperhoofd%2Cori%C3%ABntaals%2Cpinda%2Cpolitionele%20actie%2Cprimitief%2Cprimitieven%2Cpygmee%2Cras%2Crasch%2Cslaaf%2Cstam%2Cstamhoofd%2Ctraditioneel%2Ctropisch%2Cwesters%2Cwilden%2Czendeling%2Czendelingen%2Czending%22%7D/scatterplot/1/405100?api=https%3A%2F%2Fsabio.diginfra.net%2Fapi%2Fv1%2F"
   ]
  },
  {
   "cell_type": "code",
   "execution_count": null,
   "id": "b3bc8bc0",
   "metadata": {},
   "outputs": [],
   "source": [
    "https://sabio.diginfra.nl/api/v1/engines"
   ]
  },
  {
   "cell_type": "code",
   "execution_count": null,
   "id": "5e228b37",
   "metadata": {},
   "outputs": [],
   "source": [
    "https://sabio.diginfra.net/api/v1/objects/NMvW_v0/search?object_keywords=hengelo&object_start_date=&object_end_date=&engine_id=RandomEnginev0&engine_min_score=0&engine_max_score=1&vocabulary_terms=bewindhebber%2Cbewindvoerder%2Cbomba%2Cbombay%2Ccimarron%2Cderde%20wereld%2Cdwerg%2Cexpeditie%2Cgouverneur%2Chalfbloed%2Chottentot%2Cinboorling%2Cindiaan%2Cindisch%2Cindo%2Cinheems%2Cinlander%2Cjap%2Cjappen%2Cjappenkampen%2Ckaffer%2Ckaffir%2Ckafir%2Ckoelie%2Ckolonie%2Clagelonenland%2Clandhuis%2Cmarron%2Cmarronage%2Cmissie%2Cmissionaris%2Cmoor%2Cmoors%2Cmoren%2Cmulat%2Coctroon%2Contdekken%2Contdekking%2Contdekkingsreis%2Contwikkelingsland%2Coorspronkelijk%2Coosters%2Copperhoofd%2Cori%C3%ABntaals%2Cpinda%2Cpolitionele%20actie%2Cprimitief%2Cprimitieven%2Cpygmee%2Cras%2Crasch%2Cslaaf%2Cstam%2Cstamhoofd%2Ctraditioneel%2Ctropisch%2Cwesters%2Cwilden%2Czendeling%2Czendelingen%2Czending&object_param_Classification=&object_param_Department=&engine_param_0=useless1"
   ]
  },
  {
   "cell_type": "markdown",
   "id": "637de751",
   "metadata": {},
   "source": [
    "---"
   ]
  },
  {
   "cell_type": "code",
   "execution_count": null,
   "id": "d132e558",
   "metadata": {},
   "outputs": [],
   "source": [
    "from src.results import Result"
   ]
  },
  {
   "cell_type": "code",
   "execution_count": null,
   "id": "3c191480",
   "metadata": {},
   "outputs": [],
   "source": [
    "param_names = [\"Department\", \"Classification\"]"
   ]
  },
  {
   "cell_type": "code",
   "execution_count": null,
   "id": "59194316",
   "metadata": {},
   "outputs": [],
   "source": [
    "attributes = [\"BeginISODate\", \"EndISODate\"] \n",
    "attributes = attributes + param_names"
   ]
  },
  {
   "cell_type": "code",
   "execution_count": null,
   "id": "e3b7f825",
   "metadata": {},
   "outputs": [],
   "source": [
    "df[attributes]"
   ]
  },
  {
   "cell_type": "code",
   "execution_count": null,
   "id": "888fb183",
   "metadata": {},
   "outputs": [],
   "source": [
    "values = df[attributes]"
   ]
  },
  {
   "cell_type": "code",
   "execution_count": null,
   "id": "bf8f5b6b",
   "metadata": {},
   "outputs": [],
   "source": [
    "r = Result(param_names=param_names, rows=df, scores=np.zeros(len(df)), \n",
    "                 score_details=df, min_score=0., max_score=1.)"
   ]
  },
  {
   "cell_type": "code",
   "execution_count": null,
   "id": "42c37148",
   "metadata": {},
   "outputs": [],
   "source": [
    "r.values"
   ]
  },
  {
   "cell_type": "markdown",
   "id": "ead90626",
   "metadata": {},
   "source": [
    "---\n",
    "# Keyword Search Dev"
   ]
  },
  {
   "cell_type": "code",
   "execution_count": null,
   "id": "e7c8ced2",
   "metadata": {},
   "outputs": [],
   "source": [
    "kws = \"Maarten Sint\"\n",
    "prep_kws = \"|\".join(kws.lower().replace(\", \", \",\").split(\",\"))"
   ]
  },
  {
   "cell_type": "code",
   "execution_count": null,
   "id": "cd7a855c",
   "metadata": {},
   "outputs": [],
   "source": [
    "prep_kws"
   ]
  },
  {
   "cell_type": "code",
   "execution_count": null,
   "id": "e8637e3f",
   "metadata": {},
   "outputs": [],
   "source": [
    "d = dict(a=)\n",
    "\n",
    "d.get(\"a\", False)"
   ]
  },
  {
   "cell_type": "code",
   "execution_count": null,
   "id": "3f97e527",
   "metadata": {},
   "outputs": [],
   "source": [
    "def f(**kwargs):\n",
    "    print(kwargs)\n",
    "    \n",
    "    \n",
    "d = dict(a=13)\n",
    "f(a=0, **d)"
   ]
  },
  {
   "cell_type": "markdown",
   "id": "99054285",
   "metadata": {},
   "source": [
    "---\n",
    "# Integrating TypicalityEngine"
   ]
  },
  {
   "cell_type": "code",
   "execution_count": 1,
   "id": "4d906e27",
   "metadata": {},
   "outputs": [],
   "source": [
    "from src.datasets import NMvW\n",
    "from src.engines.TypicalityEnginev0 import Typicality, TypicalityEngine\n",
    "\n",
    "NMvW.data = NMvW.data.iloc[:10000]"
   ]
  },
  {
   "cell_type": "code",
   "execution_count": 2,
   "id": "4cadf40c",
   "metadata": {},
   "outputs": [
    {
     "name": "stderr",
     "output_type": "stream",
     "text": [
      "(2, 3)-grams: Padding documents...: 100%|████████████████████████████████| 20000/20000 [00:00<00:00, 1353372.38it/s]\n"
     ]
    },
    {
     "name": "stdout",
     "output_type": "stream",
     "text": [
      "(2, 3)-grams: Term Document Matrix constructed...\n",
      "(2, 3)-grams: Term frequencies precomputed...\n",
      "(2, 3)-grams: Init done\n"
     ]
    },
    {
     "name": "stderr",
     "output_type": "stream",
     "text": [
      "100%|███████████████████████████████████████████████████████████████████| 113897/113897 [00:00<00:00, 400177.46it/s]\n",
      "100%|███████████████████████████████████████████████████████████████████| 190339/190339 [00:00<00:00, 407851.13it/s]\n",
      "(0, 1)-grams: Padding documents...: 100%|████████████████████████████████| 20000/20000 [00:00<00:00, 1945635.63it/s]\n"
     ]
    },
    {
     "name": "stdout",
     "output_type": "stream",
     "text": [
      "(0, 1)-grams: Term Document Matrix constructed...\n",
      "(0, 1)-grams: Term frequencies precomputed...\n",
      "(0, 1)-grams: Init done\n"
     ]
    },
    {
     "name": "stderr",
     "output_type": "stream",
     "text": [
      "100%|█████████████████████████████████████████████████████████████████████| 23454/23454 [00:00<00:00, 396602.19it/s]\n",
      "100%|████████████████████████████████████████████████████████████████████████| 10000/10000 [00:10<00:00, 985.67it/s]\n"
     ]
    }
   ],
   "source": [
    "typE = TypicalityEngine(id_=\"TypicalityEnginev0\",\n",
    "                           name=\"TypicalityEngine/v0\",\n",
    "                           dataset=NMvW,\n",
    "                           params=[],\n",
    "                       from_saved=False)"
   ]
  },
  {
   "cell_type": "code",
   "execution_count": null,
   "id": "4b1db469",
   "metadata": {},
   "outputs": [],
   "source": [
    "texts = NMvW.data.sample(frac=0.3).fillna(\"\")\n",
    "\n",
    "typs, details = typE.score_and_detail(texts)"
   ]
  },
  {
   "cell_type": "code",
   "execution_count": null,
   "id": "ff2e0cbe",
   "metadata": {},
   "outputs": [],
   "source": [
    "import seaborn as sns\n",
    "sns.histplot(typs, color=\"blue\")"
   ]
  },
  {
   "cell_type": "code",
   "execution_count": null,
   "id": "19eb0fb8",
   "metadata": {},
   "outputs": [],
   "source": [
    "details.iloc[-1]"
   ]
  },
  {
   "cell_type": "code",
   "execution_count": null,
   "id": "afcb9772",
   "metadata": {},
   "outputs": [],
   "source": [
    "import joblib\n",
    "joblib.dump(typE.typicality, \"test.pkl\")"
   ]
  },
  {
   "cell_type": "code",
   "execution_count": null,
   "id": "4ac82489",
   "metadata": {},
   "outputs": [],
   "source": [
    "import joblib\n",
    "joblib.dump(typE, \"test.pkl\")"
   ]
  },
  {
   "cell_type": "markdown",
   "id": "51432207",
   "metadata": {},
   "source": [
    "---"
   ]
  },
  {
   "cell_type": "code",
   "execution_count": 3,
   "id": "7e6726a2",
   "metadata": {},
   "outputs": [],
   "source": [
    "import joblib\n",
    "typ2 = joblib.load(\"test.pkl\")"
   ]
  },
  {
   "cell_type": "code",
   "execution_count": 5,
   "id": "21de9abc",
   "metadata": {},
   "outputs": [],
   "source": [
    "texts = NMvW.data.sample(frac=0.3).fillna(\"\")\n",
    "typs2, details2 = typ2.score_and_detail(texts)"
   ]
  },
  {
   "cell_type": "code",
   "execution_count": 7,
   "id": "51b2caa1",
   "metadata": {},
   "outputs": [],
   "source": [
    "typs, details = typE.score_and_detail(texts)"
   ]
  },
  {
   "cell_type": "code",
   "execution_count": 10,
   "id": "ead5dd63",
   "metadata": {},
   "outputs": [
    {
     "data": {
      "text/plain": [
       "3000"
      ]
     },
     "execution_count": 10,
     "metadata": {},
     "output_type": "execute_result"
    }
   ],
   "source": [
    "(typs == typs2)"
   ]
  }
 ],
 "metadata": {
  "kernelspec": {
   "display_name": "Python 3 (ipykernel)",
   "language": "python",
   "name": "python3"
  },
  "language_info": {
   "codemirror_mode": {
    "name": "ipython",
    "version": 3
   },
   "file_extension": ".py",
   "mimetype": "text/x-python",
   "name": "python",
   "nbconvert_exporter": "python",
   "pygments_lexer": "ipython3",
   "version": "3.10.1"
  }
 },
 "nbformat": 4,
 "nbformat_minor": 5
}

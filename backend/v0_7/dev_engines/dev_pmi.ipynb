{
 "cells": [
  {
   "cell_type": "markdown",
   "id": "a9b549d5",
   "metadata": {},
   "source": [
    "# TODO\n",
    "\n",
    " - dependency parsing, e.g. with spaCy\n",
    " - "
   ]
  },
  {
   "cell_type": "code",
   "execution_count": 9,
   "id": "a1a8d098",
   "metadata": {},
   "outputs": [],
   "source": [
    "from tqdm import tqdm\n",
    "tqdm.pandas()\n",
    "import pandas as pd\n",
    "import numpy as np\n",
    "\n",
    "import matplotlib.pyplot as plt\n",
    "import seaborn as sns\n",
    "\n",
    "\n",
    "from ngrams import Ngram"
   ]
  },
  {
   "cell_type": "code",
   "execution_count": 2,
   "id": "61fe2a1e",
   "metadata": {},
   "outputs": [],
   "source": [
    "df = pd.read_csv(\"../../../data/v0_2.csv.gz\", \n",
    "                 dtype=dict(Provenance=\"string\", RelatedWorks=\"string\"))\n",
    "\n",
    "# TODO: save & load DF s.t. these lines are not necessary here                \n",
    "df[\"ObjectID\"] = df.ObjectID.astype(\"int\")\n",
    "df = df.set_index(\"ObjectID\")"
   ]
  },
  {
   "cell_type": "code",
   "execution_count": 3,
   "id": "2f5efa2d",
   "metadata": {},
   "outputs": [
    {
     "name": "stderr",
     "output_type": "stream",
     "text": [
      "(1, 2)-grams: Padding documents...: 100%|████████████████████████████████████████████████████████████████████████████████████████████████████████████████████████████████████████████████████████| 135361/135361 [00:00<00:00, 1631292.30it/s]\n"
     ]
    },
    {
     "name": "stdout",
     "output_type": "stream",
     "text": [
      "(1, 2)-grams: Term Document Matrix constructed...\n",
      "(1, 2)-grams: Term frequencies precomputed...\n",
      "(1, 2)-grams: Init done\n"
     ]
    }
   ],
   "source": [
    "docs = list(df.Title.dropna())\n",
    "ng = Ngram(ns=2, documents=docs, precompute_freqs=True)"
   ]
  },
  {
   "cell_type": "code",
   "execution_count": 4,
   "id": "59398b3d",
   "metadata": {},
   "outputs": [
    {
     "data": {
      "text/plain": [
       "(859789, 82796, 2140449)"
      ]
     },
     "execution_count": 4,
     "metadata": {},
     "output_type": "execute_result"
    }
   ],
   "source": [
    "toks = [w for s in docs for w in s.split()]\n",
    "len(toks), len(set(toks)), ng.N"
   ]
  },
  {
   "cell_type": "code",
   "execution_count": null,
   "id": "1bb18542",
   "metadata": {},
   "outputs": [],
   "source": [
    "82796/859789, 82796/2140449, 2140449/82796**2"
   ]
  },
  {
   "cell_type": "code",
   "execution_count": null,
   "id": "5358de5f",
   "metadata": {},
   "outputs": [],
   "source": [
    "# def pmi(w1, w2):\n",
    "#     tup = w1 + \" \" + w2\n",
    "#     return ng.prob(tup, log=True) - (ng.prob(w1, log=True)+ng.prob(w2, log=True))\n",
    "\n",
    "# pmis = [[(w1, w2, pmi(w1, w2)) for w1, w2 in list(ng.iter_ngrams(s, as_tuples=True))]\n",
    "#              for s in tqdm(docs[:10000])]\n",
    "\n",
    "def pmi(tup):\n",
    "    w1, w2 = tup.split()\n",
    "    return ng.prob(tup, log=True) - (ng.prob(w1, log=True)+ng.prob(w2, log=True))\n",
    "    \n",
    "pmis = {w: pmi(w) for w in tqdm(ng.vocab(2))}"
   ]
  },
  {
   "cell_type": "code",
   "execution_count": null,
   "id": "470c9942",
   "metadata": {},
   "outputs": [],
   "source": [
    "_=plt.hist(pmis.values(), bins=50)"
   ]
  },
  {
   "cell_type": "code",
   "execution_count": null,
   "id": "2bddbc3a",
   "metadata": {},
   "outputs": [],
   "source": [
    "more_than_once = {w: (pmi, ng.freq(w)) for w, pmi in pmis.items() \n",
    "#                   if ng.freq(w) > 1000}\n",
    "                  if sum(map(ng.freq, w.split())) > 1000}\n",
    "# sorted(more_than_once.items(), key=lambda tup: (tup[1][1], -tup[1][1]), reverse=True)[:100]"
   ]
  },
  {
   "cell_type": "code",
   "execution_count": null,
   "id": "04909e32",
   "metadata": {},
   "outputs": [],
   "source": [
    "ps, freqs = tuple(zip(*more_than_once.values()))\n",
    "\n",
    "# plt.plot(pmis[:150000], freqs[:150000], \".\")\n",
    "plt.plot(ps, freqs, \".\")\n",
    "# plt.ylim((-5, 2000))"
   ]
  },
  {
   "cell_type": "code",
   "execution_count": null,
   "id": "9305311f",
   "metadata": {},
   "outputs": [],
   "source": [
    "ps = np.asarray(ps)\n",
    "\n",
    "plt.hist((ps-np.mean(ps))/np.var(ps), bins=100)"
   ]
  },
  {
   "cell_type": "code",
   "execution_count": null,
   "id": "77f5d6a9",
   "metadata": {},
   "outputs": [],
   "source": [
    "ng.prob(\"een van\"), ng.prob(\"een\")*ng.prob(\"van\"),\\\n",
    "ng.prob(\"een van\", log=True) - (ng.prob(\"een\", log=True)+ng.prob(\"van\", log=True))"
   ]
  },
  {
   "cell_type": "code",
   "execution_count": null,
   "id": "a139ac47",
   "metadata": {},
   "outputs": [],
   "source": [
    "w, u = \"nieuw\", \"amsterdam\"\n",
    "ng.prob(f\"{w} {u}\"), ng.prob(w)*ng.prob(u),\\\n",
    "ng.prob(f\"{w} {u}\", log=True) - (ng.prob(w, log=True)+ng.prob(u, log=True))"
   ]
  },
  {
   "cell_type": "code",
   "execution_count": null,
   "id": "dda2a5ae",
   "metadata": {},
   "outputs": [],
   "source": [
    "avgs = []\n",
    "maxs = []\n",
    "stds = []\n",
    "for d in tqdm(docs):\n",
    "    pairs = list(ng.iter_ngrams(d, padding=False))\n",
    "    scores = list(map(pmi, pairs))\n",
    "    avgs.append(np.mean(scores))\n",
    "    maxs.append(np.max(scores) if len(scores) else 0)\n",
    "    stds.append(np.var(scores)**.5 if len(scores) else 0)\n",
    "    "
   ]
  },
  {
   "cell_type": "code",
   "execution_count": null,
   "id": "0cdfd18a",
   "metadata": {},
   "outputs": [],
   "source": [
    "lens = [len(list(ng.iter_ngrams(d, padding=False))) for d in tqdm(docs)]\n",
    "sns.jointplot(fs, lens)"
   ]
  },
  {
   "cell_type": "code",
   "execution_count": null,
   "id": "610e55b8",
   "metadata": {},
   "outputs": [],
   "source": [
    "sns.jointplot(avgs, maxs)"
   ]
  },
  {
   "cell_type": "code",
   "execution_count": null,
   "id": "39358020",
   "metadata": {},
   "outputs": [],
   "source": [
    "# class PMI:\n",
    "#     def __init__(self, texts, **model_params):\n",
    "#         default_params = dict(ns=2, documents=texts, precompute_freqs=True)\n",
    "#         default_params.update(model_params)\n",
    "#         self.model = Ngram(**default_params)\n",
    "        \n",
    "#     def pmi(self, pair_str):\n",
    "#         w1, w2 = pair_str.split()\n",
    "#         return (\n",
    "#                 self.model.prob(pair_str, log=True) - \n",
    "#                 (self.model.prob(w1, log=True) + \n",
    "#                  self.model.prob(w2, log=True))\n",
    "#                )\n",
    "\n",
    "#     def process_object(self, row):\n",
    "#         pairs, pmis = [], []\n",
    "#         for text in row:\n",
    "#             cur_pairs = list(self.model.iter_ngrams(text, padding=False))\n",
    "#             pairs.extend(cur_pairs)\n",
    "#             pmis.extend(map(self.pmi, cur_pairs))\n",
    "            \n",
    "#         return sorted(zip(pairs, pmis), key=lambda t:t[1]), np.mean(pmis)\n",
    "    \n",
    "    \n",
    "#     # distribution at q=99.5 is very narrow\n",
    "#     # -> q=95 is broader and retains 90% of objects\n",
    "#     @staticmethod\n",
    "#     def percentile_norm(v, q=95):\n",
    "#         return (v - np.percentile(v, 100-q))/(np.percentile(v, q) - np.percentile(v, 100-q))\n",
    "\n",
    "#     # taking sqrt implies scores centered & symmetric around 0.5\n",
    "#     # (otherwise high skew towards 0)\n",
    "#     def norm(self, v, q=95, do_sqrt=False):\n",
    "#         normed = self.percentile_norm(v, q)\n",
    "#         return normed**0.5 if do_sqrt else normed\n",
    "        \n",
    "        \n",
    "    \n",
    "#     def process_objects(self, rows):\n",
    "#         tuples = rows.progress_apply(\n",
    "#                     axis='columns', \n",
    "#                     func=self.process_object\n",
    "#                 )\n",
    "        \n",
    "#         scores = tuples.apply(lambda t: t[1])\n",
    "#         scores = self.norm(scores, do_sqrt=True)\n",
    "#         scores.name = \"scores\"\n",
    "        \n",
    "        \n",
    "#         details = tuples.apply(lambda t: t[0])\n",
    "#         all_vals = np.asarray([v for obj_details in details for pair, v in obj_details])\n",
    "#         val_dict = dict(zip(all_vals, self.norm(all_vals)))\n",
    "#         def swap_values(pair_ls, keep_top=2):\n",
    "#             return sorted([(w, val_dict[v]) for w, v in pair_ls],\n",
    "#                           key=lambda t: t[1],\n",
    "#                           reverse=True)[:keep_top]\n",
    "#         details.apply(swap_values)\n",
    "#         details.name = \"score details\"\n",
    "#         return scores, details\n"
   ]
  },
  {
   "cell_type": "code",
   "execution_count": 22,
   "id": "ebb491f3",
   "metadata": {},
   "outputs": [],
   "source": [
    "class PMI:\n",
    "    def __init__(self, texts, **model_params):\n",
    "        default_params = dict(ns=2, documents=texts, precompute_freqs=True)\n",
    "        default_params.update(model_params)\n",
    "        self.model = Ngram(**default_params)\n",
    "        \n",
    "    def pmi(self, pair_str):\n",
    "        w1, w2 = pair_str.split()\n",
    "        return (\n",
    "                self.model.prob(pair_str, log=True) - \n",
    "                (self.model.prob(w1, log=True) + \n",
    "                 self.model.prob(w2, log=True))\n",
    "               )\n",
    "\n",
    "    def process_object(self, row):\n",
    "        pairs, pmis = [], []\n",
    "        for text in row:\n",
    "            cur_pairs = list(self.model.iter_ngrams(text, padding=False))\n",
    "            pairs.extend(cur_pairs)\n",
    "            pmis.extend(map(self.pmi, cur_pairs))\n",
    "            \n",
    "        return sorted(zip(pairs, pmis), key=lambda t:t[1]), np.mean(pmis)\n",
    "    \n",
    "    \n",
    "    # distribution at q=99.5 is very narrow\n",
    "    # -> q=95 is broader and retains 90% of objects\n",
    "    @staticmethod\n",
    "    def percentile_norm(v, q=95):\n",
    "        return (v - np.percentile(v, 100-q))/(np.percentile(v, q) - np.percentile(v, 100-q))\n",
    "\n",
    "    # taking sqrt implies scores centered & symmetric around 0.5\n",
    "    # (otherwise high skew towards 0)\n",
    "    def norm(self, v, q=95, do_sqrt=False):\n",
    "        normed = self.percentile_norm(v, q)\n",
    "        return normed**0.5 if do_sqrt else normed\n",
    "        \n",
    "        \n",
    "    \n",
    "    def process_objects(self, rows):\n",
    "        tuples = rows.progress_apply(\n",
    "                    axis='columns', \n",
    "                    func=self.process_object\n",
    "                )\n",
    "        \n",
    "        scores = tuples.apply(lambda t: t[1])\n",
    "#         scores = self.norm(scores, do_sqrt=True)\n",
    "        scores.name = \"scores\"\n",
    "        \n",
    "        \n",
    "        details = tuples.apply(lambda t: t[0])\n",
    "        all_vals = np.asarray([v for obj_details in details for pair, v in obj_details])\n",
    "        val_dict = dict(zip(all_vals, self.norm(all_vals)))\n",
    "        def swap_values(pair_ls, keep_top=2):\n",
    "            return sorted([(w, val_dict[v]) for w, v in pair_ls],\n",
    "                          key=lambda t: t[1],\n",
    "                          reverse=True)[:keep_top]\n",
    "        details.apply(swap_values)\n",
    "        details.name = \"score details\"\n",
    "        return scores, details\n"
   ]
  },
  {
   "cell_type": "code",
   "execution_count": 23,
   "id": "e5809c04",
   "metadata": {},
   "outputs": [
    {
     "name": "stderr",
     "output_type": "stream",
     "text": [
      "(1, 2)-grams: Padding documents...: 100%|████████████████████████████████████████████████████████████████████████████████████████████████████████████████████████████████████████████████████████| 293388/293388 [00:00<00:00, 1856939.41it/s]\n"
     ]
    },
    {
     "name": "stdout",
     "output_type": "stream",
     "text": [
      "(1, 2)-grams: Term Document Matrix constructed...\n",
      "(1, 2)-grams: Term frequencies precomputed...\n",
      "(1, 2)-grams: Init done\n"
     ]
    }
   ],
   "source": [
    "texts = list(df.Title.fillna(\"\")) + list(df.Description.fillna(\"\"))\n",
    "\n",
    "c = PMI(texts=texts)"
   ]
  },
  {
   "cell_type": "code",
   "execution_count": 24,
   "id": "b75ba690",
   "metadata": {},
   "outputs": [
    {
     "name": "stderr",
     "output_type": "stream",
     "text": [
      "  0%|                                                                                                                                                                                                                | 0/1000 [00:00<?, ?it/s]/home/valentin/.local/lib/python3.10/site-packages/numpy/core/fromnumeric.py:3474: RuntimeWarning: Mean of empty slice.\n",
      "  return _methods._mean(a, axis=axis, dtype=dtype,\n",
      "/home/valentin/.local/lib/python3.10/site-packages/numpy/core/_methods.py:189: RuntimeWarning: invalid value encountered in double_scalars\n",
      "  ret = ret.dtype.type(ret / rcount)\n",
      "100%|███████████████████████████████████████████████████████████████████████████████████████████████████████████████████████████████████████████████████████████████████████████████████████████████████| 1000/1000 [00:00<00:00, 1609.41it/s]\n"
     ]
    }
   ],
   "source": [
    "cur_data = df.fillna(\"\")[[\"Title\", \"Description\"]].iloc[:1000]\n",
    "scores, details = c.process_objects(cur_data)"
   ]
  },
  {
   "cell_type": "code",
   "execution_count": 37,
   "id": "7fe25284",
   "metadata": {},
   "outputs": [
    {
     "data": {
      "text/plain": [
       "nan"
      ]
     },
     "execution_count": 37,
     "metadata": {},
     "output_type": "execute_result"
    }
   ],
   "source": [
    "np.percentile(scores, q=50)"
   ]
  },
  {
   "cell_type": "code",
   "execution_count": 20,
   "id": "ea3d8373",
   "metadata": {},
   "outputs": [
    {
     "data": {
      "text/plain": [
       "0     0.151439\n",
       "1     0.204967\n",
       "2     0.889557\n",
       "3     0.984853\n",
       "4     0.645023\n",
       "5     0.105363\n",
       "6     0.360677\n",
       "7     0.589574\n",
       "8    -0.044660\n",
       "9     0.062796\n",
       "10    0.511570\n",
       "11    0.923574\n",
       "12    0.969598\n",
       "13    0.829749\n",
       "14    0.510157\n",
       "15    1.114575\n",
       "16    1.012393\n",
       "17    1.060358\n",
       "18   -0.068810\n",
       "19    0.746265\n",
       "20    0.416046\n",
       "21    0.312242\n",
       "22    0.028681\n",
       "23    0.161858\n",
       "24    0.272616\n",
       "25    0.969801\n",
       "26    0.164548\n",
       "27    0.234259\n",
       "28    0.028750\n",
       "29   -0.023466\n",
       "30    0.231591\n",
       "31    0.777305\n",
       "32    0.914978\n",
       "33    0.309403\n",
       "34    0.654025\n",
       "35    0.902578\n",
       "36    0.349992\n",
       "37    0.662644\n",
       "38    0.808083\n",
       "39    0.783884\n",
       "40    0.324111\n",
       "41    0.905197\n",
       "42    0.592580\n",
       "43    0.571348\n",
       "44    0.938963\n",
       "45    0.037772\n",
       "46    0.068983\n",
       "47    0.963868\n",
       "48    0.119221\n",
       "49    0.717566\n",
       "dtype: float64"
      ]
     },
     "execution_count": 20,
     "metadata": {},
     "output_type": "execute_result"
    }
   ],
   "source": [
    "scores = pd.Series(np.random.random(50))\n",
    "\n",
    "c.norm(scores)"
   ]
  },
  {
   "cell_type": "markdown",
   "id": "4d1bc82e",
   "metadata": {},
   "source": [
    "---"
   ]
  },
  {
   "cell_type": "code",
   "execution_count": 7,
   "id": "91deb1f3",
   "metadata": {},
   "outputs": [
    {
     "name": "stderr",
     "output_type": "stream",
     "text": [
      "  0%|                                                                                                                                                                                                              | 0/146694 [00:00<?, ?it/s]/home/valentin/.local/lib/python3.10/site-packages/numpy/core/fromnumeric.py:3474: RuntimeWarning: Mean of empty slice.\n",
      "  return _methods._mean(a, axis=axis, dtype=dtype,\n",
      "/home/valentin/.local/lib/python3.10/site-packages/numpy/core/_methods.py:189: RuntimeWarning: invalid value encountered in double_scalars\n",
      "  ret = ret.dtype.type(ret / rcount)\n",
      " 12%|███████████████████████▌                                                                                                                                                                         | 17924/146694 [00:29<03:28, 616.46it/s]\n"
     ]
    },
    {
     "ename": "KeyboardInterrupt",
     "evalue": "",
     "output_type": "error",
     "traceback": [
      "\u001b[0;31m---------------------------------------------------------------------------\u001b[0m",
      "\u001b[0;31mKeyboardInterrupt\u001b[0m                         Traceback (most recent call last)",
      "\u001b[0;32m/tmp/ipykernel_56759/1725081921.py\u001b[0m in \u001b[0;36m<module>\u001b[0;34m\u001b[0m\n\u001b[1;32m      2\u001b[0m \u001b[0mdetails\u001b[0m \u001b[0;34m=\u001b[0m \u001b[0;34m[\u001b[0m\u001b[0;34m]\u001b[0m\u001b[0;34m\u001b[0m\u001b[0;34m\u001b[0m\u001b[0m\n\u001b[1;32m      3\u001b[0m \u001b[0;32mfor\u001b[0m \u001b[0mi\u001b[0m\u001b[0;34m,\u001b[0m \u001b[0mr\u001b[0m \u001b[0;32min\u001b[0m \u001b[0mtqdm\u001b[0m\u001b[0;34m(\u001b[0m\u001b[0mdf\u001b[0m\u001b[0;34m.\u001b[0m\u001b[0mfillna\u001b[0m\u001b[0;34m(\u001b[0m\u001b[0;34m\"\"\u001b[0m\u001b[0;34m)\u001b[0m\u001b[0;34m[\u001b[0m\u001b[0;34m[\u001b[0m\u001b[0;34m\"Title\"\u001b[0m\u001b[0;34m,\u001b[0m \u001b[0;34m\"Description\"\u001b[0m\u001b[0;34m]\u001b[0m\u001b[0;34m]\u001b[0m\u001b[0;34m.\u001b[0m\u001b[0miterrows\u001b[0m\u001b[0;34m(\u001b[0m\u001b[0;34m)\u001b[0m\u001b[0;34m,\u001b[0m \u001b[0mtotal\u001b[0m\u001b[0;34m=\u001b[0m\u001b[0mdf\u001b[0m\u001b[0;34m.\u001b[0m\u001b[0mshape\u001b[0m\u001b[0;34m[\u001b[0m\u001b[0;36m0\u001b[0m\u001b[0;34m]\u001b[0m\u001b[0;34m)\u001b[0m\u001b[0;34m:\u001b[0m\u001b[0;34m\u001b[0m\u001b[0;34m\u001b[0m\u001b[0m\n\u001b[0;32m----> 4\u001b[0;31m     \u001b[0mdetail\u001b[0m\u001b[0;34m,\u001b[0m \u001b[0mscore\u001b[0m \u001b[0;34m=\u001b[0m \u001b[0mc\u001b[0m\u001b[0;34m.\u001b[0m\u001b[0mprocess_object\u001b[0m\u001b[0;34m(\u001b[0m\u001b[0mr\u001b[0m\u001b[0;34m)\u001b[0m\u001b[0;34m\u001b[0m\u001b[0;34m\u001b[0m\u001b[0m\n\u001b[0m\u001b[1;32m      5\u001b[0m     \u001b[0mscores\u001b[0m\u001b[0;34m.\u001b[0m\u001b[0mappend\u001b[0m\u001b[0;34m(\u001b[0m\u001b[0mscore\u001b[0m\u001b[0;34m)\u001b[0m\u001b[0;34m\u001b[0m\u001b[0;34m\u001b[0m\u001b[0m\n\u001b[1;32m      6\u001b[0m     \u001b[0mdetails\u001b[0m\u001b[0;34m.\u001b[0m\u001b[0mappend\u001b[0m\u001b[0;34m(\u001b[0m\u001b[0mdetail\u001b[0m\u001b[0;34m)\u001b[0m\u001b[0;34m\u001b[0m\u001b[0;34m\u001b[0m\u001b[0m\n",
      "\u001b[0;32m/tmp/ipykernel_56759/3466617349.py\u001b[0m in \u001b[0;36mprocess_object\u001b[0;34m(self, row)\u001b[0m\n\u001b[1;32m     18\u001b[0m             \u001b[0mcur_pairs\u001b[0m \u001b[0;34m=\u001b[0m \u001b[0mlist\u001b[0m\u001b[0;34m(\u001b[0m\u001b[0mself\u001b[0m\u001b[0;34m.\u001b[0m\u001b[0mmodel\u001b[0m\u001b[0;34m.\u001b[0m\u001b[0miter_ngrams\u001b[0m\u001b[0;34m(\u001b[0m\u001b[0mtext\u001b[0m\u001b[0;34m,\u001b[0m \u001b[0mpadding\u001b[0m\u001b[0;34m=\u001b[0m\u001b[0;32mFalse\u001b[0m\u001b[0;34m)\u001b[0m\u001b[0;34m)\u001b[0m\u001b[0;34m\u001b[0m\u001b[0;34m\u001b[0m\u001b[0m\n\u001b[1;32m     19\u001b[0m             \u001b[0mpairs\u001b[0m\u001b[0;34m.\u001b[0m\u001b[0mextend\u001b[0m\u001b[0;34m(\u001b[0m\u001b[0mcur_pairs\u001b[0m\u001b[0;34m)\u001b[0m\u001b[0;34m\u001b[0m\u001b[0;34m\u001b[0m\u001b[0m\n\u001b[0;32m---> 20\u001b[0;31m             \u001b[0mpmis\u001b[0m\u001b[0;34m.\u001b[0m\u001b[0mextend\u001b[0m\u001b[0;34m(\u001b[0m\u001b[0mmap\u001b[0m\u001b[0;34m(\u001b[0m\u001b[0mself\u001b[0m\u001b[0;34m.\u001b[0m\u001b[0mpmi\u001b[0m\u001b[0;34m,\u001b[0m \u001b[0mcur_pairs\u001b[0m\u001b[0;34m)\u001b[0m\u001b[0;34m)\u001b[0m\u001b[0;34m\u001b[0m\u001b[0;34m\u001b[0m\u001b[0m\n\u001b[0m\u001b[1;32m     21\u001b[0m \u001b[0;34m\u001b[0m\u001b[0m\n\u001b[1;32m     22\u001b[0m         \u001b[0;32mreturn\u001b[0m \u001b[0msorted\u001b[0m\u001b[0;34m(\u001b[0m\u001b[0mzip\u001b[0m\u001b[0;34m(\u001b[0m\u001b[0mpairs\u001b[0m\u001b[0;34m,\u001b[0m \u001b[0mpmis\u001b[0m\u001b[0;34m)\u001b[0m\u001b[0;34m,\u001b[0m \u001b[0mkey\u001b[0m\u001b[0;34m=\u001b[0m\u001b[0;32mlambda\u001b[0m \u001b[0mt\u001b[0m\u001b[0;34m:\u001b[0m\u001b[0mt\u001b[0m\u001b[0;34m[\u001b[0m\u001b[0;36m1\u001b[0m\u001b[0;34m]\u001b[0m\u001b[0;34m)\u001b[0m\u001b[0;34m,\u001b[0m \u001b[0mnp\u001b[0m\u001b[0;34m.\u001b[0m\u001b[0mmean\u001b[0m\u001b[0;34m(\u001b[0m\u001b[0mpmis\u001b[0m\u001b[0;34m)\u001b[0m\u001b[0;34m\u001b[0m\u001b[0;34m\u001b[0m\u001b[0m\n",
      "\u001b[0;32m/tmp/ipykernel_56759/3466617349.py\u001b[0m in \u001b[0;36mpmi\u001b[0;34m(self, pair_str)\u001b[0m\n\u001b[1;32m     10\u001b[0m                 \u001b[0mself\u001b[0m\u001b[0;34m.\u001b[0m\u001b[0mmodel\u001b[0m\u001b[0;34m.\u001b[0m\u001b[0mprob\u001b[0m\u001b[0;34m(\u001b[0m\u001b[0mpair_str\u001b[0m\u001b[0;34m,\u001b[0m \u001b[0mlog\u001b[0m\u001b[0;34m=\u001b[0m\u001b[0;32mTrue\u001b[0m\u001b[0;34m)\u001b[0m \u001b[0;34m-\u001b[0m\u001b[0;34m\u001b[0m\u001b[0;34m\u001b[0m\u001b[0m\n\u001b[1;32m     11\u001b[0m                 (self.model.prob(w1, log=True) + \n\u001b[0;32m---> 12\u001b[0;31m                  self.model.prob(w2, log=True))\n\u001b[0m\u001b[1;32m     13\u001b[0m                )\n\u001b[1;32m     14\u001b[0m \u001b[0;34m\u001b[0m\u001b[0m\n",
      "\u001b[0;32m~/Desktop/SABIO/backend/v0_5/dev_engines/ngrams.py\u001b[0m in \u001b[0;36mprob\u001b[0;34m(self, log, *w)\u001b[0m\n\u001b[1;32m    142\u001b[0m             \u001b[0;32mreturn\u001b[0m \u001b[0mself\u001b[0m\u001b[0;34m.\u001b[0m\u001b[0mfreq\u001b[0m\u001b[0;34m(\u001b[0m\u001b[0;34m*\u001b[0m\u001b[0mw\u001b[0m\u001b[0;34m)\u001b[0m\u001b[0;34m/\u001b[0m\u001b[0mself\u001b[0m\u001b[0;34m.\u001b[0m\u001b[0mNs\u001b[0m\u001b[0;34m[\u001b[0m\u001b[0mlen\u001b[0m\u001b[0;34m(\u001b[0m\u001b[0mw\u001b[0m\u001b[0;34m)\u001b[0m\u001b[0;34m]\u001b[0m\u001b[0;34m\u001b[0m\u001b[0;34m\u001b[0m\u001b[0m\n\u001b[1;32m    143\u001b[0m \u001b[0;34m\u001b[0m\u001b[0m\n\u001b[0;32m--> 144\u001b[0;31m         \u001b[0;32mreturn\u001b[0m \u001b[0mnp\u001b[0m\u001b[0;34m.\u001b[0m\u001b[0mlog2\u001b[0m\u001b[0;34m(\u001b[0m\u001b[0mself\u001b[0m\u001b[0;34m.\u001b[0m\u001b[0mfreq\u001b[0m\u001b[0;34m(\u001b[0m\u001b[0;34m*\u001b[0m\u001b[0mw\u001b[0m\u001b[0;34m)\u001b[0m\u001b[0;34m)\u001b[0m \u001b[0;34m-\u001b[0m \u001b[0mnp\u001b[0m\u001b[0;34m.\u001b[0m\u001b[0mlog2\u001b[0m\u001b[0;34m(\u001b[0m\u001b[0mself\u001b[0m\u001b[0;34m.\u001b[0m\u001b[0mN\u001b[0m\u001b[0;34m)\u001b[0m\u001b[0;34m\u001b[0m\u001b[0;34m\u001b[0m\u001b[0m\n\u001b[0m\u001b[1;32m    145\u001b[0m \u001b[0;34m\u001b[0m\u001b[0m\n\u001b[1;32m    146\u001b[0m \u001b[0;34m\u001b[0m\u001b[0m\n",
      "\u001b[0;32m~/Desktop/SABIO/backend/v0_5/dev_engines/ngrams.py\u001b[0m in \u001b[0;36mfreq\u001b[0;34m(self, *w)\u001b[0m\n\u001b[1;32m    131\u001b[0m \u001b[0;34m\u001b[0m\u001b[0m\n\u001b[1;32m    132\u001b[0m         \u001b[0;32mif\u001b[0m \u001b[0mself\u001b[0m\u001b[0;34m.\u001b[0m\u001b[0mterm_freqs\u001b[0m \u001b[0;32mis\u001b[0m \u001b[0;32mnot\u001b[0m \u001b[0;32mNone\u001b[0m\u001b[0;34m:\u001b[0m\u001b[0;34m\u001b[0m\u001b[0;34m\u001b[0m\u001b[0m\n\u001b[0;32m--> 133\u001b[0;31m             \u001b[0;32mreturn\u001b[0m \u001b[0mself\u001b[0m\u001b[0;34m.\u001b[0m\u001b[0mterm_freqs\u001b[0m\u001b[0;34m[\u001b[0m\u001b[0;36m0\u001b[0m\u001b[0;34m,\u001b[0m \u001b[0mself\u001b[0m\u001b[0;34m.\u001b[0m\u001b[0mvocab\u001b[0m\u001b[0;34m(\u001b[0m\u001b[0;34m)\u001b[0m\u001b[0;34m[\u001b[0m\u001b[0mjoined\u001b[0m\u001b[0;34m]\u001b[0m\u001b[0;34m]\u001b[0m\u001b[0;34m\u001b[0m\u001b[0;34m\u001b[0m\u001b[0m\n\u001b[0m\u001b[1;32m    134\u001b[0m         \u001b[0;32mreturn\u001b[0m \u001b[0mself\u001b[0m\u001b[0;34m.\u001b[0m\u001b[0mterm_doc_matrix\u001b[0m\u001b[0;34m[\u001b[0m\u001b[0;34m:\u001b[0m\u001b[0;34m,\u001b[0m \u001b[0mself\u001b[0m\u001b[0;34m.\u001b[0m\u001b[0mvocab\u001b[0m\u001b[0;34m(\u001b[0m\u001b[0;34m)\u001b[0m\u001b[0;34m[\u001b[0m\u001b[0mjoined\u001b[0m\u001b[0;34m]\u001b[0m\u001b[0;34m]\u001b[0m\u001b[0;34m.\u001b[0m\u001b[0msum\u001b[0m\u001b[0;34m(\u001b[0m\u001b[0;34m)\u001b[0m\u001b[0;34m\u001b[0m\u001b[0;34m\u001b[0m\u001b[0m\n\u001b[1;32m    135\u001b[0m \u001b[0;34m\u001b[0m\u001b[0m\n",
      "\u001b[0;32m~/.local/lib/python3.10/site-packages/numpy/matrixlib/defmatrix.py\u001b[0m in \u001b[0;36m__getitem__\u001b[0;34m(self, index)\u001b[0m\n\u001b[1;32m    195\u001b[0m             \u001b[0mself\u001b[0m\u001b[0;34m.\u001b[0m\u001b[0m_getitem\u001b[0m \u001b[0;34m=\u001b[0m \u001b[0;32mFalse\u001b[0m\u001b[0;34m\u001b[0m\u001b[0;34m\u001b[0m\u001b[0m\n\u001b[1;32m    196\u001b[0m \u001b[0;34m\u001b[0m\u001b[0m\n\u001b[0;32m--> 197\u001b[0;31m         \u001b[0;32mif\u001b[0m \u001b[0;32mnot\u001b[0m \u001b[0misinstance\u001b[0m\u001b[0;34m(\u001b[0m\u001b[0mout\u001b[0m\u001b[0;34m,\u001b[0m \u001b[0mN\u001b[0m\u001b[0;34m.\u001b[0m\u001b[0mndarray\u001b[0m\u001b[0;34m)\u001b[0m\u001b[0;34m:\u001b[0m\u001b[0;34m\u001b[0m\u001b[0;34m\u001b[0m\u001b[0m\n\u001b[0m\u001b[1;32m    198\u001b[0m             \u001b[0;32mreturn\u001b[0m \u001b[0mout\u001b[0m\u001b[0;34m\u001b[0m\u001b[0;34m\u001b[0m\u001b[0m\n\u001b[1;32m    199\u001b[0m \u001b[0;34m\u001b[0m\u001b[0m\n",
      "\u001b[0;31mKeyboardInterrupt\u001b[0m: "
     ]
    }
   ],
   "source": [
    "scores = []\n",
    "details = []\n",
    "for i, r in tqdm(df.fillna(\"\")[[\"Title\", \"Description\"]].iterrows(), total=df.shape[0]):\n",
    "    detail, score = c.process_object(r)\n",
    "    scores.append(score)\n",
    "    details.append(detail)"
   ]
  },
  {
   "cell_type": "markdown",
   "id": "73d623a3",
   "metadata": {},
   "source": [
    "---\n",
    "# normalising"
   ]
  },
  {
   "cell_type": "code",
   "execution_count": null,
   "id": "64405a4d",
   "metadata": {},
   "outputs": [],
   "source": [
    "_=plt.hist(scores, bins=100)"
   ]
  },
  {
   "cell_type": "code",
   "execution_count": null,
   "id": "c8a5eb8e",
   "metadata": {},
   "outputs": [],
   "source": [
    "def percentile_norm(v, q=99.5):\n",
    "    return (v - np.percentile(v, 100-q))/(np.percentile(v, q) - np.percentile(v, 100-q))\n",
    "\n",
    "a = np.asarray(scores)\n",
    "a = a[~np.isnan(a)]\n",
    "\n",
    "plt.hist(percentile_norm(a, q=95)**0.5, bins=100)\n",
    "plt.xlim((0, 1))"
   ]
  },
  {
   "cell_type": "code",
   "execution_count": null,
   "id": "0817d9d8",
   "metadata": {},
   "outputs": [],
   "source": [
    "normed = percentile_norm(a, q=95)\n",
    "\n",
    "((normed <= 1) & (normed >= 0)).sum()/normed.shape[0]"
   ]
  },
  {
   "cell_type": "markdown",
   "id": "4ebe8cbe",
   "metadata": {},
   "source": [
    "## details"
   ]
  },
  {
   "cell_type": "code",
   "execution_count": null,
   "id": "7073768d",
   "metadata": {},
   "outputs": [],
   "source": [
    "all_vals = np.asarray([v for obj_details in details for pair, v in obj_details])\n",
    "\n",
    "_=plt.hist(percentile_norm(all_vals, q=95), bins=100)\n",
    "plt.xlim((0, 1))"
   ]
  },
  {
   "cell_type": "code",
   "execution_count": null,
   "id": "329da433",
   "metadata": {},
   "outputs": [],
   "source": [
    "len(set(all_vals))/len(all_vals)"
   ]
  },
  {
   "cell_type": "markdown",
   "id": "249385a3",
   "metadata": {},
   "source": [
    "---\n",
    "# other stuff"
   ]
  },
  {
   "cell_type": "code",
   "execution_count": null,
   "id": "391f53e0",
   "metadata": {},
   "outputs": [],
   "source": [
    "w, u = \"gevaarlijke handelsexpedities\".split()\n",
    "c.model.freq(f\"{w} {u}\"), c.model.freq(w), c.model.freq(u)"
   ]
  },
  {
   "cell_type": "code",
   "execution_count": null,
   "id": "83e9882a",
   "metadata": {},
   "outputs": [],
   "source": []
  }
 ],
 "metadata": {
  "kernelspec": {
   "display_name": "Python 3 (ipykernel)",
   "language": "python",
   "name": "python3"
  },
  "language_info": {
   "codemirror_mode": {
    "name": "ipython",
    "version": 3
   },
   "file_extension": ".py",
   "mimetype": "text/x-python",
   "name": "python",
   "nbconvert_exporter": "python",
   "pygments_lexer": "ipython3",
   "version": "3.10.2"
  }
 },
 "nbformat": 4,
 "nbformat_minor": 5
}

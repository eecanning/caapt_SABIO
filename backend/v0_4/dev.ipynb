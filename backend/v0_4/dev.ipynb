{
 "cells": [
  {
   "cell_type": "code",
   "execution_count": 51,
   "id": "c01ef6d8",
   "metadata": {},
   "outputs": [],
   "source": [
    "import numpy as np\n",
    "import pandas as pd\n",
    "from tqdm import tqdm"
   ]
  },
  {
   "cell_type": "code",
   "execution_count": 3,
   "id": "e30d901a",
   "metadata": {
    "collapsed": true
   },
   "outputs": [
    {
     "ename": "FileNotFoundError",
     "evalue": "[Errno 2] No such file or directory: 'NMvW_data/v0.csv.gz'",
     "output_type": "error",
     "traceback": [
      "\u001b[0;31m---------------------------------------------------------------------------\u001b[0m",
      "\u001b[0;31mFileNotFoundError\u001b[0m                         Traceback (most recent call last)",
      "\u001b[0;32m/tmp/ipykernel_3119/2419965480.py\u001b[0m in \u001b[0;36m<module>\u001b[0;34m\u001b[0m\n\u001b[0;32m----> 1\u001b[0;31m df = pd.read_csv(\"NMvW_data/v0.csv.gz\", \n\u001b[0m\u001b[1;32m      2\u001b[0m                  dtype=dict(Provenance=\"string\", RelatedWorks=\"string\"))\n\u001b[1;32m      3\u001b[0m \u001b[0;34m\u001b[0m\u001b[0m\n\u001b[1;32m      4\u001b[0m \u001b[0;31m# TODO: save & load DF s.t. these lines are not necessary here\u001b[0m\u001b[0;34m\u001b[0m\u001b[0;34m\u001b[0m\u001b[0m\n\u001b[1;32m      5\u001b[0m \u001b[0mdf\u001b[0m\u001b[0;34m[\u001b[0m\u001b[0;34m\"ObjectID\"\u001b[0m\u001b[0;34m]\u001b[0m \u001b[0;34m=\u001b[0m \u001b[0mdf\u001b[0m\u001b[0;34m.\u001b[0m\u001b[0mObjectID\u001b[0m\u001b[0;34m.\u001b[0m\u001b[0mastype\u001b[0m\u001b[0;34m(\u001b[0m\u001b[0;34m\"int\"\u001b[0m\u001b[0;34m)\u001b[0m\u001b[0;34m\u001b[0m\u001b[0;34m\u001b[0m\u001b[0m\n",
      "\u001b[0;32m~/.local/lib/python3.10/site-packages/pandas/util/_decorators.py\u001b[0m in \u001b[0;36mwrapper\u001b[0;34m(*args, **kwargs)\u001b[0m\n\u001b[1;32m    309\u001b[0m                     \u001b[0mstacklevel\u001b[0m\u001b[0;34m=\u001b[0m\u001b[0mstacklevel\u001b[0m\u001b[0;34m,\u001b[0m\u001b[0;34m\u001b[0m\u001b[0;34m\u001b[0m\u001b[0m\n\u001b[1;32m    310\u001b[0m                 )\n\u001b[0;32m--> 311\u001b[0;31m             \u001b[0;32mreturn\u001b[0m \u001b[0mfunc\u001b[0m\u001b[0;34m(\u001b[0m\u001b[0;34m*\u001b[0m\u001b[0margs\u001b[0m\u001b[0;34m,\u001b[0m \u001b[0;34m**\u001b[0m\u001b[0mkwargs\u001b[0m\u001b[0;34m)\u001b[0m\u001b[0;34m\u001b[0m\u001b[0;34m\u001b[0m\u001b[0m\n\u001b[0m\u001b[1;32m    312\u001b[0m \u001b[0;34m\u001b[0m\u001b[0m\n\u001b[1;32m    313\u001b[0m         \u001b[0;32mreturn\u001b[0m \u001b[0mwrapper\u001b[0m\u001b[0;34m\u001b[0m\u001b[0;34m\u001b[0m\u001b[0m\n",
      "\u001b[0;32m~/.local/lib/python3.10/site-packages/pandas/io/parsers/readers.py\u001b[0m in \u001b[0;36mread_csv\u001b[0;34m(filepath_or_buffer, sep, delimiter, header, names, index_col, usecols, squeeze, prefix, mangle_dupe_cols, dtype, engine, converters, true_values, false_values, skipinitialspace, skiprows, skipfooter, nrows, na_values, keep_default_na, na_filter, verbose, skip_blank_lines, parse_dates, infer_datetime_format, keep_date_col, date_parser, dayfirst, cache_dates, iterator, chunksize, compression, thousands, decimal, lineterminator, quotechar, quoting, doublequote, escapechar, comment, encoding, encoding_errors, dialect, error_bad_lines, warn_bad_lines, on_bad_lines, delim_whitespace, low_memory, memory_map, float_precision, storage_options)\u001b[0m\n\u001b[1;32m    584\u001b[0m     \u001b[0mkwds\u001b[0m\u001b[0;34m.\u001b[0m\u001b[0mupdate\u001b[0m\u001b[0;34m(\u001b[0m\u001b[0mkwds_defaults\u001b[0m\u001b[0;34m)\u001b[0m\u001b[0;34m\u001b[0m\u001b[0;34m\u001b[0m\u001b[0m\n\u001b[1;32m    585\u001b[0m \u001b[0;34m\u001b[0m\u001b[0m\n\u001b[0;32m--> 586\u001b[0;31m     \u001b[0;32mreturn\u001b[0m \u001b[0m_read\u001b[0m\u001b[0;34m(\u001b[0m\u001b[0mfilepath_or_buffer\u001b[0m\u001b[0;34m,\u001b[0m \u001b[0mkwds\u001b[0m\u001b[0;34m)\u001b[0m\u001b[0;34m\u001b[0m\u001b[0;34m\u001b[0m\u001b[0m\n\u001b[0m\u001b[1;32m    587\u001b[0m \u001b[0;34m\u001b[0m\u001b[0m\n\u001b[1;32m    588\u001b[0m \u001b[0;34m\u001b[0m\u001b[0m\n",
      "\u001b[0;32m~/.local/lib/python3.10/site-packages/pandas/io/parsers/readers.py\u001b[0m in \u001b[0;36m_read\u001b[0;34m(filepath_or_buffer, kwds)\u001b[0m\n\u001b[1;32m    480\u001b[0m \u001b[0;34m\u001b[0m\u001b[0m\n\u001b[1;32m    481\u001b[0m     \u001b[0;31m# Create the parser.\u001b[0m\u001b[0;34m\u001b[0m\u001b[0;34m\u001b[0m\u001b[0m\n\u001b[0;32m--> 482\u001b[0;31m     \u001b[0mparser\u001b[0m \u001b[0;34m=\u001b[0m \u001b[0mTextFileReader\u001b[0m\u001b[0;34m(\u001b[0m\u001b[0mfilepath_or_buffer\u001b[0m\u001b[0;34m,\u001b[0m \u001b[0;34m**\u001b[0m\u001b[0mkwds\u001b[0m\u001b[0;34m)\u001b[0m\u001b[0;34m\u001b[0m\u001b[0;34m\u001b[0m\u001b[0m\n\u001b[0m\u001b[1;32m    483\u001b[0m \u001b[0;34m\u001b[0m\u001b[0m\n\u001b[1;32m    484\u001b[0m     \u001b[0;32mif\u001b[0m \u001b[0mchunksize\u001b[0m \u001b[0;32mor\u001b[0m \u001b[0miterator\u001b[0m\u001b[0;34m:\u001b[0m\u001b[0;34m\u001b[0m\u001b[0;34m\u001b[0m\u001b[0m\n",
      "\u001b[0;32m~/.local/lib/python3.10/site-packages/pandas/io/parsers/readers.py\u001b[0m in \u001b[0;36m__init__\u001b[0;34m(self, f, engine, **kwds)\u001b[0m\n\u001b[1;32m    809\u001b[0m             \u001b[0mself\u001b[0m\u001b[0;34m.\u001b[0m\u001b[0moptions\u001b[0m\u001b[0;34m[\u001b[0m\u001b[0;34m\"has_index_names\"\u001b[0m\u001b[0;34m]\u001b[0m \u001b[0;34m=\u001b[0m \u001b[0mkwds\u001b[0m\u001b[0;34m[\u001b[0m\u001b[0;34m\"has_index_names\"\u001b[0m\u001b[0;34m]\u001b[0m\u001b[0;34m\u001b[0m\u001b[0;34m\u001b[0m\u001b[0m\n\u001b[1;32m    810\u001b[0m \u001b[0;34m\u001b[0m\u001b[0m\n\u001b[0;32m--> 811\u001b[0;31m         \u001b[0mself\u001b[0m\u001b[0;34m.\u001b[0m\u001b[0m_engine\u001b[0m \u001b[0;34m=\u001b[0m \u001b[0mself\u001b[0m\u001b[0;34m.\u001b[0m\u001b[0m_make_engine\u001b[0m\u001b[0;34m(\u001b[0m\u001b[0mself\u001b[0m\u001b[0;34m.\u001b[0m\u001b[0mengine\u001b[0m\u001b[0;34m)\u001b[0m\u001b[0;34m\u001b[0m\u001b[0;34m\u001b[0m\u001b[0m\n\u001b[0m\u001b[1;32m    812\u001b[0m \u001b[0;34m\u001b[0m\u001b[0m\n\u001b[1;32m    813\u001b[0m     \u001b[0;32mdef\u001b[0m \u001b[0mclose\u001b[0m\u001b[0;34m(\u001b[0m\u001b[0mself\u001b[0m\u001b[0;34m)\u001b[0m\u001b[0;34m:\u001b[0m\u001b[0;34m\u001b[0m\u001b[0;34m\u001b[0m\u001b[0m\n",
      "\u001b[0;32m~/.local/lib/python3.10/site-packages/pandas/io/parsers/readers.py\u001b[0m in \u001b[0;36m_make_engine\u001b[0;34m(self, engine)\u001b[0m\n\u001b[1;32m   1038\u001b[0m             )\n\u001b[1;32m   1039\u001b[0m         \u001b[0;31m# error: Too many arguments for \"ParserBase\"\u001b[0m\u001b[0;34m\u001b[0m\u001b[0;34m\u001b[0m\u001b[0m\n\u001b[0;32m-> 1040\u001b[0;31m         \u001b[0;32mreturn\u001b[0m \u001b[0mmapping\u001b[0m\u001b[0;34m[\u001b[0m\u001b[0mengine\u001b[0m\u001b[0;34m]\u001b[0m\u001b[0;34m(\u001b[0m\u001b[0mself\u001b[0m\u001b[0;34m.\u001b[0m\u001b[0mf\u001b[0m\u001b[0;34m,\u001b[0m \u001b[0;34m**\u001b[0m\u001b[0mself\u001b[0m\u001b[0;34m.\u001b[0m\u001b[0moptions\u001b[0m\u001b[0;34m)\u001b[0m  \u001b[0;31m# type: ignore[call-arg]\u001b[0m\u001b[0;34m\u001b[0m\u001b[0;34m\u001b[0m\u001b[0m\n\u001b[0m\u001b[1;32m   1041\u001b[0m \u001b[0;34m\u001b[0m\u001b[0m\n\u001b[1;32m   1042\u001b[0m     \u001b[0;32mdef\u001b[0m \u001b[0m_failover_to_python\u001b[0m\u001b[0;34m(\u001b[0m\u001b[0mself\u001b[0m\u001b[0;34m)\u001b[0m\u001b[0;34m:\u001b[0m\u001b[0;34m\u001b[0m\u001b[0;34m\u001b[0m\u001b[0m\n",
      "\u001b[0;32m~/.local/lib/python3.10/site-packages/pandas/io/parsers/c_parser_wrapper.py\u001b[0m in \u001b[0;36m__init__\u001b[0;34m(self, src, **kwds)\u001b[0m\n\u001b[1;32m     49\u001b[0m \u001b[0;34m\u001b[0m\u001b[0m\n\u001b[1;32m     50\u001b[0m         \u001b[0;31m# open handles\u001b[0m\u001b[0;34m\u001b[0m\u001b[0;34m\u001b[0m\u001b[0m\n\u001b[0;32m---> 51\u001b[0;31m         \u001b[0mself\u001b[0m\u001b[0;34m.\u001b[0m\u001b[0m_open_handles\u001b[0m\u001b[0;34m(\u001b[0m\u001b[0msrc\u001b[0m\u001b[0;34m,\u001b[0m \u001b[0mkwds\u001b[0m\u001b[0;34m)\u001b[0m\u001b[0;34m\u001b[0m\u001b[0;34m\u001b[0m\u001b[0m\n\u001b[0m\u001b[1;32m     52\u001b[0m         \u001b[0;32massert\u001b[0m \u001b[0mself\u001b[0m\u001b[0;34m.\u001b[0m\u001b[0mhandles\u001b[0m \u001b[0;32mis\u001b[0m \u001b[0;32mnot\u001b[0m \u001b[0;32mNone\u001b[0m\u001b[0;34m\u001b[0m\u001b[0;34m\u001b[0m\u001b[0m\n\u001b[1;32m     53\u001b[0m \u001b[0;34m\u001b[0m\u001b[0m\n",
      "\u001b[0;32m~/.local/lib/python3.10/site-packages/pandas/io/parsers/base_parser.py\u001b[0m in \u001b[0;36m_open_handles\u001b[0;34m(self, src, kwds)\u001b[0m\n\u001b[1;32m    220\u001b[0m         \u001b[0mLet\u001b[0m \u001b[0mthe\u001b[0m \u001b[0mreaders\u001b[0m \u001b[0mopen\u001b[0m \u001b[0mIOHandles\u001b[0m \u001b[0mafter\u001b[0m \u001b[0mthey\u001b[0m \u001b[0mare\u001b[0m \u001b[0mdone\u001b[0m \u001b[0;32mwith\u001b[0m \u001b[0mtheir\u001b[0m \u001b[0mpotential\u001b[0m \u001b[0mraises\u001b[0m\u001b[0;34m.\u001b[0m\u001b[0;34m\u001b[0m\u001b[0;34m\u001b[0m\u001b[0m\n\u001b[1;32m    221\u001b[0m         \"\"\"\n\u001b[0;32m--> 222\u001b[0;31m         self.handles = get_handle(\n\u001b[0m\u001b[1;32m    223\u001b[0m             \u001b[0msrc\u001b[0m\u001b[0;34m,\u001b[0m\u001b[0;34m\u001b[0m\u001b[0;34m\u001b[0m\u001b[0m\n\u001b[1;32m    224\u001b[0m             \u001b[0;34m\"r\"\u001b[0m\u001b[0;34m,\u001b[0m\u001b[0;34m\u001b[0m\u001b[0;34m\u001b[0m\u001b[0m\n",
      "\u001b[0;32m~/.local/lib/python3.10/site-packages/pandas/io/common.py\u001b[0m in \u001b[0;36mget_handle\u001b[0;34m(path_or_buf, mode, encoding, compression, memory_map, is_text, errors, storage_options)\u001b[0m\n\u001b[1;32m    640\u001b[0m             \u001b[0;32mif\u001b[0m \u001b[0mis_path\u001b[0m\u001b[0;34m:\u001b[0m\u001b[0;34m\u001b[0m\u001b[0;34m\u001b[0m\u001b[0m\n\u001b[1;32m    641\u001b[0m                 \u001b[0;32massert\u001b[0m \u001b[0misinstance\u001b[0m\u001b[0;34m(\u001b[0m\u001b[0mhandle\u001b[0m\u001b[0;34m,\u001b[0m \u001b[0mstr\u001b[0m\u001b[0;34m)\u001b[0m\u001b[0;34m\u001b[0m\u001b[0;34m\u001b[0m\u001b[0m\n\u001b[0;32m--> 642\u001b[0;31m                 handle = gzip.GzipFile(\n\u001b[0m\u001b[1;32m    643\u001b[0m                     \u001b[0mfilename\u001b[0m\u001b[0;34m=\u001b[0m\u001b[0mhandle\u001b[0m\u001b[0;34m,\u001b[0m\u001b[0;34m\u001b[0m\u001b[0;34m\u001b[0m\u001b[0m\n\u001b[1;32m    644\u001b[0m                     \u001b[0mmode\u001b[0m\u001b[0;34m=\u001b[0m\u001b[0mioargs\u001b[0m\u001b[0;34m.\u001b[0m\u001b[0mmode\u001b[0m\u001b[0;34m,\u001b[0m\u001b[0;34m\u001b[0m\u001b[0;34m\u001b[0m\u001b[0m\n",
      "\u001b[0;32m/usr/lib/python3.10/gzip.py\u001b[0m in \u001b[0;36m__init__\u001b[0;34m(self, filename, mode, compresslevel, fileobj, mtime)\u001b[0m\n\u001b[1;32m    172\u001b[0m             \u001b[0mmode\u001b[0m \u001b[0;34m+=\u001b[0m \u001b[0;34m'b'\u001b[0m\u001b[0;34m\u001b[0m\u001b[0;34m\u001b[0m\u001b[0m\n\u001b[1;32m    173\u001b[0m         \u001b[0;32mif\u001b[0m \u001b[0mfileobj\u001b[0m \u001b[0;32mis\u001b[0m \u001b[0;32mNone\u001b[0m\u001b[0;34m:\u001b[0m\u001b[0;34m\u001b[0m\u001b[0;34m\u001b[0m\u001b[0m\n\u001b[0;32m--> 174\u001b[0;31m             \u001b[0mfileobj\u001b[0m \u001b[0;34m=\u001b[0m \u001b[0mself\u001b[0m\u001b[0;34m.\u001b[0m\u001b[0mmyfileobj\u001b[0m \u001b[0;34m=\u001b[0m \u001b[0mbuiltins\u001b[0m\u001b[0;34m.\u001b[0m\u001b[0mopen\u001b[0m\u001b[0;34m(\u001b[0m\u001b[0mfilename\u001b[0m\u001b[0;34m,\u001b[0m \u001b[0mmode\u001b[0m \u001b[0;32mor\u001b[0m \u001b[0;34m'rb'\u001b[0m\u001b[0;34m)\u001b[0m\u001b[0;34m\u001b[0m\u001b[0;34m\u001b[0m\u001b[0m\n\u001b[0m\u001b[1;32m    175\u001b[0m         \u001b[0;32mif\u001b[0m \u001b[0mfilename\u001b[0m \u001b[0;32mis\u001b[0m \u001b[0;32mNone\u001b[0m\u001b[0;34m:\u001b[0m\u001b[0;34m\u001b[0m\u001b[0;34m\u001b[0m\u001b[0m\n\u001b[1;32m    176\u001b[0m             \u001b[0mfilename\u001b[0m \u001b[0;34m=\u001b[0m \u001b[0mgetattr\u001b[0m\u001b[0;34m(\u001b[0m\u001b[0mfileobj\u001b[0m\u001b[0;34m,\u001b[0m \u001b[0;34m'name'\u001b[0m\u001b[0;34m,\u001b[0m \u001b[0;34m''\u001b[0m\u001b[0;34m)\u001b[0m\u001b[0;34m\u001b[0m\u001b[0;34m\u001b[0m\u001b[0m\n",
      "\u001b[0;31mFileNotFoundError\u001b[0m: [Errno 2] No such file or directory: 'NMvW_data/v0.csv.gz'"
     ]
    }
   ],
   "source": [
    "df = pd.read_csv(\"NMvW_data/v0.csv.gz\", \n",
    "                 dtype=dict(Provenance=\"string\", RelatedWorks=\"string\"))\n",
    "\n",
    "# TODO: save & load DF s.t. these lines are not necessary here                \n",
    "df[\"ObjectID\"] = df.ObjectID.astype(\"int\")\n",
    "df = df.set_index(\"ObjectID\")"
   ]
  },
  {
   "cell_type": "code",
   "execution_count": null,
   "id": "ae026330",
   "metadata": {},
   "outputs": [],
   "source": [
    "df2 = df[(df.BeginISODate+df.EndISODate) > 0]\n",
    "\n",
    "df2.apply(lambda r: len(str(r.Title) + str(r.Description)) > 6, axis=\"columns\").sum()/df2.shape[0]"
   ]
  },
  {
   "cell_type": "code",
   "execution_count": null,
   "id": "3df12b4f",
   "metadata": {},
   "outputs": [],
   "source": [
    "type(df2.iloc[0].Description)"
   ]
  },
  {
   "cell_type": "code",
   "execution_count": null,
   "id": "0d2b2612",
   "metadata": {},
   "outputs": [],
   "source": [
    "\n",
    "import spacy\n",
    "from nltk import Tree\n",
    "\n",
    "nlp = spacy.load(\"nl_core_news_sm\")\n",
    "\n",
    "def to_nltk_tree(node):\n",
    "    if node.n_lefts + node.n_rights > 0:\n",
    "        return Tree(node.orth_, [to_nltk_tree(child) for child in node.children])\n",
    "    else:\n",
    "        return node.orth_\n",
    "    \n",
    "doc = nlp(df.Description.dropna().iloc[0])\n",
    "print(doc)\n",
    "[to_nltk_tree(sent.root).pretty_print() for sent in doc.sents]"
   ]
  },
  {
   "cell_type": "code",
   "execution_count": null,
   "id": "d4871e11",
   "metadata": {},
   "outputs": [],
   "source": [
    "from spacy import displacy\n",
    "displacy.render(doc, style='dep')"
   ]
  },
  {
   "cell_type": "code",
   "execution_count": null,
   "id": "7335db38",
   "metadata": {},
   "outputs": [],
   "source": [
    "[nlp(t) for t in tqdm(df.Description) if isinstance(t, str)]"
   ]
  },
  {
   "cell_type": "markdown",
   "id": "4626b8d4",
   "metadata": {},
   "source": [
    "---\n",
    "# Search"
   ]
  },
  {
   "cell_type": "code",
   "execution_count": null,
   "id": "902ad113",
   "metadata": {},
   "outputs": [],
   "source": [
    "kws = \"\" # \"hello, goodbye\"\n",
    "prep_kws = \"|\".join(kws.lower().replace(\", \", \",\").split(\",\"))\n",
    "        \n",
    "if (not kws.strip()) or (not prep_kws):\n",
    "    does_contain = [True]*df.shape[0]\n",
    "else:\n",
    "    print(\"what\")\n",
    "    \n",
    "print(does_contain)"
   ]
  },
  {
   "cell_type": "code",
   "execution_count": null,
   "id": "d0585cdf",
   "metadata": {},
   "outputs": [],
   "source": [
    "from urllib.parse import unquote\n",
    "\n",
    "unquote('\"objectKeywords\"%3A\"\"%2C\"objectStartDate\"%3A\"\"%2C\"objectEndDate\"')"
   ]
  },
  {
   "cell_type": "markdown",
   "id": "1e0b2c84",
   "metadata": {},
   "source": [
    "---\n",
    "# Dates\n",
    "\n",
    " 1. make all dates at least 1 (because python cannot deal with years <= 0)  \n",
    "    (or drop non-positive dates)  \n",
    "    (drop objects with EndISODate <= 0 in any case (doesn't make any sense))  \n",
    " \n",
    " 2. convert all year values to %Y-%m-%d format (expected by Werner's API)  \n",
    "    (by using datetime.strptime; allows comparison with > )  "
   ]
  },
  {
   "cell_type": "code",
   "execution_count": null,
   "id": "a9d87b5e",
   "metadata": {},
   "outputs": [],
   "source": [
    "from datetime import datetime\n",
    "frmt = \"%Y-%m-%d\"\n",
    "start_year, end_year = datetime.strptime(\"2011-02-01\", frmt), datetime.strptime(\"2013-10-02\", frmt)"
   ]
  },
  {
   "cell_type": "code",
   "execution_count": null,
   "id": "d77ab1f6",
   "metadata": {},
   "outputs": [],
   "source": [
    "(start_year.year > df.BeginISODate).sum()"
   ]
  },
  {
   "cell_type": "code",
   "execution_count": null,
   "id": "60b94eda",
   "metadata": {},
   "outputs": [],
   "source": [
    "df.BeginISODate[(df.BeginISODate > 1500)].hist(bins=100)"
   ]
  },
  {
   "cell_type": "markdown",
   "id": "2bd3ac29",
   "metadata": {},
   "source": [
    "### 1."
   ]
  },
  {
   "cell_type": "code",
   "execution_count": null,
   "id": "269e0239",
   "metadata": {},
   "outputs": [],
   "source": [
    "df = df[df.EndISODate > 0]\n",
    "\n",
    "# drop\n",
    "df = df[df.BeginISODate > 0]\n",
    "\n",
    "# change\n",
    "df[\"BeginISODate\"] = df.BeginISODate.replace(0, 1)"
   ]
  },
  {
   "cell_type": "markdown",
   "id": "81adcb62",
   "metadata": {},
   "source": [
    "### 2."
   ]
  },
  {
   "cell_type": "code",
   "execution_count": null,
   "id": "7afd99c6",
   "metadata": {},
   "outputs": [],
   "source": [
    "df[\"start_date\"] = df.BeginISODate.astype(str).str.zfill(4).apply(lambda s: dt.strptime(s, \"%Y\"))\n",
    "df[\"end_date\"] = df.EndISODate.astype(str).str.zfill(4).apply(lambda s: dt.strptime(s, \"%Y\"))"
   ]
  },
  {
   "cell_type": "markdown",
   "id": "a9a93306",
   "metadata": {},
   "source": [
    "---\n",
    "# Fixing Strange x-Axis Data Issue "
   ]
  },
  {
   "cell_type": "code",
   "execution_count": null,
   "id": "cf642f51",
   "metadata": {},
   "outputs": [],
   "source": [
    "https://sabio.diginfra.nl/api/v1/objects/<datasetID>/search/%7B%22objectKeywords%22%3A%22hengelo%22%2C%22objectStartDate%22%3A%22%22%2C%22objectEndDate%22%3A%22%22%2C%22objectParams%22%3A[%7B%22id%22%3A%22Classification%22%2C%22value%22%3A%22%22%7D%2C%7B%22id%22%3A%22Department%22%2C%22value%22%3A%22%22%7D]%2C%22engineId%22%3A%22RandomEnginev0%22%2C%22engineMinScore%22%3A0%2C%22engineMaxScore%22%3A1%2C%22engineParams%22%3A[%7B%22id%22%3A0%2C%22value%22%3A%22useless1%22%7D]%2C%22vocabularyTerms%22%3A%22bewindhebber%2Cbewindvoerder%2Cbomba%2Cbombay%2Ccimarron%2Cderde%20wereld%2Cdwerg%2Cexpeditie%2Cgouverneur%2Chalfbloed%2Chottentot%2Cinboorling%2Cindiaan%2Cindisch%2Cindo%2Cinheems%2Cinlander%2Cjap%2Cjappen%2Cjappenkampen%2Ckaffer%2Ckaffir%2Ckafir%2Ckoelie%2Ckolonie%2Clagelonenland%2Clandhuis%2Cmarron%2Cmarronage%2Cmissie%2Cmissionaris%2Cmoor%2Cmoors%2Cmoren%2Cmulat%2Coctroon%2Contdekken%2Contdekking%2Contdekkingsreis%2Contwikkelingsland%2Coorspronkelijk%2Coosters%2Copperhoofd%2Cori%C3%ABntaals%2Cpinda%2Cpolitionele%20actie%2Cprimitief%2Cprimitieven%2Cpygmee%2Cras%2Crasch%2Cslaaf%2Cstam%2Cstamhoofd%2Ctraditioneel%2Ctropisch%2Cwesters%2Cwilden%2Czendeling%2Czendelingen%2Czending%22%7D/scatterplot/1/405100?api=https%3A%2F%2Fsabio.diginfra.net%2Fapi%2Fv1%2F"
   ]
  },
  {
   "cell_type": "code",
   "execution_count": null,
   "id": "b3bc8bc0",
   "metadata": {},
   "outputs": [],
   "source": [
    "https://sabio.diginfra.nl/api/v1/engines"
   ]
  },
  {
   "cell_type": "code",
   "execution_count": null,
   "id": "5e228b37",
   "metadata": {},
   "outputs": [],
   "source": [
    "https://sabio.diginfra.net/api/v1/objects/NMvW_v0/search?object_keywords=hengelo&object_start_date=&object_end_date=&engine_id=RandomEnginev0&engine_min_score=0&engine_max_score=1&vocabulary_terms=bewindhebber%2Cbewindvoerder%2Cbomba%2Cbombay%2Ccimarron%2Cderde%20wereld%2Cdwerg%2Cexpeditie%2Cgouverneur%2Chalfbloed%2Chottentot%2Cinboorling%2Cindiaan%2Cindisch%2Cindo%2Cinheems%2Cinlander%2Cjap%2Cjappen%2Cjappenkampen%2Ckaffer%2Ckaffir%2Ckafir%2Ckoelie%2Ckolonie%2Clagelonenland%2Clandhuis%2Cmarron%2Cmarronage%2Cmissie%2Cmissionaris%2Cmoor%2Cmoors%2Cmoren%2Cmulat%2Coctroon%2Contdekken%2Contdekking%2Contdekkingsreis%2Contwikkelingsland%2Coorspronkelijk%2Coosters%2Copperhoofd%2Cori%C3%ABntaals%2Cpinda%2Cpolitionele%20actie%2Cprimitief%2Cprimitieven%2Cpygmee%2Cras%2Crasch%2Cslaaf%2Cstam%2Cstamhoofd%2Ctraditioneel%2Ctropisch%2Cwesters%2Cwilden%2Czendeling%2Czendelingen%2Czending&object_param_Classification=&object_param_Department=&engine_param_0=useless1"
   ]
  },
  {
   "cell_type": "markdown",
   "id": "637de751",
   "metadata": {},
   "source": [
    "---"
   ]
  },
  {
   "cell_type": "code",
   "execution_count": null,
   "id": "d132e558",
   "metadata": {},
   "outputs": [],
   "source": [
    "from src.results import Result"
   ]
  },
  {
   "cell_type": "code",
   "execution_count": null,
   "id": "3c191480",
   "metadata": {},
   "outputs": [],
   "source": [
    "param_names = [\"Department\", \"Classification\"]"
   ]
  },
  {
   "cell_type": "code",
   "execution_count": null,
   "id": "59194316",
   "metadata": {},
   "outputs": [],
   "source": [
    "attributes = [\"BeginISODate\", \"EndISODate\"] \n",
    "attributes = attributes + param_names"
   ]
  },
  {
   "cell_type": "code",
   "execution_count": null,
   "id": "e3b7f825",
   "metadata": {},
   "outputs": [],
   "source": [
    "df[attributes]"
   ]
  },
  {
   "cell_type": "code",
   "execution_count": null,
   "id": "888fb183",
   "metadata": {},
   "outputs": [],
   "source": [
    "values = df[attributes]"
   ]
  },
  {
   "cell_type": "code",
   "execution_count": null,
   "id": "bf8f5b6b",
   "metadata": {},
   "outputs": [],
   "source": [
    "r = Result(param_names=param_names, rows=df, scores=np.zeros(len(df)), \n",
    "                 score_details=df, min_score=0., max_score=1.)"
   ]
  },
  {
   "cell_type": "code",
   "execution_count": null,
   "id": "42c37148",
   "metadata": {},
   "outputs": [],
   "source": [
    "r.values"
   ]
  },
  {
   "cell_type": "markdown",
   "id": "ead90626",
   "metadata": {},
   "source": [
    "---\n",
    "# Keyword Search Dev"
   ]
  },
  {
   "cell_type": "code",
   "execution_count": null,
   "id": "e7c8ced2",
   "metadata": {},
   "outputs": [],
   "source": [
    "kws = \"Maarten Sint\"\n",
    "prep_kws = \"|\".join(kws.lower().replace(\", \", \",\").split(\",\"))"
   ]
  },
  {
   "cell_type": "code",
   "execution_count": null,
   "id": "cd7a855c",
   "metadata": {},
   "outputs": [],
   "source": [
    "prep_kws"
   ]
  },
  {
   "cell_type": "code",
   "execution_count": null,
   "id": "e8637e3f",
   "metadata": {},
   "outputs": [],
   "source": [
    "d = dict(a=)\n",
    "\n",
    "d.get(\"a\", False)"
   ]
  },
  {
   "cell_type": "code",
   "execution_count": null,
   "id": "3f97e527",
   "metadata": {},
   "outputs": [],
   "source": [
    "def f(**kwargs):\n",
    "    print(kwargs)\n",
    "    \n",
    "    \n",
    "d = dict(a=13)\n",
    "f(a=0, **d)"
   ]
  },
  {
   "cell_type": "markdown",
   "id": "99054285",
   "metadata": {},
   "source": [
    "---\n",
    "# Integrating TypicalityEngine"
   ]
  },
  {
   "cell_type": "code",
   "execution_count": 1,
   "id": "4d906e27",
   "metadata": {},
   "outputs": [],
   "source": [
    "from src.datasets import NMvW\n",
    "from src.engines.TypicalityEnginev0 import Typicality, TypicalityEngine\n",
    "\n",
    "NMvW.data = NMvW.data.iloc[:10000]"
   ]
  },
  {
   "cell_type": "code",
   "execution_count": 2,
   "id": "4cadf40c",
   "metadata": {},
   "outputs": [
    {
     "name": "stderr",
     "output_type": "stream",
     "text": [
      "(2, 3)-grams: Padding documents...: 100%|████████████████████████████████| 20000/20000 [00:00<00:00, 1353372.38it/s]\n"
     ]
    },
    {
     "name": "stdout",
     "output_type": "stream",
     "text": [
      "(2, 3)-grams: Term Document Matrix constructed...\n",
      "(2, 3)-grams: Term frequencies precomputed...\n",
      "(2, 3)-grams: Init done\n"
     ]
    },
    {
     "name": "stderr",
     "output_type": "stream",
     "text": [
      "100%|███████████████████████████████████████████████████████████████████| 113897/113897 [00:00<00:00, 400177.46it/s]\n",
      "100%|███████████████████████████████████████████████████████████████████| 190339/190339 [00:00<00:00, 407851.13it/s]\n",
      "(0, 1)-grams: Padding documents...: 100%|████████████████████████████████| 20000/20000 [00:00<00:00, 1945635.63it/s]\n"
     ]
    },
    {
     "name": "stdout",
     "output_type": "stream",
     "text": [
      "(0, 1)-grams: Term Document Matrix constructed...\n",
      "(0, 1)-grams: Term frequencies precomputed...\n",
      "(0, 1)-grams: Init done\n"
     ]
    },
    {
     "name": "stderr",
     "output_type": "stream",
     "text": [
      "100%|█████████████████████████████████████████████████████████████████████| 23454/23454 [00:00<00:00, 396602.19it/s]\n",
      "100%|████████████████████████████████████████████████████████████████████████| 10000/10000 [00:10<00:00, 985.67it/s]\n"
     ]
    }
   ],
   "source": [
    "typE = TypicalityEngine(id_=\"TypicalityEnginev0\",\n",
    "                           name=\"TypicalityEngine/v0\",\n",
    "                           dataset=NMvW,\n",
    "                           params=[],\n",
    "                       from_saved=False)"
   ]
  },
  {
   "cell_type": "code",
   "execution_count": null,
   "id": "4b1db469",
   "metadata": {},
   "outputs": [],
   "source": [
    "texts = NMvW.data.sample(frac=0.3).fillna(\"\")\n",
    "\n",
    "typs, details = typE.score_and_detail(texts)"
   ]
  },
  {
   "cell_type": "code",
   "execution_count": null,
   "id": "ff2e0cbe",
   "metadata": {},
   "outputs": [],
   "source": [
    "import seaborn as sns\n",
    "sns.histplot(typs, color=\"blue\")"
   ]
  },
  {
   "cell_type": "code",
   "execution_count": null,
   "id": "19eb0fb8",
   "metadata": {},
   "outputs": [],
   "source": [
    "details.iloc[-1]"
   ]
  },
  {
   "cell_type": "code",
   "execution_count": null,
   "id": "afcb9772",
   "metadata": {},
   "outputs": [],
   "source": [
    "import joblib\n",
    "joblib.dump(typE.typicality, \"test.pkl\")"
   ]
  },
  {
   "cell_type": "code",
   "execution_count": null,
   "id": "4ac82489",
   "metadata": {},
   "outputs": [],
   "source": [
    "import joblib\n",
    "joblib.dump(typE, \"test.pkl\")"
   ]
  },
  {
   "cell_type": "markdown",
   "id": "51432207",
   "metadata": {},
   "source": [
    "---"
   ]
  },
  {
   "cell_type": "code",
   "execution_count": 3,
   "id": "7e6726a2",
   "metadata": {},
   "outputs": [],
   "source": [
    "import joblib\n",
    "typ2 = joblib.load(\"test.pkl\")"
   ]
  },
  {
   "cell_type": "code",
   "execution_count": 5,
   "id": "21de9abc",
   "metadata": {},
   "outputs": [],
   "source": [
    "texts = NMvW.data.sample(frac=0.3).fillna(\"\")\n",
    "typs2, details2 = typ2.score_and_detail(texts)"
   ]
  },
  {
   "cell_type": "code",
   "execution_count": 7,
   "id": "51b2caa1",
   "metadata": {},
   "outputs": [],
   "source": [
    "typs, details = typE.score_and_detail(texts)"
   ]
  },
  {
   "cell_type": "code",
   "execution_count": 10,
   "id": "ead5dd63",
   "metadata": {},
   "outputs": [
    {
     "data": {
      "text/plain": [
       "3000"
      ]
     },
     "execution_count": 10,
     "metadata": {},
     "output_type": "execute_result"
    }
   ],
   "source": [
    "(typs == typs2)"
   ]
  },
  {
   "cell_type": "markdown",
   "id": "3d8fadfb",
   "metadata": {},
   "source": [
    "# Fast Iteration over Results"
   ]
  },
  {
   "cell_type": "code",
   "execution_count": 4,
   "id": "6deff071",
   "metadata": {},
   "outputs": [],
   "source": [
    "df = pd.read_csv(\"../../data/v0_2.csv.gz\", \n",
    "                 dtype=dict(Provenance=\"string\", RelatedWorks=\"string\"))\n",
    "\n",
    "# TODO: save & load DF s.t. these lines are not necessary here                \n",
    "df[\"ObjectID\"] = df.ObjectID.astype(\"int\")\n",
    "df = df.set_index(\"ObjectID\")"
   ]
  },
  {
   "cell_type": "code",
   "execution_count": 46,
   "id": "ce191fa0",
   "metadata": {},
   "outputs": [],
   "source": [
    "ids = df.index.astype(\"string\")\n",
    "titles = df.Title.fillna(\"\").astype(\"string\")\n",
    "thumbnails = pd.Series([\"\"]*df.shape[0], \n",
    "                       name=\"Thumbnail\",\n",
    "                      index=df.index).astype(\"string\")"
   ]
  },
  {
   "cell_type": "code",
   "execution_count": 47,
   "id": "6f018857",
   "metadata": {},
   "outputs": [
    {
     "data": {
      "text/plain": [
       "(Int64Index([      2,       5,       8,       9,      10,      11,      14,\n",
       "                  15,      16,      17,\n",
       "             ...\n",
       "             1140369, 1140378, 1140379, 1140380, 1140384, 1140385, 1140386,\n",
       "             1140388, 1140389, 1153236],\n",
       "            dtype='int64', name='ObjectID', length=146694),\n",
       " Index(['2', '5', '8', '9', '10', '11', '14', '15', '16', '17',\n",
       "        ...\n",
       "        '1140369', '1140378', '1140379', '1140380', '1140384', '1140385',\n",
       "        '1140386', '1140388', '1140389', '1153236'],\n",
       "       dtype='object', name='ObjectID', length=146694))"
      ]
     },
     "execution_count": 47,
     "metadata": {},
     "output_type": "execute_result"
    }
   ],
   "source": [
    "r = pd.concat([titles, thumbnails], axis=1)\n",
    "r.index, ids"
   ]
  },
  {
   "cell_type": "code",
   "execution_count": 48,
   "id": "b6300fef",
   "metadata": {},
   "outputs": [
    {
     "data": {
      "text/html": [
       "<div>\n",
       "<style scoped>\n",
       "    .dataframe tbody tr th:only-of-type {\n",
       "        vertical-align: middle;\n",
       "    }\n",
       "\n",
       "    .dataframe tbody tr th {\n",
       "        vertical-align: top;\n",
       "    }\n",
       "\n",
       "    .dataframe thead th {\n",
       "        text-align: right;\n",
       "    }\n",
       "</style>\n",
       "<table border=\"1\" class=\"dataframe\">\n",
       "  <thead>\n",
       "    <tr style=\"text-align: right;\">\n",
       "      <th></th>\n",
       "      <th>Title</th>\n",
       "      <th>Thumbnail</th>\n",
       "    </tr>\n",
       "    <tr>\n",
       "      <th>ObjectID</th>\n",
       "      <th></th>\n",
       "      <th></th>\n",
       "    </tr>\n",
       "  </thead>\n",
       "  <tbody>\n",
       "    <tr>\n",
       "      <th>2</th>\n",
       "      <td>MANDJE</td>\n",
       "      <td></td>\n",
       "    </tr>\n",
       "    <tr>\n",
       "      <th>5</th>\n",
       "      <td>?</td>\n",
       "      <td></td>\n",
       "    </tr>\n",
       "    <tr>\n",
       "      <th>8</th>\n",
       "      <td>MAND</td>\n",
       "      <td></td>\n",
       "    </tr>\n",
       "    <tr>\n",
       "      <th>9</th>\n",
       "      <td>DRAAGMAND</td>\n",
       "      <td></td>\n",
       "    </tr>\n",
       "    <tr>\n",
       "      <th>10</th>\n",
       "      <td>NUMMER NIET IN GEBRUIK</td>\n",
       "      <td></td>\n",
       "    </tr>\n",
       "    <tr>\n",
       "      <th>...</th>\n",
       "      <td>...</td>\n",
       "      <td>...</td>\n",
       "    </tr>\n",
       "    <tr>\n",
       "      <th>1140385</th>\n",
       "      <td></td>\n",
       "      <td></td>\n",
       "    </tr>\n",
       "    <tr>\n",
       "      <th>1140386</th>\n",
       "      <td></td>\n",
       "      <td></td>\n",
       "    </tr>\n",
       "    <tr>\n",
       "      <th>1140388</th>\n",
       "      <td></td>\n",
       "      <td></td>\n",
       "    </tr>\n",
       "    <tr>\n",
       "      <th>1140389</th>\n",
       "      <td></td>\n",
       "      <td></td>\n",
       "    </tr>\n",
       "    <tr>\n",
       "      <th>1153236</th>\n",
       "      <td></td>\n",
       "      <td></td>\n",
       "    </tr>\n",
       "  </tbody>\n",
       "</table>\n",
       "<p>146694 rows × 2 columns</p>\n",
       "</div>"
      ],
      "text/plain": [
       "                           Title Thumbnail\n",
       "ObjectID                                  \n",
       "2                         MANDJE          \n",
       "5                              ?          \n",
       "8                           MAND          \n",
       "9                      DRAAGMAND          \n",
       "10        NUMMER NIET IN GEBRUIK          \n",
       "...                          ...       ...\n",
       "1140385                                   \n",
       "1140386                                   \n",
       "1140388                                   \n",
       "1140389                                   \n",
       "1153236                                   \n",
       "\n",
       "[146694 rows x 2 columns]"
      ]
     },
     "execution_count": 48,
     "metadata": {},
     "output_type": "execute_result"
    }
   ],
   "source": [
    "r#.astype(\"string\")"
   ]
  },
  {
   "cell_type": "code",
   "execution_count": 53,
   "id": "d8d68d3b",
   "metadata": {},
   "outputs": [
    {
     "name": "stderr",
     "output_type": "stream",
     "text": [
      "100%|██████████████████████████████████████████████████████████████████| 146694/146694 [00:00<00:00, 1608636.24it/s]\n"
     ]
    }
   ],
   "source": [
    "lens = []\n",
    "for i, row in tqdm(r.to_dict(\"index\").items()):\n",
    "    lens.append(sum(map(len, row.values())))"
   ]
  },
  {
   "cell_type": "code",
   "execution_count": 57,
   "id": "0d4f82f1",
   "metadata": {},
   "outputs": [
    {
     "name": "stderr",
     "output_type": "stream",
     "text": [
      "100%|████████████████████████████████████████████████████████████████████| 146694/146694 [00:09<00:00, 14677.50it/s]\n"
     ]
    }
   ],
   "source": [
    "lens = []\n",
    "for i in tqdm(range(r.shape[0])):\n",
    "    lens.append(sum(map(len, r.iloc[i])))"
   ]
  },
  {
   "cell_type": "code",
   "execution_count": 74,
   "id": "4274d0c9",
   "metadata": {},
   "outputs": [],
   "source": [
    "r_ = r.apply(lambda col: col.str.replace(\" \", \"X\"), axis=0)\n",
    "r_.columns = [c + \"X\" for c in r_.columns]\n",
    "r2 = pd.concat([r, r_], axis=1)"
   ]
  },
  {
   "cell_type": "code",
   "execution_count": 86,
   "id": "fd23a24c",
   "metadata": {},
   "outputs": [],
   "source": [
    "t = pd.Series(np.random.random(size=df.shape[0]), index=df.index)"
   ]
  },
  {
   "cell_type": "code",
   "execution_count": 112,
   "id": "881f261d",
   "metadata": {},
   "outputs": [
    {
     "data": {
      "text/plain": [
       "0.587"
      ]
     },
     "execution_count": 112,
     "metadata": {},
     "output_type": "execute_result"
    }
   ],
   "source": [
    "t.iloc[0].round(3)"
   ]
  }
 ],
 "metadata": {
  "kernelspec": {
   "display_name": "Python 3 (ipykernel)",
   "language": "python",
   "name": "python3"
  },
  "language_info": {
   "codemirror_mode": {
    "name": "ipython",
    "version": 3
   },
   "file_extension": ".py",
   "mimetype": "text/x-python",
   "name": "python",
   "nbconvert_exporter": "python",
   "pygments_lexer": "ipython3",
   "version": "3.10.1"
  }
 },
 "nbformat": 4,
 "nbformat_minor": 5
}

{
 "cells": [
  {
   "cell_type": "code",
   "execution_count": 60,
   "id": "c01ef6d8",
   "metadata": {},
   "outputs": [],
   "source": [
    "import numpy as np\n",
    "import pandas as pd\n",
    "from tqdm import tqdm\n",
    "tqdm.pandas()"
   ]
  },
  {
   "cell_type": "code",
   "execution_count": 20,
   "id": "e30d901a",
   "metadata": {},
   "outputs": [],
   "source": [
    "df = pd.read_csv(\"../../data/v0_2.csv.gz\", \n",
    "                 dtype=dict(Provenance=\"string\", RelatedWorks=\"string\"))\n",
    "\n",
    "# TODO: save & load DF s.t. these lines are not necessary here                \n",
    "df[\"ObjectID\"] = df.ObjectID.astype(\"int\")\n",
    "df = df.set_index(\"ObjectID\")"
   ]
  },
  {
   "cell_type": "code",
   "execution_count": null,
   "id": "ae026330",
   "metadata": {},
   "outputs": [],
   "source": [
    "df2 = df[(df.BeginISODate+df.EndISODate) > 0]\n",
    "\n",
    "df2.apply(lambda r: len(str(r.Title) + str(r.Description)) > 6, axis=\"columns\").sum()/df2.shape[0]"
   ]
  },
  {
   "cell_type": "code",
   "execution_count": null,
   "id": "3df12b4f",
   "metadata": {},
   "outputs": [],
   "source": [
    "type(df2.iloc[0].Description)"
   ]
  },
  {
   "cell_type": "code",
   "execution_count": null,
   "id": "0d2b2612",
   "metadata": {},
   "outputs": [],
   "source": [
    "\n",
    "import spacy\n",
    "from nltk import Tree\n",
    "\n",
    "nlp = spacy.load(\"nl_core_news_sm\")\n",
    "\n",
    "def to_nltk_tree(node):\n",
    "    if node.n_lefts + node.n_rights > 0:\n",
    "        return Tree(node.orth_, [to_nltk_tree(child) for child in node.children])\n",
    "    else:\n",
    "        return node.orth_\n",
    "    \n",
    "doc = nlp(df.Description.dropna().iloc[0])\n",
    "print(doc)\n",
    "[to_nltk_tree(sent.root).pretty_print() for sent in doc.sents]"
   ]
  },
  {
   "cell_type": "code",
   "execution_count": null,
   "id": "d4871e11",
   "metadata": {},
   "outputs": [],
   "source": [
    "from spacy import displacy\n",
    "displacy.render(doc, style='dep')"
   ]
  },
  {
   "cell_type": "code",
   "execution_count": null,
   "id": "7335db38",
   "metadata": {},
   "outputs": [],
   "source": [
    "[nlp(t) for t in tqdm(df.Description) if isinstance(t, str)]"
   ]
  },
  {
   "cell_type": "markdown",
   "id": "4626b8d4",
   "metadata": {},
   "source": [
    "---\n",
    "# Search"
   ]
  },
  {
   "cell_type": "code",
   "execution_count": null,
   "id": "902ad113",
   "metadata": {},
   "outputs": [],
   "source": [
    "kws = \"\" # \"hello, goodbye\"\n",
    "prep_kws = \"|\".join(kws.lower().replace(\", \", \",\").split(\",\"))\n",
    "        \n",
    "if (not kws.strip()) or (not prep_kws):\n",
    "    does_contain = [True]*df.shape[0]\n",
    "else:\n",
    "    print(\"what\")\n",
    "    \n",
    "print(does_contain)"
   ]
  },
  {
   "cell_type": "code",
   "execution_count": null,
   "id": "d0585cdf",
   "metadata": {},
   "outputs": [],
   "source": [
    "from urllib.parse import unquote\n",
    "\n",
    "unquote('\"objectKeywords\"%3A\"\"%2C\"objectStartDate\"%3A\"\"%2C\"objectEndDate\"')"
   ]
  },
  {
   "cell_type": "markdown",
   "id": "1e0b2c84",
   "metadata": {},
   "source": [
    "---\n",
    "# Dates\n",
    "\n",
    " 1. make all dates at least 1 (because python cannot deal with years <= 0)  \n",
    "    (or drop non-positive dates)  \n",
    "    (drop objects with EndISODate <= 0 in any case (doesn't make any sense))  \n",
    " \n",
    " 2. convert all year values to %Y-%m-%d format (expected by Werner's API)  \n",
    "    (by using datetime.strptime; allows comparison with > )  "
   ]
  },
  {
   "cell_type": "code",
   "execution_count": null,
   "id": "a9d87b5e",
   "metadata": {},
   "outputs": [],
   "source": [
    "from datetime import datetime\n",
    "frmt = \"%Y-%m-%d\"\n",
    "start_year, end_year = datetime.strptime(\"2011-02-01\", frmt), datetime.strptime(\"2013-10-02\", frmt)"
   ]
  },
  {
   "cell_type": "code",
   "execution_count": null,
   "id": "d77ab1f6",
   "metadata": {},
   "outputs": [],
   "source": [
    "(start_year.year > df.BeginISODate).sum()"
   ]
  },
  {
   "cell_type": "code",
   "execution_count": null,
   "id": "60b94eda",
   "metadata": {},
   "outputs": [],
   "source": [
    "df.BeginISODate[(df.BeginISODate > 1500)].hist(bins=100)"
   ]
  },
  {
   "cell_type": "markdown",
   "id": "2bd3ac29",
   "metadata": {},
   "source": [
    "### 1."
   ]
  },
  {
   "cell_type": "code",
   "execution_count": null,
   "id": "269e0239",
   "metadata": {},
   "outputs": [],
   "source": [
    "df = df[df.EndISODate > 0]\n",
    "\n",
    "# drop\n",
    "df = df[df.BeginISODate > 0]\n",
    "\n",
    "# change\n",
    "df[\"BeginISODate\"] = df.BeginISODate.replace(0, 1)"
   ]
  },
  {
   "cell_type": "markdown",
   "id": "81adcb62",
   "metadata": {},
   "source": [
    "### 2."
   ]
  },
  {
   "cell_type": "code",
   "execution_count": null,
   "id": "7afd99c6",
   "metadata": {},
   "outputs": [],
   "source": [
    "df[\"start_date\"] = df.BeginISODate.astype(str).str.zfill(4).apply(lambda s: dt.strptime(s, \"%Y\"))\n",
    "df[\"end_date\"] = df.EndISODate.astype(str).str.zfill(4).apply(lambda s: dt.strptime(s, \"%Y\"))"
   ]
  },
  {
   "cell_type": "markdown",
   "id": "a9a93306",
   "metadata": {},
   "source": [
    "---\n",
    "# Fixing Strange x-Axis Data Issue "
   ]
  },
  {
   "cell_type": "code",
   "execution_count": null,
   "id": "cf642f51",
   "metadata": {},
   "outputs": [],
   "source": [
    "https://sabio.diginfra.nl/api/v1/objects/<datasetID>/search/%7B%22objectKeywords%22%3A%22hengelo%22%2C%22objectStartDate%22%3A%22%22%2C%22objectEndDate%22%3A%22%22%2C%22objectParams%22%3A[%7B%22id%22%3A%22Classification%22%2C%22value%22%3A%22%22%7D%2C%7B%22id%22%3A%22Department%22%2C%22value%22%3A%22%22%7D]%2C%22engineId%22%3A%22RandomEnginev0%22%2C%22engineMinScore%22%3A0%2C%22engineMaxScore%22%3A1%2C%22engineParams%22%3A[%7B%22id%22%3A0%2C%22value%22%3A%22useless1%22%7D]%2C%22vocabularyTerms%22%3A%22bewindhebber%2Cbewindvoerder%2Cbomba%2Cbombay%2Ccimarron%2Cderde%20wereld%2Cdwerg%2Cexpeditie%2Cgouverneur%2Chalfbloed%2Chottentot%2Cinboorling%2Cindiaan%2Cindisch%2Cindo%2Cinheems%2Cinlander%2Cjap%2Cjappen%2Cjappenkampen%2Ckaffer%2Ckaffir%2Ckafir%2Ckoelie%2Ckolonie%2Clagelonenland%2Clandhuis%2Cmarron%2Cmarronage%2Cmissie%2Cmissionaris%2Cmoor%2Cmoors%2Cmoren%2Cmulat%2Coctroon%2Contdekken%2Contdekking%2Contdekkingsreis%2Contwikkelingsland%2Coorspronkelijk%2Coosters%2Copperhoofd%2Cori%C3%ABntaals%2Cpinda%2Cpolitionele%20actie%2Cprimitief%2Cprimitieven%2Cpygmee%2Cras%2Crasch%2Cslaaf%2Cstam%2Cstamhoofd%2Ctraditioneel%2Ctropisch%2Cwesters%2Cwilden%2Czendeling%2Czendelingen%2Czending%22%7D/scatterplot/1/405100?api=https%3A%2F%2Fsabio.diginfra.net%2Fapi%2Fv1%2F"
   ]
  },
  {
   "cell_type": "code",
   "execution_count": null,
   "id": "b3bc8bc0",
   "metadata": {},
   "outputs": [],
   "source": [
    "https://sabio.diginfra.nl/api/v1/engines"
   ]
  },
  {
   "cell_type": "code",
   "execution_count": null,
   "id": "5e228b37",
   "metadata": {},
   "outputs": [],
   "source": [
    "https://sabio.diginfra.net/api/v1/objects/NMvW_v0/search?object_keywords=hengelo&object_start_date=&object_end_date=&engine_id=RandomEnginev0&engine_min_score=0&engine_max_score=1&vocabulary_terms=bewindhebber%2Cbewindvoerder%2Cbomba%2Cbombay%2Ccimarron%2Cderde%20wereld%2Cdwerg%2Cexpeditie%2Cgouverneur%2Chalfbloed%2Chottentot%2Cinboorling%2Cindiaan%2Cindisch%2Cindo%2Cinheems%2Cinlander%2Cjap%2Cjappen%2Cjappenkampen%2Ckaffer%2Ckaffir%2Ckafir%2Ckoelie%2Ckolonie%2Clagelonenland%2Clandhuis%2Cmarron%2Cmarronage%2Cmissie%2Cmissionaris%2Cmoor%2Cmoors%2Cmoren%2Cmulat%2Coctroon%2Contdekken%2Contdekking%2Contdekkingsreis%2Contwikkelingsland%2Coorspronkelijk%2Coosters%2Copperhoofd%2Cori%C3%ABntaals%2Cpinda%2Cpolitionele%20actie%2Cprimitief%2Cprimitieven%2Cpygmee%2Cras%2Crasch%2Cslaaf%2Cstam%2Cstamhoofd%2Ctraditioneel%2Ctropisch%2Cwesters%2Cwilden%2Czendeling%2Czendelingen%2Czending&object_param_Classification=&object_param_Department=&engine_param_0=useless1"
   ]
  },
  {
   "cell_type": "markdown",
   "id": "637de751",
   "metadata": {},
   "source": [
    "---"
   ]
  },
  {
   "cell_type": "code",
   "execution_count": null,
   "id": "d132e558",
   "metadata": {},
   "outputs": [],
   "source": [
    "from src.results import Result"
   ]
  },
  {
   "cell_type": "code",
   "execution_count": null,
   "id": "3c191480",
   "metadata": {},
   "outputs": [],
   "source": [
    "param_names = [\"Department\", \"Classification\"]"
   ]
  },
  {
   "cell_type": "code",
   "execution_count": null,
   "id": "59194316",
   "metadata": {},
   "outputs": [],
   "source": [
    "attributes = [\"BeginISODate\", \"EndISODate\"] \n",
    "attributes = attributes + param_names"
   ]
  },
  {
   "cell_type": "code",
   "execution_count": null,
   "id": "e3b7f825",
   "metadata": {},
   "outputs": [],
   "source": [
    "df[attributes]"
   ]
  },
  {
   "cell_type": "code",
   "execution_count": null,
   "id": "888fb183",
   "metadata": {},
   "outputs": [],
   "source": [
    "values = df[attributes]"
   ]
  },
  {
   "cell_type": "code",
   "execution_count": null,
   "id": "bf8f5b6b",
   "metadata": {},
   "outputs": [],
   "source": [
    "r = Result(param_names=param_names, rows=df, scores=np.zeros(len(df)), \n",
    "                 score_details=df, min_score=0., max_score=1.)"
   ]
  },
  {
   "cell_type": "code",
   "execution_count": null,
   "id": "42c37148",
   "metadata": {},
   "outputs": [],
   "source": [
    "r.values"
   ]
  },
  {
   "cell_type": "markdown",
   "id": "ead90626",
   "metadata": {},
   "source": [
    "---\n",
    "# Keyword Search Dev"
   ]
  },
  {
   "cell_type": "code",
   "execution_count": null,
   "id": "e7c8ced2",
   "metadata": {},
   "outputs": [],
   "source": [
    "kws = \"Maarten Sint\"\n",
    "prep_kws = \"|\".join(kws.lower().replace(\", \", \",\").split(\",\"))"
   ]
  },
  {
   "cell_type": "code",
   "execution_count": null,
   "id": "cd7a855c",
   "metadata": {},
   "outputs": [],
   "source": [
    "prep_kws"
   ]
  },
  {
   "cell_type": "code",
   "execution_count": null,
   "id": "e8637e3f",
   "metadata": {},
   "outputs": [],
   "source": [
    "d = dict(a=)\n",
    "\n",
    "d.get(\"a\", False)"
   ]
  },
  {
   "cell_type": "code",
   "execution_count": null,
   "id": "3f97e527",
   "metadata": {},
   "outputs": [],
   "source": [
    "def f(**kwargs):\n",
    "    print(kwargs)\n",
    "    \n",
    "    \n",
    "d = dict(a=13)\n",
    "f(a=0, **d)"
   ]
  },
  {
   "cell_type": "markdown",
   "id": "99054285",
   "metadata": {},
   "source": [
    "---\n",
    "# Integrating TypicalityEngine"
   ]
  },
  {
   "cell_type": "code",
   "execution_count": null,
   "id": "4d906e27",
   "metadata": {},
   "outputs": [],
   "source": [
    "from src.datasets import NMvW\n",
    "from src.engines.TypicalityEnginev0 import Typicality, TypicalityEngine\n",
    "\n",
    "NMvW.data = NMvW.data.iloc[:10000]"
   ]
  },
  {
   "cell_type": "code",
   "execution_count": null,
   "id": "4cadf40c",
   "metadata": {},
   "outputs": [],
   "source": [
    "typE = TypicalityEngine(id_=\"TypicalityEnginev0\",\n",
    "                           name=\"TypicalityEngine/v0\",\n",
    "                           dataset=NMvW,\n",
    "                           params=[],\n",
    "                       from_saved=False)"
   ]
  },
  {
   "cell_type": "code",
   "execution_count": null,
   "id": "4b1db469",
   "metadata": {},
   "outputs": [],
   "source": [
    "texts = NMvW.data.sample(frac=0.3).fillna(\"\")\n",
    "\n",
    "typs, details = typE.score_and_detail(texts)"
   ]
  },
  {
   "cell_type": "code",
   "execution_count": null,
   "id": "ff2e0cbe",
   "metadata": {},
   "outputs": [],
   "source": [
    "import seaborn as sns\n",
    "sns.histplot(typs, color=\"blue\")"
   ]
  },
  {
   "cell_type": "code",
   "execution_count": null,
   "id": "19eb0fb8",
   "metadata": {},
   "outputs": [],
   "source": [
    "details.iloc[-1]"
   ]
  },
  {
   "cell_type": "code",
   "execution_count": null,
   "id": "afcb9772",
   "metadata": {},
   "outputs": [],
   "source": [
    "import joblib\n",
    "joblib.dump(typE.typicality, \"test.pkl\")"
   ]
  },
  {
   "cell_type": "code",
   "execution_count": null,
   "id": "4ac82489",
   "metadata": {},
   "outputs": [],
   "source": [
    "import joblib\n",
    "joblib.dump(typE, \"test.pkl\")"
   ]
  },
  {
   "cell_type": "markdown",
   "id": "51432207",
   "metadata": {},
   "source": [
    "---"
   ]
  },
  {
   "cell_type": "code",
   "execution_count": null,
   "id": "7e6726a2",
   "metadata": {},
   "outputs": [],
   "source": [
    "import joblib\n",
    "typ2 = joblib.load(\"test.pkl\")"
   ]
  },
  {
   "cell_type": "code",
   "execution_count": null,
   "id": "21de9abc",
   "metadata": {},
   "outputs": [],
   "source": [
    "texts = NMvW.data.sample(frac=0.3).fillna(\"\")\n",
    "typs2, details2 = typ2.score_and_detail(texts)"
   ]
  },
  {
   "cell_type": "code",
   "execution_count": null,
   "id": "51b2caa1",
   "metadata": {},
   "outputs": [],
   "source": [
    "typs, details = typE.score_and_detail(texts)"
   ]
  },
  {
   "cell_type": "code",
   "execution_count": null,
   "id": "ead5dd63",
   "metadata": {},
   "outputs": [],
   "source": [
    "(typs == typs2)"
   ]
  },
  {
   "cell_type": "markdown",
   "id": "3d8fadfb",
   "metadata": {},
   "source": [
    "# Fast Iteration over Results"
   ]
  },
  {
   "cell_type": "code",
   "execution_count": null,
   "id": "6deff071",
   "metadata": {},
   "outputs": [],
   "source": [
    "df = pd.read_csv(\"../../data/v0_2.csv.gz\", \n",
    "                 dtype=dict(Provenance=\"string\", RelatedWorks=\"string\"))\n",
    "\n",
    "# TODO: save & load DF s.t. these lines are not necessary here                \n",
    "df[\"ObjectID\"] = df.ObjectID.astype(\"int\")\n",
    "df = df.set_index(\"ObjectID\")"
   ]
  },
  {
   "cell_type": "code",
   "execution_count": null,
   "id": "ce191fa0",
   "metadata": {},
   "outputs": [],
   "source": [
    "ids = df.index.astype(\"string\")\n",
    "titles = df.Title.fillna(\"\").astype(\"string\")\n",
    "thumbnails = pd.Series([\"\"]*df.shape[0], \n",
    "                       name=\"Thumbnail\",\n",
    "                      index=df.index).astype(\"string\")"
   ]
  },
  {
   "cell_type": "code",
   "execution_count": null,
   "id": "6f018857",
   "metadata": {},
   "outputs": [],
   "source": [
    "r = pd.concat([titles, thumbnails], axis=1)\n",
    "r.index, ids"
   ]
  },
  {
   "cell_type": "code",
   "execution_count": null,
   "id": "b6300fef",
   "metadata": {},
   "outputs": [],
   "source": [
    "r#.astype(\"string\")"
   ]
  },
  {
   "cell_type": "code",
   "execution_count": null,
   "id": "d8d68d3b",
   "metadata": {},
   "outputs": [],
   "source": [
    "lens = []\n",
    "for i, row in tqdm(r.to_dict(\"index\").items()):\n",
    "    lens.append(sum(map(len, row.values())))"
   ]
  },
  {
   "cell_type": "code",
   "execution_count": null,
   "id": "0d4f82f1",
   "metadata": {},
   "outputs": [],
   "source": [
    "lens = []\n",
    "for i in tqdm(range(r.shape[0])):\n",
    "    lens.append(sum(map(len, r.iloc[i])))"
   ]
  },
  {
   "cell_type": "code",
   "execution_count": null,
   "id": "4274d0c9",
   "metadata": {},
   "outputs": [],
   "source": [
    "r_ = r.apply(lambda col: col.str.replace(\" \", \"X\"), axis=0)\n",
    "r_.columns = [c + \"X\" for c in r_.columns]\n",
    "r2 = pd.concat([r, r_], axis=1)"
   ]
  },
  {
   "cell_type": "code",
   "execution_count": null,
   "id": "fd23a24c",
   "metadata": {},
   "outputs": [],
   "source": [
    "t = pd.Series(np.random.random(size=df.shape[0]), index=df.index)"
   ]
  },
  {
   "cell_type": "code",
   "execution_count": null,
   "id": "881f261d",
   "metadata": {},
   "outputs": [],
   "source": [
    "t.iloc[0].round(3)"
   ]
  },
  {
   "cell_type": "markdown",
   "id": "1c16d17e",
   "metadata": {},
   "source": [
    "# TypicalityEngine Value Range"
   ]
  },
  {
   "cell_type": "code",
   "execution_count": 2,
   "id": "90994e8c",
   "metadata": {},
   "outputs": [],
   "source": [
    "import matplotlib.pyplot as plt\n",
    "import seaborn as sns"
   ]
  },
  {
   "cell_type": "code",
   "execution_count": 3,
   "id": "22d64080",
   "metadata": {},
   "outputs": [],
   "source": [
    "scores = pd.read_csv(\"/home/valentin/Desktop/scores.csv\").set_index(\"ObjectID\")[\"score\"]\n",
    "score_details = pd.read_csv(\"/home/valentin/Desktop/score_details.csv\").set_index(\"ObjectID\")"
   ]
  },
  {
   "cell_type": "code",
   "execution_count": 5,
   "id": "1fe1acb0",
   "metadata": {},
   "outputs": [
    {
     "data": {
      "image/png": "[encoded data removed]",
      "text/plain": [
       "<Figure size 432x288 with 1 Axes>"
      ]
     },
     "metadata": {},
     "output_type": "display_data"
    }
   ],
   "source": [
    "_=plt.hist(scores, bins=100)\n",
    "# _=plt.hist((1/scores)-1, bins=100)"
   ]
  },
  {
   "cell_type": "code",
   "execution_count": 17,
   "id": "804846b6",
   "metadata": {},
   "outputs": [
    {
     "data": {
      "image/png": "[encoded data removed]",
      "text/plain": [
       "<Figure size 432x288 with 1 Axes>"
      ]
     },
     "metadata": {},
     "output_type": "display_data"
    }
   ],
   "source": [
    "(scores < 100).sum()/scores.shape[0]\n",
    "\n",
    "_= plt.hist(scores[(scores > 0) & (scores < 1)], bins=100)\n",
    "# plt.xlim((0.95, 0.98))"
   ]
  },
  {
   "cell_type": "code",
   "execution_count": 37,
   "id": "44c1093d",
   "metadata": {},
   "outputs": [
    {
     "data": {
      "text/html": [
       "<div>\n",
       "<style scoped>\n",
       "    .dataframe tbody tr th:only-of-type {\n",
       "        vertical-align: middle;\n",
       "    }\n",
       "\n",
       "    .dataframe tbody tr th {\n",
       "        vertical-align: top;\n",
       "    }\n",
       "\n",
       "    .dataframe thead th {\n",
       "        text-align: right;\n",
       "    }\n",
       "</style>\n",
       "<table border=\"1\" class=\"dataframe\">\n",
       "  <thead>\n",
       "    <tr style=\"text-align: right;\">\n",
       "      <th></th>\n",
       "      <th>DepartmentID</th>\n",
       "      <th>ClassificationID</th>\n",
       "      <th>ObjectName</th>\n",
       "      <th>Medium</th>\n",
       "      <th>Provenance</th>\n",
       "      <th>Exhibitions</th>\n",
       "      <th>BeginISODate</th>\n",
       "      <th>EndISODate</th>\n",
       "      <th>Dated</th>\n",
       "      <th>Title</th>\n",
       "      <th>Description</th>\n",
       "      <th>Notes</th>\n",
       "      <th>CuratorialRemarks</th>\n",
       "      <th>RelatedWorks</th>\n",
       "      <th>HistAttributions</th>\n",
       "      <th>Classification</th>\n",
       "      <th>AATCN</th>\n",
       "      <th>SubClassification</th>\n",
       "      <th>Department</th>\n",
       "    </tr>\n",
       "    <tr>\n",
       "      <th>ObjectID</th>\n",
       "      <th></th>\n",
       "      <th></th>\n",
       "      <th></th>\n",
       "      <th></th>\n",
       "      <th></th>\n",
       "      <th></th>\n",
       "      <th></th>\n",
       "      <th></th>\n",
       "      <th></th>\n",
       "      <th></th>\n",
       "      <th></th>\n",
       "      <th></th>\n",
       "      <th></th>\n",
       "      <th></th>\n",
       "      <th></th>\n",
       "      <th></th>\n",
       "      <th></th>\n",
       "      <th></th>\n",
       "      <th></th>\n",
       "    </tr>\n",
       "  </thead>\n",
       "  <tbody>\n",
       "    <tr>\n",
       "      <th>5</th>\n",
       "      <td>0</td>\n",
       "      <td>156.0</td>\n",
       "      <td>NaN</td>\n",
       "      <td>NaN</td>\n",
       "      <td>&lt;NA&gt;</td>\n",
       "      <td>NaN</td>\n",
       "      <td>1850-01-01</td>\n",
       "      <td>1958-01-01</td>\n",
       "      <td>voor 1958</td>\n",
       "      <td>?</td>\n",
       "      <td>NaN</td>\n",
       "      <td>NaN</td>\n",
       "      <td>NaN</td>\n",
       "      <td>&lt;NA&gt;</td>\n",
       "      <td>NaN</td>\n",
       "      <td>Materiële cultuurcollectie</td>\n",
       "      <td>Voorwerpen</td>\n",
       "      <td>NaN</td>\n",
       "      <td>(niet toegekend)</td>\n",
       "    </tr>\n",
       "    <tr>\n",
       "      <th>2014</th>\n",
       "      <td>3</td>\n",
       "      <td>148.0</td>\n",
       "      <td>NaN</td>\n",
       "      <td>NaN</td>\n",
       "      <td>&lt;NA&gt;</td>\n",
       "      <td>NaN</td>\n",
       "      <td>1900-01-01</td>\n",
       "      <td>1940-01-01</td>\n",
       "      <td>1900-1940</td>\n",
       "      <td>NaN</td>\n",
       "      <td>NaN</td>\n",
       "      <td>NaN</td>\n",
       "      <td>NaN</td>\n",
       "      <td>&lt;NA&gt;</td>\n",
       "      <td>NaN</td>\n",
       "      <td>Audiovisuele collectie</td>\n",
       "      <td>Foto's</td>\n",
       "      <td>Foto's</td>\n",
       "      <td>Insulair Zuidoost-Azië</td>\n",
       "    </tr>\n",
       "    <tr>\n",
       "      <th>2737</th>\n",
       "      <td>3</td>\n",
       "      <td>148.0</td>\n",
       "      <td>Foto</td>\n",
       "      <td>NaN</td>\n",
       "      <td>&lt;NA&gt;</td>\n",
       "      <td>NaN</td>\n",
       "      <td>1900-01-01</td>\n",
       "      <td>1940-01-01</td>\n",
       "      <td>1900 - 1940</td>\n",
       "      <td>NaN</td>\n",
       "      <td>NaN</td>\n",
       "      <td>Foto afkomstig uit Portefeuille Oudheidkundige...</td>\n",
       "      <td>NaN</td>\n",
       "      <td>&lt;NA&gt;</td>\n",
       "      <td>NaN</td>\n",
       "      <td>Audiovisuele collectie</td>\n",
       "      <td>Foto's</td>\n",
       "      <td>Foto's</td>\n",
       "      <td>Insulair Zuidoost-Azië</td>\n",
       "    </tr>\n",
       "    <tr>\n",
       "      <th>587176</th>\n",
       "      <td>1</td>\n",
       "      <td>156.0</td>\n",
       "      <td>vuurpen</td>\n",
       "      <td>NaN</td>\n",
       "      <td>&lt;NA&gt;</td>\n",
       "      <td>NaN</td>\n",
       "      <td>1800-01-01</td>\n",
       "      <td>1829-01-01</td>\n",
       "      <td>1800-1829</td>\n",
       "      <td>NaN</td>\n",
       "      <td>NaN</td>\n",
       "      <td>NaN</td>\n",
       "      <td>NaN</td>\n",
       "      <td>&lt;NA&gt;</td>\n",
       "      <td>NaN</td>\n",
       "      <td>Materiële cultuurcollectie</td>\n",
       "      <td>Voorwerpen</td>\n",
       "      <td>NaN</td>\n",
       "      <td>Japan en Korea</td>\n",
       "    </tr>\n",
       "    <tr>\n",
       "      <th>585656</th>\n",
       "      <td>1</td>\n",
       "      <td>156.0</td>\n",
       "      <td>eetstokje (stel)</td>\n",
       "      <td>hout</td>\n",
       "      <td>&lt;NA&gt;</td>\n",
       "      <td>NaN</td>\n",
       "      <td>1800-01-01</td>\n",
       "      <td>1829-01-01</td>\n",
       "      <td>1800-1829</td>\n",
       "      <td>NaN</td>\n",
       "      <td>NaN</td>\n",
       "      <td>NaN</td>\n",
       "      <td>NaN</td>\n",
       "      <td>&lt;NA&gt;</td>\n",
       "      <td>NaN</td>\n",
       "      <td>Materiële cultuurcollectie</td>\n",
       "      <td>Voorwerpen</td>\n",
       "      <td>NaN</td>\n",
       "      <td>Japan en Korea</td>\n",
       "    </tr>\n",
       "    <tr>\n",
       "      <th>...</th>\n",
       "      <td>...</td>\n",
       "      <td>...</td>\n",
       "      <td>...</td>\n",
       "      <td>...</td>\n",
       "      <td>...</td>\n",
       "      <td>...</td>\n",
       "      <td>...</td>\n",
       "      <td>...</td>\n",
       "      <td>...</td>\n",
       "      <td>...</td>\n",
       "      <td>...</td>\n",
       "      <td>...</td>\n",
       "      <td>...</td>\n",
       "      <td>...</td>\n",
       "      <td>...</td>\n",
       "      <td>...</td>\n",
       "      <td>...</td>\n",
       "      <td>...</td>\n",
       "      <td>...</td>\n",
       "    </tr>\n",
       "    <tr>\n",
       "      <th>1137774</th>\n",
       "      <td>3</td>\n",
       "      <td>156.0</td>\n",
       "      <td>paardenhalsband</td>\n",
       "      <td>paardenhaar, plantenvezel, katoen, rotan (?)</td>\n",
       "      <td>Bruikleen 23-02-1914 Payeti *[nT], Sumba.\r\n",
       "De ...</td>\n",
       "      <td>Geweven wereld: ikats van Sumba ; Museum voor ...</td>\n",
       "      <td>1900-01-01</td>\n",
       "      <td>1925-01-01</td>\n",
       "      <td>begin 20e eeuw</td>\n",
       "      <td>NaN</td>\n",
       "      <td>NaN</td>\n",
       "      <td>NaN</td>\n",
       "      <td>NaN</td>\n",
       "      <td>&lt;NA&gt;</td>\n",
       "      <td>NaN</td>\n",
       "      <td>Materiële cultuurcollectie</td>\n",
       "      <td>Voorwerpen</td>\n",
       "      <td>NaN</td>\n",
       "      <td>Insulair Zuidoost-Azië</td>\n",
       "    </tr>\n",
       "    <tr>\n",
       "      <th>1137775</th>\n",
       "      <td>3</td>\n",
       "      <td>156.0</td>\n",
       "      <td>paardenhoofdtuig</td>\n",
       "      <td>plantenvezel, rotan, hout</td>\n",
       "      <td>Bruikleen 23-02-1914 Payeti *[nT], Sumba.\r\n",
       "De ...</td>\n",
       "      <td>Geweven wereld: ikats van Sumba ; Museum voor ...</td>\n",
       "      <td>1900-01-01</td>\n",
       "      <td>1925-01-01</td>\n",
       "      <td>begin 20e eeuw</td>\n",
       "      <td>NaN</td>\n",
       "      <td>NaN</td>\n",
       "      <td>NaN</td>\n",
       "      <td>NaN</td>\n",
       "      <td>&lt;NA&gt;</td>\n",
       "      <td>NaN</td>\n",
       "      <td>Materiële cultuurcollectie</td>\n",
       "      <td>Voorwerpen</td>\n",
       "      <td>NaN</td>\n",
       "      <td>Insulair Zuidoost-Azië</td>\n",
       "    </tr>\n",
       "    <tr>\n",
       "      <th>1138074</th>\n",
       "      <td>3</td>\n",
       "      <td>161.0</td>\n",
       "      <td>jas</td>\n",
       "      <td>importwol, glas, importkatoen</td>\n",
       "      <td>&lt;NA&gt;</td>\n",
       "      <td>Cultuurontmoeting in textiel ; Wereldmuseum Ro...</td>\n",
       "      <td>1890-01-01</td>\n",
       "      <td>1915-01-01</td>\n",
       "      <td>1890-1915</td>\n",
       "      <td>NaN</td>\n",
       "      <td>NaN</td>\n",
       "      <td>NaN</td>\n",
       "      <td>NaN</td>\n",
       "      <td>&lt;NA&gt;</td>\n",
       "      <td>NaN</td>\n",
       "      <td>Materiële cultuurcollectie</td>\n",
       "      <td>Textiel</td>\n",
       "      <td>Textiel</td>\n",
       "      <td>Insulair Zuidoost-Azië</td>\n",
       "    </tr>\n",
       "    <tr>\n",
       "      <th>1149512</th>\n",
       "      <td>3</td>\n",
       "      <td>148.0</td>\n",
       "      <td>Foto</td>\n",
       "      <td>papier, albuminedruk</td>\n",
       "      <td>&lt;NA&gt;</td>\n",
       "      <td>NaN</td>\n",
       "      <td>1870-01-01</td>\n",
       "      <td>1896-01-01</td>\n",
       "      <td>ca. 1870-1896</td>\n",
       "      <td>NaN</td>\n",
       "      <td>NaN</td>\n",
       "      <td>NaN</td>\n",
       "      <td>NaN</td>\n",
       "      <td>&lt;NA&gt;</td>\n",
       "      <td>NaN</td>\n",
       "      <td>Audiovisuele collectie</td>\n",
       "      <td>Foto's</td>\n",
       "      <td>Foto's</td>\n",
       "      <td>Insulair Zuidoost-Azië</td>\n",
       "    </tr>\n",
       "    <tr>\n",
       "      <th>1139036</th>\n",
       "      <td>3</td>\n",
       "      <td>151.0</td>\n",
       "      <td>negatief &amp; glasdia</td>\n",
       "      <td>[MT] glas</td>\n",
       "      <td>&lt;NA&gt;</td>\n",
       "      <td>M.v.V. &amp; Toekang Potret &amp; Rotterdam &amp; 1989</td>\n",
       "      <td>1912-01-01</td>\n",
       "      <td>1914-01-01</td>\n",
       "      <td>1912-1914</td>\n",
       "      <td>NaN</td>\n",
       "      <td>NaN</td>\n",
       "      <td>NaN</td>\n",
       "      <td>C0IN: 419612\\r\\nC0ON: \\r\\nC0SA: glasdia\\r\\nC0T...</td>\n",
       "      <td>&lt;NA&gt;</td>\n",
       "      <td>NaN</td>\n",
       "      <td>Audiovisuele collectie</td>\n",
       "      <td>Dia’s</td>\n",
       "      <td>Dia’s</td>\n",
       "      <td>Insulair Zuidoost-Azië</td>\n",
       "    </tr>\n",
       "  </tbody>\n",
       "</table>\n",
       "<p>1823 rows × 19 columns</p>\n",
       "</div>"
      ],
      "text/plain": [
       "          DepartmentID  ClassificationID          ObjectName  \\\n",
       "ObjectID                                                       \n",
       "5                    0             156.0                 NaN   \n",
       "2014                 3             148.0                 NaN   \n",
       "2737                 3             148.0                Foto   \n",
       "587176               1             156.0             vuurpen   \n",
       "585656               1             156.0    eetstokje (stel)   \n",
       "...                ...               ...                 ...   \n",
       "1137774              3             156.0     paardenhalsband   \n",
       "1137775              3             156.0    paardenhoofdtuig   \n",
       "1138074              3             161.0                 jas   \n",
       "1149512              3             148.0                Foto   \n",
       "1139036              3             151.0  negatief & glasdia   \n",
       "\n",
       "                                                Medium  \\\n",
       "ObjectID                                                 \n",
       "5                                                  NaN   \n",
       "2014                                               NaN   \n",
       "2737                                               NaN   \n",
       "587176                                             NaN   \n",
       "585656                                            hout   \n",
       "...                                                ...   \n",
       "1137774   paardenhaar, plantenvezel, katoen, rotan (?)   \n",
       "1137775                      plantenvezel, rotan, hout   \n",
       "1138074                  importwol, glas, importkatoen   \n",
       "1149512                           papier, albuminedruk   \n",
       "1139036                                      [MT] glas   \n",
       "\n",
       "                                                 Provenance  \\\n",
       "ObjectID                                                      \n",
       "5                                                      <NA>   \n",
       "2014                                                   <NA>   \n",
       "2737                                                   <NA>   \n",
       "587176                                                 <NA>   \n",
       "585656                                                 <NA>   \n",
       "...                                                     ...   \n",
       "1137774   Bruikleen 23-02-1914 Payeti *[nT], Sumba.\n",
       "De ...   \n",
       "1137775   Bruikleen 23-02-1914 Payeti *[nT], Sumba.\n",
       "De ...   \n",
       "1138074                                                <NA>   \n",
       "1149512                                                <NA>   \n",
       "1139036                                                <NA>   \n",
       "\n",
       "                                                Exhibitions BeginISODate  \\\n",
       "ObjectID                                                                   \n",
       "5                                                       NaN   1850-01-01   \n",
       "2014                                                    NaN   1900-01-01   \n",
       "2737                                                    NaN   1900-01-01   \n",
       "587176                                                  NaN   1800-01-01   \n",
       "585656                                                  NaN   1800-01-01   \n",
       "...                                                     ...          ...   \n",
       "1137774   Geweven wereld: ikats van Sumba ; Museum voor ...   1900-01-01   \n",
       "1137775   Geweven wereld: ikats van Sumba ; Museum voor ...   1900-01-01   \n",
       "1138074   Cultuurontmoeting in textiel ; Wereldmuseum Ro...   1890-01-01   \n",
       "1149512                                                 NaN   1870-01-01   \n",
       "1139036          M.v.V. & Toekang Potret & Rotterdam & 1989   1912-01-01   \n",
       "\n",
       "          EndISODate           Dated Title Description  \\\n",
       "ObjectID                                                 \n",
       "5         1958-01-01       voor 1958     ?         NaN   \n",
       "2014      1940-01-01       1900-1940   NaN         NaN   \n",
       "2737      1940-01-01     1900 - 1940   NaN         NaN   \n",
       "587176    1829-01-01       1800-1829   NaN         NaN   \n",
       "585656    1829-01-01       1800-1829   NaN         NaN   \n",
       "...              ...             ...   ...         ...   \n",
       "1137774   1925-01-01  begin 20e eeuw   NaN         NaN   \n",
       "1137775   1925-01-01  begin 20e eeuw   NaN         NaN   \n",
       "1138074   1915-01-01       1890-1915   NaN         NaN   \n",
       "1149512   1896-01-01   ca. 1870-1896   NaN         NaN   \n",
       "1139036   1914-01-01       1912-1914   NaN         NaN   \n",
       "\n",
       "                                                      Notes  \\\n",
       "ObjectID                                                      \n",
       "5                                                       NaN   \n",
       "2014                                                    NaN   \n",
       "2737      Foto afkomstig uit Portefeuille Oudheidkundige...   \n",
       "587176                                                  NaN   \n",
       "585656                                                  NaN   \n",
       "...                                                     ...   \n",
       "1137774                                                 NaN   \n",
       "1137775                                                 NaN   \n",
       "1138074                                                 NaN   \n",
       "1149512                                                 NaN   \n",
       "1139036                                                 NaN   \n",
       "\n",
       "                                          CuratorialRemarks RelatedWorks  \\\n",
       "ObjectID                                                                   \n",
       "5                                                       NaN         <NA>   \n",
       "2014                                                    NaN         <NA>   \n",
       "2737                                                    NaN         <NA>   \n",
       "587176                                                  NaN         <NA>   \n",
       "585656                                                  NaN         <NA>   \n",
       "...                                                     ...          ...   \n",
       "1137774                                                 NaN         <NA>   \n",
       "1137775                                                 NaN         <NA>   \n",
       "1138074                                                 NaN         <NA>   \n",
       "1149512                                                 NaN         <NA>   \n",
       "1139036   C0IN: 419612\\r\\nC0ON: \\r\\nC0SA: glasdia\\r\\nC0T...         <NA>   \n",
       "\n",
       "         HistAttributions              Classification       AATCN  \\\n",
       "ObjectID                                                            \n",
       "5                     NaN  Materiële cultuurcollectie  Voorwerpen   \n",
       "2014                  NaN      Audiovisuele collectie      Foto's   \n",
       "2737                  NaN      Audiovisuele collectie      Foto's   \n",
       "587176                NaN  Materiële cultuurcollectie  Voorwerpen   \n",
       "585656                NaN  Materiële cultuurcollectie  Voorwerpen   \n",
       "...                   ...                         ...         ...   \n",
       "1137774               NaN  Materiële cultuurcollectie  Voorwerpen   \n",
       "1137775               NaN  Materiële cultuurcollectie  Voorwerpen   \n",
       "1138074               NaN  Materiële cultuurcollectie     Textiel   \n",
       "1149512               NaN      Audiovisuele collectie      Foto's   \n",
       "1139036               NaN      Audiovisuele collectie       Dia’s   \n",
       "\n",
       "         SubClassification              Department  \n",
       "ObjectID                                            \n",
       "5                      NaN        (niet toegekend)  \n",
       "2014                Foto's  Insulair Zuidoost-Azië  \n",
       "2737                Foto's  Insulair Zuidoost-Azië  \n",
       "587176                 NaN          Japan en Korea  \n",
       "585656                 NaN          Japan en Korea  \n",
       "...                    ...                     ...  \n",
       "1137774                NaN  Insulair Zuidoost-Azië  \n",
       "1137775                NaN  Insulair Zuidoost-Azië  \n",
       "1138074            Textiel  Insulair Zuidoost-Azië  \n",
       "1149512             Foto's  Insulair Zuidoost-Azië  \n",
       "1139036              Dia’s  Insulair Zuidoost-Azië  \n",
       "\n",
       "[1823 rows x 19 columns]"
      ]
     },
     "execution_count": 37,
     "metadata": {},
     "output_type": "execute_result"
    }
   ],
   "source": [
    "df.loc[.index]"
   ]
  },
  {
   "cell_type": "code",
   "execution_count": 38,
   "id": "44613f42",
   "metadata": {},
   "outputs": [
    {
     "data": {
      "text/plain": [
       "ObjectID\n",
       "5          False\n",
       "2014       False\n",
       "2737       False\n",
       "587176     False\n",
       "585656     False\n",
       "           ...  \n",
       "1137774    False\n",
       "1137775    False\n",
       "1138074    False\n",
       "1149512    False\n",
       "1139036    False\n",
       "Name: Title, Length: 1823, dtype: bool"
      ]
     },
     "execution_count": 38,
     "metadata": {},
     "output_type": "execute_result"
    }
   ],
   "source": [
    "(df.fillna(\"\").loc[scores[scores.between(0.96, 0.97)].index].Title.str.len() > 10)"
   ]
  },
  {
   "cell_type": "code",
   "execution_count": null,
   "id": "c1388698",
   "metadata": {},
   "outputs": [],
   "source": [
    "unnormed = (1/scores)-1\n",
    "\n",
    "sns.histplot(unnormed.abs())"
   ]
  },
  {
   "cell_type": "code",
   "execution_count": null,
   "id": "a706ecfe",
   "metadata": {},
   "outputs": [],
   "source": [
    "plt.plot(1/(np.linspace(0., 10000., 1000)+1)**2)\n",
    "plt.plot(1/(np.linspace(0., 10000., 1000)+1)**0.5)\n",
    "\n",
    "plt.plot(1/np.log(np.linspace(0., 10000., 1000)+1))\n",
    "# plt.plot(np.linspace(0., 1000., 1000)/(np.linspace(0., 1000., 1000).sum()))\n",
    "\n",
    "# plt.ylim((0, 1))"
   ]
  },
  {
   "cell_type": "code",
   "execution_count": null,
   "id": "caab14a2",
   "metadata": {},
   "outputs": [],
   "source": [
    "plt.hist(1/(unnormed.abs()+1))"
   ]
  },
  {
   "cell_type": "code",
   "execution_count": null,
   "id": "c67c147c",
   "metadata": {},
   "outputs": [],
   "source": [
    "z = (unnormed - unnormed.mean())/(unnormed.var()**0.5)\n",
    "\n",
    "sns.histplot(z)"
   ]
  },
  {
   "cell_type": "code",
   "execution_count": null,
   "id": "700d4081",
   "metadata": {},
   "outputs": [],
   "source": [
    "# unnormed = scores\n",
    "\n",
    "def norm(v):\n",
    "    return (v - v.min())/(v.max() - v.min())\n",
    "\n",
    "normed = np.log(norm(norm(unnormed))+1)\n",
    "\n",
    "sns.histplot(normed)"
   ]
  },
  {
   "cell_type": "markdown",
   "id": "dfc7229c",
   "metadata": {},
   "source": [
    "# Search Parameters"
   ]
  },
  {
   "cell_type": "code",
   "execution_count": 55,
   "id": "7d143b37",
   "metadata": {
    "scrolled": true
   },
   "outputs": [
    {
     "data": {
      "text/plain": [
       "Foto's               66302\n",
       "Voorwerpen           28974\n",
       "Negatieven           11267\n",
       "Textiel               5678\n",
       "Archeologica          5406\n",
       "Drukwerk              5339\n",
       "Dia’s                 4623\n",
       "Documentatie TXT      2944\n",
       "Dia's                 2862\n",
       "Prentbriefkaarten     2761\n",
       "Schilderingen         1976\n",
       "Albums                1746\n",
       "Beeldcollectie        1488\n",
       "Tekeningen            1103\n",
       "TT-elementen          1052\n",
       "Verzamelingen          750\n",
       "Naturalia              525\n",
       "Lichtbeelden           375\n",
       "Tijdelijk nummer       363\n",
       "Boeken                 290\n",
       "Film                   233\n",
       "Documenten             199\n",
       "Rekwisieten            183\n",
       "Antropologica          104\n",
       "(niet in gebruik)       78\n",
       "Documentatie AV         58\n",
       "(niet ingevoerd)         8\n",
       "Documentatie             7\n",
       "Name: AATCN, dtype: int64"
      ]
     },
     "execution_count": 55,
     "metadata": {},
     "output_type": "execute_result"
    }
   ],
   "source": [
    "df.AATCN.str.replace(\" (doc.)\", \"\", regex=False).value_counts()"
   ]
  },
  {
   "cell_type": "markdown",
   "id": "12d573ec",
   "metadata": {},
   "source": [
    "---\n",
    "# ContentLengthEngine Dev"
   ]
  },
  {
   "cell_type": "code",
   "execution_count": 62,
   "id": "e094209d",
   "metadata": {},
   "outputs": [
    {
     "name": "stderr",
     "output_type": "stream",
     "text": [
      "100%|████████████████████████████████████████████████████████████████████| 146694/146694 [00:03<00:00, 46776.83it/s]\n"
     ]
    }
   ],
   "source": [
    "lengths = df.fillna(\"\").progress_apply(lambda r: len(r.Title) + len(r.Description), axis=\"columns\")"
   ]
  },
  {
   "cell_type": "code",
   "execution_count": 117,
   "id": "204ab175",
   "metadata": {},
   "outputs": [
    {
     "data": {
      "text/plain": [
       "(-0.4, 1.0)"
      ]
     },
     "execution_count": 117,
     "metadata": {},
     "output_type": "execute_result"
    },
    {
     "data": {
      "image/png": "[encoded data removed]",
      "text/plain": [
       "<Figure size 432x288 with 1 Axes>"
      ]
     },
     "metadata": {},
     "output_type": "display_data"
    }
   ],
   "source": [
    "_=plt.hist(lengths/1000, bins=5000)\n",
    "plt.xlim((-0.4, 1.))"
   ]
  },
  {
   "cell_type": "code",
   "execution_count": 109,
   "id": "90639207",
   "metadata": {},
   "outputs": [
    {
     "data": {
      "image/png": "[encoded data removed]",
      "text/plain": [
       "<Figure size 432x288 with 1 Axes>"
      ]
     },
     "metadata": {},
     "output_type": "display_data"
    }
   ],
   "source": [
    "_= plt.hist((lengths[lengths.between(0, 1000)]+1), bins=100)"
   ]
  },
  {
   "cell_type": "code",
   "execution_count": 111,
   "id": "39785e17",
   "metadata": {},
   "outputs": [
    {
     "data": {
      "text/plain": [
       "(0.8, 1.0)"
      ]
     },
     "execution_count": 111,
     "metadata": {},
     "output_type": "execute_result"
    },
    {
     "data": {
      "image/png": "[encoded data removed]",
      "text/plain": [
       "<Figure size 432x288 with 1 Axes>"
      ]
     },
     "metadata": {},
     "output_type": "display_data"
    }
   ],
   "source": [
    "for m in np.linspace(100, 20000, 200):\n",
    "    plt.plot([m], [lengths[lengths.between(0, m)].shape[0]/lengths.shape[0]], \".\")\n",
    "    \n",
    "plt.xlim((0, 1000))\n",
    "plt.ylim((0.8, 1.0))"
   ]
  },
  {
   "cell_type": "code",
   "execution_count": 134,
   "id": "f38e6735",
   "metadata": {},
   "outputs": [
    {
     "name": "stderr",
     "output_type": "stream",
     "text": [
      "100%|████████████████████████████████████████████████████████████████████| 146694/146694 [00:03<00:00, 42037.63it/s]\n"
     ]
    }
   ],
   "source": [
    "from src.engines.ContentLengthEnginev0 import ContentLengthEngine\n",
    "\n",
    "cl_eng = ContentLengthEngine(id_=\"ContentLengthEnginev0\",\n",
    "                            name=\"ContentLengthEngine/v0\",\n",
    "                            dataset=df,\n",
    "                            params=[])"
   ]
  },
  {
   "cell_type": "code",
   "execution_count": 124,
   "id": "4683b2ba",
   "metadata": {},
   "outputs": [],
   "source": [
    "scores, details = cl_eng.score_and_detail(df)\n",
    "scores = scores/cl_eng.max_len"
   ]
  },
  {
   "cell_type": "code",
   "execution_count": 129,
   "id": "e82ba2fd",
   "metadata": {},
   "outputs": [
    {
     "data": {
      "text/plain": [
       "(-0.1, 1.0)"
      ]
     },
     "execution_count": 129,
     "metadata": {},
     "output_type": "execute_result"
    },
    {
     "data": {
      "image/png": "[encoded data removed]",
      "text/plain": [
       "<Figure size 432x288 with 1 Axes>"
      ]
     },
     "metadata": {},
     "output_type": "display_data"
    }
   ],
   "source": [
    "scores.hist(bins=2000)\n",
    "plt.xlim((-0.1, 1.))"
   ]
  },
  {
   "cell_type": "code",
   "execution_count": 133,
   "id": "0cf78208",
   "metadata": {},
   "outputs": [
    {
     "data": {
      "text/plain": [
       "ObjectID\n",
       "2          0.006\n",
       "5          0.001\n",
       "8          0.004\n",
       "9          0.009\n",
       "10         0.022\n",
       "           ...  \n",
       "1140385    0.089\n",
       "1140386    0.051\n",
       "1140388    0.167\n",
       "1140389    0.025\n",
       "1153236    0.087\n",
       "Name: score, Length: 146694, dtype: float64"
      ]
     },
     "execution_count": 133,
     "metadata": {},
     "output_type": "execute_result"
    }
   ],
   "source": [
    "scores"
   ]
  },
  {
   "cell_type": "code",
   "execution_count": 135,
   "id": "08187673",
   "metadata": {},
   "outputs": [
    {
     "name": "stderr",
     "output_type": "stream",
     "text": [
      "  0%|                                                                          | 1/146694 [00:00<3:01:03, 13.50it/s]\n"
     ]
    },
    {
     "ename": "TypeError",
     "evalue": "<lambda>() got an unexpected keyword argument 'desc'",
     "output_type": "error",
     "traceback": [
      "\u001b[0;31m---------------------------------------------------------------------------\u001b[0m",
      "\u001b[0;31mTypeError\u001b[0m                                 Traceback (most recent call last)",
      "\u001b[0;32m/tmp/ipykernel_36688/3383630337.py\u001b[0m in \u001b[0;36m<module>\u001b[0;34m\u001b[0m\n\u001b[0;32m----> 1\u001b[0;31m \u001b[0mdf\u001b[0m\u001b[0;34m.\u001b[0m\u001b[0mprogress_apply\u001b[0m\u001b[0;34m(\u001b[0m\u001b[0;32mlambda\u001b[0m \u001b[0mr\u001b[0m\u001b[0;34m:\u001b[0m \u001b[0mlen\u001b[0m\u001b[0;34m(\u001b[0m\u001b[0mr\u001b[0m\u001b[0;34m)\u001b[0m\u001b[0;34m,\u001b[0m \u001b[0maxis\u001b[0m\u001b[0;34m=\u001b[0m\u001b[0;34m\"columns\"\u001b[0m\u001b[0;34m,\u001b[0m \u001b[0mdesc\u001b[0m\u001b[0;34m=\u001b[0m\u001b[0;34m\"somthing\"\u001b[0m\u001b[0;34m)\u001b[0m\u001b[0;34m\u001b[0m\u001b[0;34m\u001b[0m\u001b[0m\n\u001b[0m",
      "\u001b[0;32m~/.local/lib/python3.10/site-packages/tqdm/std.py\u001b[0m in \u001b[0;36minner\u001b[0;34m(df, func, *args, **kwargs)\u001b[0m\n\u001b[1;32m    812\u001b[0m                 \u001b[0;31m# on the df using our wrapper (which provides bar updating)\u001b[0m\u001b[0;34m\u001b[0m\u001b[0;34m\u001b[0m\u001b[0m\n\u001b[1;32m    813\u001b[0m                 \u001b[0;32mtry\u001b[0m\u001b[0;34m:\u001b[0m\u001b[0;34m\u001b[0m\u001b[0;34m\u001b[0m\u001b[0m\n\u001b[0;32m--> 814\u001b[0;31m                     \u001b[0;32mreturn\u001b[0m \u001b[0mgetattr\u001b[0m\u001b[0;34m(\u001b[0m\u001b[0mdf\u001b[0m\u001b[0;34m,\u001b[0m \u001b[0mdf_function\u001b[0m\u001b[0;34m)\u001b[0m\u001b[0;34m(\u001b[0m\u001b[0mwrapper\u001b[0m\u001b[0;34m,\u001b[0m \u001b[0;34m**\u001b[0m\u001b[0mkwargs\u001b[0m\u001b[0;34m)\u001b[0m\u001b[0;34m\u001b[0m\u001b[0;34m\u001b[0m\u001b[0m\n\u001b[0m\u001b[1;32m    815\u001b[0m                 \u001b[0;32mfinally\u001b[0m\u001b[0;34m:\u001b[0m\u001b[0;34m\u001b[0m\u001b[0;34m\u001b[0m\u001b[0m\n\u001b[1;32m    816\u001b[0m                     \u001b[0mt\u001b[0m\u001b[0;34m.\u001b[0m\u001b[0mclose\u001b[0m\u001b[0;34m(\u001b[0m\u001b[0;34m)\u001b[0m\u001b[0;34m\u001b[0m\u001b[0;34m\u001b[0m\u001b[0m\n",
      "\u001b[0;32m~/.local/lib/python3.10/site-packages/pandas/core/frame.py\u001b[0m in \u001b[0;36mapply\u001b[0;34m(self, func, axis, raw, result_type, args, **kwargs)\u001b[0m\n\u001b[1;32m   8738\u001b[0m             \u001b[0mkwargs\u001b[0m\u001b[0;34m=\u001b[0m\u001b[0mkwargs\u001b[0m\u001b[0;34m,\u001b[0m\u001b[0;34m\u001b[0m\u001b[0;34m\u001b[0m\u001b[0m\n\u001b[1;32m   8739\u001b[0m         )\n\u001b[0;32m-> 8740\u001b[0;31m         \u001b[0;32mreturn\u001b[0m \u001b[0mop\u001b[0m\u001b[0;34m.\u001b[0m\u001b[0mapply\u001b[0m\u001b[0;34m(\u001b[0m\u001b[0;34m)\u001b[0m\u001b[0;34m\u001b[0m\u001b[0;34m\u001b[0m\u001b[0m\n\u001b[0m\u001b[1;32m   8741\u001b[0m \u001b[0;34m\u001b[0m\u001b[0m\n\u001b[1;32m   8742\u001b[0m     def applymap(\n",
      "\u001b[0;32m~/.local/lib/python3.10/site-packages/pandas/core/apply.py\u001b[0m in \u001b[0;36mapply\u001b[0;34m(self)\u001b[0m\n\u001b[1;32m    686\u001b[0m             \u001b[0;32mreturn\u001b[0m \u001b[0mself\u001b[0m\u001b[0;34m.\u001b[0m\u001b[0mapply_raw\u001b[0m\u001b[0;34m(\u001b[0m\u001b[0;34m)\u001b[0m\u001b[0;34m\u001b[0m\u001b[0;34m\u001b[0m\u001b[0m\n\u001b[1;32m    687\u001b[0m \u001b[0;34m\u001b[0m\u001b[0m\n\u001b[0;32m--> 688\u001b[0;31m         \u001b[0;32mreturn\u001b[0m \u001b[0mself\u001b[0m\u001b[0;34m.\u001b[0m\u001b[0mapply_standard\u001b[0m\u001b[0;34m(\u001b[0m\u001b[0;34m)\u001b[0m\u001b[0;34m\u001b[0m\u001b[0;34m\u001b[0m\u001b[0m\n\u001b[0m\u001b[1;32m    689\u001b[0m \u001b[0;34m\u001b[0m\u001b[0m\n\u001b[1;32m    690\u001b[0m     \u001b[0;32mdef\u001b[0m \u001b[0magg\u001b[0m\u001b[0;34m(\u001b[0m\u001b[0mself\u001b[0m\u001b[0;34m)\u001b[0m\u001b[0;34m:\u001b[0m\u001b[0;34m\u001b[0m\u001b[0;34m\u001b[0m\u001b[0m\n",
      "\u001b[0;32m~/.local/lib/python3.10/site-packages/pandas/core/apply.py\u001b[0m in \u001b[0;36mapply_standard\u001b[0;34m(self)\u001b[0m\n\u001b[1;32m    810\u001b[0m \u001b[0;34m\u001b[0m\u001b[0m\n\u001b[1;32m    811\u001b[0m     \u001b[0;32mdef\u001b[0m \u001b[0mapply_standard\u001b[0m\u001b[0;34m(\u001b[0m\u001b[0mself\u001b[0m\u001b[0;34m)\u001b[0m\u001b[0;34m:\u001b[0m\u001b[0;34m\u001b[0m\u001b[0;34m\u001b[0m\u001b[0m\n\u001b[0;32m--> 812\u001b[0;31m         \u001b[0mresults\u001b[0m\u001b[0;34m,\u001b[0m \u001b[0mres_index\u001b[0m \u001b[0;34m=\u001b[0m \u001b[0mself\u001b[0m\u001b[0;34m.\u001b[0m\u001b[0mapply_series_generator\u001b[0m\u001b[0;34m(\u001b[0m\u001b[0;34m)\u001b[0m\u001b[0;34m\u001b[0m\u001b[0;34m\u001b[0m\u001b[0m\n\u001b[0m\u001b[1;32m    813\u001b[0m \u001b[0;34m\u001b[0m\u001b[0m\n\u001b[1;32m    814\u001b[0m         \u001b[0;31m# wrap results\u001b[0m\u001b[0;34m\u001b[0m\u001b[0;34m\u001b[0m\u001b[0m\n",
      "\u001b[0;32m~/.local/lib/python3.10/site-packages/pandas/core/apply.py\u001b[0m in \u001b[0;36mapply_series_generator\u001b[0;34m(self)\u001b[0m\n\u001b[1;32m    826\u001b[0m             \u001b[0;32mfor\u001b[0m \u001b[0mi\u001b[0m\u001b[0;34m,\u001b[0m \u001b[0mv\u001b[0m \u001b[0;32min\u001b[0m \u001b[0menumerate\u001b[0m\u001b[0;34m(\u001b[0m\u001b[0mseries_gen\u001b[0m\u001b[0;34m)\u001b[0m\u001b[0;34m:\u001b[0m\u001b[0;34m\u001b[0m\u001b[0;34m\u001b[0m\u001b[0m\n\u001b[1;32m    827\u001b[0m                 \u001b[0;31m# ignore SettingWithCopy here in case the user mutates\u001b[0m\u001b[0;34m\u001b[0m\u001b[0;34m\u001b[0m\u001b[0m\n\u001b[0;32m--> 828\u001b[0;31m                 \u001b[0mresults\u001b[0m\u001b[0;34m[\u001b[0m\u001b[0mi\u001b[0m\u001b[0;34m]\u001b[0m \u001b[0;34m=\u001b[0m \u001b[0mself\u001b[0m\u001b[0;34m.\u001b[0m\u001b[0mf\u001b[0m\u001b[0;34m(\u001b[0m\u001b[0mv\u001b[0m\u001b[0;34m)\u001b[0m\u001b[0;34m\u001b[0m\u001b[0;34m\u001b[0m\u001b[0m\n\u001b[0m\u001b[1;32m    829\u001b[0m                 \u001b[0;32mif\u001b[0m \u001b[0misinstance\u001b[0m\u001b[0;34m(\u001b[0m\u001b[0mresults\u001b[0m\u001b[0;34m[\u001b[0m\u001b[0mi\u001b[0m\u001b[0;34m]\u001b[0m\u001b[0;34m,\u001b[0m \u001b[0mABCSeries\u001b[0m\u001b[0;34m)\u001b[0m\u001b[0;34m:\u001b[0m\u001b[0;34m\u001b[0m\u001b[0;34m\u001b[0m\u001b[0m\n\u001b[1;32m    830\u001b[0m                     \u001b[0;31m# If we have a view on v, we need to make a copy because\u001b[0m\u001b[0;34m\u001b[0m\u001b[0;34m\u001b[0m\u001b[0m\n",
      "\u001b[0;32m~/.local/lib/python3.10/site-packages/pandas/core/apply.py\u001b[0m in \u001b[0;36mf\u001b[0;34m(x)\u001b[0m\n\u001b[1;32m    129\u001b[0m \u001b[0;34m\u001b[0m\u001b[0m\n\u001b[1;32m    130\u001b[0m             \u001b[0;32mdef\u001b[0m \u001b[0mf\u001b[0m\u001b[0;34m(\u001b[0m\u001b[0mx\u001b[0m\u001b[0;34m)\u001b[0m\u001b[0;34m:\u001b[0m\u001b[0;34m\u001b[0m\u001b[0;34m\u001b[0m\u001b[0m\n\u001b[0;32m--> 131\u001b[0;31m                 \u001b[0;32mreturn\u001b[0m \u001b[0mfunc\u001b[0m\u001b[0;34m(\u001b[0m\u001b[0mx\u001b[0m\u001b[0;34m,\u001b[0m \u001b[0;34m*\u001b[0m\u001b[0margs\u001b[0m\u001b[0;34m,\u001b[0m \u001b[0;34m**\u001b[0m\u001b[0mkwargs\u001b[0m\u001b[0;34m)\u001b[0m\u001b[0;34m\u001b[0m\u001b[0;34m\u001b[0m\u001b[0m\n\u001b[0m\u001b[1;32m    132\u001b[0m \u001b[0;34m\u001b[0m\u001b[0m\n\u001b[1;32m    133\u001b[0m         \u001b[0;32melse\u001b[0m\u001b[0;34m:\u001b[0m\u001b[0;34m\u001b[0m\u001b[0;34m\u001b[0m\u001b[0m\n",
      "\u001b[0;32m~/.local/lib/python3.10/site-packages/tqdm/std.py\u001b[0m in \u001b[0;36mwrapper\u001b[0;34m(*args, **kwargs)\u001b[0m\n\u001b[1;32m    807\u001b[0m                     \u001b[0;31m# take a fast or slow code path; so stop when t.total==t.n\u001b[0m\u001b[0;34m\u001b[0m\u001b[0;34m\u001b[0m\u001b[0m\n\u001b[1;32m    808\u001b[0m                     \u001b[0mt\u001b[0m\u001b[0;34m.\u001b[0m\u001b[0mupdate\u001b[0m\u001b[0;34m(\u001b[0m\u001b[0mn\u001b[0m\u001b[0;34m=\u001b[0m\u001b[0;36m1\u001b[0m \u001b[0;32mif\u001b[0m \u001b[0;32mnot\u001b[0m \u001b[0mt\u001b[0m\u001b[0;34m.\u001b[0m\u001b[0mtotal\u001b[0m \u001b[0;32mor\u001b[0m \u001b[0mt\u001b[0m\u001b[0;34m.\u001b[0m\u001b[0mn\u001b[0m \u001b[0;34m<\u001b[0m \u001b[0mt\u001b[0m\u001b[0;34m.\u001b[0m\u001b[0mtotal\u001b[0m \u001b[0;32melse\u001b[0m \u001b[0;36m0\u001b[0m\u001b[0;34m)\u001b[0m\u001b[0;34m\u001b[0m\u001b[0;34m\u001b[0m\u001b[0m\n\u001b[0;32m--> 809\u001b[0;31m                     \u001b[0;32mreturn\u001b[0m \u001b[0mfunc\u001b[0m\u001b[0;34m(\u001b[0m\u001b[0;34m*\u001b[0m\u001b[0margs\u001b[0m\u001b[0;34m,\u001b[0m \u001b[0;34m**\u001b[0m\u001b[0mkwargs\u001b[0m\u001b[0;34m)\u001b[0m\u001b[0;34m\u001b[0m\u001b[0;34m\u001b[0m\u001b[0m\n\u001b[0m\u001b[1;32m    810\u001b[0m \u001b[0;34m\u001b[0m\u001b[0m\n\u001b[1;32m    811\u001b[0m                 \u001b[0;31m# Apply the provided function (in **kwargs)\u001b[0m\u001b[0;34m\u001b[0m\u001b[0;34m\u001b[0m\u001b[0m\n",
      "\u001b[0;31mTypeError\u001b[0m: <lambda>() got an unexpected keyword argument 'desc'"
     ]
    }
   ],
   "source": [
    "df.progress_apply(lambda r: len(r), axis=\"columns\", desc=\"somthing\")"
   ]
  }
 ],
 "metadata": {
  "kernelspec": {
   "display_name": "Python 3 (ipykernel)",
   "language": "python",
   "name": "python3"
  },
  "language_info": {
   "codemirror_mode": {
    "name": "ipython",
    "version": 3
   },
   "file_extension": ".py",
   "mimetype": "text/x-python",
   "name": "python",
   "nbconvert_exporter": "python",
   "pygments_lexer": "ipython3",
   "version": "3.10.1"
  }
 },
 "nbformat": 4,
 "nbformat_minor": 5
}

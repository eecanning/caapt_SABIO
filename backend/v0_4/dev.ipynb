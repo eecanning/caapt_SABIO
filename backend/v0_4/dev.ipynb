{
 "cells": [
  {
   "cell_type": "code",
   "execution_count": 1,
   "id": "c01ef6d8",
   "metadata": {},
   "outputs": [],
   "source": [
    "import numpy as np\n",
    "import pandas as pd\n",
    "from tqdm import tqdm"
   ]
  },
  {
   "cell_type": "code",
   "execution_count": null,
   "id": "e30d901a",
   "metadata": {},
   "outputs": [],
   "source": [
    "df = pd.read_csv(\"NMvW_data/v0.csv.gz\", \n",
    "                 dtype=dict(Provenance=\"string\", RelatedWorks=\"string\"))\n",
    "\n",
    "# TODO: save & load DF s.t. these lines are not necessary here                \n",
    "df[\"ObjectID\"] = df.ObjectID.astype(\"int\")\n",
    "df = df.set_index(\"ObjectID\")"
   ]
  },
  {
   "cell_type": "code",
   "execution_count": null,
   "id": "ae026330",
   "metadata": {},
   "outputs": [],
   "source": [
    "df2 = df[(df.BeginISODate+df.EndISODate) > 0]\n",
    "\n",
    "df2.apply(lambda r: len(str(r.Title) + str(r.Description)) > 6, axis=\"columns\").sum()/df2.shape[0]"
   ]
  },
  {
   "cell_type": "code",
   "execution_count": null,
   "id": "3df12b4f",
   "metadata": {},
   "outputs": [],
   "source": [
    "type(df2.iloc[0].Description)"
   ]
  },
  {
   "cell_type": "code",
   "execution_count": null,
   "id": "0d2b2612",
   "metadata": {},
   "outputs": [],
   "source": [
    "\n",
    "import spacy\n",
    "from nltk import Tree\n",
    "\n",
    "nlp = spacy.load(\"nl_core_news_sm\")\n",
    "\n",
    "def to_nltk_tree(node):\n",
    "    if node.n_lefts + node.n_rights > 0:\n",
    "        return Tree(node.orth_, [to_nltk_tree(child) for child in node.children])\n",
    "    else:\n",
    "        return node.orth_\n",
    "    \n",
    "doc = nlp(df.Description.dropna().iloc[0])\n",
    "print(doc)\n",
    "[to_nltk_tree(sent.root).pretty_print() for sent in doc.sents]"
   ]
  },
  {
   "cell_type": "code",
   "execution_count": null,
   "id": "d4871e11",
   "metadata": {},
   "outputs": [],
   "source": [
    "from spacy import displacy\n",
    "displacy.render(doc, style='dep')"
   ]
  },
  {
   "cell_type": "code",
   "execution_count": null,
   "id": "7335db38",
   "metadata": {},
   "outputs": [],
   "source": [
    "[nlp(t) for t in tqdm(df.Description) if isinstance(t, str)]"
   ]
  },
  {
   "cell_type": "markdown",
   "id": "4626b8d4",
   "metadata": {},
   "source": [
    "---\n",
    "# Search"
   ]
  },
  {
   "cell_type": "code",
   "execution_count": null,
   "id": "902ad113",
   "metadata": {},
   "outputs": [],
   "source": [
    "kws = \"\" # \"hello, goodbye\"\n",
    "prep_kws = \"|\".join(kws.lower().replace(\", \", \",\").split(\",\"))\n",
    "        \n",
    "if (not kws.strip()) or (not prep_kws):\n",
    "    does_contain = [True]*df.shape[0]\n",
    "else:\n",
    "    print(\"what\")\n",
    "    \n",
    "print(does_contain)"
   ]
  },
  {
   "cell_type": "code",
   "execution_count": null,
   "id": "d0585cdf",
   "metadata": {},
   "outputs": [],
   "source": [
    "from urllib.parse import unquote\n",
    "\n",
    "unquote('\"objectKeywords\"%3A\"\"%2C\"objectStartDate\"%3A\"\"%2C\"objectEndDate\"')"
   ]
  },
  {
   "cell_type": "markdown",
   "id": "1e0b2c84",
   "metadata": {},
   "source": [
    "---\n",
    "# Dates\n",
    "\n",
    " 1. make all dates at least 1 (because python cannot deal with years <= 0)  \n",
    "    (or drop non-positive dates)  \n",
    "    (drop objects with EndISODate <= 0 in any case (doesn't make any sense))  \n",
    " \n",
    " 2. convert all year values to %Y-%m-%d format (expected by Werner's API)  \n",
    "    (by using datetime.strptime; allows comparison with > )  "
   ]
  },
  {
   "cell_type": "code",
   "execution_count": null,
   "id": "a9d87b5e",
   "metadata": {},
   "outputs": [],
   "source": [
    "from datetime import datetime\n",
    "frmt = \"%Y-%m-%d\"\n",
    "start_year, end_year = datetime.strptime(\"2011-02-01\", frmt), datetime.strptime(\"2013-10-02\", frmt)"
   ]
  },
  {
   "cell_type": "code",
   "execution_count": null,
   "id": "d77ab1f6",
   "metadata": {},
   "outputs": [],
   "source": [
    "(start_year.year > df.BeginISODate).sum()"
   ]
  },
  {
   "cell_type": "code",
   "execution_count": null,
   "id": "60b94eda",
   "metadata": {},
   "outputs": [],
   "source": [
    "df.BeginISODate[(df.BeginISODate > 1500)].hist(bins=100)"
   ]
  },
  {
   "cell_type": "markdown",
   "id": "2bd3ac29",
   "metadata": {},
   "source": [
    "### 1."
   ]
  },
  {
   "cell_type": "code",
   "execution_count": null,
   "id": "269e0239",
   "metadata": {},
   "outputs": [],
   "source": [
    "df = df[df.EndISODate > 0]\n",
    "\n",
    "# drop\n",
    "df = df[df.BeginISODate > 0]\n",
    "\n",
    "# change\n",
    "df[\"BeginISODate\"] = df.BeginISODate.replace(0, 1)"
   ]
  },
  {
   "cell_type": "markdown",
   "id": "81adcb62",
   "metadata": {},
   "source": [
    "### 2."
   ]
  },
  {
   "cell_type": "code",
   "execution_count": null,
   "id": "7afd99c6",
   "metadata": {},
   "outputs": [],
   "source": [
    "df[\"start_date\"] = df.BeginISODate.astype(str).str.zfill(4).apply(lambda s: dt.strptime(s, \"%Y\"))\n",
    "df[\"end_date\"] = df.EndISODate.astype(str).str.zfill(4).apply(lambda s: dt.strptime(s, \"%Y\"))"
   ]
  },
  {
   "cell_type": "markdown",
   "id": "a9a93306",
   "metadata": {},
   "source": [
    "---\n",
    "# Fixing Strange x-Axis Data Issue "
   ]
  },
  {
   "cell_type": "code",
   "execution_count": null,
   "id": "cf642f51",
   "metadata": {},
   "outputs": [],
   "source": [
    "https://sabio.diginfra.nl/api/v1/objects/<datasetID>/search/%7B%22objectKeywords%22%3A%22hengelo%22%2C%22objectStartDate%22%3A%22%22%2C%22objectEndDate%22%3A%22%22%2C%22objectParams%22%3A[%7B%22id%22%3A%22Classification%22%2C%22value%22%3A%22%22%7D%2C%7B%22id%22%3A%22Department%22%2C%22value%22%3A%22%22%7D]%2C%22engineId%22%3A%22RandomEnginev0%22%2C%22engineMinScore%22%3A0%2C%22engineMaxScore%22%3A1%2C%22engineParams%22%3A[%7B%22id%22%3A0%2C%22value%22%3A%22useless1%22%7D]%2C%22vocabularyTerms%22%3A%22bewindhebber%2Cbewindvoerder%2Cbomba%2Cbombay%2Ccimarron%2Cderde%20wereld%2Cdwerg%2Cexpeditie%2Cgouverneur%2Chalfbloed%2Chottentot%2Cinboorling%2Cindiaan%2Cindisch%2Cindo%2Cinheems%2Cinlander%2Cjap%2Cjappen%2Cjappenkampen%2Ckaffer%2Ckaffir%2Ckafir%2Ckoelie%2Ckolonie%2Clagelonenland%2Clandhuis%2Cmarron%2Cmarronage%2Cmissie%2Cmissionaris%2Cmoor%2Cmoors%2Cmoren%2Cmulat%2Coctroon%2Contdekken%2Contdekking%2Contdekkingsreis%2Contwikkelingsland%2Coorspronkelijk%2Coosters%2Copperhoofd%2Cori%C3%ABntaals%2Cpinda%2Cpolitionele%20actie%2Cprimitief%2Cprimitieven%2Cpygmee%2Cras%2Crasch%2Cslaaf%2Cstam%2Cstamhoofd%2Ctraditioneel%2Ctropisch%2Cwesters%2Cwilden%2Czendeling%2Czendelingen%2Czending%22%7D/scatterplot/1/405100?api=https%3A%2F%2Fsabio.diginfra.net%2Fapi%2Fv1%2F"
   ]
  },
  {
   "cell_type": "code",
   "execution_count": null,
   "id": "b3bc8bc0",
   "metadata": {},
   "outputs": [],
   "source": [
    "https://sabio.diginfra.nl/api/v1/engines"
   ]
  },
  {
   "cell_type": "code",
   "execution_count": null,
   "id": "5e228b37",
   "metadata": {},
   "outputs": [],
   "source": [
    "https://sabio.diginfra.net/api/v1/objects/NMvW_v0/search?object_keywords=hengelo&object_start_date=&object_end_date=&engine_id=RandomEnginev0&engine_min_score=0&engine_max_score=1&vocabulary_terms=bewindhebber%2Cbewindvoerder%2Cbomba%2Cbombay%2Ccimarron%2Cderde%20wereld%2Cdwerg%2Cexpeditie%2Cgouverneur%2Chalfbloed%2Chottentot%2Cinboorling%2Cindiaan%2Cindisch%2Cindo%2Cinheems%2Cinlander%2Cjap%2Cjappen%2Cjappenkampen%2Ckaffer%2Ckaffir%2Ckafir%2Ckoelie%2Ckolonie%2Clagelonenland%2Clandhuis%2Cmarron%2Cmarronage%2Cmissie%2Cmissionaris%2Cmoor%2Cmoors%2Cmoren%2Cmulat%2Coctroon%2Contdekken%2Contdekking%2Contdekkingsreis%2Contwikkelingsland%2Coorspronkelijk%2Coosters%2Copperhoofd%2Cori%C3%ABntaals%2Cpinda%2Cpolitionele%20actie%2Cprimitief%2Cprimitieven%2Cpygmee%2Cras%2Crasch%2Cslaaf%2Cstam%2Cstamhoofd%2Ctraditioneel%2Ctropisch%2Cwesters%2Cwilden%2Czendeling%2Czendelingen%2Czending&object_param_Classification=&object_param_Department=&engine_param_0=useless1"
   ]
  },
  {
   "cell_type": "markdown",
   "id": "637de751",
   "metadata": {},
   "source": [
    "---"
   ]
  },
  {
   "cell_type": "code",
   "execution_count": null,
   "id": "d132e558",
   "metadata": {},
   "outputs": [],
   "source": [
    "from src.results import Result"
   ]
  },
  {
   "cell_type": "code",
   "execution_count": null,
   "id": "3c191480",
   "metadata": {},
   "outputs": [],
   "source": [
    "param_names = [\"Department\", \"Classification\"]"
   ]
  },
  {
   "cell_type": "code",
   "execution_count": null,
   "id": "59194316",
   "metadata": {},
   "outputs": [],
   "source": [
    "attributes = [\"BeginISODate\", \"EndISODate\"] \n",
    "attributes = attributes + param_names"
   ]
  },
  {
   "cell_type": "code",
   "execution_count": null,
   "id": "e3b7f825",
   "metadata": {},
   "outputs": [],
   "source": [
    "df[attributes]"
   ]
  },
  {
   "cell_type": "code",
   "execution_count": null,
   "id": "888fb183",
   "metadata": {},
   "outputs": [],
   "source": [
    "values = df[attributes]"
   ]
  },
  {
   "cell_type": "code",
   "execution_count": null,
   "id": "bf8f5b6b",
   "metadata": {},
   "outputs": [],
   "source": [
    "r = Result(param_names=param_names, rows=df, scores=np.zeros(len(df)), \n",
    "                 score_details=df, min_score=0., max_score=1.)"
   ]
  },
  {
   "cell_type": "code",
   "execution_count": null,
   "id": "42c37148",
   "metadata": {},
   "outputs": [],
   "source": [
    "r.values"
   ]
  },
  {
   "cell_type": "markdown",
   "id": "ead90626",
   "metadata": {},
   "source": [
    "---\n",
    "# Keyword Search Dev"
   ]
  },
  {
   "cell_type": "code",
   "execution_count": null,
   "id": "e7c8ced2",
   "metadata": {},
   "outputs": [],
   "source": [
    "kws = \"Maarten Sint\"\n",
    "prep_kws = \"|\".join(kws.lower().replace(\", \", \",\").split(\",\"))"
   ]
  },
  {
   "cell_type": "code",
   "execution_count": null,
   "id": "cd7a855c",
   "metadata": {},
   "outputs": [],
   "source": [
    "prep_kws"
   ]
  },
  {
   "cell_type": "code",
   "execution_count": null,
   "id": "e8637e3f",
   "metadata": {},
   "outputs": [],
   "source": [
    "d = dict(a=)\n",
    "\n",
    "d.get(\"a\", False)"
   ]
  },
  {
   "cell_type": "code",
   "execution_count": null,
   "id": "3f97e527",
   "metadata": {},
   "outputs": [],
   "source": [
    "def f(**kwargs):\n",
    "    print(kwargs)\n",
    "    \n",
    "    \n",
    "d = dict(a=13)\n",
    "f(a=0, **d)"
   ]
  },
  {
   "cell_type": "markdown",
   "id": "99054285",
   "metadata": {},
   "source": [
    "---\n",
    "# Integrating TypicalityEngine"
   ]
  },
  {
   "cell_type": "code",
   "execution_count": null,
   "id": "4d906e27",
   "metadata": {},
   "outputs": [],
   "source": [
    "from src.datasets import NMvW\n",
    "from src.engines.TypicalityEnginev0 import Typicality, TypicalityEngine\n",
    "\n",
    "NMvW.data = NMvW.data.iloc[:10000]"
   ]
  },
  {
   "cell_type": "code",
   "execution_count": null,
   "id": "4cadf40c",
   "metadata": {},
   "outputs": [],
   "source": [
    "typE = TypicalityEngine(id_=\"TypicalityEnginev0\",\n",
    "                           name=\"TypicalityEngine/v0\",\n",
    "                           dataset=NMvW,\n",
    "                           params=[],\n",
    "                       from_saved=False)"
   ]
  },
  {
   "cell_type": "code",
   "execution_count": null,
   "id": "4b1db469",
   "metadata": {},
   "outputs": [],
   "source": [
    "texts = NMvW.data.sample(frac=0.3).fillna(\"\")\n",
    "\n",
    "typs, details = typE.score_and_detail(texts)"
   ]
  },
  {
   "cell_type": "code",
   "execution_count": null,
   "id": "ff2e0cbe",
   "metadata": {},
   "outputs": [],
   "source": [
    "import seaborn as sns\n",
    "sns.histplot(typs, color=\"blue\")"
   ]
  },
  {
   "cell_type": "code",
   "execution_count": null,
   "id": "19eb0fb8",
   "metadata": {},
   "outputs": [],
   "source": [
    "details.iloc[-1]"
   ]
  },
  {
   "cell_type": "code",
   "execution_count": null,
   "id": "afcb9772",
   "metadata": {},
   "outputs": [],
   "source": [
    "import joblib\n",
    "joblib.dump(typE.typicality, \"test.pkl\")"
   ]
  },
  {
   "cell_type": "code",
   "execution_count": null,
   "id": "4ac82489",
   "metadata": {},
   "outputs": [],
   "source": [
    "import joblib\n",
    "joblib.dump(typE, \"test.pkl\")"
   ]
  },
  {
   "cell_type": "markdown",
   "id": "51432207",
   "metadata": {},
   "source": [
    "---"
   ]
  },
  {
   "cell_type": "code",
   "execution_count": null,
   "id": "7e6726a2",
   "metadata": {},
   "outputs": [],
   "source": [
    "import joblib\n",
    "typ2 = joblib.load(\"test.pkl\")"
   ]
  },
  {
   "cell_type": "code",
   "execution_count": null,
   "id": "21de9abc",
   "metadata": {},
   "outputs": [],
   "source": [
    "texts = NMvW.data.sample(frac=0.3).fillna(\"\")\n",
    "typs2, details2 = typ2.score_and_detail(texts)"
   ]
  },
  {
   "cell_type": "code",
   "execution_count": null,
   "id": "51b2caa1",
   "metadata": {},
   "outputs": [],
   "source": [
    "typs, details = typE.score_and_detail(texts)"
   ]
  },
  {
   "cell_type": "code",
   "execution_count": null,
   "id": "ead5dd63",
   "metadata": {},
   "outputs": [],
   "source": [
    "(typs == typs2)"
   ]
  },
  {
   "cell_type": "markdown",
   "id": "3d8fadfb",
   "metadata": {},
   "source": [
    "# Fast Iteration over Results"
   ]
  },
  {
   "cell_type": "code",
   "execution_count": null,
   "id": "6deff071",
   "metadata": {},
   "outputs": [],
   "source": [
    "df = pd.read_csv(\"../../data/v0_2.csv.gz\", \n",
    "                 dtype=dict(Provenance=\"string\", RelatedWorks=\"string\"))\n",
    "\n",
    "# TODO: save & load DF s.t. these lines are not necessary here                \n",
    "df[\"ObjectID\"] = df.ObjectID.astype(\"int\")\n",
    "df = df.set_index(\"ObjectID\")"
   ]
  },
  {
   "cell_type": "code",
   "execution_count": null,
   "id": "ce191fa0",
   "metadata": {},
   "outputs": [],
   "source": [
    "ids = df.index.astype(\"string\")\n",
    "titles = df.Title.fillna(\"\").astype(\"string\")\n",
    "thumbnails = pd.Series([\"\"]*df.shape[0], \n",
    "                       name=\"Thumbnail\",\n",
    "                      index=df.index).astype(\"string\")"
   ]
  },
  {
   "cell_type": "code",
   "execution_count": null,
   "id": "6f018857",
   "metadata": {},
   "outputs": [],
   "source": [
    "r = pd.concat([titles, thumbnails], axis=1)\n",
    "r.index, ids"
   ]
  },
  {
   "cell_type": "code",
   "execution_count": null,
   "id": "b6300fef",
   "metadata": {},
   "outputs": [],
   "source": [
    "r#.astype(\"string\")"
   ]
  },
  {
   "cell_type": "code",
   "execution_count": null,
   "id": "d8d68d3b",
   "metadata": {},
   "outputs": [],
   "source": [
    "lens = []\n",
    "for i, row in tqdm(r.to_dict(\"index\").items()):\n",
    "    lens.append(sum(map(len, row.values())))"
   ]
  },
  {
   "cell_type": "code",
   "execution_count": null,
   "id": "0d4f82f1",
   "metadata": {},
   "outputs": [],
   "source": [
    "lens = []\n",
    "for i in tqdm(range(r.shape[0])):\n",
    "    lens.append(sum(map(len, r.iloc[i])))"
   ]
  },
  {
   "cell_type": "code",
   "execution_count": null,
   "id": "4274d0c9",
   "metadata": {},
   "outputs": [],
   "source": [
    "r_ = r.apply(lambda col: col.str.replace(\" \", \"X\"), axis=0)\n",
    "r_.columns = [c + \"X\" for c in r_.columns]\n",
    "r2 = pd.concat([r, r_], axis=1)"
   ]
  },
  {
   "cell_type": "code",
   "execution_count": null,
   "id": "fd23a24c",
   "metadata": {},
   "outputs": [],
   "source": [
    "t = pd.Series(np.random.random(size=df.shape[0]), index=df.index)"
   ]
  },
  {
   "cell_type": "code",
   "execution_count": null,
   "id": "881f261d",
   "metadata": {},
   "outputs": [],
   "source": [
    "t.iloc[0].round(3)"
   ]
  },
  {
   "cell_type": "markdown",
   "id": "1c16d17e",
   "metadata": {},
   "source": [
    "# TypicalityEngine Value Range"
   ]
  },
  {
   "cell_type": "code",
   "execution_count": 2,
   "id": "90994e8c",
   "metadata": {},
   "outputs": [],
   "source": [
    "import matplotlib.pyplot as plt\n",
    "import seaborn as sns"
   ]
  },
  {
   "cell_type": "code",
   "execution_count": 3,
   "id": "22d64080",
   "metadata": {},
   "outputs": [],
   "source": [
    "scores = pd.read_csv(\"/home/valentin/Desktop/scores.csv\").set_index(\"ObjectID\")[\"score\"]\n",
    "score_details = pd.read_csv(\"/home/valentin/Desktop/score_details.csv\").set_index(\"ObjectID\")"
   ]
  },
  {
   "cell_type": "code",
   "execution_count": 4,
   "id": "1fe1acb0",
   "metadata": {},
   "outputs": [
    {
     "data": {
      "image/png": "[encoded data removed]",
      "text/plain": [
       "<Figure size 432x288 with 1 Axes>"
      ]
     },
     "metadata": {},
     "output_type": "display_data"
    }
   ],
   "source": [
    "# plt.hist(scores, bins=100)\n",
    "_=plt.hist((1/scores)-1, bins=100)"
   ]
  },
  {
   "cell_type": "code",
   "execution_count": null,
   "id": "77e21e7e",
   "metadata": {},
   "outputs": [],
   "source": [
    "(scores < 100).sum()/scores.shape[0]\n",
    "\n",
    "_= plt.hist(scores[(scores > -1) & (scores < 1)])"
   ]
  },
  {
   "cell_type": "code",
   "execution_count": 8,
   "id": "c1388698",
   "metadata": {},
   "outputs": [
    {
     "data": {
      "text/plain": [
       "<AxesSubplot:xlabel='score', ylabel='Count'>"
      ]
     },
     "execution_count": 8,
     "metadata": {},
     "output_type": "execute_result"
    },
    {
     "data": {
      "image/png": "[encoded data removed]",
      "text/plain": [
       "<Figure size 432x288 with 1 Axes>"
      ]
     },
     "metadata": {},
     "output_type": "display_data"
    }
   ],
   "source": [
    "unnormed = (1/scores)-1\n",
    "\n",
    "sns.histplot(unnormed.abs())"
   ]
  },
  {
   "cell_type": "code",
   "execution_count": 28,
   "id": "62b2765d",
   "metadata": {},
   "outputs": [
    {
     "name": "stderr",
     "output_type": "stream",
     "text": [
      "/tmp/ipykernel_27844/593798169.py:4: RuntimeWarning: divide by zero encountered in true_divide\n",
      "  plt.plot(1/np.log(np.linspace(0., 10000., 1000)+1))\n"
     ]
    },
    {
     "data": {
      "text/plain": [
       "[<matplotlib.lines.Line2D at 0x7f9ede02f130>]"
      ]
     },
     "execution_count": 28,
     "metadata": {},
     "output_type": "execute_result"
    },
    {
     "data": {
      "image/png": "[encoded data removed]",
      "text/plain": [
       "<Figure size 432x288 with 1 Axes>"
      ]
     },
     "metadata": {},
     "output_type": "display_data"
    }
   ],
   "source": [
    "plt.plot(1/(np.linspace(0., 10000., 1000)+1)**2)\n",
    "plt.plot(1/(np.linspace(0., 10000., 1000)+1)**0.5)\n",
    "\n",
    "plt.plot(1/np.log(np.linspace(0., 10000., 1000)+1))\n",
    "# plt.plot(np.linspace(0., 1000., 1000)/(np.linspace(0., 1000., 1000).sum()))\n",
    "\n",
    "# plt.ylim((0, 1))"
   ]
  },
  {
   "cell_type": "code",
   "execution_count": 7,
   "id": "6a131ac8",
   "metadata": {},
   "outputs": [
    {
     "data": {
      "text/plain": [
       "(array([  343.,  6754., 13915., 19935., 21857., 22554., 18717., 16226.,\n",
       "        15004., 11389.]),\n",
       " array([0.22985832, 0.30687236, 0.38388641, 0.46090045, 0.53791449,\n",
       "        0.61492853, 0.69194257, 0.76895661, 0.84597065, 0.92298469,\n",
       "        0.99999873]),\n",
       " <BarContainer object of 10 artists>)"
      ]
     },
     "execution_count": 7,
     "metadata": {},
     "output_type": "execute_result"
    },
    {
     "data": {
      "image/png": "[encoded data removed]",
      "text/plain": [
       "<Figure size 432x288 with 1 Axes>"
      ]
     },
     "metadata": {},
     "output_type": "display_data"
    }
   ],
   "source": [
    "plt.hist(1/(unnormed.abs()+1))"
   ]
  },
  {
   "cell_type": "code",
   "execution_count": null,
   "id": "c67c147c",
   "metadata": {},
   "outputs": [],
   "source": [
    "z = (unnormed - unnormed.mean())/(unnormed.var()**0.5)\n",
    "\n",
    "sns.histplot(z)"
   ]
  },
  {
   "cell_type": "code",
   "execution_count": null,
   "id": "700d4081",
   "metadata": {},
   "outputs": [],
   "source": [
    "# unnormed = scores\n",
    "\n",
    "def norm(v):\n",
    "    return (v - v.min())/(v.max() - v.min())\n",
    "\n",
    "normed = np.log(norm(norm(unnormed))+1)\n",
    "\n",
    "sns.histplot(normed)"
   ]
  },
  {
   "cell_type": "code",
   "execution_count": 43,
   "id": "0fc9447e",
   "metadata": {},
   "outputs": [],
   "source": [
    "def norm(v, q=99.5): # (empirically) leads to 1% of the data being outside the range\n",
    "    return (v - np.percentile(v, 100-q))/(np.percentile(v, q) - np.percentile(v, 100-q))\n",
    "\n",
    "\n",
    "re_normed = norm(unnormed)"
   ]
  },
  {
   "cell_type": "code",
   "execution_count": 52,
   "id": "341ac546",
   "metadata": {},
   "outputs": [
    {
     "data": {
      "image/png": "[encoded data removed]",
      "text/plain": [
       "<Figure size 432x288 with 1 Axes>"
      ]
     },
     "metadata": {},
     "output_type": "display_data"
    }
   ],
   "source": [
    "for p in np.linspace(97, 99.999, 100):\n",
    "    re_normed = norm(unnormed, p)\n",
    "    out = ((re_normed < 0.) | (re_normed > 1.0)).sum()/re_normed.shape[0]\n",
    "    plt.plot([p], [out], \".\")"
   ]
  },
  {
   "cell_type": "code",
   "execution_count": 44,
   "id": "e1baad84",
   "metadata": {},
   "outputs": [
    {
     "data": {
      "image/png": "[encoded data removed]",
      "text/plain": [
       "<Figure size 432x288 with 1 Axes>"
      ]
     },
     "metadata": {},
     "output_type": "display_data"
    }
   ],
   "source": [
    "_=plt.hist(re_normed, bins=100)"
   ]
  },
  {
   "cell_type": "code",
   "execution_count": 46,
   "id": "19fac9dd",
   "metadata": {},
   "outputs": [
    {
     "data": {
      "text/plain": [
       "(array([57.,  7.,  3.,  4.,  5.,  5.,  8., 18., 14., 26.]),\n",
       " array([1.00003094, 1.00276819, 1.00550543, 1.00824267, 1.01097992,\n",
       "        1.01371716, 1.0164544 , 1.01919165, 1.02192889, 1.02466613,\n",
       "        1.02740338]),\n",
       " <BarContainer object of 10 artists>)"
      ]
     },
     "execution_count": 46,
     "metadata": {},
     "output_type": "execute_result"
    },
    {
     "data": {
      "image/png": "[encoded data removed]",
      "text/plain": [
       "<Figure size 432x288 with 1 Axes>"
      ]
     },
     "metadata": {},
     "output_type": "display_data"
    }
   ],
   "source": [
    "plt.hist(re_normed[(re_normed < 0)])\n",
    "re_normed[(re_normed > 1.0)]"
   ]
  },
  {
   "cell_type": "code",
   "execution_count": null,
   "id": "4a16d25d",
   "metadata": {},
   "outputs": [],
   "source": [
    "for q in np.linspace(0., 1., 30):\n",
    "    print(q, np.percentile(unnormed, q))"
   ]
  },
  {
   "cell_type": "code",
   "execution_count": null,
   "id": "499d4ddc",
   "metadata": {},
   "outputs": [],
   "source": [
    "v = np.random.uniform(0., 100, size=100000)\n",
    "\n",
    "for q in np.linspace(0., 100., 30):\n",
    "    print(q, np.percentile(v, q))"
   ]
  }
 ],
 "metadata": {
  "kernelspec": {
   "display_name": "Python 3 (ipykernel)",
   "language": "python",
   "name": "python3"
  },
  "language_info": {
   "codemirror_mode": {
    "name": "ipython",
    "version": 3
   },
   "file_extension": ".py",
   "mimetype": "text/x-python",
   "name": "python",
   "nbconvert_exporter": "python",
   "pygments_lexer": "ipython3",
   "version": "3.10.1"
  }
 },
 "nbformat": 4,
 "nbformat_minor": 5
}

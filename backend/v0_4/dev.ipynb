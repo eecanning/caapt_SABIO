{
 "cells": [
  {
   "cell_type": "code",
   "execution_count": 1,
   "id": "c01ef6d8",
   "metadata": {},
   "outputs": [],
   "source": [
    "import numpy as np\n",
    "import pandas as pd\n",
    "from tqdm import tqdm\n",
    "tqdm.pandas()"
   ]
  },
  {
   "cell_type": "code",
   "execution_count": 2,
   "id": "e30d901a",
   "metadata": {},
   "outputs": [],
   "source": [
    "df = pd.read_csv(\"../../data/v0_2.csv.gz\", \n",
    "                 dtype=dict(Provenance=\"string\", RelatedWorks=\"string\"))\n",
    "\n",
    "# TODO: save & load DF s.t. these lines are not necessary here                \n",
    "df[\"ObjectID\"] = df.ObjectID.astype(\"int\")\n",
    "df = df.set_index(\"ObjectID\")"
   ]
  },
  {
   "cell_type": "code",
   "execution_count": null,
   "id": "ae026330",
   "metadata": {},
   "outputs": [],
   "source": [
    "df2 = df[(df.BeginISODate+df.EndISODate) > 0]\n",
    "\n",
    "df2.apply(lambda r: len(str(r.Title) + str(r.Description)) > 6, axis=\"columns\").sum()/df2.shape[0]"
   ]
  },
  {
   "cell_type": "code",
   "execution_count": null,
   "id": "3df12b4f",
   "metadata": {},
   "outputs": [],
   "source": [
    "type(df2.iloc[0].Description)"
   ]
  },
  {
   "cell_type": "code",
   "execution_count": null,
   "id": "0d2b2612",
   "metadata": {},
   "outputs": [],
   "source": [
    "\n",
    "import spacy\n",
    "from nltk import Tree\n",
    "\n",
    "nlp = spacy.load(\"nl_core_news_sm\")\n",
    "\n",
    "def to_nltk_tree(node):\n",
    "    if node.n_lefts + node.n_rights > 0:\n",
    "        return Tree(node.orth_, [to_nltk_tree(child) for child in node.children])\n",
    "    else:\n",
    "        return node.orth_\n",
    "    \n",
    "doc = nlp(df.Description.dropna().iloc[0])\n",
    "print(doc)\n",
    "[to_nltk_tree(sent.root).pretty_print() for sent in doc.sents]"
   ]
  },
  {
   "cell_type": "code",
   "execution_count": null,
   "id": "d4871e11",
   "metadata": {},
   "outputs": [],
   "source": [
    "from spacy import displacy\n",
    "displacy.render(doc, style='dep')"
   ]
  },
  {
   "cell_type": "code",
   "execution_count": null,
   "id": "7335db38",
   "metadata": {},
   "outputs": [],
   "source": [
    "[nlp(t) for t in tqdm(df.Description) if isinstance(t, str)]"
   ]
  },
  {
   "cell_type": "markdown",
   "id": "4626b8d4",
   "metadata": {},
   "source": [
    "---\n",
    "# Search"
   ]
  },
  {
   "cell_type": "code",
   "execution_count": null,
   "id": "902ad113",
   "metadata": {},
   "outputs": [],
   "source": [
    "kws = \"\" # \"hello, goodbye\"\n",
    "prep_kws = \"|\".join(kws.lower().replace(\", \", \",\").split(\",\"))\n",
    "        \n",
    "if (not kws.strip()) or (not prep_kws):\n",
    "    does_contain = [True]*df.shape[0]\n",
    "else:\n",
    "    print(\"what\")\n",
    "    \n",
    "print(does_contain)"
   ]
  },
  {
   "cell_type": "code",
   "execution_count": null,
   "id": "d0585cdf",
   "metadata": {},
   "outputs": [],
   "source": [
    "from urllib.parse import unquote\n",
    "\n",
    "unquote('\"objectKeywords\"%3A\"\"%2C\"objectStartDate\"%3A\"\"%2C\"objectEndDate\"')"
   ]
  },
  {
   "cell_type": "markdown",
   "id": "1e0b2c84",
   "metadata": {},
   "source": [
    "---\n",
    "# Dates\n",
    "\n",
    " 1. make all dates at least 1 (because python cannot deal with years <= 0)  \n",
    "    (or drop non-positive dates)  \n",
    "    (drop objects with EndISODate <= 0 in any case (doesn't make any sense))  \n",
    " \n",
    " 2. convert all year values to %Y-%m-%d format (expected by Werner's API)  \n",
    "    (by using datetime.strptime; allows comparison with > )  "
   ]
  },
  {
   "cell_type": "code",
   "execution_count": null,
   "id": "a9d87b5e",
   "metadata": {},
   "outputs": [],
   "source": [
    "from datetime import datetime\n",
    "frmt = \"%Y-%m-%d\"\n",
    "start_year, end_year = datetime.strptime(\"2011-02-01\", frmt), datetime.strptime(\"2013-10-02\", frmt)"
   ]
  },
  {
   "cell_type": "code",
   "execution_count": null,
   "id": "d77ab1f6",
   "metadata": {},
   "outputs": [],
   "source": [
    "(start_year.year > df.BeginISODate).sum()"
   ]
  },
  {
   "cell_type": "code",
   "execution_count": null,
   "id": "60b94eda",
   "metadata": {},
   "outputs": [],
   "source": [
    "df.BeginISODate[(df.BeginISODate > 1500)].hist(bins=100)"
   ]
  },
  {
   "cell_type": "markdown",
   "id": "2bd3ac29",
   "metadata": {},
   "source": [
    "### 1."
   ]
  },
  {
   "cell_type": "code",
   "execution_count": null,
   "id": "269e0239",
   "metadata": {},
   "outputs": [],
   "source": [
    "df = df[df.EndISODate > 0]\n",
    "\n",
    "# drop\n",
    "df = df[df.BeginISODate > 0]\n",
    "\n",
    "# change\n",
    "df[\"BeginISODate\"] = df.BeginISODate.replace(0, 1)"
   ]
  },
  {
   "cell_type": "markdown",
   "id": "81adcb62",
   "metadata": {},
   "source": [
    "### 2."
   ]
  },
  {
   "cell_type": "code",
   "execution_count": null,
   "id": "7afd99c6",
   "metadata": {},
   "outputs": [],
   "source": [
    "df[\"start_date\"] = df.BeginISODate.astype(str).str.zfill(4).apply(lambda s: dt.strptime(s, \"%Y\"))\n",
    "df[\"end_date\"] = df.EndISODate.astype(str).str.zfill(4).apply(lambda s: dt.strptime(s, \"%Y\"))"
   ]
  },
  {
   "cell_type": "markdown",
   "id": "ead90626",
   "metadata": {},
   "source": [
    "---\n",
    "# Keyword Search Dev"
   ]
  },
  {
   "cell_type": "code",
   "execution_count": null,
   "id": "e7c8ced2",
   "metadata": {},
   "outputs": [],
   "source": [
    "kws = \"Maarten Sint\"\n",
    "prep_kws = \"|\".join(kws.lower().replace(\", \", \",\").split(\",\"))"
   ]
  },
  {
   "cell_type": "code",
   "execution_count": null,
   "id": "cd7a855c",
   "metadata": {},
   "outputs": [],
   "source": [
    "prep_kws"
   ]
  },
  {
   "cell_type": "code",
   "execution_count": null,
   "id": "e8637e3f",
   "metadata": {},
   "outputs": [],
   "source": [
    "d = dict(a=)\n",
    "\n",
    "d.get(\"a\", False)"
   ]
  },
  {
   "cell_type": "code",
   "execution_count": null,
   "id": "3f97e527",
   "metadata": {},
   "outputs": [],
   "source": [
    "def f(**kwargs):\n",
    "    print(kwargs)\n",
    "    \n",
    "    \n",
    "d = dict(a=13)\n",
    "f(a=0, **d)"
   ]
  },
  {
   "cell_type": "markdown",
   "id": "99054285",
   "metadata": {},
   "source": [
    "---\n",
    "# Integrating TypicalityEngine"
   ]
  },
  {
   "cell_type": "code",
   "execution_count": null,
   "id": "4d906e27",
   "metadata": {},
   "outputs": [],
   "source": [
    "from src.datasets import NMvW\n",
    "from src.engines.TypicalityEnginev0 import Typicality, TypicalityEngine\n",
    "\n",
    "NMvW.data = NMvW.data.iloc[:10000]"
   ]
  },
  {
   "cell_type": "code",
   "execution_count": null,
   "id": "4cadf40c",
   "metadata": {},
   "outputs": [],
   "source": [
    "typE = TypicalityEngine(id_=\"TypicalityEnginev0\",\n",
    "                           name=\"TypicalityEngine/v0\",\n",
    "                           dataset=NMvW,\n",
    "                           params=[],\n",
    "                       from_saved=False)"
   ]
  },
  {
   "cell_type": "code",
   "execution_count": null,
   "id": "4b1db469",
   "metadata": {},
   "outputs": [],
   "source": [
    "texts = NMvW.data.sample(frac=0.3).fillna(\"\")\n",
    "\n",
    "typs, details = typE.score_and_detail(texts)"
   ]
  },
  {
   "cell_type": "code",
   "execution_count": null,
   "id": "ff2e0cbe",
   "metadata": {},
   "outputs": [],
   "source": [
    "import seaborn as sns\n",
    "sns.histplot(typs, color=\"blue\")"
   ]
  },
  {
   "cell_type": "code",
   "execution_count": null,
   "id": "19eb0fb8",
   "metadata": {},
   "outputs": [],
   "source": [
    "details.iloc[-1]"
   ]
  },
  {
   "cell_type": "code",
   "execution_count": null,
   "id": "afcb9772",
   "metadata": {},
   "outputs": [],
   "source": [
    "import joblib\n",
    "joblib.dump(typE.typicality, \"test.pkl\")"
   ]
  },
  {
   "cell_type": "code",
   "execution_count": null,
   "id": "4ac82489",
   "metadata": {},
   "outputs": [],
   "source": [
    "import joblib\n",
    "joblib.dump(typE, \"test.pkl\")"
   ]
  },
  {
   "cell_type": "markdown",
   "id": "51432207",
   "metadata": {},
   "source": [
    "---"
   ]
  },
  {
   "cell_type": "code",
   "execution_count": null,
   "id": "7e6726a2",
   "metadata": {},
   "outputs": [],
   "source": [
    "import joblib\n",
    "typ2 = joblib.load(\"test.pkl\")"
   ]
  },
  {
   "cell_type": "code",
   "execution_count": null,
   "id": "21de9abc",
   "metadata": {},
   "outputs": [],
   "source": [
    "texts = NMvW.data.sample(frac=0.3).fillna(\"\")\n",
    "typs2, details2 = typ2.score_and_detail(texts)"
   ]
  },
  {
   "cell_type": "code",
   "execution_count": null,
   "id": "51b2caa1",
   "metadata": {},
   "outputs": [],
   "source": [
    "typs, details = typE.score_and_detail(texts)"
   ]
  },
  {
   "cell_type": "code",
   "execution_count": null,
   "id": "ead5dd63",
   "metadata": {},
   "outputs": [],
   "source": [
    "(typs == typs2)"
   ]
  },
  {
   "cell_type": "markdown",
   "id": "3d8fadfb",
   "metadata": {},
   "source": [
    "# Fast Iteration over Results"
   ]
  },
  {
   "cell_type": "code",
   "execution_count": null,
   "id": "6deff071",
   "metadata": {},
   "outputs": [],
   "source": [
    "df = pd.read_csv(\"../../data/v0_2.csv.gz\", \n",
    "                 dtype=dict(Provenance=\"string\", RelatedWorks=\"string\"))\n",
    "\n",
    "# TODO: save & load DF s.t. these lines are not necessary here                \n",
    "df[\"ObjectID\"] = df.ObjectID.astype(\"int\")\n",
    "df = df.set_index(\"ObjectID\")"
   ]
  },
  {
   "cell_type": "code",
   "execution_count": null,
   "id": "ce191fa0",
   "metadata": {},
   "outputs": [],
   "source": [
    "ids = df.index.astype(\"string\")\n",
    "titles = df.Title.fillna(\"\").astype(\"string\")\n",
    "thumbnails = pd.Series([\"\"]*df.shape[0], \n",
    "                       name=\"Thumbnail\",\n",
    "                      index=df.index).astype(\"string\")"
   ]
  },
  {
   "cell_type": "code",
   "execution_count": null,
   "id": "6f018857",
   "metadata": {},
   "outputs": [],
   "source": [
    "r = pd.concat([titles, thumbnails], axis=1)\n",
    "r.index, ids"
   ]
  },
  {
   "cell_type": "code",
   "execution_count": null,
   "id": "b6300fef",
   "metadata": {},
   "outputs": [],
   "source": [
    "r#.astype(\"string\")"
   ]
  },
  {
   "cell_type": "code",
   "execution_count": null,
   "id": "d8d68d3b",
   "metadata": {},
   "outputs": [],
   "source": [
    "lens = []\n",
    "for i, row in tqdm(r.to_dict(\"index\").items()):\n",
    "    lens.append(sum(map(len, row.values())))"
   ]
  },
  {
   "cell_type": "code",
   "execution_count": null,
   "id": "0d4f82f1",
   "metadata": {},
   "outputs": [],
   "source": [
    "lens = []\n",
    "for i in tqdm(range(r.shape[0])):\n",
    "    lens.append(sum(map(len, r.iloc[i])))"
   ]
  },
  {
   "cell_type": "code",
   "execution_count": null,
   "id": "4274d0c9",
   "metadata": {},
   "outputs": [],
   "source": [
    "r_ = r.apply(lambda col: col.str.replace(\" \", \"X\"), axis=0)\n",
    "r_.columns = [c + \"X\" for c in r_.columns]\n",
    "r2 = pd.concat([r, r_], axis=1)"
   ]
  },
  {
   "cell_type": "code",
   "execution_count": null,
   "id": "fd23a24c",
   "metadata": {},
   "outputs": [],
   "source": [
    "t = pd.Series(np.random.random(size=df.shape[0]), index=df.index)"
   ]
  },
  {
   "cell_type": "code",
   "execution_count": null,
   "id": "881f261d",
   "metadata": {},
   "outputs": [],
   "source": [
    "t.iloc[0].round(3)"
   ]
  },
  {
   "cell_type": "markdown",
   "id": "1c16d17e",
   "metadata": {},
   "source": [
    "---\n",
    "# TypicalityEngine Value Range"
   ]
  },
  {
   "cell_type": "code",
   "execution_count": null,
   "id": "90994e8c",
   "metadata": {},
   "outputs": [],
   "source": [
    "import matplotlib.pyplot as plt\n",
    "import seaborn as sns"
   ]
  },
  {
   "cell_type": "code",
   "execution_count": null,
   "id": "22d64080",
   "metadata": {},
   "outputs": [],
   "source": [
    "scores = pd.read_csv(\"/home/valentin/Desktop/scores.csv\").set_index(\"ObjectID\")[\"score\"]\n",
    "score_details = pd.read_csv(\"/home/valentin/Desktop/score_details.csv\").set_index(\"ObjectID\")\n",
    "score_details = score_details[\"score_details\"]"
   ]
  },
  {
   "cell_type": "code",
   "execution_count": null,
   "id": "1fe1acb0",
   "metadata": {},
   "outputs": [],
   "source": [
    "_=plt.hist(scores, bins=100)\n",
    "# _=plt.hist((1/scores)-1, bins=100)"
   ]
  },
  {
   "cell_type": "code",
   "execution_count": null,
   "id": "804846b6",
   "metadata": {},
   "outputs": [],
   "source": [
    "(scores < 100).sum()/scores.shape[0]\n",
    "\n",
    "_= plt.hist(scores[(scores > 0) & (scores < 1)], bins=100)\n",
    "# plt.xlim((0.95, 0.98))"
   ]
  },
  {
   "cell_type": "code",
   "execution_count": null,
   "id": "44c1093d",
   "metadata": {},
   "outputs": [],
   "source": [
    "df.loc[.index]"
   ]
  },
  {
   "cell_type": "code",
   "execution_count": null,
   "id": "44613f42",
   "metadata": {},
   "outputs": [],
   "source": [
    "(df.fillna(\"\").loc[scores[scores.between(0.96, 0.97)].index].Title.str.len() > 10)"
   ]
  },
  {
   "cell_type": "code",
   "execution_count": null,
   "id": "c1388698",
   "metadata": {},
   "outputs": [],
   "source": [
    "unnormed = (1/scores)-1\n",
    "\n",
    "sns.histplot(unnormed.abs())"
   ]
  },
  {
   "cell_type": "code",
   "execution_count": null,
   "id": "a706ecfe",
   "metadata": {},
   "outputs": [],
   "source": [
    "plt.plot(1/(np.linspace(0., 10000., 1000)+1)**2)\n",
    "plt.plot(1/(np.linspace(0., 10000., 1000)+1)**0.5)\n",
    "\n",
    "plt.plot(1/np.log(np.linspace(0., 10000., 1000)+1))\n",
    "# plt.plot(np.linspace(0., 1000., 1000)/(np.linspace(0., 1000., 1000).sum()))\n",
    "\n",
    "# plt.ylim((0, 1))"
   ]
  },
  {
   "cell_type": "code",
   "execution_count": null,
   "id": "caab14a2",
   "metadata": {},
   "outputs": [],
   "source": [
    "plt.hist(1/(unnormed.abs()+1))"
   ]
  },
  {
   "cell_type": "code",
   "execution_count": null,
   "id": "c67c147c",
   "metadata": {},
   "outputs": [],
   "source": [
    "z = (unnormed - unnormed.mean())/(unnormed.var()**0.5)\n",
    "\n",
    "sns.histplot(z)"
   ]
  },
  {
   "cell_type": "code",
   "execution_count": null,
   "id": "700d4081",
   "metadata": {},
   "outputs": [],
   "source": [
    "# unnormed = scores\n",
    "\n",
    "def norm(v):\n",
    "    return (v - v.min())/(v.max() - v.min())\n",
    "\n",
    "normed = np.log(norm(norm(unnormed))+1)\n",
    "\n",
    "sns.histplot(normed)"
   ]
  },
  {
   "cell_type": "markdown",
   "id": "400502e0",
   "metadata": {},
   "source": [
    "## Value Range of Score Details"
   ]
  },
  {
   "cell_type": "code",
   "execution_count": null,
   "id": "a3885111",
   "metadata": {},
   "outputs": [],
   "source": [
    "score_details = score_details.progress_apply(eval)"
   ]
  },
  {
   "cell_type": "code",
   "execution_count": null,
   "id": "ebc7a880",
   "metadata": {},
   "outputs": [],
   "source": [
    "score_details.iloc[10]"
   ]
  },
  {
   "cell_type": "code",
   "execution_count": null,
   "id": "c9faf31d",
   "metadata": {},
   "outputs": [],
   "source": [
    "(v-v.min())/(v.max() - v.min())"
   ]
  },
  {
   "cell_type": "code",
   "execution_count": null,
   "id": "060daea1",
   "metadata": {},
   "outputs": [],
   "source": [
    "d = {k: v for smalld in score_details for k, v in smalld.items()}"
   ]
  },
  {
   "cell_type": "code",
   "execution_count": null,
   "id": "0f2e46f3",
   "metadata": {},
   "outputs": [],
   "source": [
    "def percentile_norm(v, q=99.5):\n",
    "        return (v - np.percentile(v, 100-q))/(np.percentile(v, q) - np.percentile(v, 100-q))\n",
    "\n",
    "vals = np.asarray([d[k] for k in sorted(d)])\n",
    "abs_vals = abs(vals)\n",
    "norm_vals = percentile_norm(abs(vals), q=99.)"
   ]
  },
  {
   "cell_type": "code",
   "execution_count": null,
   "id": "8b85127f",
   "metadata": {},
   "outputs": [],
   "source": [
    "d_new = dict(zip(sorted(d), 1-norm_vals))\n",
    "\n",
    "sorted(d_new.items(), key=lambda tup: tup[1])[-50:]"
   ]
  },
  {
   "cell_type": "code",
   "execution_count": null,
   "id": "61cfb7a6",
   "metadata": {},
   "outputs": [],
   "source": [
    "_=plt.hist(vals, bins=100, histtype=\"step\", lw=2)\n",
    "_=plt.hist(abs_vals, bins=100, color=\"r\", histtype=\"step\", lw=2)\n",
    "_=plt.hist(norm_vals, bins=100, color=\"green\", histtype=\"step\", lw=2)\n",
    "_=plt.hist(1-norm_vals, bins=100, color=\"grey\", histtype=\"step\", lw=2)\n",
    "\n",
    "# plt.xscale(\"log\")\n",
    "plt.yscale(\"log\")\n",
    "plt.xlim((-5, 5))\n",
    "\n",
    "# for q in np.linspace(0, 100, 10):\n",
    "#     plt.axvline(x=np.percentile(vals, q), label=str(q), c=\"r\")\n",
    "# plt.legend(loc='center left', bbox_to_anchor=(1, 0.5))"
   ]
  },
  {
   "cell_type": "code",
   "execution_count": null,
   "id": "3ddd92ba",
   "metadata": {},
   "outputs": [],
   "source": [
    "pd.Series(1-norm_vals).describe()"
   ]
  },
  {
   "cell_type": "code",
   "execution_count": null,
   "id": "a25e7324",
   "metadata": {},
   "outputs": [],
   "source": [
    "sorted(d.items(), key=lambda tup: tup[1])[:50]"
   ]
  },
  {
   "cell_type": "code",
   "execution_count": null,
   "id": "f3d9887d",
   "metadata": {},
   "outputs": [],
   "source": [
    "a = np.asarray([v for d in tqdm(score_details) for v in d.values()])"
   ]
  },
  {
   "cell_type": "code",
   "execution_count": null,
   "id": "481fc99b",
   "metadata": {},
   "outputs": [],
   "source": [
    "_=plt.hist(a, bins=50)"
   ]
  },
  {
   "cell_type": "code",
   "execution_count": null,
   "id": "8dea187b",
   "metadata": {},
   "outputs": [],
   "source": [
    "def percentile_norm(v, q=99.5):\n",
    "        return (v - np.percentile(v, 100-q))/(np.percentile(v, q) - np.percentile(v, 100-q))\n",
    "    \n",
    "_=plt.hist(percentile_norm(a), bins=50)"
   ]
  },
  {
   "cell_type": "markdown",
   "id": "dfc7229c",
   "metadata": {},
   "source": [
    "# Search Parameters"
   ]
  },
  {
   "cell_type": "code",
   "execution_count": null,
   "id": "7d143b37",
   "metadata": {
    "scrolled": true
   },
   "outputs": [],
   "source": [
    "df.AATCN.str.replace(\" (doc.)\", \"\", regex=False).value_counts()"
   ]
  },
  {
   "cell_type": "markdown",
   "id": "12d573ec",
   "metadata": {},
   "source": [
    "---\n",
    "# ContentLengthEngine Dev"
   ]
  },
  {
   "cell_type": "code",
   "execution_count": null,
   "id": "e094209d",
   "metadata": {},
   "outputs": [],
   "source": [
    "lengths = df.fillna(\"\").progress_apply(lambda r: len(r.Title) + len(r.Description), axis=\"columns\")"
   ]
  },
  {
   "cell_type": "code",
   "execution_count": null,
   "id": "204ab175",
   "metadata": {},
   "outputs": [],
   "source": [
    "_=plt.hist(lengths/1000, bins=5000)\n",
    "plt.xlim((-0.4, 1.))"
   ]
  },
  {
   "cell_type": "code",
   "execution_count": null,
   "id": "90639207",
   "metadata": {},
   "outputs": [],
   "source": [
    "_= plt.hist((lengths[lengths.between(0, 1000)]+1), bins=100)"
   ]
  },
  {
   "cell_type": "code",
   "execution_count": null,
   "id": "39785e17",
   "metadata": {},
   "outputs": [],
   "source": [
    "for m in np.linspace(100, 20000, 200):\n",
    "    plt.plot([m], [lengths[lengths.between(0, m)].shape[0]/lengths.shape[0]], \".\")\n",
    "    \n",
    "plt.xlim((0, 1000))\n",
    "plt.ylim((0.8, 1.0))"
   ]
  },
  {
   "cell_type": "code",
   "execution_count": null,
   "id": "f38e6735",
   "metadata": {},
   "outputs": [],
   "source": [
    "from src.engines.ContentLengthEnginev0 import ContentLengthEngine\n",
    "\n",
    "cl_eng = ContentLengthEngine(id_=\"ContentLengthEnginev0\",\n",
    "                            name=\"ContentLengthEngine/v0\",\n",
    "                            dataset=df,\n",
    "                            params=[])"
   ]
  },
  {
   "cell_type": "code",
   "execution_count": null,
   "id": "4683b2ba",
   "metadata": {},
   "outputs": [],
   "source": [
    "scores, details = cl_eng.score_and_detail(df)\n",
    "scores = scores/cl_eng.max_len"
   ]
  },
  {
   "cell_type": "code",
   "execution_count": null,
   "id": "e82ba2fd",
   "metadata": {},
   "outputs": [],
   "source": [
    "scores.hist(bins=2000)\n",
    "plt.xlim((-0.1, 1.))"
   ]
  },
  {
   "cell_type": "code",
   "execution_count": null,
   "id": "0cf78208",
   "metadata": {},
   "outputs": [],
   "source": [
    "scores"
   ]
  },
  {
   "cell_type": "code",
   "execution_count": null,
   "id": "08187673",
   "metadata": {},
   "outputs": [],
   "source": [
    "df.progress_apply(lambda r: len(r), axis=\"columns\", desc=\"somthing\")"
   ]
  },
  {
   "cell_type": "markdown",
   "id": "6df79f91",
   "metadata": {},
   "source": [
    "---"
   ]
  },
  {
   "cell_type": "code",
   "execution_count": 9,
   "id": "7a353ee0",
   "metadata": {},
   "outputs": [
    {
     "data": {
      "text/plain": [
       "[(3, 0.9870266449903538), (2, 0.9877659459927356)]"
      ]
     },
     "execution_count": 9,
     "metadata": {},
     "output_type": "execute_result"
    }
   ],
   "source": [
    "import numpy as np\n",
    "sorted(((i, np.sin(i**0.5)) for i in range(10)), key=lambda t:t[1])[-2:]"
   ]
  },
  {
   "cell_type": "code",
   "execution_count": 6,
   "id": "af7a0239",
   "metadata": {},
   "outputs": [
    {
     "data": {
      "text/plain": [
       "[<matplotlib.lines.Line2D at 0x7f9128f7ea40>]"
      ]
     },
     "execution_count": 6,
     "metadata": {},
     "output_type": "execute_result"
    },
    {
     "data": {
      "image/png": "[encoded data removed]",
      "text/plain": [
       "<Figure size 432x288 with 1 Axes>"
      ]
     },
     "metadata": {},
     "output_type": "display_data"
    }
   ],
   "source": [
    "import matplotlib.pyplot as plt\n",
    "\n",
    "plt.plot([np.sin(i**0.5) for i in range(10)])"
   ]
  },
  {
   "cell_type": "markdown",
   "id": "404f43c0",
   "metadata": {},
   "source": [
    "---\n",
    "# Dealing with Images"
   ]
  },
  {
   "cell_type": "code",
   "execution_count": 3,
   "id": "743b403b",
   "metadata": {},
   "outputs": [],
   "source": [
    "imgs = pd.read_excel(\"/home/valentin/Desktop/Primaire afbeeldingen.xlsx\")"
   ]
  },
  {
   "cell_type": "code",
   "execution_count": 4,
   "id": "f58843ce",
   "metadata": {},
   "outputs": [],
   "source": [
    "# len(set(df.index) & set(imgs.ObjectID))\n",
    "\n",
    "imgs = imgs.set_index(\"ObjectID\")"
   ]
  },
  {
   "cell_type": "code",
   "execution_count": 18,
   "id": "ef2c2c94",
   "metadata": {},
   "outputs": [
    {
     "data": {
      "text/plain": [
       "'&width=240&height=200&borderwidth=1&borderheight=1&bordercolor=e8e8e8&bg=f8f8f8&passepartoutwidth=16&passepartoutheight=16&passepartoutcolor=f8f8f8&cache=yes'"
      ]
     },
     "execution_count": 18,
     "metadata": {},
     "output_type": "execute_result"
    }
   ],
   "source": [
    "imgs[\"suffix URL\"].iloc[0]"
   ]
  },
  {
   "cell_type": "code",
   "execution_count": 19,
   "id": "225290d0",
   "metadata": {},
   "outputs": [
    {
     "data": {
      "text/plain": [
       "'https://collectie.wereldculturen.nl/cc/imageproxy.ashx?server=localhost&port=17581&filename=images//Images/NMVW//7007-8b.jpg&width=240&height=200&borderwidth=1&borderheight=1&bordercolor=e8e8e8&bg=f8f8f8&passepartoutwidth=16&passepartoutheight=16&passepartoutcolor=f8f8f8&cache=yes'"
      ]
     },
     "execution_count": 19,
     "metadata": {},
     "output_type": "execute_result"
    }
   ],
   "source": [
    "\"https://collectie.wereldculturen.nl/cc/imageproxy.ashx?server=localhost&port=17581&filename=images//Images/NMVW//7007-8b.jpg&width=240&height=200&borderwidth=1&borderheight=1&bordercolor=e8e8e8&bg=f8f8f8&passepartoutwidth=16&passepartoutheight=16&passepartoutcolor=f8f8f8&cache=yes\"\n"
   ]
  },
  {
   "cell_type": "code",
   "execution_count": 5,
   "id": "51b27d4c",
   "metadata": {},
   "outputs": [],
   "source": [
    "thumb = \"&width=256&height=256&cache=yes\"\n",
    "full = \"&width=720&height=720&cache=yes\"\n",
    "\n",
    "def img_or_nothing(o_id):\n",
    "    try:\n",
    "        # possibly: KeyError\n",
    "        row = imgs.loc[o_id]\n",
    "        \n",
    "        thumb_url = row[\"prefix URL\"] + row[\"FileName\"] + thumb #+ row[\"suffix\"]\n",
    "        full_url = row[\"prefix URL\"] + row[\"FileName\"] + full\n",
    "        \n",
    "        # URLs might be faulty --> catch? or let front-end catch it?\n",
    "        \n",
    "        return thumb_url, full_url\n",
    "    except KeyError:\n",
    "        return \"\", \"\""
   ]
  },
  {
   "cell_type": "code",
   "execution_count": 6,
   "id": "cde8db8b",
   "metadata": {},
   "outputs": [
    {
     "name": "stderr",
     "output_type": "stream",
     "text": [
      "100%|██████████████████████████████████████████████████████████████████████| 146694/146694 [02:35<00:00, 941.33it/s]\n"
     ]
    }
   ],
   "source": [
    "ls = [(i, *img_or_nothing(i)) for i in tqdm(df.index)]"
   ]
  },
  {
   "cell_type": "code",
   "execution_count": 54,
   "id": "2d79ad98",
   "metadata": {},
   "outputs": [
    {
     "data": {
      "text/plain": [
       "(18,\n",
       " 'https://collectie.wereldculturen.nl/cc/imageproxy.ashx?server=localhost&port=17581&filename=images//Images/TM//TM-0-113a.jpg&width=256&height=256&cache=yes',\n",
       " 'https://collectie.wereldculturen.nl/cc/imageproxy.ashx?server=localhost&port=17581&filename=images//Images/TM//TM-0-113a.jpg&width=720&height=720&cache=yes')"
      ]
     },
     "execution_count": 54,
     "metadata": {},
     "output_type": "execute_result"
    }
   ],
   "source": [
    "ls[10]"
   ]
  },
  {
   "cell_type": "code",
   "execution_count": 31,
   "id": "00cb333a",
   "metadata": {},
   "outputs": [
    {
     "data": {
      "text/plain": [
       "'\\\\\\\\rmvservnas5\\\\TMSMedia\\\\Inventariskaarten\\\\WM'"
      ]
     },
     "execution_count": 31,
     "metadata": {},
     "output_type": "execute_result"
    }
   ],
   "source": [
    "imgs[\"prefix URL\"].iloc[-1]"
   ]
  },
  {
   "cell_type": "code",
   "execution_count": 42,
   "id": "0ee57f4c",
   "metadata": {},
   "outputs": [
    {
     "data": {
      "text/plain": [
       "('https://collectie.wereldculturen.nl/cc/imageproxy.ashx?server=localhost&port=17581&filename=images//Images/TM//',\n",
       " 'TM-0-104.jpg',\n",
       " '&width=240&height=200&borderwidth=1&borderheight=1&bordercolor=e8e8e8&bg=f8f8f8&passepartoutwidth=16&passepartoutheight=16&passepartoutcolor=f8f8f8&cache=yes')"
      ]
     },
     "execution_count": 42,
     "metadata": {},
     "output_type": "execute_result"
    }
   ],
   "source": [
    "r = imgs.iloc[0]\n",
    "r[\"prefix URL\"], r[\"FileName\"], r[\"suffix URL\"]\n",
    "\n",
    "thumb = \"&width=256&height=256&cache=yes\"\n",
    "full = \"&width=720&height=720&cache=yes\""
   ]
  },
  {
   "cell_type": "code",
   "execution_count": null,
   "id": "cec3dc91",
   "metadata": {},
   "outputs": [],
   "source": [
    "https://collectie.wereldculturen.nl/cc/imageproxy.ashx?server=localhost&port=17581&filename=images//Images/NMVW//7007-8b.jpg&width=720&height=720&cache=yes"
   ]
  },
  {
   "cell_type": "code",
   "execution_count": 10,
   "id": "2b8bdc2a",
   "metadata": {},
   "outputs": [],
   "source": [
    "img_df = pd.DataFrame(ls, columns=[\"ObjectID\", \"thumbnail_URL\", \"img_URL\"]).set_index(\"ObjectID\")"
   ]
  },
  {
   "cell_type": "code",
   "execution_count": 26,
   "id": "4ab79e23",
   "metadata": {},
   "outputs": [
    {
     "data": {
      "text/plain": [
       "[<matplotlib.lines.Line2D at 0x7fcad1f5b460>]"
      ]
     },
     "execution_count": 26,
     "metadata": {},
     "output_type": "execute_result"
    },
    {
     "data": {
      "image/png": "[encoded data removed]",
      "text/plain": [
       "<Figure size 432x288 with 1 Axes>"
      ]
     },
     "metadata": {},
     "output_type": "display_data"
    }
   ],
   "source": [
    "import matplotlib.pyplot as plt\n",
    "plt.plot((img_df.img_URL.str.len() > 0).astype(\"int\"), \"--\")"
   ]
  },
  {
   "cell_type": "code",
   "execution_count": 29,
   "id": "57e41111",
   "metadata": {},
   "outputs": [],
   "source": [
    "img_df.to_csv(\"image_URLs.csv\", index=True)"
   ]
  },
  {
   "cell_type": "code",
   "execution_count": 34,
   "id": "1ef4ce43",
   "metadata": {},
   "outputs": [
    {
     "data": {
      "text/plain": [
       "ObjectID\n",
       "2    \n",
       "5    \n",
       "Name: thumbnail_URL, dtype: object"
      ]
     },
     "execution_count": 34,
     "metadata": {},
     "output_type": "execute_result"
    }
   ],
   "source": [
    "img_df.loc[df.index[0:2]].thumbnail_URL"
   ]
  },
  {
   "cell_type": "code",
   "execution_count": 36,
   "id": "1ee86b00",
   "metadata": {},
   "outputs": [
    {
     "data": {
      "text/plain": [
       "ObjectID\n",
       "2                                                           \n",
       "5                                                           \n",
       "8                                                           \n",
       "9          https://collectie.wereldculturen.nl/cc/imagepr...\n",
       "10                                                          \n",
       "                                 ...                        \n",
       "1140385                                                     \n",
       "1140386                                                     \n",
       "1140388                                                     \n",
       "1140389                                                     \n",
       "1153236                                                     \n",
       "Name: Thumbnail, Length: 146694, dtype: object"
      ]
     },
     "execution_count": 36,
     "metadata": {},
     "output_type": "execute_result"
    }
   ],
   "source": [
    "img_df.thumbnail_URL.rename(\"Thumbnail\")"
   ]
  }
 ],
 "metadata": {
  "kernelspec": {
   "display_name": "Python 3 (ipykernel)",
   "language": "python",
   "name": "python3"
  },
  "language_info": {
   "codemirror_mode": {
    "name": "ipython",
    "version": 3
   },
   "file_extension": ".py",
   "mimetype": "text/x-python",
   "name": "python",
   "nbconvert_exporter": "python",
   "pygments_lexer": "ipython3",
   "version": "3.10.1"
  }
 },
 "nbformat": 4,
 "nbformat_minor": 5
}

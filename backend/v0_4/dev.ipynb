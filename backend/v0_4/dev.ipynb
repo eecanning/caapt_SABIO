{
 "cells": [
  {
   "cell_type": "code",
   "execution_count": 1,
   "id": "c01ef6d8",
   "metadata": {},
   "outputs": [],
   "source": [
    "import numpy as np\n",
    "import pandas as pd\n",
    "from tqdm import tqdm\n",
    "tqdm.pandas()"
   ]
  },
  {
   "cell_type": "code",
   "execution_count": null,
   "id": "e30d901a",
   "metadata": {},
   "outputs": [],
   "source": [
    "df = pd.read_csv(\"../../data/v0_2.csv.gz\", \n",
    "                 dtype=dict(Provenance=\"string\", RelatedWorks=\"string\"))\n",
    "\n",
    "# TODO: save & load DF s.t. these lines are not necessary here                \n",
    "df[\"ObjectID\"] = df.ObjectID.astype(\"int\")\n",
    "df = df.set_index(\"ObjectID\")"
   ]
  },
  {
   "cell_type": "code",
   "execution_count": null,
   "id": "ae026330",
   "metadata": {},
   "outputs": [],
   "source": [
    "df2 = df[(df.BeginISODate+df.EndISODate) > 0]\n",
    "\n",
    "df2.apply(lambda r: len(str(r.Title) + str(r.Description)) > 6, axis=\"columns\").sum()/df2.shape[0]"
   ]
  },
  {
   "cell_type": "code",
   "execution_count": null,
   "id": "3df12b4f",
   "metadata": {},
   "outputs": [],
   "source": [
    "type(df2.iloc[0].Description)"
   ]
  },
  {
   "cell_type": "code",
   "execution_count": null,
   "id": "0d2b2612",
   "metadata": {},
   "outputs": [],
   "source": [
    "\n",
    "import spacy\n",
    "from nltk import Tree\n",
    "\n",
    "nlp = spacy.load(\"nl_core_news_sm\")\n",
    "\n",
    "def to_nltk_tree(node):\n",
    "    if node.n_lefts + node.n_rights > 0:\n",
    "        return Tree(node.orth_, [to_nltk_tree(child) for child in node.children])\n",
    "    else:\n",
    "        return node.orth_\n",
    "    \n",
    "doc = nlp(df.Description.dropna().iloc[0])\n",
    "print(doc)\n",
    "[to_nltk_tree(sent.root).pretty_print() for sent in doc.sents]"
   ]
  },
  {
   "cell_type": "code",
   "execution_count": null,
   "id": "d4871e11",
   "metadata": {},
   "outputs": [],
   "source": [
    "from spacy import displacy\n",
    "displacy.render(doc, style='dep')"
   ]
  },
  {
   "cell_type": "code",
   "execution_count": null,
   "id": "7335db38",
   "metadata": {},
   "outputs": [],
   "source": [
    "[nlp(t) for t in tqdm(df.Description) if isinstance(t, str)]"
   ]
  },
  {
   "cell_type": "markdown",
   "id": "4626b8d4",
   "metadata": {},
   "source": [
    "---\n",
    "# Search"
   ]
  },
  {
   "cell_type": "code",
   "execution_count": null,
   "id": "902ad113",
   "metadata": {},
   "outputs": [],
   "source": [
    "kws = \"\" # \"hello, goodbye\"\n",
    "prep_kws = \"|\".join(kws.lower().replace(\", \", \",\").split(\",\"))\n",
    "        \n",
    "if (not kws.strip()) or (not prep_kws):\n",
    "    does_contain = [True]*df.shape[0]\n",
    "else:\n",
    "    print(\"what\")\n",
    "    \n",
    "print(does_contain)"
   ]
  },
  {
   "cell_type": "code",
   "execution_count": null,
   "id": "d0585cdf",
   "metadata": {},
   "outputs": [],
   "source": [
    "from urllib.parse import unquote\n",
    "\n",
    "unquote('\"objectKeywords\"%3A\"\"%2C\"objectStartDate\"%3A\"\"%2C\"objectEndDate\"')"
   ]
  },
  {
   "cell_type": "markdown",
   "id": "1e0b2c84",
   "metadata": {},
   "source": [
    "---\n",
    "# Dates\n",
    "\n",
    " 1. make all dates at least 1 (because python cannot deal with years <= 0)  \n",
    "    (or drop non-positive dates)  \n",
    "    (drop objects with EndISODate <= 0 in any case (doesn't make any sense))  \n",
    " \n",
    " 2. convert all year values to %Y-%m-%d format (expected by Werner's API)  \n",
    "    (by using datetime.strptime; allows comparison with > )  "
   ]
  },
  {
   "cell_type": "code",
   "execution_count": null,
   "id": "a9d87b5e",
   "metadata": {},
   "outputs": [],
   "source": [
    "from datetime import datetime\n",
    "frmt = \"%Y-%m-%d\"\n",
    "start_year, end_year = datetime.strptime(\"2011-02-01\", frmt), datetime.strptime(\"2013-10-02\", frmt)"
   ]
  },
  {
   "cell_type": "code",
   "execution_count": null,
   "id": "d77ab1f6",
   "metadata": {},
   "outputs": [],
   "source": [
    "(start_year.year > df.BeginISODate).sum()"
   ]
  },
  {
   "cell_type": "code",
   "execution_count": null,
   "id": "60b94eda",
   "metadata": {},
   "outputs": [],
   "source": [
    "df.BeginISODate[(df.BeginISODate > 1500)].hist(bins=100)"
   ]
  },
  {
   "cell_type": "markdown",
   "id": "2bd3ac29",
   "metadata": {},
   "source": [
    "### 1."
   ]
  },
  {
   "cell_type": "code",
   "execution_count": null,
   "id": "269e0239",
   "metadata": {},
   "outputs": [],
   "source": [
    "df = df[df.EndISODate > 0]\n",
    "\n",
    "# drop\n",
    "df = df[df.BeginISODate > 0]\n",
    "\n",
    "# change\n",
    "df[\"BeginISODate\"] = df.BeginISODate.replace(0, 1)"
   ]
  },
  {
   "cell_type": "markdown",
   "id": "81adcb62",
   "metadata": {},
   "source": [
    "### 2."
   ]
  },
  {
   "cell_type": "code",
   "execution_count": null,
   "id": "7afd99c6",
   "metadata": {},
   "outputs": [],
   "source": [
    "df[\"start_date\"] = df.BeginISODate.astype(str).str.zfill(4).apply(lambda s: dt.strptime(s, \"%Y\"))\n",
    "df[\"end_date\"] = df.EndISODate.astype(str).str.zfill(4).apply(lambda s: dt.strptime(s, \"%Y\"))"
   ]
  },
  {
   "cell_type": "markdown",
   "id": "ead90626",
   "metadata": {},
   "source": [
    "---\n",
    "# Keyword Search Dev"
   ]
  },
  {
   "cell_type": "code",
   "execution_count": null,
   "id": "e7c8ced2",
   "metadata": {},
   "outputs": [],
   "source": [
    "kws = \"Maarten Sint\"\n",
    "prep_kws = \"|\".join(kws.lower().replace(\", \", \",\").split(\",\"))"
   ]
  },
  {
   "cell_type": "code",
   "execution_count": null,
   "id": "cd7a855c",
   "metadata": {},
   "outputs": [],
   "source": [
    "prep_kws"
   ]
  },
  {
   "cell_type": "code",
   "execution_count": null,
   "id": "e8637e3f",
   "metadata": {},
   "outputs": [],
   "source": [
    "d = dict(a=)\n",
    "\n",
    "d.get(\"a\", False)"
   ]
  },
  {
   "cell_type": "code",
   "execution_count": null,
   "id": "3f97e527",
   "metadata": {},
   "outputs": [],
   "source": [
    "def f(**kwargs):\n",
    "    print(kwargs)\n",
    "    \n",
    "    \n",
    "d = dict(a=13)\n",
    "f(a=0, **d)"
   ]
  },
  {
   "cell_type": "markdown",
   "id": "99054285",
   "metadata": {},
   "source": [
    "---\n",
    "# Integrating TypicalityEngine"
   ]
  },
  {
   "cell_type": "code",
   "execution_count": null,
   "id": "4d906e27",
   "metadata": {},
   "outputs": [],
   "source": [
    "from src.datasets import NMvW\n",
    "from src.engines.TypicalityEnginev0 import Typicality, TypicalityEngine\n",
    "\n",
    "NMvW.data = NMvW.data.iloc[:10000]"
   ]
  },
  {
   "cell_type": "code",
   "execution_count": null,
   "id": "4cadf40c",
   "metadata": {},
   "outputs": [],
   "source": [
    "typE = TypicalityEngine(id_=\"TypicalityEnginev0\",\n",
    "                           name=\"TypicalityEngine/v0\",\n",
    "                           dataset=NMvW,\n",
    "                           params=[],\n",
    "                       from_saved=False)"
   ]
  },
  {
   "cell_type": "code",
   "execution_count": null,
   "id": "4b1db469",
   "metadata": {},
   "outputs": [],
   "source": [
    "texts = NMvW.data.sample(frac=0.3).fillna(\"\")\n",
    "\n",
    "typs, details = typE.score_and_detail(texts)"
   ]
  },
  {
   "cell_type": "code",
   "execution_count": null,
   "id": "ff2e0cbe",
   "metadata": {},
   "outputs": [],
   "source": [
    "import seaborn as sns\n",
    "sns.histplot(typs, color=\"blue\")"
   ]
  },
  {
   "cell_type": "code",
   "execution_count": null,
   "id": "19eb0fb8",
   "metadata": {},
   "outputs": [],
   "source": [
    "details.iloc[-1]"
   ]
  },
  {
   "cell_type": "code",
   "execution_count": null,
   "id": "afcb9772",
   "metadata": {},
   "outputs": [],
   "source": [
    "import joblib\n",
    "joblib.dump(typE.typicality, \"test.pkl\")"
   ]
  },
  {
   "cell_type": "code",
   "execution_count": null,
   "id": "4ac82489",
   "metadata": {},
   "outputs": [],
   "source": [
    "import joblib\n",
    "joblib.dump(typE, \"test.pkl\")"
   ]
  },
  {
   "cell_type": "markdown",
   "id": "51432207",
   "metadata": {},
   "source": [
    "---"
   ]
  },
  {
   "cell_type": "code",
   "execution_count": null,
   "id": "7e6726a2",
   "metadata": {},
   "outputs": [],
   "source": [
    "import joblib\n",
    "typ2 = joblib.load(\"test.pkl\")"
   ]
  },
  {
   "cell_type": "code",
   "execution_count": null,
   "id": "21de9abc",
   "metadata": {},
   "outputs": [],
   "source": [
    "texts = NMvW.data.sample(frac=0.3).fillna(\"\")\n",
    "typs2, details2 = typ2.score_and_detail(texts)"
   ]
  },
  {
   "cell_type": "code",
   "execution_count": null,
   "id": "51b2caa1",
   "metadata": {},
   "outputs": [],
   "source": [
    "typs, details = typE.score_and_detail(texts)"
   ]
  },
  {
   "cell_type": "code",
   "execution_count": null,
   "id": "ead5dd63",
   "metadata": {},
   "outputs": [],
   "source": [
    "(typs == typs2)"
   ]
  },
  {
   "cell_type": "markdown",
   "id": "3d8fadfb",
   "metadata": {},
   "source": [
    "# Fast Iteration over Results"
   ]
  },
  {
   "cell_type": "code",
   "execution_count": null,
   "id": "6deff071",
   "metadata": {},
   "outputs": [],
   "source": [
    "df = pd.read_csv(\"../../data/v0_2.csv.gz\", \n",
    "                 dtype=dict(Provenance=\"string\", RelatedWorks=\"string\"))\n",
    "\n",
    "# TODO: save & load DF s.t. these lines are not necessary here                \n",
    "df[\"ObjectID\"] = df.ObjectID.astype(\"int\")\n",
    "df = df.set_index(\"ObjectID\")"
   ]
  },
  {
   "cell_type": "code",
   "execution_count": null,
   "id": "ce191fa0",
   "metadata": {},
   "outputs": [],
   "source": [
    "ids = df.index.astype(\"string\")\n",
    "titles = df.Title.fillna(\"\").astype(\"string\")\n",
    "thumbnails = pd.Series([\"\"]*df.shape[0], \n",
    "                       name=\"Thumbnail\",\n",
    "                      index=df.index).astype(\"string\")"
   ]
  },
  {
   "cell_type": "code",
   "execution_count": null,
   "id": "6f018857",
   "metadata": {},
   "outputs": [],
   "source": [
    "r = pd.concat([titles, thumbnails], axis=1)\n",
    "r.index, ids"
   ]
  },
  {
   "cell_type": "code",
   "execution_count": null,
   "id": "b6300fef",
   "metadata": {},
   "outputs": [],
   "source": [
    "r#.astype(\"string\")"
   ]
  },
  {
   "cell_type": "code",
   "execution_count": null,
   "id": "d8d68d3b",
   "metadata": {},
   "outputs": [],
   "source": [
    "lens = []\n",
    "for i, row in tqdm(r.to_dict(\"index\").items()):\n",
    "    lens.append(sum(map(len, row.values())))"
   ]
  },
  {
   "cell_type": "code",
   "execution_count": null,
   "id": "0d4f82f1",
   "metadata": {},
   "outputs": [],
   "source": [
    "lens = []\n",
    "for i in tqdm(range(r.shape[0])):\n",
    "    lens.append(sum(map(len, r.iloc[i])))"
   ]
  },
  {
   "cell_type": "code",
   "execution_count": null,
   "id": "4274d0c9",
   "metadata": {},
   "outputs": [],
   "source": [
    "r_ = r.apply(lambda col: col.str.replace(\" \", \"X\"), axis=0)\n",
    "r_.columns = [c + \"X\" for c in r_.columns]\n",
    "r2 = pd.concat([r, r_], axis=1)"
   ]
  },
  {
   "cell_type": "code",
   "execution_count": null,
   "id": "fd23a24c",
   "metadata": {},
   "outputs": [],
   "source": [
    "t = pd.Series(np.random.random(size=df.shape[0]), index=df.index)"
   ]
  },
  {
   "cell_type": "code",
   "execution_count": null,
   "id": "881f261d",
   "metadata": {},
   "outputs": [],
   "source": [
    "t.iloc[0].round(3)"
   ]
  },
  {
   "cell_type": "markdown",
   "id": "1c16d17e",
   "metadata": {},
   "source": [
    "---\n",
    "# TypicalityEngine Value Range"
   ]
  },
  {
   "cell_type": "code",
   "execution_count": 2,
   "id": "90994e8c",
   "metadata": {},
   "outputs": [],
   "source": [
    "import matplotlib.pyplot as plt\n",
    "import seaborn as sns"
   ]
  },
  {
   "cell_type": "code",
   "execution_count": 9,
   "id": "22d64080",
   "metadata": {},
   "outputs": [],
   "source": [
    "scores = pd.read_csv(\"/home/valentin/Desktop/scores.csv\").set_index(\"ObjectID\")[\"score\"]\n",
    "score_details = pd.read_csv(\"/home/valentin/Desktop/score_details.csv\").set_index(\"ObjectID\")\n",
    "score_details = score_details[\"score_details\"]"
   ]
  },
  {
   "cell_type": "code",
   "execution_count": null,
   "id": "1fe1acb0",
   "metadata": {},
   "outputs": [],
   "source": [
    "_=plt.hist(scores, bins=100)\n",
    "# _=plt.hist((1/scores)-1, bins=100)"
   ]
  },
  {
   "cell_type": "code",
   "execution_count": null,
   "id": "804846b6",
   "metadata": {},
   "outputs": [],
   "source": [
    "(scores < 100).sum()/scores.shape[0]\n",
    "\n",
    "_= plt.hist(scores[(scores > 0) & (scores < 1)], bins=100)\n",
    "# plt.xlim((0.95, 0.98))"
   ]
  },
  {
   "cell_type": "code",
   "execution_count": null,
   "id": "44c1093d",
   "metadata": {},
   "outputs": [],
   "source": [
    "df.loc[.index]"
   ]
  },
  {
   "cell_type": "code",
   "execution_count": null,
   "id": "44613f42",
   "metadata": {},
   "outputs": [],
   "source": [
    "(df.fillna(\"\").loc[scores[scores.between(0.96, 0.97)].index].Title.str.len() > 10)"
   ]
  },
  {
   "cell_type": "code",
   "execution_count": null,
   "id": "c1388698",
   "metadata": {},
   "outputs": [],
   "source": [
    "unnormed = (1/scores)-1\n",
    "\n",
    "sns.histplot(unnormed.abs())"
   ]
  },
  {
   "cell_type": "code",
   "execution_count": null,
   "id": "a706ecfe",
   "metadata": {},
   "outputs": [],
   "source": [
    "plt.plot(1/(np.linspace(0., 10000., 1000)+1)**2)\n",
    "plt.plot(1/(np.linspace(0., 10000., 1000)+1)**0.5)\n",
    "\n",
    "plt.plot(1/np.log(np.linspace(0., 10000., 1000)+1))\n",
    "# plt.plot(np.linspace(0., 1000., 1000)/(np.linspace(0., 1000., 1000).sum()))\n",
    "\n",
    "# plt.ylim((0, 1))"
   ]
  },
  {
   "cell_type": "code",
   "execution_count": null,
   "id": "caab14a2",
   "metadata": {},
   "outputs": [],
   "source": [
    "plt.hist(1/(unnormed.abs()+1))"
   ]
  },
  {
   "cell_type": "code",
   "execution_count": null,
   "id": "c67c147c",
   "metadata": {},
   "outputs": [],
   "source": [
    "z = (unnormed - unnormed.mean())/(unnormed.var()**0.5)\n",
    "\n",
    "sns.histplot(z)"
   ]
  },
  {
   "cell_type": "code",
   "execution_count": null,
   "id": "700d4081",
   "metadata": {},
   "outputs": [],
   "source": [
    "# unnormed = scores\n",
    "\n",
    "def norm(v):\n",
    "    return (v - v.min())/(v.max() - v.min())\n",
    "\n",
    "normed = np.log(norm(norm(unnormed))+1)\n",
    "\n",
    "sns.histplot(normed)"
   ]
  },
  {
   "cell_type": "markdown",
   "id": "400502e0",
   "metadata": {},
   "source": [
    "---\n",
    "\n",
    "## Value Range of Score Details"
   ]
  },
  {
   "cell_type": "code",
   "execution_count": 20,
   "id": "a3885111",
   "metadata": {},
   "outputs": [
    {
     "name": "stderr",
     "output_type": "stream",
     "text": [
      "100%|█████████████████████████████████████████████████████████████████████| 146694/146694 [00:27<00:00, 5398.44it/s]\n"
     ]
    }
   ],
   "source": [
    "score_details = score_details.progress_apply(eval)"
   ]
  },
  {
   "cell_type": "code",
   "execution_count": 72,
   "id": "ae313a80",
   "metadata": {},
   "outputs": [
    {
     "data": {
      "text/plain": [
       "{'rieten': -3.538124929843045,\n",
       " 'schacht': -2.443193417688855,\n",
       " 'ijzeren': -1.6801439347154723,\n",
       " 'punt': -1.151882021473968,\n",
       " 'en': 5.837233985758102}"
      ]
     },
     "execution_count": 72,
     "metadata": {},
     "output_type": "execute_result"
    }
   ],
   "source": [
    "score_details.iloc[10]"
   ]
  },
  {
   "cell_type": "code",
   "execution_count": null,
   "id": "168376b9",
   "metadata": {},
   "outputs": [],
   "source": [
    "(v-v.min())/(v.max() - v.min())"
   ]
  },
  {
   "cell_type": "code",
   "execution_count": 67,
   "id": "060daea1",
   "metadata": {},
   "outputs": [],
   "source": [
    "d = {k: abs(v) for smalld in score_details for k, v in smalld.items()}"
   ]
  },
  {
   "cell_type": "code",
   "execution_count": 68,
   "id": "61cfb7a6",
   "metadata": {},
   "outputs": [
    {
     "data": {
      "image/png": "[encoded data removed]",
      "text/plain": [
       "<Figure size 432x288 with 1 Axes>"
      ]
     },
     "metadata": {},
     "output_type": "display_data"
    }
   ],
   "source": [
    "_=plt.hist(d.values(), bins=100)\n",
    "# plt.xscale(\"log\")\n",
    "plt.yscale(\"log\")"
   ]
  },
  {
   "cell_type": "code",
   "execution_count": 70,
   "id": "d6e08c3b",
   "metadata": {},
   "outputs": [
    {
     "data": {
      "text/plain": [
       "[('album', 0.0019461133794074215),\n",
       " ('afbeeldingen', 0.005589284610595158),\n",
       " ('waarvan', 0.005589284610595158),\n",
       " ('vervaardigd', 0.005826307794960073),\n",
       " ('no', 0.007861603620108681),\n",
       " ('groepsportret', 0.008769530044592244),\n",
       " ('hem', 0.009498457511268654),\n",
       " ('groot', 0.012719273802343167),\n",
       " ('tijd', 0.015485708093720518),\n",
       " ('at', 0.01687091707281141),\n",
       " ('vervolgens', 0.01964533146801628),\n",
       " ('staan', 0.02149790962420539),\n",
       " ('meestal', 0.024566442581710035),\n",
       " ('mogelijk', 0.02680909038429391),\n",
       " ('klei', 0.02904825743458339),\n",
       " ('naast', 0.029398014948974094),\n",
       " ('tekst', 0.031263167168535944),\n",
       " ('their', 0.03708060442415828),\n",
       " ('ter', 0.04391641251524092),\n",
       " ('papier', 0.04580044156639218),\n",
       " ('langs', 0.05169142021879125),\n",
       " ('zijde', 0.05301236800607434),\n",
       " ('bloemen', 0.05620681157108898),\n",
       " ('leven', 0.059057988469213285),\n",
       " ('batavia', 0.05916084932824184),\n",
       " ('rode', 0.07571869086524075),\n",
       " ('type', 0.08014058941529001),\n",
       " ('waarin', 0.08158932095884275),\n",
       " ('achtergrond', 0.08497536284385454),\n",
       " ('hand', 0.08642895998535316),\n",
       " ('lange', 0.09811076503298821),\n",
       " ('patroon', 0.1099682528181507),\n",
       " ('stof', 0.11840508996679056),\n",
       " ('it', 0.12275596702663982),\n",
       " ('bijzondere', 0.12524380182298067),\n",
       " ('vanaf', 0.1259562879957148),\n",
       " ('nieuw', 0.12762897808557128),\n",
       " ('voorzien', 0.13305186593119167),\n",
       " ('sieraden', 0.13679426761700775),\n",
       " ('soort', 0.13803958063424382),\n",
       " ('tweede', 0.14026158185285986),\n",
       " ('plaats', 0.14177199382912775),\n",
       " ('or', 0.14507612182337581),\n",
       " ('later', 0.14530245015701304),\n",
       " ('nieuwe', 0.1463127408431788),\n",
       " ('mensen', 0.1508452613513498),\n",
       " ('volgens', 0.15331070491499155),\n",
       " ('dieren', 0.15900143337414008),\n",
       " ('afgebeeld', 0.1594559436863392),\n",
       " ('vormen', 0.15986469706515827)]"
      ]
     },
     "execution_count": 70,
     "metadata": {},
     "output_type": "execute_result"
    }
   ],
   "source": [
    "sorted(d.items(), key=lambda tup: tup[1])[:50]"
   ]
  },
  {
   "cell_type": "code",
   "execution_count": 28,
   "id": "f3d9887d",
   "metadata": {},
   "outputs": [
    {
     "name": "stderr",
     "output_type": "stream",
     "text": [
      "100%|███████████████████████████████████████████████████████████████████| 146694/146694 [00:00<00:00, 382964.29it/s]\n"
     ]
    }
   ],
   "source": [
    "a = np.asarray([v for d in tqdm(score_details) for v in d.values()])"
   ]
  },
  {
   "cell_type": "code",
   "execution_count": 34,
   "id": "481fc99b",
   "metadata": {},
   "outputs": [
    {
     "data": {
      "image/png": "[encoded data removed]",
      "text/plain": [
       "<Figure size 432x288 with 1 Axes>"
      ]
     },
     "metadata": {},
     "output_type": "display_data"
    }
   ],
   "source": [
    "_=plt.hist(a, bins=50)"
   ]
  },
  {
   "cell_type": "code",
   "execution_count": 38,
   "id": "8dea187b",
   "metadata": {},
   "outputs": [
    {
     "data": {
      "image/png": "[encoded data removed]",
      "text/plain": [
       "<Figure size 432x288 with 1 Axes>"
      ]
     },
     "metadata": {},
     "output_type": "display_data"
    }
   ],
   "source": [
    "def percentile_norm(v, q=99.5):\n",
    "        return (v - np.percentile(v, 100-q))/(np.percentile(v, q) - np.percentile(v, 100-q))\n",
    "    \n",
    "_=plt.hist(percentile_norm(a), bins=50)"
   ]
  },
  {
   "cell_type": "markdown",
   "id": "dfc7229c",
   "metadata": {},
   "source": [
    "# Search Parameters"
   ]
  },
  {
   "cell_type": "code",
   "execution_count": null,
   "id": "7d143b37",
   "metadata": {
    "scrolled": true
   },
   "outputs": [],
   "source": [
    "df.AATCN.str.replace(\" (doc.)\", \"\", regex=False).value_counts()"
   ]
  },
  {
   "cell_type": "markdown",
   "id": "12d573ec",
   "metadata": {},
   "source": [
    "---\n",
    "# ContentLengthEngine Dev"
   ]
  },
  {
   "cell_type": "code",
   "execution_count": null,
   "id": "e094209d",
   "metadata": {},
   "outputs": [],
   "source": [
    "lengths = df.fillna(\"\").progress_apply(lambda r: len(r.Title) + len(r.Description), axis=\"columns\")"
   ]
  },
  {
   "cell_type": "code",
   "execution_count": null,
   "id": "204ab175",
   "metadata": {},
   "outputs": [],
   "source": [
    "_=plt.hist(lengths/1000, bins=5000)\n",
    "plt.xlim((-0.4, 1.))"
   ]
  },
  {
   "cell_type": "code",
   "execution_count": null,
   "id": "90639207",
   "metadata": {},
   "outputs": [],
   "source": [
    "_= plt.hist((lengths[lengths.between(0, 1000)]+1), bins=100)"
   ]
  },
  {
   "cell_type": "code",
   "execution_count": null,
   "id": "39785e17",
   "metadata": {},
   "outputs": [],
   "source": [
    "for m in np.linspace(100, 20000, 200):\n",
    "    plt.plot([m], [lengths[lengths.between(0, m)].shape[0]/lengths.shape[0]], \".\")\n",
    "    \n",
    "plt.xlim((0, 1000))\n",
    "plt.ylim((0.8, 1.0))"
   ]
  },
  {
   "cell_type": "code",
   "execution_count": null,
   "id": "f38e6735",
   "metadata": {},
   "outputs": [],
   "source": [
    "from src.engines.ContentLengthEnginev0 import ContentLengthEngine\n",
    "\n",
    "cl_eng = ContentLengthEngine(id_=\"ContentLengthEnginev0\",\n",
    "                            name=\"ContentLengthEngine/v0\",\n",
    "                            dataset=df,\n",
    "                            params=[])"
   ]
  },
  {
   "cell_type": "code",
   "execution_count": null,
   "id": "4683b2ba",
   "metadata": {},
   "outputs": [],
   "source": [
    "scores, details = cl_eng.score_and_detail(df)\n",
    "scores = scores/cl_eng.max_len"
   ]
  },
  {
   "cell_type": "code",
   "execution_count": null,
   "id": "e82ba2fd",
   "metadata": {},
   "outputs": [],
   "source": [
    "scores.hist(bins=2000)\n",
    "plt.xlim((-0.1, 1.))"
   ]
  },
  {
   "cell_type": "code",
   "execution_count": null,
   "id": "0cf78208",
   "metadata": {},
   "outputs": [],
   "source": [
    "scores"
   ]
  },
  {
   "cell_type": "code",
   "execution_count": null,
   "id": "08187673",
   "metadata": {},
   "outputs": [],
   "source": [
    "df.progress_apply(lambda r: len(r), axis=\"columns\", desc=\"somthing\")"
   ]
  }
 ],
 "metadata": {
  "kernelspec": {
   "display_name": "Python 3 (ipykernel)",
   "language": "python",
   "name": "python3"
  },
  "language_info": {
   "codemirror_mode": {
    "name": "ipython",
    "version": 3
   },
   "file_extension": ".py",
   "mimetype": "text/x-python",
   "name": "python",
   "nbconvert_exporter": "python",
   "pygments_lexer": "ipython3",
   "version": "3.10.1"
  }
 },
 "nbformat": 4,
 "nbformat_minor": 5
}

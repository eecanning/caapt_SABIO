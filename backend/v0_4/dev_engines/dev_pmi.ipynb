{
 "cells": [
  {
   "cell_type": "markdown",
   "id": "a9b549d5",
   "metadata": {},
   "source": [
    "# TODO\n",
    "\n",
    " - dependency parsing, e.g. with spaCy\n",
    " - "
   ]
  },
  {
   "cell_type": "code",
   "execution_count": 1,
   "id": "a1a8d098",
   "metadata": {},
   "outputs": [],
   "source": [
    "from tqdm import tqdm\n",
    "import pandas as pd\n",
    "import numpy as np\n",
    "\n",
    "import matplotlib.pyplot as plt\n",
    "import seaborn as sns\n",
    "\n",
    "\n",
    "from ngrams import Ngram"
   ]
  },
  {
   "cell_type": "code",
   "execution_count": 11,
   "id": "61fe2a1e",
   "metadata": {},
   "outputs": [],
   "source": [
    "df = pd.read_csv(\"../NMvW_data/v0.csv.gz\", \n",
    "                 dtype=dict(Provenance=\"string\", RelatedWorks=\"string\"))\n",
    "\n",
    "# TODO: save & load DF s.t. these lines are not necessary here                \n",
    "df[\"ObjectID\"] = df.ObjectID.astype(\"int\")\n",
    "df = df.set_index(\"ObjectID\")"
   ]
  },
  {
   "cell_type": "code",
   "execution_count": 12,
   "id": "2f5efa2d",
   "metadata": {},
   "outputs": [
    {
     "name": "stderr",
     "output_type": "stream",
     "text": [
      "(1, 2)-grams: Padding documents...: 100%|██████████| 495236/495236 [00:00<00:00, 1720226.73it/s]\n"
     ]
    },
    {
     "name": "stdout",
     "output_type": "stream",
     "text": [
      "(1, 2)-grams: Term Document Matrix constructed...\n",
      "(1, 2)-grams: Term frequencies precomputed...\n",
      "(1, 2)-grams: Init done\n"
     ]
    }
   ],
   "source": [
    "docs = list(df.Title.dropna())\n",
    "ng = Ngram(ns=2, documents=docs, precompute_freqs=True)"
   ]
  },
  {
   "cell_type": "code",
   "execution_count": 48,
   "id": "5358de5f",
   "metadata": {},
   "outputs": [
    {
     "name": "stderr",
     "output_type": "stream",
     "text": [
      "\n",
      "  0%|          | 0/662002 [00:00<?, ?it/s]\u001b[A\n",
      "  1%|          | 5861/662002 [00:00<00:11, 58589.52it/s]\u001b[A\n",
      "  2%|▏         | 11752/662002 [00:00<00:11, 58772.52it/s]\u001b[A\n",
      "  3%|▎         | 17630/662002 [00:00<00:11, 57918.16it/s]\u001b[A\n",
      "  4%|▎         | 23424/662002 [00:00<00:11, 57568.33it/s]\u001b[A\n",
      "  4%|▍         | 29182/662002 [00:00<00:11, 56914.17it/s]\u001b[A\n",
      "  5%|▌         | 34875/662002 [00:00<00:11, 56233.29it/s]\u001b[A\n",
      "  6%|▌         | 40709/662002 [00:00<00:10, 56905.85it/s]\u001b[A\n",
      "  7%|▋         | 46559/662002 [00:00<00:10, 57406.29it/s]\u001b[A\n",
      "  8%|▊         | 52302/662002 [00:00<00:10, 56270.84it/s]\u001b[A\n",
      "  9%|▉         | 57935/662002 [00:01<00:10, 55884.39it/s]\u001b[A\n",
      " 10%|▉         | 63917/662002 [00:01<00:10, 57063.77it/s]\u001b[A\n",
      " 11%|█         | 69756/662002 [00:01<00:10, 57459.13it/s]\u001b[A\n",
      " 11%|█▏        | 75506/662002 [00:01<00:10, 57262.51it/s]\u001b[A\n",
      " 12%|█▏        | 81235/662002 [00:01<00:10, 55977.86it/s]\u001b[A\n",
      " 13%|█▎        | 86840/662002 [00:01<00:10, 55323.20it/s]\u001b[A\n",
      " 14%|█▍        | 92378/662002 [00:01<00:10, 53695.60it/s]\u001b[A\n",
      " 15%|█▍        | 97759/662002 [00:01<00:11, 50610.23it/s]\u001b[A\n",
      " 16%|█▌        | 102856/662002 [00:01<00:11, 47044.14it/s]\u001b[A\n",
      " 16%|█▋        | 108018/662002 [00:01<00:11, 48282.66it/s]\u001b[A\n",
      " 17%|█▋        | 112902/662002 [00:02<00:11, 47612.76it/s]\u001b[A\n",
      " 18%|█▊        | 118118/662002 [00:02<00:11, 48891.49it/s]\u001b[A\n",
      " 19%|█▊        | 123674/662002 [00:02<00:10, 50800.57it/s]\u001b[A\n",
      " 20%|█▉        | 129553/662002 [00:02<00:10, 53118.68it/s]\u001b[A\n",
      " 20%|██        | 135591/662002 [00:02<00:09, 55245.25it/s]\u001b[A\n",
      " 21%|██▏       | 141602/662002 [00:02<00:09, 56678.00it/s]\u001b[A\n",
      " 22%|██▏       | 147598/662002 [00:02<00:08, 57645.65it/s]\u001b[A\n",
      " 23%|██▎       | 153597/662002 [00:02<00:08, 58338.61it/s]\u001b[A\n",
      " 24%|██▍       | 159546/662002 [00:02<00:08, 58674.86it/s]\u001b[A\n",
      " 25%|██▍       | 165454/662002 [00:03<00:08, 58791.45it/s]\u001b[A\n",
      " 26%|██▌       | 171495/662002 [00:03<00:08, 59272.27it/s]\u001b[A\n",
      " 27%|██▋       | 177427/662002 [00:03<00:08, 58497.93it/s]\u001b[A\n",
      " 28%|██▊       | 183394/662002 [00:03<00:08, 58844.87it/s]\u001b[A\n",
      " 29%|██▊       | 189283/662002 [00:03<00:08, 57902.38it/s]\u001b[A\n",
      " 29%|██▉       | 195188/662002 [00:03<00:08, 58239.22it/s]\u001b[A\n",
      " 30%|███       | 201017/662002 [00:03<00:07, 57908.45it/s]\u001b[A\n",
      " 31%|███       | 206812/662002 [00:03<00:08, 53711.10it/s]\u001b[A\n",
      " 32%|███▏      | 212243/662002 [00:03<00:08, 51666.46it/s]\u001b[A\n",
      " 33%|███▎      | 217590/662002 [00:03<00:08, 52165.06it/s]\u001b[A\n",
      " 34%|███▎      | 223188/662002 [00:04<00:08, 53249.58it/s]\u001b[A\n",
      " 35%|███▍      | 229037/662002 [00:04<00:07, 54762.96it/s]\u001b[A\n",
      " 35%|███▌      | 234764/662002 [00:04<00:07, 55493.26it/s]\u001b[A\n",
      " 36%|███▋      | 240635/662002 [00:04<00:07, 56436.01it/s]\u001b[A\n",
      " 37%|███▋      | 246308/662002 [00:04<00:07, 56520.93it/s]\u001b[A\n",
      " 38%|███▊      | 252124/662002 [00:04<00:07, 57007.48it/s]\u001b[A\n",
      " 39%|███▉      | 257834/662002 [00:04<00:07, 55723.25it/s]\u001b[A\n",
      " 40%|███▉      | 263581/662002 [00:04<00:07, 56235.41it/s]\u001b[A\n",
      " 41%|████      | 269481/662002 [00:04<00:06, 57051.93it/s]\u001b[A\n",
      " 42%|████▏     | 275310/662002 [00:04<00:06, 57418.30it/s]\u001b[A\n",
      " 42%|████▏     | 281221/662002 [00:05<00:06, 57920.98it/s]\u001b[A\n",
      " 43%|████▎     | 287298/662002 [00:05<00:06, 58770.82it/s]\u001b[A\n",
      " 44%|████▍     | 293286/662002 [00:05<00:06, 59100.39it/s]\u001b[A\n",
      " 45%|████▌     | 299446/662002 [00:05<00:06, 59845.50it/s]\u001b[A\n",
      " 46%|████▌     | 305433/662002 [00:05<00:06, 59106.46it/s]\u001b[A\n",
      " 47%|████▋     | 311348/662002 [00:05<00:06, 52307.89it/s]\u001b[A\n",
      " 48%|████▊     | 316722/662002 [00:05<00:06, 51839.72it/s]\u001b[A\n",
      " 49%|████▊     | 322004/662002 [00:05<00:06, 48782.23it/s]\u001b[A\n",
      " 49%|████▉     | 327010/662002 [00:05<00:06, 49127.17it/s]\u001b[A\n",
      " 50%|█████     | 332727/662002 [00:06<00:06, 51367.46it/s]\u001b[A\n",
      " 51%|█████     | 338462/662002 [00:06<00:06, 53069.88it/s]\u001b[A\n",
      " 52%|█████▏    | 344149/662002 [00:06<00:05, 54167.91it/s]\u001b[A\n",
      " 53%|█████▎    | 349608/662002 [00:06<00:05, 53816.95it/s]\u001b[A\n",
      " 54%|█████▎    | 355405/662002 [00:06<00:05, 55030.80it/s]\u001b[A\n",
      " 55%|█████▍    | 361304/662002 [00:06<00:05, 56197.28it/s]\u001b[A\n",
      " 55%|█████▌    | 366989/662002 [00:06<00:05, 56389.09it/s]\u001b[A\n",
      " 56%|█████▋    | 372907/662002 [00:06<00:05, 57217.04it/s]\u001b[A\n",
      " 57%|█████▋    | 378639/662002 [00:06<00:05, 55673.51it/s]\u001b[A\n",
      " 58%|█████▊    | 384616/662002 [00:06<00:04, 56872.64it/s]\u001b[A\n",
      " 59%|█████▉    | 390394/662002 [00:07<00:04, 57138.97it/s]\u001b[A\n",
      " 60%|█████▉    | 396172/662002 [00:07<00:04, 57326.29it/s]\u001b[A\n",
      " 61%|██████    | 402024/662002 [00:07<00:04, 57679.05it/s]\u001b[A\n",
      " 62%|██████▏   | 408016/662002 [00:07<00:04, 58345.87it/s]\u001b[A\n",
      " 63%|██████▎   | 413855/662002 [00:07<00:04, 58064.29it/s]\u001b[A\n",
      " 63%|██████▎   | 419665/662002 [00:07<00:04, 56692.17it/s]\u001b[A\n",
      " 64%|██████▍   | 425343/662002 [00:07<00:04, 51950.70it/s]\u001b[A\n",
      " 65%|██████▌   | 430616/662002 [00:07<00:04, 51564.97it/s]\u001b[A\n",
      " 66%|██████▌   | 435825/662002 [00:07<00:04, 50475.85it/s]\u001b[A\n",
      " 67%|██████▋   | 441573/662002 [00:08<00:04, 52449.02it/s]\u001b[A\n",
      " 68%|██████▊   | 447207/662002 [00:08<00:04, 53565.66it/s]\u001b[A\n",
      " 68%|██████▊   | 453016/662002 [00:08<00:03, 54880.23it/s]\u001b[A\n",
      " 69%|██████▉   | 458928/662002 [00:08<00:03, 56122.86it/s]\u001b[A\n",
      " 70%|███████   | 464562/662002 [00:08<00:03, 56098.60it/s]\u001b[A\n",
      " 71%|███████   | 470360/662002 [00:08<00:03, 56655.18it/s]\u001b[A\n",
      " 72%|███████▏  | 476037/662002 [00:08<00:03, 55958.65it/s]\u001b[A\n",
      " 73%|███████▎  | 481933/662002 [00:08<00:03, 56844.22it/s]\u001b[A\n",
      " 74%|███████▎  | 487833/662002 [00:08<00:03, 57482.58it/s]\u001b[A\n",
      " 75%|███████▍  | 493797/662002 [00:08<00:02, 58123.45it/s]\u001b[A\n",
      " 75%|███████▌  | 499729/662002 [00:09<00:02, 58477.95it/s]\u001b[A\n",
      " 76%|███████▋  | 505581/662002 [00:09<00:02, 57630.05it/s]\u001b[A\n",
      " 77%|███████▋  | 511468/662002 [00:09<00:02, 57995.50it/s]\u001b[A\n",
      " 78%|███████▊  | 517272/662002 [00:09<00:02, 56077.09it/s]\u001b[A\n",
      " 79%|███████▉  | 522895/662002 [00:09<00:02, 52986.66it/s]\u001b[A\n",
      " 80%|███████▉  | 528868/662002 [00:09<00:02, 54886.10it/s]\u001b[A\n",
      " 81%|████████  | 534397/662002 [00:09<00:02, 52999.94it/s]\u001b[A\n",
      " 82%|████████▏ | 539733/662002 [00:09<00:02, 51081.58it/s]\u001b[A\n",
      " 82%|████████▏ | 544873/662002 [00:09<00:02, 50978.81it/s]\u001b[A\n",
      " 83%|████████▎ | 550511/662002 [00:09<00:02, 52517.38it/s]\u001b[A\n",
      " 84%|████████▍ | 556364/662002 [00:10<00:01, 54255.60it/s]\u001b[A\n",
      " 85%|████████▍ | 562319/662002 [00:10<00:01, 55803.52it/s]\u001b[A\n",
      " 86%|████████▌ | 568026/662002 [00:10<00:01, 56174.09it/s]\u001b[A\n",
      " 87%|████████▋ | 573832/662002 [00:10<00:01, 56732.11it/s]\u001b[A\n",
      " 88%|████████▊ | 579549/662002 [00:10<00:01, 56859.72it/s]\u001b[A\n",
      " 88%|████████▊ | 585572/662002 [00:10<00:01, 57863.87it/s]\u001b[A\n",
      " 89%|████████▉ | 591365/662002 [00:10<00:01, 57658.17it/s]\u001b[A\n",
      " 90%|█████████ | 597250/662002 [00:10<00:01, 58013.14it/s]\u001b[A\n",
      " 91%|█████████ | 603244/662002 [00:10<00:01, 58587.95it/s]\u001b[A\n",
      " 92%|█████████▏| 609261/662002 [00:10<00:00, 59060.26it/s]\u001b[A\n",
      " 93%|█████████▎| 615196/662002 [00:11<00:00, 59145.08it/s]\u001b[A\n",
      " 94%|█████████▍| 621233/662002 [00:11<00:00, 59510.09it/s]\u001b[A\n",
      " 95%|█████████▍| 627237/662002 [00:11<00:00, 59667.17it/s]\u001b[A\n",
      " 96%|█████████▌| 633205/662002 [00:11<00:00, 59404.57it/s]\u001b[A\n",
      " 97%|█████████▋| 639255/662002 [00:11<00:00, 59731.34it/s]\u001b[A\n",
      " 97%|█████████▋| 645255/662002 [00:11<00:00, 59808.63it/s]\u001b[A\n",
      " 98%|█████████▊| 651237/662002 [00:11<00:00, 57331.71it/s]\u001b[A\n",
      "100%|██████████| 662002/662002 [00:11<00:00, 55534.78it/s]\u001b[A\n"
     ]
    }
   ],
   "source": [
    "# def pmi(w1, w2):\n",
    "#     tup = w1 + \" \" + w2\n",
    "#     return ng.prob(tup, log=True) - (ng.prob(w1, log=True)+ng.prob(w2, log=True))\n",
    "\n",
    "# pmis = [[(w1, w2, pmi(w1, w2)) for w1, w2 in list(ng.iter_ngrams(s, as_tuples=True))]\n",
    "#              for s in tqdm(docs[:10000])]\n",
    "\n",
    "\n",
    "\n",
    "def pmi(tup):\n",
    "    w1, w2 = tup.split()\n",
    "    return ng.prob(tup, log=True) - (ng.prob(w1, log=True)+ng.prob(w2, log=True))\n",
    "    \n",
    "pmis = {w: pmi(w) for w in tqdm(ng.vocab(2))}"
   ]
  },
  {
   "cell_type": "code",
   "execution_count": 52,
   "id": "470c9942",
   "metadata": {},
   "outputs": [
    {
     "data": {
      "image/png": "[encoded data removed]",
      "text/plain": [
       "<Figure size 432x288 with 1 Axes>"
      ]
     },
     "metadata": {},
     "output_type": "display_data"
    }
   ],
   "source": [
    "_=plt.hist(pmis.values(), bins=20)"
   ]
  },
  {
   "cell_type": "code",
   "execution_count": 62,
   "id": "2bddbc3a",
   "metadata": {},
   "outputs": [
    {
     "data": {
      "text/plain": [
       "[('loreto jarriza', 16.951695341063072),\n",
       " ('wah landbouwgemeenschap', 16.922548995403556),\n",
       " ('schedelhuis geriten', 16.836432794433037),\n",
       " ('kanei tsuho', 16.80231771702484),\n",
       " ('perspectiefprent ukie', 16.769580930612843),\n",
       " ('zestig provincies', 16.7572375691663),\n",
       " ('rozenwater sprenkelaar', 16.734103905990445),\n",
       " ('harinxma thoe', 16.688660935229276),\n",
       " ('stoffelijk overschot', 16.688319428530825),\n",
       " ('thoe slooten', 16.666965864129953),\n",
       " ('anton heckler', 16.65828728618576),\n",
       " ('meiji regering', 16.63853745580344),\n",
       " ('olympic games', 16.62453059780956),\n",
       " ('rapa daya', 16.582398386850194),\n",
       " ('dajeuh manggung', 16.563130053145414),\n",
       " ('tangkuban prahu', 16.544609965174615),\n",
       " ('bataksche etnografische', 16.54125555352266),\n",
       " ('oleh rahwana', 16.518042163616883),\n",
       " ('garis miring', 16.504236364091845),\n",
       " ('sunda kelapa', 16.502829542877606),\n",
       " ('ka aba', 16.48512754114414),\n",
       " ('mon souci', 16.458880091148735),\n",
       " ('rudolf bonnet', 16.44911379285376),\n",
       " ('juana dominguez', 16.44765283572549),\n",
       " ('hoeta salem', 16.438117473578675),\n",
       " ('afro braziliaanse', 16.4175532288598),\n",
       " ('kuda kepang', 16.406889966813893),\n",
       " ('1992 contactafdr', 16.393205051703106),\n",
       " ('machinefabriek braat', 16.36519067553351),\n",
       " ('spiritusfabriek paboearan', 16.358542442688286),\n",
       " ('streek bituang', 16.35801562324081),\n",
       " ('nir am', 16.358015623240803),\n",
       " ('galibi marowijnerivier', 16.356606970525913),\n",
       " ('ziekeninrichting cbz', 16.34073763180897),\n",
       " ('laboucherelaan 38', 16.32366411845003),\n",
       " ('38 2283', 16.32366411845003),\n",
       " ('palo volador', 16.320273529249256),\n",
       " ('dempster highway', 16.314265420447775),\n",
       " ('bauxiet suralcobedrijf', 16.273623435950434),\n",
       " ('aardbevingsvis meerval', 16.265449504504737),\n",
       " ('taj mahal', 16.260567283124985),\n",
       " ('karta pustaka', 16.257549952345535),\n",
       " ('ex voto', 16.257321623621337),\n",
       " ('coffee research', 16.255848734222457),\n",
       " ('kloet kelut', 16.243718653254547),\n",
       " ('diepe wildernis', 16.22796970164702),\n",
       " ('machu picchu', 16.22675683091245),\n",
       " ('info kaigere', 16.223380681170813),\n",
       " ('ruim zestig', 16.22290114151511),\n",
       " ('vlechtpatroon poleng', 16.22190140229912),\n",
       " ('limau moengkoer', 16.218612566575395),\n",
       " ('demonisch wezen', 16.205578048527336),\n",
       " ('haute sanga', 16.202648717488657),\n",
       " ('formules recepten', 16.195784176190852),\n",
       " ('os guerreiros', 16.163199446256783),\n",
       " ('handgeschreven tentamenbriefje', 16.163199446256783),\n",
       " ('molasses company', 16.150827521587818),\n",
       " ('musement utrecht', 16.148092553866576),\n",
       " ('kleurenmeer telaga', 16.148092553866576),\n",
       " ('long temonjet', 16.148092553866576),\n",
       " ('tangoeban prahoe', 16.148092553866576),\n",
       " ('biroeke anim', 16.148092553866576),\n",
       " ('leprakolonie bethesda', 16.148092553866576),\n",
       " ('hans feriz', 16.1418444062014),\n",
       " ('gekapt bosgebeid', 16.133142212400607),\n",
       " ('rijnsche zending', 16.133142212400607),\n",
       " ('cirkel waarbinnen', 16.125052312468505),\n",
       " ('paul wirz', 16.118345210472526),\n",
       " ('nkisi nduda', 16.118345210472526),\n",
       " ('gang thiebault', 16.118345210472526),\n",
       " ('nkisi nkondi', 16.118345210472523),\n",
       " ('gang waaghals', 16.11834521047252),\n",
       " ('metaalconstructie bedrijf', 16.11834521047252),\n",
       " ('nkisi mpiya', 16.11834521047252),\n",
       " ('enkelriet klarinet', 16.113158763757188),\n",
       " ('1956 pj', 16.103698434508125),\n",
       " ('tji kloewoeng', 16.103698434508125),\n",
       " ('poeloe kellor', 16.103698434508125),\n",
       " ('tji gapoer', 16.103698434508125),\n",
       " ('firma buning', 16.103698434508125),\n",
       " ('nieuwjaarsvisite 1956', 16.103698434508125),\n",
       " ('tji tjemen', 16.103698434508125),\n",
       " ('tjondra di', 16.103698434508125),\n",
       " ('heilig badfeest', 16.103698434508125),\n",
       " ('tji hampelas', 16.103698434508125),\n",
       " ('poeloe goedoe', 16.103698434508125),\n",
       " ('tji liwoeng', 16.103698434508125),\n",
       " ('poeloe toekoeng', 16.103698434508125),\n",
       " ('rante pao', 16.103698434508118),\n",
       " ('koppen zetter', 16.103698434508118),\n",
       " ('sch 1992', 16.103698434508118),\n",
       " ('heilig vormsel', 16.103698434508118),\n",
       " ('tji sadane', 16.103698434508118),\n",
       " ('di pertuan', 16.103698434508118),\n",
       " ('skandin 1956', 16.103698434508118),\n",
       " ('tji seroepan', 16.103698434508118),\n",
       " ('fonderia di', 16.103698434508118),\n",
       " ('heilig grafkerk', 16.103698434508118),\n",
       " ('fysisch antropologisch', 16.10197375403866),\n",
       " ('leprozenkolonie bethesda', 16.092810118365385)]"
      ]
     },
     "execution_count": 62,
     "metadata": {},
     "output_type": "execute_result"
    }
   ],
   "source": [
    "more_than_once = {w: pmi for w, pmi in pmis.items() if sum(map(ng.freq, w.split())) > 100}\n",
    "sorted(more_than_once.items(), key=lambda tup: tup[1], reverse=True)[:100]"
   ]
  },
  {
   "cell_type": "code",
   "execution_count": 28,
   "id": "77f5d6a9",
   "metadata": {},
   "outputs": [
    {
     "data": {
      "text/plain": [
       "(0.00022258471477817866, 0.0015053521229291258, -1.8566820314852333)"
      ]
     },
     "execution_count": 28,
     "metadata": {},
     "output_type": "execute_result"
    }
   ],
   "source": [
    "ng.prob(\"een van\"), ng.prob(\"een\")*ng.prob(\"van\"),\\\n",
    "ng.prob(\"een van\", log=True) - (ng.prob(\"een\", log=True)+ng.prob(\"van\", log=True))"
   ]
  },
  {
   "cell_type": "code",
   "execution_count": 27,
   "id": "0a6744b6",
   "metadata": {
    "scrolled": true
   },
   "outputs": [
    {
     "data": {
      "text/plain": [
       "2.0530547412023785"
      ]
     },
     "execution_count": 27,
     "metadata": {},
     "output_type": "execute_result"
    }
   ],
   "source": [
    "np.log2(7.071283357573907e-05/1.7039905448865723e-05)"
   ]
  },
  {
   "cell_type": "code",
   "execution_count": null,
   "id": "dd903798",
   "metadata": {},
   "outputs": [],
   "source": []
  }
 ],
 "metadata": {
  "kernelspec": {
   "display_name": "Python 3 (ipykernel)",
   "language": "python",
   "name": "python3"
  },
  "language_info": {
   "codemirror_mode": {
    "name": "ipython",
    "version": 3
   },
   "file_extension": ".py",
   "mimetype": "text/x-python",
   "name": "python",
   "nbconvert_exporter": "python",
   "pygments_lexer": "ipython3",
   "version": "3.10.1"
  }
 },
 "nbformat": 4,
 "nbformat_minor": 5
}

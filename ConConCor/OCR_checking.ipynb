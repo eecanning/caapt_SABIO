{
 "cells": [
  {
   "cell_type": "markdown",
   "metadata": {},
   "source": [
    "# Need to Check for OCR Errors\n",
    "\n",
    "## Idea 1: Dictionaries\n",
    "\n",
    " - use a simple dictionary of Dutch to check whether character sequences are legal\n",
    " - could use a threshold, i.e. only a certain percentage of words may be OOV\n",
    " \n",
    " - dictionary matching is not that straightforward, basically amount to parsing; greedy matching might work\n",
    " \n",
    " \n",
    " \n",
    "## Ideas 2: Subword Encoders\n",
    "\n",
    " - subword encoders perform chunking on the character level s.t. the entropy of the resulting distribution over chunks is minimised (maximised?)  \n",
    "   => subword encoders are able to judge the probability of a given sequence of characterss"
   ]
  }
 ],
 "metadata": {
  "kernelspec": {
   "display_name": "Python 3",
   "language": "python",
   "name": "python3"
  },
  "language_info": {
   "codemirror_mode": {
    "name": "ipython",
    "version": 3
   },
   "file_extension": ".py",
   "mimetype": "text/x-python",
   "name": "python",
   "nbconvert_exporter": "python",
   "pygments_lexer": "ipython3",
   "version": "3.6.9"
  }
 },
 "nbformat": 4,
 "nbformat_minor": 4
}

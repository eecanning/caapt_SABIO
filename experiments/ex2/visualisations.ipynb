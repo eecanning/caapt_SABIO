{
 "cells": [
  {
   "cell_type": "code",
   "execution_count": 43,
   "metadata": {},
   "outputs": [],
   "source": [
    "import pandas as pd\n",
    "\n",
    "import numpy as np\n",
    "import matplotlib.pyplot as plt\n",
    "import seaborn as sns"
   ]
  },
  {
   "cell_type": "code",
   "execution_count": 7,
   "metadata": {},
   "outputs": [],
   "source": [
    "v = pd.read_csv(\"vecs_umap_9034.tsv\", sep='\\t', header=None)\n",
    "\n",
    "m = pd.read_csv(\"meta_umap_9034.tsv\", sep='\\t')"
   ]
  },
  {
   "cell_type": "code",
   "execution_count": 22,
   "metadata": {},
   "outputs": [
    {
     "data": {
      "text/plain": [
       "<matplotlib.axes._subplots.AxesSubplot at 0x7f2601251080>"
      ]
     },
     "execution_count": 22,
     "metadata": {},
     "output_type": "execute_result"
    },
    {
     "data": {
      "image/png": "[encoded data removed]",
      "text/plain": [
       "<Figure size 432x288 with 1 Axes>"
      ]
     },
     "metadata": {
      "needs_background": "light"
     },
     "output_type": "display_data"
    }
   ],
   "source": [
    "std_over_dims = v.var(1)\n",
    "\n",
    "std_over_dims.hist()"
   ]
  },
  {
   "cell_type": "code",
   "execution_count": 51,
   "metadata": {
    "scrolled": true
   },
   "outputs": [],
   "source": [
    "sum_gt_mean = (v.sum(1) > v.sum(1).mean()).astype(\"int\")\n",
    "m[\"sum_gt_mean\"] = sum_gt_mean"
   ]
  },
  {
   "cell_type": "markdown",
   "metadata": {},
   "source": [
    "# KDTree"
   ]
  },
  {
   "cell_type": "code",
   "execution_count": 36,
   "metadata": {},
   "outputs": [],
   "source": [
    "from sklearn.neighbors import KDTree\n",
    "\n",
    "tree = KDTree(v.to_numpy(), metric=\"l2\")"
   ]
  },
  {
   "cell_type": "code",
   "execution_count": 53,
   "metadata": {},
   "outputs": [
    {
     "data": {
      "text/plain": [
       "[<matplotlib.lines.Line2D at 0x7f25d907eeb8>]"
      ]
     },
     "execution_count": 53,
     "metadata": {},
     "output_type": "execute_result"
    },
    {
     "data": {
      "image/png": "[encoded data removed]",
      "text/plain": [
       "<Figure size 432x288 with 1 Axes>"
      ]
     },
     "metadata": {
      "needs_background": "light"
     },
     "output_type": "display_data"
    }
   ],
   "source": [
    "nums = tree.two_point_correlation(v.to_numpy(), r=np.linspace(0.01, 10.0, 10))\n",
    "# nums = np.asarray([   31176,  3870740,  7206750, 10414634, 14059210, 16969958, 19304518, 20936522, 22536626, 24099338])\n",
    "\n",
    "rel_nums = nums/(v.shape[0]**2)\n",
    "\n",
    "plt.plot(np.linspace(0.01, 10.0, 10), rel_nums, \".\")"
   ]
  },
  {
   "cell_type": "code",
   "execution_count": 64,
   "metadata": {},
   "outputs": [],
   "source": [
    "neighbors = tree.query_radius(v.to_numpy(), 2.0, count_only=True)\n",
    "m[\"n_neighbors\"] = neighbors"
   ]
  },
  {
   "cell_type": "code",
   "execution_count": 57,
   "metadata": {},
   "outputs": [],
   "source": [
    "# doesn't work\n",
    "kernel_densities = tree.kernel_density(v.to_numpy(), 20 , kernel=\"gaussian\")\n",
    "kernel_densities.sum()"
   ]
  },
  {
   "cell_type": "code",
   "execution_count": null,
   "metadata": {},
   "outputs": [],
   "source": [
    "terms = [\"\"]"
   ]
  },
  {
   "cell_type": "markdown",
   "metadata": {},
   "source": [
    "# KMeans"
   ]
  },
  {
   "cell_type": "code",
   "execution_count": 49,
   "metadata": {
    "collapsed": true
   },
   "outputs": [
    {
     "name": "stdout",
     "output_type": "stream",
     "text": [
      "Initialization complete\n",
      "Iteration 0, inertia 303304.27688947687\n",
      "Iteration 1, inertia 247163.7325742022\n",
      "Iteration 2, inertia 246173.47991204733\n",
      "Iteration 3, inertia 245064.66841205358\n",
      "Iteration 4, inertia 244625.20780210168\n",
      "Iteration 5, inertia 244247.42874139777\n",
      "Iteration 6, inertia 244213.78461615898\n",
      "Iteration 7, inertia 244172.95218981634\n",
      "Iteration 8, inertia 244171.59894497533\n",
      "Iteration 9, inertia 244166.36188688566\n",
      "Converged at iteration 9: center shift 6.902220888068708e-05 within tolerance 6.912042343671874e-05.\n",
      "Initialization complete\n",
      "Iteration 0, inertia 274398.1864715737\n",
      "Iteration 1, inertia 225823.57714461163\n",
      "Iteration 2, inertia 223892.41901886277\n",
      "Iteration 3, inertia 223278.3384264233\n",
      "Iteration 4, inertia 223134.99181058278\n",
      "Iteration 5, inertia 223126.44581794803\n",
      "Iteration 6, inertia 223126.1742827111\n",
      "Iteration 7, inertia 223115.15896662275\n",
      "Iteration 8, inertia 223056.9033090973\n",
      "Iteration 9, inertia 223056.01553729564\n",
      "Converged at iteration 9: strict convergence.\n",
      "Initialization complete\n",
      "Iteration 0, inertia 320817.69731691724\n",
      "Iteration 1, inertia 236753.90157493824\n",
      "Iteration 2, inertia 233813.56833399629\n",
      "Iteration 3, inertia 233525.7442333136\n",
      "Iteration 4, inertia 233001.18487861747\n",
      "Iteration 5, inertia 232732.58771730104\n",
      "Iteration 6, inertia 232585.44635589566\n",
      "Iteration 7, inertia 232510.370650602\n",
      "Iteration 8, inertia 232443.76470647074\n",
      "Iteration 9, inertia 232423.27113794518\n",
      "Iteration 10, inertia 232418.39922606424\n",
      "Iteration 11, inertia 232418.11134149987\n",
      "Converged at iteration 11: strict convergence.\n",
      "Initialization complete\n",
      "Iteration 0, inertia 312417.7936568264\n",
      "Iteration 1, inertia 250518.25246459976\n",
      "Iteration 2, inertia 245577.4470804016\n",
      "Iteration 3, inertia 241876.56180288762\n",
      "Iteration 4, inertia 240608.1887778853\n",
      "Iteration 5, inertia 240439.5821101938\n",
      "Iteration 6, inertia 240404.5523467812\n",
      "Iteration 7, inertia 240404.1625977447\n",
      "Converged at iteration 7: strict convergence.\n",
      "Initialization complete\n",
      "Iteration 0, inertia 295623.84613250376\n",
      "Iteration 1, inertia 234417.28857762966\n",
      "Iteration 2, inertia 232948.59272845456\n",
      "Iteration 3, inertia 232443.75105265868\n",
      "Iteration 4, inertia 232086.98941410746\n",
      "Iteration 5, inertia 231925.17950991404\n",
      "Iteration 6, inertia 231921.57607614627\n",
      "Iteration 7, inertia 231918.8754525126\n",
      "Iteration 8, inertia 231901.07830919593\n",
      "Iteration 9, inertia 231900.84785142282\n",
      "Converged at iteration 9: strict convergence.\n",
      "Initialization complete\n",
      "Iteration 0, inertia 304679.87329679687\n",
      "Iteration 1, inertia 243424.8530335717\n",
      "Iteration 2, inertia 238986.7635999936\n",
      "Iteration 3, inertia 237522.435374723\n",
      "Iteration 4, inertia 236740.604770501\n",
      "Iteration 5, inertia 236625.1028411833\n",
      "Iteration 6, inertia 236536.62982792503\n",
      "Iteration 7, inertia 236348.54875374312\n",
      "Iteration 8, inertia 236031.43935553508\n",
      "Iteration 9, inertia 235611.9503171581\n",
      "Iteration 10, inertia 235341.05246127365\n",
      "Iteration 11, inertia 235289.80925368518\n",
      "Iteration 12, inertia 235287.51753395886\n",
      "Converged at iteration 12: strict convergence.\n",
      "Initialization complete\n",
      "Iteration 0, inertia 323423.69835998426\n",
      "Iteration 1, inertia 246526.23965563352\n",
      "Iteration 2, inertia 242667.73834547552\n",
      "Iteration 3, inertia 238423.14181286746\n",
      "Iteration 4, inertia 237296.60616191092\n",
      "Iteration 5, inertia 237285.27966523383\n",
      "Converged at iteration 5: center shift 2.8934473724863788e-05 within tolerance 6.912042343671874e-05.\n",
      "Initialization complete\n",
      "Iteration 0, inertia 307098.58371893456\n",
      "Iteration 1, inertia 235810.9317946357\n",
      "Iteration 2, inertia 234352.83940929038\n",
      "Iteration 3, inertia 234080.99646094153\n",
      "Iteration 4, inertia 233829.03149065367\n",
      "Iteration 5, inertia 233452.17276041515\n",
      "Iteration 6, inertia 233288.24586973095\n",
      "Iteration 7, inertia 233018.65931060276\n",
      "Iteration 8, inertia 232597.6353268724\n",
      "Iteration 9, inertia 232546.93276953595\n",
      "Iteration 10, inertia 232538.1239666415\n",
      "Iteration 11, inertia 232538.0265325373\n",
      "Converged at iteration 11: strict convergence.\n",
      "Initialization complete\n",
      "Iteration 0, inertia 301374.8578067601\n",
      "Iteration 1, inertia 231351.81378621073\n",
      "Iteration 2, inertia 230367.77640729508\n",
      "Iteration 3, inertia 230182.06868120798\n",
      "Iteration 4, inertia 230095.31281152967\n",
      "Converged at iteration 4: strict convergence.\n",
      "Initialization complete\n",
      "Iteration 0, inertia 293271.2376661822\n",
      "Iteration 1, inertia 235905.55641237073\n",
      "Iteration 2, inertia 234233.77817315655\n",
      "Iteration 3, inertia 233778.3016489375\n",
      "Iteration 4, inertia 233679.59768945654\n",
      "Iteration 5, inertia 233671.75820351954\n",
      "Iteration 6, inertia 233670.793573604\n",
      "Iteration 7, inertia 233670.4385103936\n",
      "Converged at iteration 7: center shift 2.8934473724865638e-05 within tolerance 6.912042343671874e-05.\n"
     ]
    }
   ],
   "source": [
    "from sklearn.cluster import KMeans\n",
    "kmeans = KMeans(n_clusters=10, random_state=0, verbose=10).fit(v.to_numpy())\n",
    "m[\"kmeans_clusters\"] = kmeans.labels_"
   ]
  },
  {
   "cell_type": "code",
   "execution_count": 67,
   "metadata": {},
   "outputs": [
    {
     "data": {
      "text/plain": [
       "<matplotlib.axes._subplots.AxesSubplot at 0x7f25d86f26a0>"
      ]
     },
     "execution_count": 67,
     "metadata": {},
     "output_type": "execute_result"
    },
    {
     "data": {
      "image/png": "[encoded data removed]",
      "text/plain": [
       "<Figure size 432x288 with 1 Axes>"
      ]
     },
     "metadata": {
      "needs_background": "light"
     },
     "output_type": "display_data"
    }
   ],
   "source": [
    "sns.histplot(kmeans.labels_)"
   ]
  },
  {
   "cell_type": "code",
   "execution_count": 65,
   "metadata": {},
   "outputs": [
    {
     "data": {
      "text/html": [
       "<div>\n",
       "<style scoped>\n",
       "    .dataframe tbody tr th:only-of-type {\n",
       "        vertical-align: middle;\n",
       "    }\n",
       "\n",
       "    .dataframe tbody tr th {\n",
       "        vertical-align: top;\n",
       "    }\n",
       "\n",
       "    .dataframe thead th {\n",
       "        text-align: right;\n",
       "    }\n",
       "</style>\n",
       "<table border=\"1\" class=\"dataframe\">\n",
       "  <thead>\n",
       "    <tr style=\"text-align: right;\">\n",
       "      <th></th>\n",
       "      <th>term</th>\n",
       "      <th>freq</th>\n",
       "      <th>kmeans_clusters</th>\n",
       "      <th>sum_gt_mean</th>\n",
       "      <th>n_neighbors</th>\n",
       "    </tr>\n",
       "  </thead>\n",
       "  <tbody>\n",
       "    <tr>\n",
       "      <th>0</th>\n",
       "      <td>00</td>\n",
       "      <td>2.564949</td>\n",
       "      <td>7</td>\n",
       "      <td>1</td>\n",
       "      <td>387</td>\n",
       "    </tr>\n",
       "    <tr>\n",
       "      <th>1</th>\n",
       "      <td>000</td>\n",
       "      <td>1.945910</td>\n",
       "      <td>6</td>\n",
       "      <td>0</td>\n",
       "      <td>52</td>\n",
       "    </tr>\n",
       "    <tr>\n",
       "      <th>2</th>\n",
       "      <td>01</td>\n",
       "      <td>1.609438</td>\n",
       "      <td>7</td>\n",
       "      <td>1</td>\n",
       "      <td>374</td>\n",
       "    </tr>\n",
       "    <tr>\n",
       "      <th>3</th>\n",
       "      <td>02</td>\n",
       "      <td>1.791759</td>\n",
       "      <td>7</td>\n",
       "      <td>1</td>\n",
       "      <td>320</td>\n",
       "    </tr>\n",
       "    <tr>\n",
       "      <th>4</th>\n",
       "      <td>03</td>\n",
       "      <td>1.945910</td>\n",
       "      <td>3</td>\n",
       "      <td>0</td>\n",
       "      <td>10</td>\n",
       "    </tr>\n",
       "    <tr>\n",
       "      <th>...</th>\n",
       "      <td>...</td>\n",
       "      <td>...</td>\n",
       "      <td>...</td>\n",
       "      <td>...</td>\n",
       "      <td>...</td>\n",
       "    </tr>\n",
       "    <tr>\n",
       "      <th>9029</th>\n",
       "      <td>茂兵衛</td>\n",
       "      <td>0.693147</td>\n",
       "      <td>0</td>\n",
       "      <td>0</td>\n",
       "      <td>52</td>\n",
       "    </tr>\n",
       "    <tr>\n",
       "      <th>9030</th>\n",
       "      <td>藤原</td>\n",
       "      <td>0.000000</td>\n",
       "      <td>6</td>\n",
       "      <td>0</td>\n",
       "      <td>25</td>\n",
       "    </tr>\n",
       "    <tr>\n",
       "      <th>9031</th>\n",
       "      <td>観光丸</td>\n",
       "      <td>0.000000</td>\n",
       "      <td>6</td>\n",
       "      <td>0</td>\n",
       "      <td>25</td>\n",
       "    </tr>\n",
       "    <tr>\n",
       "      <th>9032</th>\n",
       "      <td>金地絵屏風</td>\n",
       "      <td>0.000000</td>\n",
       "      <td>6</td>\n",
       "      <td>0</td>\n",
       "      <td>25</td>\n",
       "    </tr>\n",
       "    <tr>\n",
       "      <th>9033</th>\n",
       "      <td>高井</td>\n",
       "      <td>0.693147</td>\n",
       "      <td>0</td>\n",
       "      <td>0</td>\n",
       "      <td>52</td>\n",
       "    </tr>\n",
       "  </tbody>\n",
       "</table>\n",
       "<p>9034 rows × 5 columns</p>\n",
       "</div>"
      ],
      "text/plain": [
       "       term      freq  kmeans_clusters  sum_gt_mean  n_neighbors\n",
       "0        00  2.564949                7            1          387\n",
       "1       000  1.945910                6            0           52\n",
       "2        01  1.609438                7            1          374\n",
       "3        02  1.791759                7            1          320\n",
       "4        03  1.945910                3            0           10\n",
       "...     ...       ...              ...          ...          ...\n",
       "9029    茂兵衛  0.693147                0            0           52\n",
       "9030     藤原  0.000000                6            0           25\n",
       "9031    観光丸  0.000000                6            0           25\n",
       "9032  金地絵屏風  0.000000                6            0           25\n",
       "9033     高井  0.693147                0            0           52\n",
       "\n",
       "[9034 rows x 5 columns]"
      ]
     },
     "execution_count": 65,
     "metadata": {},
     "output_type": "execute_result"
    }
   ],
   "source": [
    "m"
   ]
  },
  {
   "cell_type": "code",
   "execution_count": 82,
   "metadata": {},
   "outputs": [],
   "source": [
    "# rs = np.random.randint(2, size=(4, v.shape[0]))\n",
    "# for i, rv in enumerate(rs):\n",
    "#     m[\"rand_\"+str(i)] = rv"
   ]
  },
  {
   "cell_type": "code",
   "execution_count": 83,
   "metadata": {},
   "outputs": [],
   "source": [
    "m.to_csv(f\"meta_extra.tsv\", sep=\"\\t\", index=False, header=True)"
   ]
  },
  {
   "cell_type": "code",
   "execution_count": 84,
   "metadata": {},
   "outputs": [
    {
     "data": {
      "text/html": [
       "<div>\n",
       "<style scoped>\n",
       "    .dataframe tbody tr th:only-of-type {\n",
       "        vertical-align: middle;\n",
       "    }\n",
       "\n",
       "    .dataframe tbody tr th {\n",
       "        vertical-align: top;\n",
       "    }\n",
       "\n",
       "    .dataframe thead th {\n",
       "        text-align: right;\n",
       "    }\n",
       "</style>\n",
       "<table border=\"1\" class=\"dataframe\">\n",
       "  <thead>\n",
       "    <tr style=\"text-align: right;\">\n",
       "      <th></th>\n",
       "      <th>term</th>\n",
       "      <th>freq</th>\n",
       "      <th>kmeans_clusters</th>\n",
       "      <th>sum_gt_mean</th>\n",
       "      <th>n_neighbors</th>\n",
       "      <th>rand_0</th>\n",
       "      <th>rand_1</th>\n",
       "      <th>rand_2</th>\n",
       "      <th>rand_3</th>\n",
       "    </tr>\n",
       "  </thead>\n",
       "  <tbody>\n",
       "    <tr>\n",
       "      <th>0</th>\n",
       "      <td>00</td>\n",
       "      <td>2.564949</td>\n",
       "      <td>7</td>\n",
       "      <td>1</td>\n",
       "      <td>387</td>\n",
       "      <td>1</td>\n",
       "      <td>1</td>\n",
       "      <td>1</td>\n",
       "      <td>1</td>\n",
       "    </tr>\n",
       "    <tr>\n",
       "      <th>1</th>\n",
       "      <td>000</td>\n",
       "      <td>1.945910</td>\n",
       "      <td>6</td>\n",
       "      <td>0</td>\n",
       "      <td>52</td>\n",
       "      <td>1</td>\n",
       "      <td>0</td>\n",
       "      <td>1</td>\n",
       "      <td>1</td>\n",
       "    </tr>\n",
       "    <tr>\n",
       "      <th>2</th>\n",
       "      <td>01</td>\n",
       "      <td>1.609438</td>\n",
       "      <td>7</td>\n",
       "      <td>1</td>\n",
       "      <td>374</td>\n",
       "      <td>1</td>\n",
       "      <td>1</td>\n",
       "      <td>1</td>\n",
       "      <td>1</td>\n",
       "    </tr>\n",
       "    <tr>\n",
       "      <th>3</th>\n",
       "      <td>02</td>\n",
       "      <td>1.791759</td>\n",
       "      <td>7</td>\n",
       "      <td>1</td>\n",
       "      <td>320</td>\n",
       "      <td>0</td>\n",
       "      <td>1</td>\n",
       "      <td>0</td>\n",
       "      <td>0</td>\n",
       "    </tr>\n",
       "    <tr>\n",
       "      <th>4</th>\n",
       "      <td>03</td>\n",
       "      <td>1.945910</td>\n",
       "      <td>3</td>\n",
       "      <td>0</td>\n",
       "      <td>10</td>\n",
       "      <td>1</td>\n",
       "      <td>0</td>\n",
       "      <td>1</td>\n",
       "      <td>1</td>\n",
       "    </tr>\n",
       "    <tr>\n",
       "      <th>...</th>\n",
       "      <td>...</td>\n",
       "      <td>...</td>\n",
       "      <td>...</td>\n",
       "      <td>...</td>\n",
       "      <td>...</td>\n",
       "      <td>...</td>\n",
       "      <td>...</td>\n",
       "      <td>...</td>\n",
       "      <td>...</td>\n",
       "    </tr>\n",
       "    <tr>\n",
       "      <th>9029</th>\n",
       "      <td>茂兵衛</td>\n",
       "      <td>0.693147</td>\n",
       "      <td>0</td>\n",
       "      <td>0</td>\n",
       "      <td>52</td>\n",
       "      <td>0</td>\n",
       "      <td>0</td>\n",
       "      <td>0</td>\n",
       "      <td>1</td>\n",
       "    </tr>\n",
       "    <tr>\n",
       "      <th>9030</th>\n",
       "      <td>藤原</td>\n",
       "      <td>0.000000</td>\n",
       "      <td>6</td>\n",
       "      <td>0</td>\n",
       "      <td>25</td>\n",
       "      <td>1</td>\n",
       "      <td>0</td>\n",
       "      <td>1</td>\n",
       "      <td>1</td>\n",
       "    </tr>\n",
       "    <tr>\n",
       "      <th>9031</th>\n",
       "      <td>観光丸</td>\n",
       "      <td>0.000000</td>\n",
       "      <td>6</td>\n",
       "      <td>0</td>\n",
       "      <td>25</td>\n",
       "      <td>1</td>\n",
       "      <td>1</td>\n",
       "      <td>0</td>\n",
       "      <td>1</td>\n",
       "    </tr>\n",
       "    <tr>\n",
       "      <th>9032</th>\n",
       "      <td>金地絵屏風</td>\n",
       "      <td>0.000000</td>\n",
       "      <td>6</td>\n",
       "      <td>0</td>\n",
       "      <td>25</td>\n",
       "      <td>1</td>\n",
       "      <td>0</td>\n",
       "      <td>0</td>\n",
       "      <td>1</td>\n",
       "    </tr>\n",
       "    <tr>\n",
       "      <th>9033</th>\n",
       "      <td>高井</td>\n",
       "      <td>0.693147</td>\n",
       "      <td>0</td>\n",
       "      <td>0</td>\n",
       "      <td>52</td>\n",
       "      <td>1</td>\n",
       "      <td>0</td>\n",
       "      <td>1</td>\n",
       "      <td>0</td>\n",
       "    </tr>\n",
       "  </tbody>\n",
       "</table>\n",
       "<p>9034 rows × 9 columns</p>\n",
       "</div>"
      ],
      "text/plain": [
       "       term      freq  kmeans_clusters  sum_gt_mean  n_neighbors  rand_0  \\\n",
       "0        00  2.564949                7            1          387       1   \n",
       "1       000  1.945910                6            0           52       1   \n",
       "2        01  1.609438                7            1          374       1   \n",
       "3        02  1.791759                7            1          320       0   \n",
       "4        03  1.945910                3            0           10       1   \n",
       "...     ...       ...              ...          ...          ...     ...   \n",
       "9029    茂兵衛  0.693147                0            0           52       0   \n",
       "9030     藤原  0.000000                6            0           25       1   \n",
       "9031    観光丸  0.000000                6            0           25       1   \n",
       "9032  金地絵屏風  0.000000                6            0           25       1   \n",
       "9033     高井  0.693147                0            0           52       1   \n",
       "\n",
       "      rand_1  rand_2  rand_3  \n",
       "0          1       1       1  \n",
       "1          0       1       1  \n",
       "2          1       1       1  \n",
       "3          1       0       0  \n",
       "4          0       1       1  \n",
       "...      ...     ...     ...  \n",
       "9029       0       0       1  \n",
       "9030       0       1       1  \n",
       "9031       1       0       1  \n",
       "9032       0       0       1  \n",
       "9033       0       1       0  \n",
       "\n",
       "[9034 rows x 9 columns]"
      ]
     },
     "execution_count": 84,
     "metadata": {},
     "output_type": "execute_result"
    }
   ],
   "source": [
    "m"
   ]
  }
 ],
 "metadata": {
  "kernelspec": {
   "display_name": "Python 3",
   "language": "python",
   "name": "python3"
  },
  "language_info": {
   "codemirror_mode": {
    "name": "ipython",
    "version": 3
   },
   "file_extension": ".py",
   "mimetype": "text/x-python",
   "name": "python",
   "nbconvert_exporter": "python",
   "pygments_lexer": "ipython3",
   "version": "3.6.9"
  }
 },
 "nbformat": 4,
 "nbformat_minor": 4
}

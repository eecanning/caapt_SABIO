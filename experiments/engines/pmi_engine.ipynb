{
 "cells": [
  {
   "cell_type": "code",
   "execution_count": 1,
   "metadata": {},
   "outputs": [],
   "source": [
    "from ngrams import Ngram"
   ]
  },
  {
   "cell_type": "code",
   "execution_count": 2,
   "metadata": {},
   "outputs": [],
   "source": [
    "from tqdm import tqdm\n",
    "\n",
    "import matplotlib.pyplot as plt\n",
    "import seaborn as sns\n",
    "\n",
    "import numpy as np\n",
    "import pandas as pd"
   ]
  },
  {
   "cell_type": "markdown",
   "metadata": {},
   "source": [
    "# Load objects and preprocess"
   ]
  },
  {
   "cell_type": "code",
   "execution_count": 3,
   "metadata": {},
   "outputs": [
    {
     "name": "stdout",
     "output_type": "stream",
     "text": [
      "number of docs:  11199\n",
      "number of tokens:  274580\n",
      "number of types:  43518\n",
      "TTR:  0.1585\n"
     ]
    }
   ],
   "source": [
    "obj_tbl = pd.read_csv(\"../../data/tables/Objects.csv.gz\")\n",
    "str_cols = \"Title\", \"Description\"\n",
    "txts = [s for col in str_cols for s in obj_tbl[col].dropna()]\n",
    "tokens = [w for txt in txts for w in txt.split()]\n",
    "\n",
    "print(\"number of docs: \", len(txts))\n",
    "print(\"number of tokens: \", len(tokens))\n",
    "print(\"number of types: \", len(set(tokens)))\n",
    "print(\"TTR: \", round(len(set(tokens))/len(tokens), 4))"
   ]
  },
  {
   "cell_type": "markdown",
   "metadata": {},
   "source": [
    "# Initialise PMI engine\n",
    "\n",
    "i.e. count word pairs, compute probabilities and PMI\n",
    "\n",
    "`PMI(w1, w2) = log(P(w2|w1)/P(w2)) = log(P(w1|w2)/P(w1))`"
   ]
  },
  {
   "cell_type": "code",
   "execution_count": 4,
   "metadata": {
    "scrolled": true
   },
   "outputs": [
    {
     "name": "stderr",
     "output_type": "stream",
     "text": [
      "(1, 2)-grams: Padding documents...: 100%|██████████| 11199/11199 [00:00<00:00, 1243139.09it/s]\n"
     ]
    },
    {
     "name": "stdout",
     "output_type": "stream",
     "text": [
      "(1, 2)-grams: Term Document Matrix constructed...\n",
      "(1, 2)-grams: Term frequencies precomputed...\n",
      "(1, 2)-grams: Init done\n"
     ]
    }
   ],
   "source": [
    "NG = Ngram(2, txts, precompute_freqs=True)"
   ]
  },
  {
   "cell_type": "code",
   "execution_count": 5,
   "metadata": {},
   "outputs": [],
   "source": [
    "pmis = {w: NG.pmi(*w.split()) for w in NG.vocab(2)}"
   ]
  },
  {
   "cell_type": "code",
   "execution_count": 6,
   "metadata": {},
   "outputs": [
    {
     "data": {
      "text/plain": [
       "<matplotlib.axes._subplots.AxesSubplot at 0x7f64a9a73a58>"
      ]
     },
     "execution_count": 6,
     "metadata": {},
     "output_type": "execute_result"
    },
    {
     "data": {
      "image/png": "[encoded data removed]",
      "text/plain": [
       "<Figure size 432x288 with 1 Axes>"
      ]
     },
     "metadata": {
      "needs_background": "light"
     },
     "output_type": "display_data"
    }
   ],
   "source": [
    "sns.histplot(pmis.values())"
   ]
  },
  {
   "cell_type": "markdown",
   "metadata": {},
   "source": [
    "# Word Level"
   ]
  },
  {
   "cell_type": "code",
   "execution_count": 29,
   "metadata": {},
   "outputs": [
    {
     "data": {
      "text/html": [
       "<div>\n",
       "<style scoped>\n",
       "    .dataframe tbody tr th:only-of-type {\n",
       "        vertical-align: middle;\n",
       "    }\n",
       "\n",
       "    .dataframe tbody tr th {\n",
       "        vertical-align: top;\n",
       "    }\n",
       "\n",
       "    .dataframe thead th {\n",
       "        text-align: right;\n",
       "    }\n",
       "</style>\n",
       "<table border=\"1\" class=\"dataframe\">\n",
       "  <thead>\n",
       "    <tr style=\"text-align: right;\">\n",
       "      <th></th>\n",
       "      <th>pair</th>\n",
       "      <th>PMI</th>\n",
       "    </tr>\n",
       "  </thead>\n",
       "  <tbody>\n",
       "    <tr>\n",
       "      <th>0</th>\n",
       "      <td>een mensen</td>\n",
       "      <td>-1.353165</td>\n",
       "    </tr>\n",
       "    <tr>\n",
       "      <th>1</th>\n",
       "      <td>met mensen</td>\n",
       "      <td>-0.455868</td>\n",
       "    </tr>\n",
       "    <tr>\n",
       "      <th>2</th>\n",
       "      <td>mensen de</td>\n",
       "      <td>-0.211570</td>\n",
       "    </tr>\n",
       "    <tr>\n",
       "      <th>3</th>\n",
       "      <td>mensen &lt;/s&gt;</td>\n",
       "      <td>0.357199</td>\n",
       "    </tr>\n",
       "    <tr>\n",
       "      <th>4</th>\n",
       "      <td>mensfiguren &lt;/s&gt;</td>\n",
       "      <td>0.487596</td>\n",
       "    </tr>\n",
       "    <tr>\n",
       "      <th>...</th>\n",
       "      <td>...</td>\n",
       "      <td>...</td>\n",
       "    </tr>\n",
       "    <tr>\n",
       "      <th>389</th>\n",
       "      <td>thila bovenmenselijke</td>\n",
       "      <td>17.563169</td>\n",
       "    </tr>\n",
       "    <tr>\n",
       "      <th>390</th>\n",
       "      <td>royle namens</td>\n",
       "      <td>17.563169</td>\n",
       "    </tr>\n",
       "    <tr>\n",
       "      <th>391</th>\n",
       "      <td>menstruatieperiode voorbij</td>\n",
       "      <td>18.148131</td>\n",
       "    </tr>\n",
       "    <tr>\n",
       "      <th>392</th>\n",
       "      <td>mensenhoofden juwelensnoer</td>\n",
       "      <td>18.148131</td>\n",
       "    </tr>\n",
       "    <tr>\n",
       "      <th>393</th>\n",
       "      <td>mensenhanden geschapen</td>\n",
       "      <td>19.148131</td>\n",
       "    </tr>\n",
       "  </tbody>\n",
       "</table>\n",
       "<p>394 rows × 2 columns</p>\n",
       "</div>"
      ],
      "text/plain": [
       "                           pair        PMI\n",
       "0                    een mensen  -1.353165\n",
       "1                    met mensen  -0.455868\n",
       "2                     mensen de  -0.211570\n",
       "3                   mensen </s>   0.357199\n",
       "4              mensfiguren </s>   0.487596\n",
       "..                          ...        ...\n",
       "389       thila bovenmenselijke  17.563169\n",
       "390                royle namens  17.563169\n",
       "391  menstruatieperiode voorbij  18.148131\n",
       "392  mensenhoofden juwelensnoer  18.148131\n",
       "393      mensenhanden geschapen  19.148131\n",
       "\n",
       "[394 rows x 2 columns]"
      ]
     },
     "execution_count": 29,
     "metadata": {},
     "output_type": "execute_result"
    }
   ],
   "source": [
    "mens = \"mens\"\n",
    "mens_pairs = {w for w in NG.vocab(2) if mens in w}\n",
    "\n",
    "sorted_pmis = [(w, pmis[w]) for w in sorted(mens_pairs, key=lambda w: pmis[w])]\n",
    "\n",
    "pd.DataFrame(sorted_pmis, columns=[\"pair\", \"PMI\"])"
   ]
  },
  {
   "cell_type": "code",
   "execution_count": 15,
   "metadata": {},
   "outputs": [
    {
     "data": {
      "text/plain": [
       "{'bovenmenselijke',\n",
       " 'clemens',\n",
       " 'dagjesmensen',\n",
       " 'dimensie',\n",
       " 'dimensional',\n",
       " 'driedimensionaal',\n",
       " 'immense',\n",
       " 'inkomensbron',\n",
       " 'medemens',\n",
       " 'mens',\n",
       " 'mensachtige',\n",
       " 'mensch',\n",
       " 'menselijk',\n",
       " 'menselijke',\n",
       " 'mensen',\n",
       " 'mensenbeeld',\n",
       " 'mensenbeenderen',\n",
       " 'mensenbenen',\n",
       " 'mensenbotten',\n",
       " 'mensenfiguren',\n",
       " 'mensenfiguur',\n",
       " 'mensengelaat',\n",
       " 'mensengezicht',\n",
       " 'mensenhaar',\n",
       " 'mensenhanden',\n",
       " 'mensenheugenis',\n",
       " 'mensenhoofd',\n",
       " 'mensenhoofden',\n",
       " 'mensenlichaam',\n",
       " 'mensenpatroon',\n",
       " 'mensenroof',\n",
       " 'mensenschedel',\n",
       " 'mensfiguren',\n",
       " 'mensfiguur',\n",
       " 'mensfiguurtje',\n",
       " 'mensfiguurtjes',\n",
       " 'mensheid',\n",
       " 'menskopje',\n",
       " 'menstruatie',\n",
       " 'menstruatieperiode',\n",
       " 'mensvormig',\n",
       " 'mensvormige',\n",
       " 'namens',\n",
       " 'oermens',\n",
       " 'samensmelting',\n",
       " 'samenstel',\n",
       " 'samenstelde',\n",
       " 'samenstelden',\n",
       " 'samenstelling',\n",
       " 'tweedimensionaal'}"
      ]
     },
     "execution_count": 15,
     "metadata": {},
     "output_type": "execute_result"
    }
   ],
   "source": [
    "{w for w in NG.vocab(1) if focus_word in w}"
   ]
  },
  {
   "cell_type": "markdown",
   "metadata": {},
   "source": [
    "# Object Level\n",
    "\n",
    "scoring heuristic for objects based on PMI values of word pairs"
   ]
  },
  {
   "cell_type": "code",
   "execution_count": 68,
   "metadata": {},
   "outputs": [
    {
     "name": "stderr",
     "output_type": "stream",
     "text": [
      "100%|██████████| 10537/10537 [00:01<00:00, 5868.42it/s]\n"
     ]
    }
   ],
   "source": [
    "replace = lambda t: t if type(t) is str else \"\"\n",
    "\n",
    "# scores = []\n",
    "# for j, row in tqdm(obj_tbl.iterrows(), total=obj_tbl.shape[0]):\n",
    "#     tl, tx = row.Title, row.Description\n",
    "\n",
    "#     pairs = [w for t in (replace(tl), replace(tx)) for w in NG.iter_ngrams(t)]\n",
    "#     scores.append(np.mean([pmis[w] for w in pairs]))\n",
    "    \n",
    "    \n",
    "    \n",
    "scores = []\n",
    "\n",
    "\n",
    "for j, row in tqdm(obj_tbl.iterrows(), total=obj_tbl.shape[0]):\n",
    "    tl, tx = row.Title, row.Description\n",
    "    pairs = [w for t in (replace(tl), replace(tx)) for w in NG.iter_ngrams(t)]\n",
    "    scores.append((np.mean([pmis[w] for w in pairs])))\n",
    "obj_tbl = obj_tbl.assign(avg_PMI=scores)"
   ]
  },
  {
   "cell_type": "code",
   "execution_count": 69,
   "metadata": {},
   "outputs": [
    {
     "data": {
      "image/png": "[encoded data removed]",
      "text/plain": [
       "<Figure size 432x288 with 1 Axes>"
      ]
     },
     "metadata": {
      "needs_background": "light"
     },
     "output_type": "display_data"
    }
   ],
   "source": [
    "# _=plt.hist(obj_tbl.avg_PMI[obj_tbl.avg_PMI< 10000], bins=100)\n",
    "# _=plt.xlim(-10, 1000.0)\n",
    "\n",
    "_=plt.hist(obj_tbl.avg_PMI, bins=100)"
   ]
  },
  {
   "cell_type": "code",
   "execution_count": 76,
   "metadata": {},
   "outputs": [
    {
     "data": {
      "text/html": [
       "<div>\n",
       "<style scoped>\n",
       "    .dataframe tbody tr th:only-of-type {\n",
       "        vertical-align: middle;\n",
       "    }\n",
       "\n",
       "    .dataframe tbody tr th {\n",
       "        vertical-align: top;\n",
       "    }\n",
       "\n",
       "    .dataframe thead th {\n",
       "        text-align: right;\n",
       "    }\n",
       "</style>\n",
       "<table border=\"1\" class=\"dataframe\">\n",
       "  <thead>\n",
       "    <tr style=\"text-align: right;\">\n",
       "      <th></th>\n",
       "      <th>ObjectID</th>\n",
       "      <th>Title</th>\n",
       "      <th>Description</th>\n",
       "      <th>avg_PMI</th>\n",
       "    </tr>\n",
       "  </thead>\n",
       "  <tbody>\n",
       "    <tr>\n",
       "      <th>4515</th>\n",
       "      <td>1120402</td>\n",
       "      <td>NaN</td>\n",
       "      <td>[VO] mensengezicht met haar en baard</td>\n",
       "      <td>3.137183</td>\n",
       "    </tr>\n",
       "    <tr>\n",
       "      <th>10301</th>\n",
       "      <td>1090527</td>\n",
       "      <td>NaN</td>\n",
       "      <td>[DE] dansend mensfiguur</td>\n",
       "      <td>3.515280</td>\n",
       "    </tr>\n",
       "    <tr>\n",
       "      <th>9406</th>\n",
       "      <td>1184817</td>\n",
       "      <td>NaN</td>\n",
       "      <td>Afbeelding van een grote groep negroïde mensen...</td>\n",
       "      <td>4.123839</td>\n",
       "    </tr>\n",
       "    <tr>\n",
       "      <th>2008</th>\n",
       "      <td>125020</td>\n",
       "      <td>BAK VERSIERD MET MENS- EN DIERFIGUREN</td>\n",
       "      <td>Schuitvormige bak met rechthoekig uitgehold de...</td>\n",
       "      <td>4.452035</td>\n",
       "    </tr>\n",
       "    <tr>\n",
       "      <th>3852</th>\n",
       "      <td>185437</td>\n",
       "      <td>AARDEWERK PIJPENKOP</td>\n",
       "      <td>De pijpenkop is vervaardigd van terracotta. Op...</td>\n",
       "      <td>4.493420</td>\n",
       "    </tr>\n",
       "    <tr>\n",
       "      <th>...</th>\n",
       "      <td>...</td>\n",
       "      <td>...</td>\n",
       "      <td>...</td>\n",
       "      <td>...</td>\n",
       "    </tr>\n",
       "    <tr>\n",
       "      <th>6801</th>\n",
       "      <td>125226</td>\n",
       "      <td>BRONZEN BEELD VAN DE DANSENDE SHIVA</td>\n",
       "      <td>Shiva Nataraja, de dansende Shiva.\\r\\n\\r\\nMet ...</td>\n",
       "      <td>8.714545</td>\n",
       "    </tr>\n",
       "    <tr>\n",
       "      <th>727</th>\n",
       "      <td>905210</td>\n",
       "      <td>' ABORIGINAL CEREMONIAL 'THE BORA TREE'</td>\n",
       "      <td>De Kerry &amp; Co studio \\r\\nDe Kerry &amp; Co studio ...</td>\n",
       "      <td>8.774003</td>\n",
       "    </tr>\n",
       "    <tr>\n",
       "      <th>3287</th>\n",
       "      <td>754671</td>\n",
       "      <td>NAKNOK MASKER</td>\n",
       "      <td>Naxnox mask; Tsimshian, probably Nishga; ca. 1...</td>\n",
       "      <td>9.608883</td>\n",
       "    </tr>\n",
       "    <tr>\n",
       "      <th>5446</th>\n",
       "      <td>1046747</td>\n",
       "      <td>zonder titel</td>\n",
       "      <td>The main theme in the paintings from Utopia is...</td>\n",
       "      <td>10.691944</td>\n",
       "    </tr>\n",
       "    <tr>\n",
       "      <th>8326</th>\n",
       "      <td>1101335</td>\n",
       "      <td>NaN</td>\n",
       "      <td>[VO] godheid &amp; dharmapala &amp; drag-gsed &amp; yi-dam...</td>\n",
       "      <td>11.877365</td>\n",
       "    </tr>\n",
       "  </tbody>\n",
       "</table>\n",
       "<p>227 rows × 4 columns</p>\n",
       "</div>"
      ],
      "text/plain": [
       "       ObjectID                                    Title  \\\n",
       "4515    1120402                                      NaN   \n",
       "10301   1090527                                      NaN   \n",
       "9406    1184817                                      NaN   \n",
       "2008     125020    BAK VERSIERD MET MENS- EN DIERFIGUREN   \n",
       "3852     185437                      AARDEWERK PIJPENKOP   \n",
       "...         ...                                      ...   \n",
       "6801     125226      BRONZEN BEELD VAN DE DANSENDE SHIVA   \n",
       "727      905210  ' ABORIGINAL CEREMONIAL 'THE BORA TREE'   \n",
       "3287     754671                            NAKNOK MASKER   \n",
       "5446    1046747                             zonder titel   \n",
       "8326    1101335                                      NaN   \n",
       "\n",
       "                                             Description    avg_PMI  \n",
       "4515                [VO] mensengezicht met haar en baard   3.137183  \n",
       "10301                            [DE] dansend mensfiguur   3.515280  \n",
       "9406   Afbeelding van een grote groep negroïde mensen...   4.123839  \n",
       "2008   Schuitvormige bak met rechthoekig uitgehold de...   4.452035  \n",
       "3852   De pijpenkop is vervaardigd van terracotta. Op...   4.493420  \n",
       "...                                                  ...        ...  \n",
       "6801   Shiva Nataraja, de dansende Shiva.\\r\\n\\r\\nMet ...   8.714545  \n",
       "727    De Kerry & Co studio \\r\\nDe Kerry & Co studio ...   8.774003  \n",
       "3287   Naxnox mask; Tsimshian, probably Nishga; ca. 1...   9.608883  \n",
       "5446   The main theme in the paintings from Utopia is...  10.691944  \n",
       "8326   [VO] godheid & dharmapala & drag-gsed & yi-dam...  11.877365  \n",
       "\n",
       "[227 rows x 4 columns]"
      ]
     },
     "execution_count": 76,
     "metadata": {},
     "output_type": "execute_result"
    }
   ],
   "source": [
    "has_mens = obj_tbl.Description.apply(lambda t: focus_word in t if type(t) is str else False)\n",
    "obj_tbl[has_mens].sort_values(by=\"avg_PMI\")[[\"ObjectID\", \"Title\", \"Description\", \"avg_PMI\"]]"
   ]
  },
  {
   "cell_type": "code",
   "execution_count": 91,
   "metadata": {},
   "outputs": [
    {
     "name": "stdout",
     "output_type": "stream",
     "text": [
      "ObjectID :\t 1046747\n",
      "DepartmentID :\t 9\n",
      "ClassificationID :\t 154\n",
      "ObjectName :\t schildering\n",
      "Title :\t zonder titel\n",
      "Description :\t The main theme in the paintings from Utopia is the strong bond that the Aborigines have with their country. Men paint the \" Songlines\":  the roads that the mythological ancestors travelled when they gave the world her shape. Traditionally you will find in these paintings concentric circles and connecting lines so that the artworks look like topographical maps. \r\n",
      "Most of the paintings of Utopia consist of dots and circles. The men were the first to transfer to  the acrylic-canvas medium. Their work is highly symbolic: representing ancestral history and nomadic routes. The paintings often look like maps, seen from the sky. Only a person with considerable knowledge of the depicted locations and the dreamings related to them can understand the symbols properly. A circle may represent a campsite, waterhole or fire. An  arc represent  a person, whether man or woman will be explained by the symbols next to it.\r\n",
      "More and more women have started to paint in recent years. Their subjects often have to do with the search for and the preparation of food. They are also inspired by ceremonial body-paint designs.Many female artists are becoming well-known as contemporary artists with an innovative way of painting. They experiment with colours, shapes and techniques.\r\n",
      "Utopian art has been shown on various solo exhibitions in Australia as well as in Asia, Europe and the U.S.A.\r\n",
      "\r\n",
      "DESERT ART\r\n",
      "The inland of Australia consists mainly of desert. For thousands of years the Aborigines have wandered \n",
      "Provenance :\t nan\n",
      "avg_PMI :\t 10.691943591792224\n"
     ]
    }
   ],
   "source": [
    "for k, v in dict(obj_tbl.iloc[5446]).items():\n",
    "    print(k, \":\\t\", (v[:1500] if type(v) is str else v))"
   ]
  }
 ],
 "metadata": {
  "kernelspec": {
   "display_name": "Python 3",
   "language": "python",
   "name": "python3"
  },
  "language_info": {
   "codemirror_mode": {
    "name": "ipython",
    "version": 3
   },
   "file_extension": ".py",
   "mimetype": "text/x-python",
   "name": "python",
   "nbconvert_exporter": "python",
   "pygments_lexer": "ipython3",
   "version": "3.6.9"
  }
 },
 "nbformat": 4,
 "nbformat_minor": 4
}

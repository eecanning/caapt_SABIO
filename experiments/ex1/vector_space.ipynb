{
 "cells": [
  {
   "cell_type": "markdown",
   "metadata": {},
   "source": [
    "## Vector Space\n",
    "\n",
    " 1. take unigram term-document vectors from n-gram matrix\n",
    " 2. apply PCA (or UMAP directly?) for dimensionality reduction (original vectors have dimensionality > 10k)\n",
    " 3. write vectors to .tsv -- also write vector features to file (term, avg pmi?, ...) -> for visualisation in embedding projector\n",
    " 4. use KDTree (or KMeans?; -> elbow curve) for clusters"
   ]
  },
  {
   "cell_type": "code",
   "execution_count": 1,
   "metadata": {},
   "outputs": [
    {
     "name": "stdout",
     "output_type": "stream",
     "text": [
      "None-grams: Term frequencies precomputed...\n",
      "None-grams: Init done\n"
     ]
    }
   ],
   "source": [
    "from tqdm import tqdm\n",
    "import numpy as np\n",
    "import pandas as pd\n",
    "\n",
    "\n",
    "from sklearn.feature_extraction.text import TfidfTransformer\n",
    "from utils import Ngram\n",
    "\n",
    "NG = Ngram.load(\"counts\", precompute_freqs=True)\n",
    "\n",
    "\n",
    "tfidf = TfidfTransformer()\n",
    "\n",
    "\n",
    "ti_mat = tfidf.fit_transform(NG.term_doc_matrix)"
   ]
  },
  {
   "cell_type": "code",
   "execution_count": 13,
   "metadata": {},
   "outputs": [],
   "source": [
    "# uni_inds = NG.vocab(1, with_inds=True)\n",
    "\n",
    "# sub_vocab = {w: i for w, i in zip(sorted(uni_inds, key=lambda w: uni_inds[w]),\n",
    "#                                  range(len(uni_inds)))}\n",
    "\n",
    "uni_voc = NG.vocab(1, with_inds=True)\n",
    "\n",
    "r = len(uni_inds)//2\n",
    "\n",
    "sub_voc = sorted(np.random.choice(list(uni_voc.keys()), r))\n",
    "\n",
    "sub_inds = [uni_voc[w] for w in sub_voc]\n",
    "\n",
    "sub_mat = ti_mat[:, sub_inds].T.toarray()"
   ]
  },
  {
   "cell_type": "code",
   "execution_count": 14,
   "metadata": {},
   "outputs": [
    {
     "data": {
      "text/plain": [
       "(27104, (13552, 11199))"
      ]
     },
     "execution_count": 14,
     "metadata": {},
     "output_type": "execute_result"
    }
   ],
   "source": [
    "len(NG.vocab(1)), sub_mat.shape"
   ]
  },
  {
   "cell_type": "code",
   "execution_count": 18,
   "metadata": {},
   "outputs": [],
   "source": [
    "from sklearn.decomposition import PCA\n",
    "\n",
    "pca = PCA(n_components=512)\n",
    "Y = pca.fit_transform(sub_mat)"
   ]
  },
  {
   "cell_type": "code",
   "execution_count": null,
   "metadata": {},
   "outputs": [],
   "source": [
    "from umap import UMAP\n",
    "\n",
    "\n",
    "umap = UMAP(n_neighbors=15, n_components=512, verbose=100)"
   ]
  },
  {
   "cell_type": "code",
   "execution_count": null,
   "metadata": {},
   "outputs": [],
   "source": [
    "Y = umap.fit_transform(sub_mat)\n",
    "Y.shape"
   ]
  },
  {
   "cell_type": "markdown",
   "metadata": {},
   "source": [
    "### Write to TSV"
   ]
  },
  {
   "cell_type": "code",
   "execution_count": 21,
   "metadata": {},
   "outputs": [
    {
     "name": "stderr",
     "output_type": "stream",
     "text": [
      "100%|██████████| 13552/13552 [00:05<00:00, 2326.57it/s]\n"
     ]
    }
   ],
   "source": [
    "v_to_tsv = lambda v: \"\\t\".join(map(str, v))\n",
    "\n",
    "# fewer_vecs = np.random.permutation(list(vecs.items()))[:5000]\n",
    "\n",
    "with open(f\"vecs_pca_{len(sub_inds)}.tsv\", \"w\") as handle:\n",
    "    for v in tqdm(Y):\n",
    "        handle.write(v_to_tsv(v))\n",
    "        handle.write(\"\\n\")"
   ]
  },
  {
   "cell_type": "code",
   "execution_count": 20,
   "metadata": {},
   "outputs": [],
   "source": [
    "with open(\"meta.tsv\", \"w\") as handle:\n",
    "    for w in sub_voc:\n",
    "        handle.write(str(w)+\"\\n\")"
   ]
  },
  {
   "cell_type": "markdown",
   "metadata": {},
   "source": [
    "## Clusters"
   ]
  },
  {
   "cell_type": "code",
   "execution_count": null,
   "metadata": {},
   "outputs": [],
   "source": [
    "from sklearn.neighbors import KDTree\n",
    "\n",
    "tree = KDTree(vectors.toarray(), metric=\"l2\")"
   ]
  }
 ],
 "metadata": {
  "kernelspec": {
   "display_name": "Python 3",
   "language": "python",
   "name": "python3"
  },
  "language_info": {
   "codemirror_mode": {
    "name": "ipython",
    "version": 3
   },
   "file_extension": ".py",
   "mimetype": "text/x-python",
   "name": "python",
   "nbconvert_exporter": "python",
   "pygments_lexer": "ipython3",
   "version": "3.6.9"
  }
 },
 "nbformat": 4,
 "nbformat_minor": 4
}

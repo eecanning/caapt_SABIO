{
 "cells": [
  {
   "cell_type": "code",
   "execution_count": 3,
   "metadata": {},
   "outputs": [
    {
     "name": "stdout",
     "output_type": "stream",
     "text": [
      "number of docs:  11199\n",
      "number of tokens:  274580\n",
      "number of types:  43518\n",
      "TTR:  0.15848932915725836\n"
     ]
    }
   ],
   "source": [
    "import pandas as pd\n",
    "\n",
    "obj_tbl = pd.read_csv(\"../data/tables/Objects.csv.gz\")\n",
    "str_cols = \"Title\", \"Description\"\n",
    "txts = [s for col in str_cols for s in obj_tbl[col].dropna()]\n",
    "\n",
    "print(\"number of docs: \", len(txts))\n",
    "tokens = [w for txt in txts for w in txt.split()]\n",
    "\n",
    "print(\"number of tokens: \", len(tokens))\n",
    "print(\"number of types: \", len(set(tokens)))\n",
    "print(\"TTR: \", len(set(tokens))/len(tokens))"
   ]
  },
  {
   "cell_type": "code",
   "execution_count": 4,
   "metadata": {},
   "outputs": [
    {
     "name": "stderr",
     "output_type": "stream",
     "text": [
      "(2, 3)-grams: Padding documents...: 100%|██████████| 11199/11199 [00:00<00:00, 950061.90it/s]\n"
     ]
    },
    {
     "name": "stdout",
     "output_type": "stream",
     "text": [
      "(2, 3)-grams: Term Document Matrix constructed...\n",
      "(2, 3)-grams: Term frequencies precomputed...\n"
     ]
    },
    {
     "name": "stderr",
     "output_type": "stream",
     "text": [
      "(1, 2)-grams: Padding documents...: 100%|██████████| 11199/11199 [00:00<00:00, 1554026.68it/s]"
     ]
    },
    {
     "name": "stdout",
     "output_type": "stream",
     "text": [
      "(2, 3)-grams: Init done\n"
     ]
    },
    {
     "name": "stderr",
     "output_type": "stream",
     "text": [
      "\n"
     ]
    },
    {
     "name": "stdout",
     "output_type": "stream",
     "text": [
      "(1, 2)-grams: Term Document Matrix constructed...\n",
      "(1, 2)-grams: Term frequencies precomputed...\n",
      "(1, 2)-grams: Init done\n"
     ]
    }
   ],
   "source": [
    "NG3 = Ngram(3, documents=txts, padding=True, precompute_freqs=True)\n",
    "NG2 = Ngram(2, documents=txts, padding=True, precompute_freqs=True)"
   ]
  },
  {
   "cell_type": "code",
   "execution_count": 5,
   "metadata": {},
   "outputs": [
    {
     "name": "stdout",
     "output_type": "stream",
     "text": [
      "IJZEREN PORTEMONNAIE MET LONTARBLAADJES 8.92936869363336e-05\n",
      "<s> ijzeren 0.0001008822313847876\n",
      "ijzeren portemonnaie 3.254265528541536e-06\n",
      "portemonnaie met 3.254265528541536e-06\n",
      "met lontarblaadjes 3.254265528541536e-06\n",
      "lontarblaadjes </s> 3.254265528541536e-06\n"
     ]
    }
   ],
   "source": [
    "print(txts[1], NG3.sent_prob(txts[1], log=False))\n",
    "\n",
    "for g in NG3.iter_ngrams(txts[1], 2):\n",
    "    print(g, NG3.prob(*g.split()))"
   ]
  },
  {
   "cell_type": "code",
   "execution_count": 6,
   "metadata": {},
   "outputs": [],
   "source": [
    "s_pmis = {w.split()[1]: NG2.pmi(*w.split()) for w in NG2.vocab(2) if \"<s>\" in w}"
   ]
  },
  {
   "cell_type": "code",
   "execution_count": 7,
   "metadata": {},
   "outputs": [
    {
     "name": "stderr",
     "output_type": "stream",
     "text": [
      "100%|██████████| 115726/115726 [00:01<00:00, 72867.41it/s]\n"
     ]
    }
   ],
   "source": [
    "pmis = {w: NG2.pmi(*w.split()) for w in tqdm(NG2.vocab(2))}"
   ]
  },
  {
   "cell_type": "code",
   "execution_count": 8,
   "metadata": {},
   "outputs": [
    {
     "name": "stderr",
     "output_type": "stream",
     "text": [
      "100%|██████████| 11199/11199 [00:03<00:00, 3339.66it/s]\n"
     ]
    }
   ],
   "source": [
    "pmis = [NG2.pmi(*w.split()) for t in tqdm(txts) for w in NG2.iter_ngrams(t, 2)]"
   ]
  },
  {
   "cell_type": "code",
   "execution_count": 12,
   "metadata": {},
   "outputs": [
    {
     "name": "stdout",
     "output_type": "stream",
     "text": [
      "284891\n"
     ]
    },
    {
     "data": {
      "image/png": "[encoded data removed]",
      "text/plain": [
       "<Figure size 432x288 with 1 Axes>"
      ]
     },
     "metadata": {
      "needs_background": "light"
     },
     "output_type": "display_data"
    }
   ],
   "source": [
    "import matplotlib.pyplot as plt\n",
    "\n",
    "print(len(pmis))\n",
    "_ = plt.hist(pmis, bins=100)"
   ]
  },
  {
   "cell_type": "code",
   "execution_count": 10,
   "metadata": {},
   "outputs": [],
   "source": [
    "NG2.save(\"test\")"
   ]
  },
  {
   "cell_type": "code",
   "execution_count": 11,
   "metadata": {},
   "outputs": [
    {
     "name": "stdout",
     "output_type": "stream",
     "text": [
      "[1, 2]-grams: Init done\n"
     ]
    }
   ],
   "source": [
    "NG_ = Ngram.load(\"test\")"
   ]
  },
  {
   "cell_type": "markdown",
   "metadata": {},
   "source": [
    "---"
   ]
  },
  {
   "cell_type": "code",
   "execution_count": 1,
   "metadata": {},
   "outputs": [],
   "source": [
    "from tqdm import tqdm\n",
    "\n",
    "import numpy as np\n",
    "import scipy\n",
    "\n",
    "from sklearn.feature_extraction.text import CountVectorizer, TfidfVectorizer\n",
    "\n",
    "import re"
   ]
  },
  {
   "cell_type": "code",
   "execution_count": null,
   "metadata": {},
   "outputs": [],
   "source": [
    "# default_cv_params = dict(strip_accents=\"unicode\", lowercase=True, \n",
    "#                                      max_df=1., min_df=0., max_features=None,\n",
    "#                                      stop_words=None)\n",
    "# default_cv_params[\"token_pattern\"] = r\"(?u)\\b\\w\\w+\\b|\\<\\/s\\>|\\<s\\>\" #if not \"token_pattern\" in count_vectoriser_args else count_vectoriser_args[\"token_pattern\"]+r\"|\\<\\/s\\>|\\<s\\>\"\n",
    "        \n",
    "\n",
    "# cv = CountVectorizer(ngram_range=(1,2), **default_cv_params)\n",
    "# cv.build_analyzer()"
   ]
  },
  {
   "cell_type": "markdown",
   "metadata": {},
   "source": [
    "# TODOs\n",
    "\n",
    "\n",
    "features\n",
    " - stemming! spaCy's Dutch morphologizer perhaps\n",
    " - make PMI symmetric in its arguments (like its formal definition)? -> make that a choice, by adding a paramter to the functions\n",
    " \n",
    "bugs\n",
    " - analyzer will need to be saved"
   ]
  },
  {
   "cell_type": "code",
   "execution_count": 2,
   "metadata": {},
   "outputs": [],
   "source": [
    "class Ngram:\n",
    "    def __repr__(self):\n",
    "        return (f\"{self.ns}-grams\")\n",
    "    \n",
    "    @staticmethod\n",
    "    def _make_rng(ns):\n",
    "        if isinstance(ns, int):\n",
    "            return ns-1, ns\n",
    "        elif isinstance(ns, tuple) and len(ns) == 2:\n",
    "            return (ns[0]-1, ns[1])\n",
    "        else: raise ValueError(f\"{ns} is neither a number nor a tuple of two numbers!\")\n",
    "    \n",
    "    \n",
    "    \n",
    "    def __init__(self, ns=None, documents=None, precompute_freqs=False, padding=True,\n",
    "                 term_doc_matrix=None, vocabulary=None, **count_vectoriser_args):\n",
    "#         self.n = n\n",
    "\n",
    "        default_cv_params = dict(strip_accents=\"unicode\", lowercase=True, \n",
    "                                     max_df=1., min_df=0., max_features=None,\n",
    "                                     stop_words=None)\n",
    "        default_cv_params.update(count_vectoriser_args)\n",
    "        default_cv_params[\"token_pattern\"] = r\"(?u)\\b\\w\\w+\\b|\\<\\/s\\>|\\<s\\>\" if not \"token_pattern\" in count_vectoriser_args else count_vectoriser_args[\"token_pattern\"]+r\"|\\<\\/s\\>|\\<s\\>\"\n",
    "        self.cv_params = default_cv_params\n",
    "\n",
    "        \n",
    "        if term_doc_matrix is not None:\n",
    "            if vocabulary is None: raise ValueError(\"term_doc_matrix supplied but no vocabulary!\")\n",
    "                \n",
    "            self.ns = sorted(set(map(lambda s: len(s.split()), vocabulary.keys())))\n",
    "            self.term_doc_matrix = term_doc_matrix\n",
    "            self.full_vocabulary = vocabulary\n",
    "            \n",
    "            nonce_cv = CountVectorizer(ngram_range=(1,2), **default_cv_params)\n",
    "            self.analyzer = nonce_cv.build_analyzer()\n",
    "         \n",
    "        \n",
    "        else:\n",
    "            if ns is None or documents is None: \n",
    "                raise ValueError(\"Need to supply both ngram_range and documents if nothing to load!\")\n",
    "            \n",
    "            self.ns = Ngram._make_rng(ns)\n",
    "            \n",
    "            if padding:\n",
    "                documents = [Ngram.pad_sentence(d, self.ns[1]-1) for d in tqdm(documents, desc=f\"{self}: Padding documents...\")]\n",
    "                \n",
    "            if vocabulary is not None:\n",
    "                default_cv_params[\"vocabulary\"] = vocabulary\n",
    "                # might need to add padding types to vocabulary \n",
    "        \n",
    "            vectoriser = CountVectorizer(ngram_range=self.ns, **default_cv_params)\n",
    "            \n",
    "            self.term_doc_matrix = vectoriser.fit_transform(documents)\n",
    "            self.full_vocabulary = vectoriser.vocabulary_\n",
    "            self.analyzer = vectoriser.build_analyzer()\n",
    "\n",
    "            print(f\"{self}: Term Document Matrix constructed...\")\n",
    "        \n",
    "        if precompute_freqs:\n",
    "            self.term_freqs = self.term_doc_matrix.sum(0)\n",
    "            print(f\"{self}: Term frequencies precomputed...\")\n",
    "        else:\n",
    "            self.term_freqs = None\n",
    "        \n",
    "        self.Ns = {i:self.get_N(i) for i in self.ns}\n",
    "        self.N = sum(self.Ns.values()) \n",
    "        print(f\"{self}: Init done\") \n",
    "\n",
    "        \n",
    "\n",
    "    @staticmethod\n",
    "    def pad_sentence(sent, n, left=True, right=True):\n",
    "        if left:\n",
    "            sent = \"<s> \"*n + sent\n",
    "        if right:\n",
    "            sent = sent + \" </s>\"*n\n",
    "        return sent\n",
    "    \n",
    "    \n",
    "    lpad = re.compile(r\"^((\\<s\\> )+)\")\n",
    "    rpad = re.compile(r\"(( \\<\\/s\\>)+)$\")\n",
    "    @staticmethod\n",
    "    def unpad_sentence(sent):\n",
    "        sent = re.sub(Ngram.lpad, \"\", sent)\n",
    "        sent = re.sub(Ngram.rpad, \"\", sent)\n",
    "        return sent\n",
    "    \n",
    "         \n",
    "    def iter_ngrams(self, doc, n=None, padding=True, as_tuples=False):\n",
    "        if n is None:\n",
    "            n = self.ns[-1]\n",
    "            \n",
    "        if not n in range(self.ns[0], self.ns[1]+1):\n",
    "            raise ValueError(str(self) + \" not does not cover ngrams of length \" + str(n))\n",
    "        \n",
    "        if padding is True:\n",
    "            doc = Ngram.pad_sentence(doc, n - 1)\n",
    "        elif isinstance(padding, int):\n",
    "            doc = Ngram.pad_sentence(doc, padding)\n",
    "        else:\n",
    "            pass\n",
    "         \n",
    "        grams = self.analyzer(doc)\n",
    "        f = filter(lambda s: s.count(\" \") == (n-1), grams)\n",
    "        if not as_tuples:\n",
    "            return f\n",
    "        return map(str.split, f)\n",
    "    \n",
    "    \n",
    "    def get_N(self, n):\n",
    "        inds = list(self.vocab(n, with_inds=True).values())\n",
    "        return self.term_doc_matrix[:, inds].sum()\n",
    "    \n",
    "    \n",
    "    \n",
    "    \n",
    "    \n",
    "    def freq(self, *w):\n",
    "        joined = \" \".join(w)\n",
    "        \n",
    "        if not joined in self.vocab():\n",
    "            raise ValueError(f\"'{joined}' not in {self}'s vocabulary\")\n",
    "\n",
    "        if self.term_freqs is not None:\n",
    "            return self.term_freqs[0, self.vocab()[joined]]\n",
    "        return self.term_doc_matrix[:, self.vocab()[joined]].sum()\n",
    "    \n",
    "    \n",
    "    def prob(self, *w, log=False):\n",
    "        if len(w) not in self.Ns:\n",
    "            raise ValueError(str(self) + \" not does not cover ngrams of length \" + str(len(w)))\n",
    "        \n",
    "        if not log:\n",
    "            return self.freq(*w)/self.Ns[len(w)]\n",
    "        \n",
    "        return np.log2(self.freq(*w)) - np.log2(self.N)\n",
    "    \n",
    "    \n",
    "    # let ws = (w_1, ..., w_k). computes p(w|w_1, ..., w_k) by #(<<w_1...w_k>w>)/#(<w_1...w_k>)\n",
    "    def cond_prob(self, w, *ws, log=False):\n",
    "        if not log:\n",
    "            return self.freq(*ws, w)/self.freq(*ws)\n",
    "        \n",
    "        return np.log2(self.freq(*ws, w)) - np.log2(self.freq(*ws))\n",
    "    \n",
    "    \n",
    "    \n",
    "    def sent_prob(self, sent, log=True, dont_reduce=False):\n",
    "        grams = list(self.iter_ngrams(sent, as_tuples=True))\n",
    "        reduce_f = np.sum if log else np.prod\n",
    "        if dont_reduce:\n",
    "            reduce_f = lambda ls: ls\n",
    "        return reduce_f([self.cond_prob(g[-1], *g[:-1], log=log) for g in grams])\n",
    "    \n",
    "    \n",
    "    def pmi(self, w1, w2):\n",
    "        return self.cond_prob(w2, w1, log=True) - self.prob(w2, log=True)\n",
    "\n",
    "    \n",
    "    \n",
    "    \n",
    "    def vocab(self, *ns, with_inds=False):\n",
    "        if not ns :\n",
    "            return self.full_vocabulary\n",
    "        \n",
    "        if not with_inds:\n",
    "            return {w for w in self.full_vocabulary if len(w.split()) in ns} \n",
    "        \n",
    "        return {w:i for w, i in self.full_vocabulary.items() if len(w.split()) in ns} \n",
    "    \n",
    "    \n",
    "    def save_matrix(self, path):\n",
    "        scipy.sparse.save_npz(path, self.term_doc_matrix)\n",
    "        \n",
    "    @staticmethod\n",
    "    def load_matrix(path):\n",
    "        return scipy.sparse.load_npz(path)\n",
    "    \n",
    "    \n",
    "    \n",
    "    sep = \"\\t\"\n",
    "    \n",
    "    \n",
    "    def save_vocab(self, path, *vocab_ns, with_inds=False):\n",
    "        sep = \"<||>\"\n",
    "        sep = \"\\t\"\n",
    "        \n",
    "        \n",
    "        vocab = self.vocab(*vocab_ns, with_inds=with_inds)\n",
    "        with open(path, \"w\") as handle:\n",
    "            rest = lambda w: (sep + str(vocab[w])) if with_inds else \"\"\n",
    "            for w in sorted(vocab):\n",
    "                handle.write(str(w) + rest(w))\n",
    "                handle.write(\"\\n\")        \n",
    "            \n",
    "#             if with_inds:\n",
    "#                 for w, i in vocab:\n",
    "#                     handle.write(str(w) + \"\\t\" + str(i))\n",
    "#                     handle.write(\"\\n\")\n",
    "#             else:\n",
    "#                 for w in vocab:\n",
    "#                     handle.write(str(w))\n",
    "#                     handle.write(\"\\n\")\n",
    "    \n",
    "    @staticmethod\n",
    "    def load_vocab(path, with_inds=False):\n",
    "        with open(path) as handle:\n",
    "            lines = list(map(str.strip, handle))\n",
    "            for l in lines:\n",
    "                elems = l.split(\"\\t\")\n",
    "                if with_inds:\n",
    "                    yield elems[0], int(elems[1])\n",
    "                else:\n",
    "                    yield elems[0]\n",
    "\n",
    "                    \n",
    "    def save(self, name):\n",
    "        self.save_matrix(name + \".npz\")\n",
    "        self.save_vocab(name + \".vocab\", with_inds=True)\n",
    "        \n",
    "    @classmethod    \n",
    "    def load(cls, name, precompute_freqs=False):\n",
    "        td_mat = cls.load_matrix(name+\".npz\")\n",
    "        voc = dict(cls.load_vocab(name+\".vocab\", with_inds=True))\n",
    "        return cls(term_doc_matrix=td_mat, vocabulary=voc, precompute_freqs=precompute_freqs)"
   ]
  },
  {
   "cell_type": "markdown",
   "metadata": {},
   "source": [
    "# Lemmatizer"
   ]
  },
  {
   "cell_type": "code",
   "execution_count": null,
   "metadata": {},
   "outputs": [],
   "source": [
    "import spacy\n",
    "\n",
    "nlp = spacy.load('nl_core_news_lg')"
   ]
  },
  {
   "cell_type": "code",
   "execution_count": null,
   "metadata": {},
   "outputs": [],
   "source": [
    "s = \"Zowel sjamanen als hun vrouw dragen een hoofdsieraad van kralenwerk. Dit hoofdsieraad is met veren versierd, waaraan te zien is dat deze door de vrouw wordt gedragen. Het wordt tijdens ceremoniën gedragen in combinatie met een rotan hoofdband (zie 7086-14).\"\n",
    "\n",
    "s = \"\\n<>\\n\".join([s]*1000)\n",
    "\n",
    "\n",
    "\n",
    "doc = nlp(s)\n",
    "\n",
    "for sent in tqdm(doc.sents):\n",
    "    if \"<>\" in str(sent):\n",
    "        continue\n",
    "    for word in sent:\n",
    "        print(word.lemma_, end=\" \")\n",
    "    print()\n"
   ]
  }
 ],
 "metadata": {
  "kernelspec": {
   "display_name": "Python 3",
   "language": "python",
   "name": "python3"
  },
  "language_info": {
   "codemirror_mode": {
    "name": "ipython",
    "version": 3
   },
   "file_extension": ".py",
   "mimetype": "text/x-python",
   "name": "python",
   "nbconvert_exporter": "python",
   "pygments_lexer": "ipython3",
   "version": "3.6.9"
  }
 },
 "nbformat": 4,
 "nbformat_minor": 4
}

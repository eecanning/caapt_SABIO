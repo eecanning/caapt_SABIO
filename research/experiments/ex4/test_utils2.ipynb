{
 "cells": [
  {
   "cell_type": "code",
   "execution_count": 1,
   "metadata": {},
   "outputs": [],
   "source": [
    "from tqdm import tqdm\n",
    "\n",
    "import numpy as np\n",
    "import pandas as pd\n",
    "\n",
    "import matplotlib.pyplot as plt\n",
    "import seaborn as sns\n",
    "\n",
    "from utils2 import Ngram"
   ]
  },
  {
   "cell_type": "code",
   "execution_count": 2,
   "metadata": {},
   "outputs": [],
   "source": [
    "obj_tbl = pd.read_csv(\"../../data/tables/Objects.csv.gz\")\n",
    "str_cols = \"Title\", \"Description\"\n",
    "docs = [s for col in str_cols for s in obj_tbl[col].dropna()]\n",
    "\n",
    "# docs = [\"hello world\", \"hasta la vista\", \"goede avond\", \"hasta la proxima\"]"
   ]
  },
  {
   "cell_type": "code",
   "execution_count": 3,
   "metadata": {},
   "outputs": [
    {
     "name": "stdout",
     "output_type": "stream",
     "text": [
      "(1, 2)-grams: Term Document Matrix constructed...\n",
      "(1, 2)-grams: Init done\n"
     ]
    }
   ],
   "source": [
    "NG = Ngram(ngram_range=(1,2), documents=docs)\n",
    "\n",
    "ind_to_voc = {i: w for w, i in NG.vocab().items()}"
   ]
  },
  {
   "cell_type": "code",
   "execution_count": 4,
   "metadata": {},
   "outputs": [
    {
     "data": {
      "text/plain": [
       "(11199, 135935)"
      ]
     },
     "execution_count": 4,
     "metadata": {},
     "output_type": "execute_result"
    }
   ],
   "source": [
    "NG.term_doc_matrix.shape"
   ]
  },
  {
   "cell_type": "code",
   "execution_count": 5,
   "metadata": {},
   "outputs": [],
   "source": [
    "# def sent_prob(sent, n, ngram_model, log=True):\n",
    "#     grams = list(ngram_model.iter_ngrams(sent, n, as_tuples=True))\n",
    "    \n",
    "#     if grams == []:\n",
    "#         return None\n",
    "    \n",
    "#     gram_probs = {tuple(t): ngram_model.cond_prob(t[-1], *t[:-1]) for t in grams}\n",
    "    \n",
    "#     # start prob/seed prob\n",
    "#     # crude approximation of P(w | <s>, ..., <s>) by P(w) (the latter upper bound the former)\n",
    "#     gram_probs[tuple(grams[0][:-1])] = ngram_model.prob(*grams[0][:-1])\n",
    "# #     first_gram_prob = ngram_model.prob(*grams[0][:-1])\n",
    "    \n",
    "#     return gram_probs\n",
    "\n",
    "\n",
    "def sent_prob(sent, n, ngram_model, log=True):\n",
    "    grams = list(ngram_model.iter_ngrams(sent, n, as_tuples=True))\n",
    "    if grams == []:\n",
    "        return None\n",
    "    \n",
    "    # start prob/seed prob\n",
    "    # crude approximation of P(w | <s>, ..., <s>) by P(w) (the latter upper bound the former)\n",
    "    first_p = ngram_model.prob(*grams[0][:-1])\n",
    "    gram_probs = [ngram_model.cond_prob(t[-1], *t[:-1]) for t in grams] \n",
    "    return [first_p] + gram_probs"
   ]
  },
  {
   "cell_type": "code",
   "execution_count": null,
   "metadata": {},
   "outputs": [],
   "source": [
    "for s in docs[:100]:\n",
    "    print(list(NG.iter_ngrams(s, n=1)))\n",
    "    print(sent_prob(s, 2, NG))\n",
    "    print()"
   ]
  },
  {
   "cell_type": "code",
   "execution_count": 6,
   "metadata": {},
   "outputs": [
    {
     "name": "stderr",
     "output_type": "stream",
     "text": [
      "100%|██████████| 1000/1000 [03:29<00:00,  4.78it/s]\n"
     ]
    }
   ],
   "source": [
    "probs = [sent_prob(s, 2, NG) for s in tqdm(np.random.permutation(docs)[:1000])]"
   ]
  },
  {
   "cell_type": "code",
   "execution_count": 16,
   "metadata": {},
   "outputs": [],
   "source": [
    "neg_log_probs = [-np.log2(s).sum() for s in probs if s]"
   ]
  },
  {
   "cell_type": "code",
   "execution_count": 21,
   "metadata": {},
   "outputs": [
    {
     "data": {
      "text/plain": [
       "(0, 1000)"
      ]
     },
     "execution_count": 21,
     "metadata": {},
     "output_type": "execute_result"
    },
    {
     "data": {
      "image/png": "[encoded data removed]",
      "text/plain": [
       "<Figure size 432x288 with 1 Axes>"
      ]
     },
     "metadata": {
      "needs_background": "light"
     },
     "output_type": "display_data"
    }
   ],
   "source": [
    "plt.hist(neg_log_probs, bins=100)\n",
    "plt.xlim((0, 1000))\n"
   ]
  },
  {
   "cell_type": "code",
   "execution_count": null,
   "metadata": {},
   "outputs": [],
   "source": [
    "def sent_prob(sent_ind, ng, log=True):\n",
    "    _, inds = (ng.term_doc_matrix[sent_ind] > 0).nonzero()\n",
    "\n",
    "    reduce_f = np.sum if log else np.prod\n",
    "    \n",
    "    return reduce_f([ng.prob(ind_to_voc[word_ind], log=log) for word_ind in inds])"
   ]
  },
  {
   "cell_type": "code",
   "execution_count": null,
   "metadata": {},
   "outputs": [],
   "source": []
  },
  {
   "cell_type": "code",
   "execution_count": null,
   "metadata": {},
   "outputs": [],
   "source": [
    "sorted_probs = sorted([ng.prob(w) for w in ng.vocab(1)])\n",
    "sorted_cum = np.cumsum(sorted_probs)\n",
    "\n",
    "print(sorted_probs)\n",
    "print(sorted_cum)\n",
    "\n",
    "plt.plot(range(len(ng.vocab(1))), sorted_cum)"
   ]
  },
  {
   "cell_type": "code",
   "execution_count": null,
   "metadata": {},
   "outputs": [],
   "source": [
    "ng.cond_prob(\"la\", \"vista\")"
   ]
  },
  {
   "cell_type": "code",
   "execution_count": null,
   "metadata": {},
   "outputs": [],
   "source": []
  },
  {
   "cell_type": "code",
   "execution_count": null,
   "metadata": {},
   "outputs": [],
   "source": []
  },
  {
   "cell_type": "code",
   "execution_count": null,
   "metadata": {},
   "outputs": [],
   "source": [
    "from sklearn.feature_extraction.text import CountVectorizer\n",
    "dir(CountVectorizer)"
   ]
  },
  {
   "cell_type": "code",
   "execution_count": null,
   "metadata": {},
   "outputs": [],
   "source": [
    "CountVectorizer.build_analyzer(cv)(\"hello world whats up ?\")"
   ]
  },
  {
   "cell_type": "code",
   "execution_count": null,
   "metadata": {},
   "outputs": [],
   "source": [
    "cv = CountVectorizer(ngram_range=(1,3))"
   ]
  },
  {
   "cell_type": "code",
   "execution_count": null,
   "metadata": {},
   "outputs": [],
   "source": [
    "cv.fit_transform(docs)"
   ]
  },
  {
   "cell_type": "code",
   "execution_count": null,
   "metadata": {},
   "outputs": [],
   "source": [
    "cv.token_pattern"
   ]
  },
  {
   "cell_type": "code",
   "execution_count": null,
   "metadata": {},
   "outputs": [],
   "source": [
    "import re\n",
    "for d in docs:\n",
    "    print(re.split(cv.token_pattern, d))\n",
    "    print(re.findall(cv.token_pattern, d))"
   ]
  }
 ],
 "metadata": {
  "kernelspec": {
   "display_name": "Python 3",
   "language": "python",
   "name": "python3"
  },
  "language_info": {
   "codemirror_mode": {
    "name": "ipython",
    "version": 3
   },
   "file_extension": ".py",
   "mimetype": "text/x-python",
   "name": "python",
   "nbconvert_exporter": "python",
   "pygments_lexer": "ipython3",
   "version": "3.6.9"
  }
 },
 "nbformat": 4,
 "nbformat_minor": 4
}

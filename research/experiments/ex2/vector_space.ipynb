{
 "cells": [
  {
   "cell_type": "code",
   "execution_count": 1,
   "metadata": {},
   "outputs": [],
   "source": [
    "from tqdm import tqdm\n",
    "import numpy as np\n",
    "import pandas as pd\n",
    "\n",
    "import matplotlib.pyplot as plt\n",
    "import seaborn as sns\n",
    "\n",
    "from sklearn.feature_extraction.text import TfidfTransformer\n",
    "from utils import Ngram"
   ]
  },
  {
   "cell_type": "markdown",
   "metadata": {},
   "source": [
    "## Vector Space\n",
    "\n",
    " 1. take unigram term-document vectors from n-gram matrix\n",
    " 2. apply PCA (or UMAP directly?) for dimensionality reduction (original vectors have dimensionality > 10k)\n",
    " 3. write vectors to .tsv -- also write vector features to file (term, avg pmi?, ...) -> for visualisation in embedding projector\n",
    " 4. use KDTree (or KMeans?; -> elbow curve) for clusters"
   ]
  },
  {
   "cell_type": "code",
   "execution_count": 2,
   "metadata": {},
   "outputs": [
    {
     "name": "stdout",
     "output_type": "stream",
     "text": [
      "None-grams: Term frequencies precomputed...\n",
      "None-grams: Init done\n"
     ]
    }
   ],
   "source": [
    "NG = Ngram.load(\"counts\", precompute_freqs=True)\n",
    "\n",
    "tfidf = TfidfTransformer()\n",
    "ti_mat = tfidf.fit_transform(NG.term_doc_matrix)"
   ]
  },
  {
   "cell_type": "code",
   "execution_count": 6,
   "metadata": {},
   "outputs": [],
   "source": [
    "uni_voc = NG.vocab(1, with_inds=True)\n",
    "\n",
    "r = len(uni_voc)//2\n",
    "\n",
    "sub_voc = sorted(np.random.choice(list(uni_voc.keys()), r))\n",
    "sub_inds = [uni_voc[w] for w in sub_voc]\n",
    "\n",
    "sub_mat = ti_mat[:, sub_inds].T.toarray()"
   ]
  },
  {
   "cell_type": "code",
   "execution_count": 7,
   "metadata": {},
   "outputs": [
    {
     "data": {
      "text/plain": [
       "(27104, (13552, 11199))"
      ]
     },
     "execution_count": 7,
     "metadata": {},
     "output_type": "execute_result"
    }
   ],
   "source": [
    "len(NG.vocab(1)), sub_mat.shape"
   ]
  },
  {
   "cell_type": "code",
   "execution_count": 9,
   "metadata": {},
   "outputs": [
    {
     "data": {
      "text/plain": [
       "(0.0, 0.1)"
      ]
     },
     "execution_count": 9,
     "metadata": {},
     "output_type": "execute_result"
    },
    {
     "data": {
      "image/png": "[encoded data removed]",
      "text/plain": [
       "<Figure size 432x288 with 1 Axes>"
      ]
     },
     "metadata": {
      "needs_background": "light"
     },
     "output_type": "display_data"
    }
   ],
   "source": [
    "plt.hist(sub_mat.sum(), bins=200)\n",
    "plt.xlim((0.0, 0.1))"
   ]
  },
  {
   "cell_type": "code",
   "execution_count": 16,
   "metadata": {},
   "outputs": [
    {
     "data": {
      "text/plain": [
       "(0.0, 40)"
      ]
     },
     "execution_count": 16,
     "metadata": {},
     "output_type": "execute_result"
    },
    {
     "data": {
      "image/png": "[encoded data removed]",
      "text/plain": [
       "<Figure size 432x288 with 1 Axes>"
      ]
     },
     "metadata": {
      "needs_background": "light"
     },
     "output_type": "display_data"
    }
   ],
   "source": [
    "plt.hist(sub_mat.sum(1), bins=100)\n",
    "plt.ylim((0., 40))"
   ]
  },
  {
   "cell_type": "code",
   "execution_count": null,
   "metadata": {},
   "outputs": [
    {
     "name": "stderr",
     "output_type": "stream",
     "text": [
      "/home/valentin/.local/lib/python3.6/site-packages/scipy/sparse/compressed.py:290: SparseEfficiencyWarning: Comparing a sparse matrix with a scalar greater than zero using < is inefficient, try using >= instead.\n",
      "  warn(bad_scalar_msg, SparseEfficiencyWarning)\n"
     ]
    }
   ],
   "source": [
    "sum(NG.term_doc_matrix < 1)"
   ]
  },
  {
   "cell_type": "code",
   "execution_count": null,
   "metadata": {},
   "outputs": [],
   "source": [
    "from sklearn.decomposition import PCA\n",
    "\n",
    "pca = PCA(n_components=512)\n",
    "Y = pca.fit_transform(sub_mat)"
   ]
  },
  {
   "cell_type": "code",
   "execution_count": null,
   "metadata": {},
   "outputs": [],
   "source": [
    "from umap import UMAP\n",
    "\n",
    "\n",
    "umap = UMAP(n_neighbors=15, n_components=512, verbose=100)"
   ]
  },
  {
   "cell_type": "code",
   "execution_count": null,
   "metadata": {},
   "outputs": [],
   "source": [
    "Y = umap.fit_transform(sub_mat)\n",
    "Y.shape"
   ]
  },
  {
   "cell_type": "code",
   "execution_count": null,
   "metadata": {},
   "outputs": [],
   "source": [
    "sns.histplot(Y.mean(1))"
   ]
  },
  {
   "cell_type": "markdown",
   "metadata": {},
   "source": [
    "### Write to TSV"
   ]
  },
  {
   "cell_type": "code",
   "execution_count": null,
   "metadata": {},
   "outputs": [],
   "source": [
    "vec_df = pd.DataFrame(Y)\n",
    "\n",
    "vec_df.to_csv(f\"vecs_umap_{len(sub_inds)}.tsv\", sep=\"\\t\", index=False, header=False)"
   ]
  },
  {
   "cell_type": "code",
   "execution_count": null,
   "metadata": {},
   "outputs": [],
   "source": [
    "v_to_tsv = lambda v: \"\\t\".join(map(str, v))\n",
    "\n",
    "# fewer_vecs = np.random.permutation(list(vecs.items()))[:5000]\n",
    "\n",
    "with open(f\"vecs_pca_{len(sub_inds)}.tsv\", \"w\") as handle:\n",
    "    for v in tqdm(Y):\n",
    "        handle.write(v_to_tsv(v))\n",
    "        handle.write(\"\\n\")"
   ]
  },
  {
   "cell_type": "code",
   "execution_count": null,
   "metadata": {},
   "outputs": [],
   "source": [
    "# def get_pmi(w):\n",
    "#     for w2 in NG.vocab(1):\n",
    "#         try:\n",
    "#             yield NG.pmi(w, w2)\n",
    "#         except ValueError:\n",
    "#             continue\n",
    "\n",
    "# avg_pmis = [np.mean(list(get_pmi(w))) for w in tqdm(sub_voc)]\n",
    "\n",
    "\n",
    "term_freqs = [np.log(NG.freq(w)) for w in sub_voc]\n",
    "\n",
    "meta_df = pd.DataFrame(dict(term=sub_voc,\n",
    "                           freq=term_freqs))\n",
    "\n",
    "meta_df.to_csv(f\"meta_umap_{len(sub_inds)}.tsv\", sep=\"\\t\", index=False, header=True)\n",
    "\n",
    "# with open(f\"meta_umap_{len(sub_inds)}.tsv\", \"w\") as handle:\n",
    "#     for w in sub_voc:\n",
    "#         handle.write(str(w)+\"\\n\")"
   ]
  },
  {
   "cell_type": "markdown",
   "metadata": {},
   "source": [
    "# Semantic Similarity vs PMI "
   ]
  },
  {
   "cell_type": "code",
   "execution_count": null,
   "metadata": {},
   "outputs": [],
   "source": [
    "from numpy.linalg import norm\n",
    "\n",
    "cos_sim = lambda a, b: np.dot(a, b)/(norm(a)*norm(b))\n",
    "sub_d = dict(zip(sub_voc, range(len(sub_voc))))\n",
    "\n",
    "def get_similarity_pmi_pairs():\n",
    "    for w in tqdm(NG.vocab(2)):\n",
    "        w1, w2 = w.split()\n",
    "        if w1 in sub_d and w2 in sub_d:\n",
    "            cur_pmi = NG.pmi(w1, w2)\n",
    "            cur_sim = cos_sim(Y[sub_d[w1]], Y[sub_d[w2]])\n",
    "            yield cur_pmi, cur_sim\n",
    "            \n",
    "pmis, sims = list(zip(*get_similarity_pmi_pairs()))\n",
    "            "
   ]
  },
  {
   "cell_type": "code",
   "execution_count": null,
   "metadata": {},
   "outputs": [],
   "source": [
    "pmis[:10], sims[:10]"
   ]
  },
  {
   "cell_type": "code",
   "execution_count": null,
   "metadata": {},
   "outputs": [],
   "source": [
    "sns.jointplot(x=pmis, y=sims)"
   ]
  },
  {
   "cell_type": "markdown",
   "metadata": {},
   "source": [
    "## Clusters"
   ]
  },
  {
   "cell_type": "code",
   "execution_count": null,
   "metadata": {},
   "outputs": [],
   "source": [
    "from sklearn.neighbors import KDTree\n",
    "\n",
    "tree = KDTree(vectors.toarray(), metric=\"l2\")"
   ]
  }
 ],
 "metadata": {
  "kernelspec": {
   "display_name": "Python 3",
   "language": "python",
   "name": "python3"
  },
  "language_info": {
   "codemirror_mode": {
    "name": "ipython",
    "version": 3
   },
   "file_extension": ".py",
   "mimetype": "text/x-python",
   "name": "python",
   "nbconvert_exporter": "python",
   "pygments_lexer": "ipython3",
   "version": "3.6.9"
  }
 },
 "nbformat": 4,
 "nbformat_minor": 4
}
